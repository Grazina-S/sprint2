{
 "cells": [
  {
   "cell_type": "markdown",
   "id": "56df14a2",
   "metadata": {},
   "source": [
    "### Top 50 Spotify Tracks of 2020"
   ]
  },
  {
   "cell_type": "markdown",
   "id": "45bd0a43",
   "metadata": {},
   "source": [
    "**Importing and reading the data**"
   ]
  },
  {
   "cell_type": "code",
   "execution_count": 1,
   "id": "bd07887b",
   "metadata": {
    "tags": []
   },
   "outputs": [],
   "source": [
    "# import zipfile\n",
    "# zip_dir = 'E:/archive.zip'\n",
    "# extr_dir = 'Spottify_data'\n",
    "# with zipfile.ZipFile(zip_dir, 'r') as zip_file:\n",
    "#     zip_file.extractall(extr_dir)"
   ]
  },
  {
   "cell_type": "code",
   "execution_count": 28,
   "id": "7e5eb2da",
   "metadata": {},
   "outputs": [],
   "source": [
    "import pandas as pd\n",
    "import numpy as np"
   ]
  },
  {
   "cell_type": "code",
   "execution_count": 29,
   "id": "fdf97688",
   "metadata": {},
   "outputs": [],
   "source": [
    "df = pd.read_csv(r'Spottify_data\\spotifytoptracks.csv', index_col = 0)"
   ]
  },
  {
   "cell_type": "markdown",
   "id": "68ee494d",
   "metadata": {},
   "source": [
    "**Ispecting the data**"
   ]
  },
  {
   "cell_type": "markdown",
   "id": "348fa63b",
   "metadata": {},
   "source": [
    "<span style='color: blue;'>What is the size of the table? i.e. how many observations and features</span>"
   ]
  },
  {
   "cell_type": "code",
   "execution_count": 30,
   "id": "afc60f33",
   "metadata": {},
   "outputs": [
    {
     "name": "stdout",
     "output_type": "stream",
     "text": [
      "There are 50 observations and 16 features\n"
     ]
    }
   ],
   "source": [
    "print(f'There are {df.shape[0]} observations and {df.shape[1]} features')"
   ]
  },
  {
   "cell_type": "markdown",
   "id": "09f4d94f",
   "metadata": {},
   "source": [
    "<span style='color: blue;'>What are the names of the columns?</span>"
   ]
  },
  {
   "cell_type": "code",
   "execution_count": 31,
   "id": "48ec1c3b",
   "metadata": {},
   "outputs": [
    {
     "data": {
      "text/plain": [
       "Index(['artist', 'album', 'track_name', 'track_id', 'energy', 'danceability',\n",
       "       'key', 'loudness', 'acousticness', 'speechiness', 'instrumentalness',\n",
       "       'liveness', 'valence', 'tempo', 'duration_ms', 'genre'],\n",
       "      dtype='object')"
      ]
     },
     "execution_count": 31,
     "metadata": {},
     "output_type": "execute_result"
    }
   ],
   "source": [
    "df.columns"
   ]
  },
  {
   "cell_type": "markdown",
   "id": "28fec40e",
   "metadata": {},
   "source": [
    "<span style='color: blue;'>Get a glimpse of what it looks like</span>"
   ]
  },
  {
   "cell_type": "code",
   "execution_count": 32,
   "id": "9f6bd441",
   "metadata": {},
   "outputs": [
    {
     "data": {
      "text/html": [
       "<div>\n",
       "<style scoped>\n",
       "    .dataframe tbody tr th:only-of-type {\n",
       "        vertical-align: middle;\n",
       "    }\n",
       "\n",
       "    .dataframe tbody tr th {\n",
       "        vertical-align: top;\n",
       "    }\n",
       "\n",
       "    .dataframe thead th {\n",
       "        text-align: right;\n",
       "    }\n",
       "</style>\n",
       "<table border=\"1\" class=\"dataframe\">\n",
       "  <thead>\n",
       "    <tr style=\"text-align: right;\">\n",
       "      <th></th>\n",
       "      <th>artist</th>\n",
       "      <th>album</th>\n",
       "      <th>track_name</th>\n",
       "      <th>track_id</th>\n",
       "      <th>energy</th>\n",
       "      <th>danceability</th>\n",
       "      <th>key</th>\n",
       "      <th>loudness</th>\n",
       "      <th>acousticness</th>\n",
       "      <th>speechiness</th>\n",
       "      <th>instrumentalness</th>\n",
       "      <th>liveness</th>\n",
       "      <th>valence</th>\n",
       "      <th>tempo</th>\n",
       "      <th>duration_ms</th>\n",
       "      <th>genre</th>\n",
       "    </tr>\n",
       "  </thead>\n",
       "  <tbody>\n",
       "    <tr>\n",
       "      <th>0</th>\n",
       "      <td>The Weeknd</td>\n",
       "      <td>After Hours</td>\n",
       "      <td>Blinding Lights</td>\n",
       "      <td>0VjIjW4GlUZAMYd2vXMi3b</td>\n",
       "      <td>0.730</td>\n",
       "      <td>0.514</td>\n",
       "      <td>1</td>\n",
       "      <td>-5.934</td>\n",
       "      <td>0.00146</td>\n",
       "      <td>0.0598</td>\n",
       "      <td>0.000095</td>\n",
       "      <td>0.0897</td>\n",
       "      <td>0.334</td>\n",
       "      <td>171.005</td>\n",
       "      <td>200040</td>\n",
       "      <td>R&amp;B/Soul</td>\n",
       "    </tr>\n",
       "    <tr>\n",
       "      <th>1</th>\n",
       "      <td>Tones And I</td>\n",
       "      <td>Dance Monkey</td>\n",
       "      <td>Dance Monkey</td>\n",
       "      <td>1rgnBhdG2JDFTbYkYRZAku</td>\n",
       "      <td>0.593</td>\n",
       "      <td>0.825</td>\n",
       "      <td>6</td>\n",
       "      <td>-6.401</td>\n",
       "      <td>0.68800</td>\n",
       "      <td>0.0988</td>\n",
       "      <td>0.000161</td>\n",
       "      <td>0.1700</td>\n",
       "      <td>0.540</td>\n",
       "      <td>98.078</td>\n",
       "      <td>209755</td>\n",
       "      <td>Alternative/Indie</td>\n",
       "    </tr>\n",
       "    <tr>\n",
       "      <th>2</th>\n",
       "      <td>Roddy Ricch</td>\n",
       "      <td>Please Excuse Me For Being Antisocial</td>\n",
       "      <td>The Box</td>\n",
       "      <td>0nbXyq5TXYPCO7pr3N8S4I</td>\n",
       "      <td>0.586</td>\n",
       "      <td>0.896</td>\n",
       "      <td>10</td>\n",
       "      <td>-6.687</td>\n",
       "      <td>0.10400</td>\n",
       "      <td>0.0559</td>\n",
       "      <td>0.000000</td>\n",
       "      <td>0.7900</td>\n",
       "      <td>0.642</td>\n",
       "      <td>116.971</td>\n",
       "      <td>196653</td>\n",
       "      <td>Hip-Hop/Rap</td>\n",
       "    </tr>\n",
       "  </tbody>\n",
       "</table>\n",
       "</div>"
      ],
      "text/plain": [
       "        artist                                  album       track_name  \\\n",
       "0   The Weeknd                            After Hours  Blinding Lights   \n",
       "1  Tones And I                           Dance Monkey     Dance Monkey   \n",
       "2  Roddy Ricch  Please Excuse Me For Being Antisocial          The Box   \n",
       "\n",
       "                 track_id  energy  danceability  key  loudness  acousticness  \\\n",
       "0  0VjIjW4GlUZAMYd2vXMi3b   0.730         0.514    1    -5.934       0.00146   \n",
       "1  1rgnBhdG2JDFTbYkYRZAku   0.593         0.825    6    -6.401       0.68800   \n",
       "2  0nbXyq5TXYPCO7pr3N8S4I   0.586         0.896   10    -6.687       0.10400   \n",
       "\n",
       "   speechiness  instrumentalness  liveness  valence    tempo  duration_ms  \\\n",
       "0       0.0598          0.000095    0.0897    0.334  171.005       200040   \n",
       "1       0.0988          0.000161    0.1700    0.540   98.078       209755   \n",
       "2       0.0559          0.000000    0.7900    0.642  116.971       196653   \n",
       "\n",
       "               genre  \n",
       "0           R&B/Soul  \n",
       "1  Alternative/Indie  \n",
       "2        Hip-Hop/Rap  "
      ]
     },
     "execution_count": 32,
     "metadata": {},
     "output_type": "execute_result"
    }
   ],
   "source": [
    "df.head(3)"
   ]
  },
  {
   "cell_type": "markdown",
   "id": "a652bc6f",
   "metadata": {},
   "source": [
    "<span style='color: blue;'>What kind of data is stored in each column?</span>"
   ]
  },
  {
   "cell_type": "code",
   "execution_count": 33,
   "id": "e72d12da",
   "metadata": {},
   "outputs": [
    {
     "data": {
      "text/plain": [
       "artist               object\n",
       "album                object\n",
       "track_name           object\n",
       "track_id             object\n",
       "energy              float64\n",
       "danceability        float64\n",
       "key                   int64\n",
       "loudness            float64\n",
       "acousticness        float64\n",
       "speechiness         float64\n",
       "instrumentalness    float64\n",
       "liveness            float64\n",
       "valence             float64\n",
       "tempo               float64\n",
       "duration_ms           int64\n",
       "genre                object\n",
       "dtype: object"
      ]
     },
     "execution_count": 33,
     "metadata": {},
     "output_type": "execute_result"
    }
   ],
   "source": [
    "df.dtypes"
   ]
  },
  {
   "cell_type": "markdown",
   "id": "68dcf368",
   "metadata": {},
   "source": [
    "<span style='color: blue;'>What are categorical features and how many unique entries are there in each of them?</span>"
   ]
  },
  {
   "cell_type": "code",
   "execution_count": 34,
   "id": "f9ba0305",
   "metadata": {},
   "outputs": [
    {
     "name": "stdout",
     "output_type": "stream",
     "text": [
      "Categorical features:\n",
      " artist        40\n",
      "album         45\n",
      "track_name    50\n",
      "track_id      50\n",
      "genre         16\n",
      "dtype: int64\n"
     ]
    }
   ],
   "source": [
    "print(\"Categorical features:\\n\", df.select_dtypes(include='object').nunique())"
   ]
  },
  {
   "cell_type": "markdown",
   "id": "de5fd1fb",
   "metadata": {},
   "source": [
    "<span style='color: blue;'>What are numerical features?</span>"
   ]
  },
  {
   "cell_type": "code",
   "execution_count": 35,
   "id": "d268353f",
   "metadata": {},
   "outputs": [
    {
     "name": "stdout",
     "output_type": "stream",
     "text": [
      "Numerical features:\n",
      "energy\n",
      "danceability\n",
      "key\n",
      "loudness\n",
      "acousticness\n",
      "speechiness\n",
      "instrumentalness\n",
      "liveness\n",
      "valence\n",
      "tempo\n",
      "duration_ms\n"
     ]
    }
   ],
   "source": [
    "print(\"Numerical features:\\n\" + \"\\n\".join(df.select_dtypes(include = 'number').columns.tolist()))"
   ]
  },
  {
   "cell_type": "markdown",
   "id": "324bbd95",
   "metadata": {},
   "source": [
    "<span style='color: blue;'>Is there any missing data?</span>"
   ]
  },
  {
   "cell_type": "code",
   "execution_count": 36,
   "id": "81f6db0a",
   "metadata": {},
   "outputs": [
    {
     "name": "stdout",
     "output_type": "stream",
     "text": [
      " There is no missing data\n"
     ]
    }
   ],
   "source": [
    "if np.count_nonzero(df.isna()) == 0:\n",
    "    print(\" There is no missing data\")\n",
    "else:\n",
    "    x = np.count_nonzero(df.isna())\n",
    "    print(f'There are {x} missing data cases')"
   ]
  },
  {
   "cell_type": "markdown",
   "id": "ff402bc4",
   "metadata": {},
   "source": [
    "<span style='color: blue;'>Are there any duplicates? </span> <br>In this case, track name and/or track ID should be checked. "
   ]
  },
  {
   "cell_type": "code",
   "execution_count": 37,
   "id": "3be2f2d5",
   "metadata": {},
   "outputs": [
    {
     "name": "stdout",
     "output_type": "stream",
     "text": [
      "There are no duplicated entries\n"
     ]
    }
   ],
   "source": [
    "if df.duplicated(subset=['track_name','track_id']).sum() == 0:\n",
    "    print('There are no duplicated entries')\n",
    "else:\n",
    "    x = df.duplicated(subset=['track_name','track_id']).sum()\n",
    "    print(f'There are {x} duplicated entries')"
   ]
  },
  {
   "cell_type": "markdown",
   "id": "35b720c8",
   "metadata": {},
   "source": [
    "There are none but I already knew that from counting unique categorical feature entries"
   ]
  },
  {
   "cell_type": "markdown",
   "id": "3dee7794",
   "metadata": {},
   "source": [
    "<span style='color: blue;'>Are there any outliers?</span> <br> My preffered way to check is boxplots. That works just fine if dataframe doesn't have too many features. If it was big, would probably go for interquartile range"
   ]
  },
  {
   "cell_type": "code",
   "execution_count": 38,
   "id": "f21e699f",
   "metadata": {},
   "outputs": [],
   "source": [
    "import plotly.express as px"
   ]
  },
  {
   "cell_type": "code",
   "execution_count": 39,
   "id": "b7ef233c",
   "metadata": {},
   "outputs": [],
   "source": [
    "numerical_df = df.select_dtypes(include='number')"
   ]
  },
  {
   "cell_type": "code",
   "execution_count": 40,
   "id": "54e450a2",
   "metadata": {},
   "outputs": [
    {
     "data": {
      "application/vnd.plotly.v1+json": {
       "config": {
        "plotlyServerURL": "https://plot.ly"
       },
       "data": [
        {
         "alignmentgroup": "True",
         "hovertemplate": "variable=%{x}<br>value=%{y}<extra></extra>",
         "legendgroup": "",
         "marker": {
          "color": "#636efa"
         },
         "name": "",
         "notched": false,
         "offsetgroup": "",
         "orientation": "v",
         "showlegend": false,
         "type": "box",
         "x": [
          "energy",
          "energy",
          "energy",
          "energy",
          "energy",
          "energy",
          "energy",
          "energy",
          "energy",
          "energy",
          "energy",
          "energy",
          "energy",
          "energy",
          "energy",
          "energy",
          "energy",
          "energy",
          "energy",
          "energy",
          "energy",
          "energy",
          "energy",
          "energy",
          "energy",
          "energy",
          "energy",
          "energy",
          "energy",
          "energy",
          "energy",
          "energy",
          "energy",
          "energy",
          "energy",
          "energy",
          "energy",
          "energy",
          "energy",
          "energy",
          "energy",
          "energy",
          "energy",
          "energy",
          "energy",
          "energy",
          "energy",
          "energy",
          "energy",
          "energy",
          "danceability",
          "danceability",
          "danceability",
          "danceability",
          "danceability",
          "danceability",
          "danceability",
          "danceability",
          "danceability",
          "danceability",
          "danceability",
          "danceability",
          "danceability",
          "danceability",
          "danceability",
          "danceability",
          "danceability",
          "danceability",
          "danceability",
          "danceability",
          "danceability",
          "danceability",
          "danceability",
          "danceability",
          "danceability",
          "danceability",
          "danceability",
          "danceability",
          "danceability",
          "danceability",
          "danceability",
          "danceability",
          "danceability",
          "danceability",
          "danceability",
          "danceability",
          "danceability",
          "danceability",
          "danceability",
          "danceability",
          "danceability",
          "danceability",
          "danceability",
          "danceability",
          "danceability",
          "danceability",
          "danceability",
          "danceability",
          "danceability",
          "danceability",
          "key",
          "key",
          "key",
          "key",
          "key",
          "key",
          "key",
          "key",
          "key",
          "key",
          "key",
          "key",
          "key",
          "key",
          "key",
          "key",
          "key",
          "key",
          "key",
          "key",
          "key",
          "key",
          "key",
          "key",
          "key",
          "key",
          "key",
          "key",
          "key",
          "key",
          "key",
          "key",
          "key",
          "key",
          "key",
          "key",
          "key",
          "key",
          "key",
          "key",
          "key",
          "key",
          "key",
          "key",
          "key",
          "key",
          "key",
          "key",
          "key",
          "key",
          "loudness",
          "loudness",
          "loudness",
          "loudness",
          "loudness",
          "loudness",
          "loudness",
          "loudness",
          "loudness",
          "loudness",
          "loudness",
          "loudness",
          "loudness",
          "loudness",
          "loudness",
          "loudness",
          "loudness",
          "loudness",
          "loudness",
          "loudness",
          "loudness",
          "loudness",
          "loudness",
          "loudness",
          "loudness",
          "loudness",
          "loudness",
          "loudness",
          "loudness",
          "loudness",
          "loudness",
          "loudness",
          "loudness",
          "loudness",
          "loudness",
          "loudness",
          "loudness",
          "loudness",
          "loudness",
          "loudness",
          "loudness",
          "loudness",
          "loudness",
          "loudness",
          "loudness",
          "loudness",
          "loudness",
          "loudness",
          "loudness",
          "loudness",
          "acousticness",
          "acousticness",
          "acousticness",
          "acousticness",
          "acousticness",
          "acousticness",
          "acousticness",
          "acousticness",
          "acousticness",
          "acousticness",
          "acousticness",
          "acousticness",
          "acousticness",
          "acousticness",
          "acousticness",
          "acousticness",
          "acousticness",
          "acousticness",
          "acousticness",
          "acousticness",
          "acousticness",
          "acousticness",
          "acousticness",
          "acousticness",
          "acousticness",
          "acousticness",
          "acousticness",
          "acousticness",
          "acousticness",
          "acousticness",
          "acousticness",
          "acousticness",
          "acousticness",
          "acousticness",
          "acousticness",
          "acousticness",
          "acousticness",
          "acousticness",
          "acousticness",
          "acousticness",
          "acousticness",
          "acousticness",
          "acousticness",
          "acousticness",
          "acousticness",
          "acousticness",
          "acousticness",
          "acousticness",
          "acousticness",
          "acousticness",
          "speechiness",
          "speechiness",
          "speechiness",
          "speechiness",
          "speechiness",
          "speechiness",
          "speechiness",
          "speechiness",
          "speechiness",
          "speechiness",
          "speechiness",
          "speechiness",
          "speechiness",
          "speechiness",
          "speechiness",
          "speechiness",
          "speechiness",
          "speechiness",
          "speechiness",
          "speechiness",
          "speechiness",
          "speechiness",
          "speechiness",
          "speechiness",
          "speechiness",
          "speechiness",
          "speechiness",
          "speechiness",
          "speechiness",
          "speechiness",
          "speechiness",
          "speechiness",
          "speechiness",
          "speechiness",
          "speechiness",
          "speechiness",
          "speechiness",
          "speechiness",
          "speechiness",
          "speechiness",
          "speechiness",
          "speechiness",
          "speechiness",
          "speechiness",
          "speechiness",
          "speechiness",
          "speechiness",
          "speechiness",
          "speechiness",
          "speechiness",
          "instrumentalness",
          "instrumentalness",
          "instrumentalness",
          "instrumentalness",
          "instrumentalness",
          "instrumentalness",
          "instrumentalness",
          "instrumentalness",
          "instrumentalness",
          "instrumentalness",
          "instrumentalness",
          "instrumentalness",
          "instrumentalness",
          "instrumentalness",
          "instrumentalness",
          "instrumentalness",
          "instrumentalness",
          "instrumentalness",
          "instrumentalness",
          "instrumentalness",
          "instrumentalness",
          "instrumentalness",
          "instrumentalness",
          "instrumentalness",
          "instrumentalness",
          "instrumentalness",
          "instrumentalness",
          "instrumentalness",
          "instrumentalness",
          "instrumentalness",
          "instrumentalness",
          "instrumentalness",
          "instrumentalness",
          "instrumentalness",
          "instrumentalness",
          "instrumentalness",
          "instrumentalness",
          "instrumentalness",
          "instrumentalness",
          "instrumentalness",
          "instrumentalness",
          "instrumentalness",
          "instrumentalness",
          "instrumentalness",
          "instrumentalness",
          "instrumentalness",
          "instrumentalness",
          "instrumentalness",
          "instrumentalness",
          "instrumentalness",
          "liveness",
          "liveness",
          "liveness",
          "liveness",
          "liveness",
          "liveness",
          "liveness",
          "liveness",
          "liveness",
          "liveness",
          "liveness",
          "liveness",
          "liveness",
          "liveness",
          "liveness",
          "liveness",
          "liveness",
          "liveness",
          "liveness",
          "liveness",
          "liveness",
          "liveness",
          "liveness",
          "liveness",
          "liveness",
          "liveness",
          "liveness",
          "liveness",
          "liveness",
          "liveness",
          "liveness",
          "liveness",
          "liveness",
          "liveness",
          "liveness",
          "liveness",
          "liveness",
          "liveness",
          "liveness",
          "liveness",
          "liveness",
          "liveness",
          "liveness",
          "liveness",
          "liveness",
          "liveness",
          "liveness",
          "liveness",
          "liveness",
          "liveness",
          "valence",
          "valence",
          "valence",
          "valence",
          "valence",
          "valence",
          "valence",
          "valence",
          "valence",
          "valence",
          "valence",
          "valence",
          "valence",
          "valence",
          "valence",
          "valence",
          "valence",
          "valence",
          "valence",
          "valence",
          "valence",
          "valence",
          "valence",
          "valence",
          "valence",
          "valence",
          "valence",
          "valence",
          "valence",
          "valence",
          "valence",
          "valence",
          "valence",
          "valence",
          "valence",
          "valence",
          "valence",
          "valence",
          "valence",
          "valence",
          "valence",
          "valence",
          "valence",
          "valence",
          "valence",
          "valence",
          "valence",
          "valence",
          "valence",
          "valence",
          "tempo",
          "tempo",
          "tempo",
          "tempo",
          "tempo",
          "tempo",
          "tempo",
          "tempo",
          "tempo",
          "tempo",
          "tempo",
          "tempo",
          "tempo",
          "tempo",
          "tempo",
          "tempo",
          "tempo",
          "tempo",
          "tempo",
          "tempo",
          "tempo",
          "tempo",
          "tempo",
          "tempo",
          "tempo",
          "tempo",
          "tempo",
          "tempo",
          "tempo",
          "tempo",
          "tempo",
          "tempo",
          "tempo",
          "tempo",
          "tempo",
          "tempo",
          "tempo",
          "tempo",
          "tempo",
          "tempo",
          "tempo",
          "tempo",
          "tempo",
          "tempo",
          "tempo",
          "tempo",
          "tempo",
          "tempo",
          "tempo",
          "tempo",
          "duration_ms",
          "duration_ms",
          "duration_ms",
          "duration_ms",
          "duration_ms",
          "duration_ms",
          "duration_ms",
          "duration_ms",
          "duration_ms",
          "duration_ms",
          "duration_ms",
          "duration_ms",
          "duration_ms",
          "duration_ms",
          "duration_ms",
          "duration_ms",
          "duration_ms",
          "duration_ms",
          "duration_ms",
          "duration_ms",
          "duration_ms",
          "duration_ms",
          "duration_ms",
          "duration_ms",
          "duration_ms",
          "duration_ms",
          "duration_ms",
          "duration_ms",
          "duration_ms",
          "duration_ms",
          "duration_ms",
          "duration_ms",
          "duration_ms",
          "duration_ms",
          "duration_ms",
          "duration_ms",
          "duration_ms",
          "duration_ms",
          "duration_ms",
          "duration_ms",
          "duration_ms",
          "duration_ms",
          "duration_ms",
          "duration_ms",
          "duration_ms",
          "duration_ms",
          "duration_ms",
          "duration_ms",
          "duration_ms",
          "duration_ms"
         ],
         "x0": " ",
         "xaxis": "x",
         "y": [
          0.73,
          0.593,
          0.586,
          0.721,
          0.793,
          0.69,
          0.816,
          0.431,
          0.43,
          0.405,
          0.715,
          0.601,
          0.762,
          0.554,
          0.546,
          0.49,
          0.575,
          0.673,
          0.32,
          0.574,
          0.481,
          0.771,
          0.72,
          0.722,
          0.225,
          0.548,
          0.425,
          0.454,
          0.525,
          0.745,
          0.506,
          0.729,
          0.765,
          0.631,
          0.774,
          0.855,
          0.427,
          0.522,
          0.727,
          0.751,
          0.728,
          0.704,
          0.537,
          0.829,
          0.296,
          0.566,
          0.45,
          0.473,
          0.844,
          0.73,
          0.514,
          0.825,
          0.896,
          0.785,
          0.793,
          0.746,
          0.548,
          0.726,
          0.784,
          0.501,
          0.803,
          0.621,
          0.695,
          0.774,
          0.806,
          0.83,
          0.459,
          0.787,
          0.764,
          0.795,
          0.767,
          0.676,
          0.789,
          0.7,
          0.704,
          0.759,
          0.701,
          0.935,
          0.878,
          0.808,
          0.676,
          0.73,
          0.746,
          0.862,
          0.674,
          0.672,
          0.598,
          0.755,
          0.783,
          0.88,
          0.841,
          0.723,
          0.716,
          0.607,
          0.351,
          0.511,
          0.597,
          0.464,
          0.647,
          0.834,
          1,
          6,
          10,
          8,
          11,
          11,
          0,
          8,
          10,
          1,
          2,
          6,
          0,
          0,
          9,
          1,
          3,
          11,
          11,
          2,
          0,
          8,
          8,
          7,
          6,
          9,
          7,
          1,
          5,
          10,
          9,
          4,
          6,
          7,
          11,
          9,
          7,
          2,
          6,
          7,
          7,
          10,
          0,
          2,
          4,
          6,
          8,
          1,
          0,
          8,
          -5.934,
          -6.401,
          -6.687,
          -5.457,
          -4.521,
          -7.956,
          -4.209,
          -8.765,
          -8.756,
          -5.679,
          -3.28,
          -5.616,
          -3.497,
          -7.909,
          -6.637,
          -8.82,
          -4.858,
          -4.577,
          -7.209,
          -6.903,
          -8.52,
          -3.675,
          -5.652,
          -3.558,
          -14.454,
          -6.049,
          -10.965,
          -7.509,
          -6.832,
          -5.26,
          -6.652,
          -3.434,
          -4.41,
          -4.746,
          -7.567,
          -3.764,
          -8.764,
          -4.368,
          -3.454,
          -4.258,
          -3.37,
          -7.088,
          -7.648,
          -4.074,
          -10.109,
          -7.23,
          -6.658,
          -10.086,
          -3.756,
          -3.714,
          0.00146,
          0.688,
          0.104,
          0.0149,
          0.0123,
          0.247,
          0.122,
          0.731,
          0.123,
          0.751,
          0.295,
          0.0522,
          0.192,
          0.207,
          0.3,
          0.289,
          0.604,
          0.256,
          0.837,
          0.067,
          0.234,
          0.0237,
          0.223,
          0.221,
          0.902,
          0.0392,
          0.328,
          0.0194,
          0.183,
          0.145,
          0.345,
          0.167,
          0.0112,
          0.291,
          0.0686,
          0.021,
          0.0546,
          0.533,
          0.185,
          0.177,
          0.0847,
          0.0259,
          0.233,
          0.0103,
          0.934,
          0.349,
          0.223,
          0.866,
          0.0137,
          0.00513,
          0.0598,
          0.0988,
          0.0559,
          0.0506,
          0.083,
          0.164,
          0.0465,
          0.135,
          0.0364,
          0.0319,
          0.298,
          0.148,
          0.0395,
          0.0383,
          0.0575,
          0.209,
          0.0573,
          0.158,
          0.0546,
          0.487,
          0.0803,
          0.0483,
          0.218,
          0.0369,
          0.0994,
          0.029,
          0.375,
          0.375,
          0.0578,
          0.342,
          0.0958,
          0.0883,
          0.0993,
          0.0515,
          0.0892,
          0.0397,
          0.0317,
          0.0575,
          0.389,
          0.0874,
          0.0484,
          0.0571,
          0.0514,
          0.379,
          0.0333,
          0.2,
          0.0418,
          0.129,
          0.0457,
          0.222,
          9.54e-05,
          0.000161,
          0,
          0.00432,
          0,
          0,
          0,
          0,
          0,
          0,
          0.000134,
          0,
          0.00244,
          0,
          0,
          3.04e-06,
          0,
          3.57e-06,
          0,
          0,
          0,
          7e-06,
          0,
          0,
          0.657,
          0,
          0.13,
          0,
          0,
          0,
          0,
          1.39e-06,
          0,
          0.000209,
          0.00188,
          0,
          5.83e-06,
          0,
          2.46e-05,
          6.43e-05,
          0,
          0.00109,
          0,
          0,
          0,
          0,
          0,
          0,
          0.000658,
          0,
          0.0897,
          0.17,
          0.79,
          0.285,
          0.0951,
          0.101,
          0.335,
          0.696,
          0.0887,
          0.105,
          0.0574,
          0.46,
          0.0863,
          0.132,
          0.102,
          0.113,
          0.0885,
          0.0904,
          0.0822,
          0.15,
          0.269,
          0.102,
          0.129,
          0.272,
          0.106,
          0.0828,
          0.1,
          0.0824,
          0.0714,
          0.292,
          0.118,
          0.349,
          0.0936,
          0.123,
          0.393,
          0.323,
          0.21,
          0.0685,
          0.0626,
          0.106,
          0.149,
          0.792,
          0.157,
          0.107,
          0.095,
          0.34,
          0.382,
          0.109,
          0.102,
          0.124,
          0.334,
          0.54,
          0.642,
          0.894,
          0.679,
          0.497,
          0.557,
          0.348,
          0.236,
          0.446,
          0.574,
          0.457,
          0.553,
          0.349,
          0.874,
          0.845,
          0.183,
          0.786,
          0.575,
          0.537,
          0.761,
          0.569,
          0.664,
          0.756,
          0.243,
          0.749,
          0.562,
          0.357,
          0.694,
          0.829,
          0.497,
          0.467,
          0.737,
          0.841,
          0.33,
          0.646,
          0.0605,
          0.925,
          0.558,
          0.884,
          0.43,
          0.684,
          0.28,
          0.685,
          0.12,
          0.218,
          0.537,
          0.604,
          0.746,
          0.446,
          171.005,
          98.078,
          116.971,
          121.962,
          123.95,
          89.977,
          95.39,
          144.026,
          127.087,
          109.891,
          101.085,
          116.735,
          120.042,
          99.034,
          147.986,
          81.604,
          111.881,
          110.962,
          91.019,
          142.053,
          150.076,
          99.048,
          122.031,
          90.989,
          120.006,
          116.967,
          135.128,
          133.073,
          112.022,
          165.995,
          145.842,
          113.013,
          114.044,
          128.978,
          112.05,
          123.056,
          76.469,
          89.96,
          180.067,
          117.948,
          130.049,
          105.095,
          129.979,
          96.172,
          115.284,
          83.903,
          178.765,
          75.801,
          146.967,
          155.008,
          200040,
          209755,
          196653,
          176219,
          183290,
          181733,
          174000,
          173333,
          159382,
          182161,
          200960,
          163636,
          215280,
          162547,
          212867,
          247059,
          215107,
          237893,
          189486,
          237918,
          171375,
          207133,
          166794,
          140526,
          245426,
          190800,
          194088,
          187541,
          158571,
          210800,
          208520,
          221820,
          199054,
          223488,
          176547,
          182200,
          175721,
          157560,
          199112,
          157606,
          243837,
          214935,
          165978,
          295177,
          200186,
          239836,
          228482,
          208687,
          193829,
          312820
         ],
         "y0": " ",
         "yaxis": "y"
        }
       ],
       "layout": {
        "boxmode": "group",
        "legend": {
         "tracegroupgap": 0
        },
        "template": {
         "data": {
          "bar": [
           {
            "error_x": {
             "color": "#2a3f5f"
            },
            "error_y": {
             "color": "#2a3f5f"
            },
            "marker": {
             "line": {
              "color": "#E5ECF6",
              "width": 0.5
             },
             "pattern": {
              "fillmode": "overlay",
              "size": 10,
              "solidity": 0.2
             }
            },
            "type": "bar"
           }
          ],
          "barpolar": [
           {
            "marker": {
             "line": {
              "color": "#E5ECF6",
              "width": 0.5
             },
             "pattern": {
              "fillmode": "overlay",
              "size": 10,
              "solidity": 0.2
             }
            },
            "type": "barpolar"
           }
          ],
          "carpet": [
           {
            "aaxis": {
             "endlinecolor": "#2a3f5f",
             "gridcolor": "white",
             "linecolor": "white",
             "minorgridcolor": "white",
             "startlinecolor": "#2a3f5f"
            },
            "baxis": {
             "endlinecolor": "#2a3f5f",
             "gridcolor": "white",
             "linecolor": "white",
             "minorgridcolor": "white",
             "startlinecolor": "#2a3f5f"
            },
            "type": "carpet"
           }
          ],
          "choropleth": [
           {
            "colorbar": {
             "outlinewidth": 0,
             "ticks": ""
            },
            "type": "choropleth"
           }
          ],
          "contour": [
           {
            "colorbar": {
             "outlinewidth": 0,
             "ticks": ""
            },
            "colorscale": [
             [
              0,
              "#0d0887"
             ],
             [
              0.1111111111111111,
              "#46039f"
             ],
             [
              0.2222222222222222,
              "#7201a8"
             ],
             [
              0.3333333333333333,
              "#9c179e"
             ],
             [
              0.4444444444444444,
              "#bd3786"
             ],
             [
              0.5555555555555556,
              "#d8576b"
             ],
             [
              0.6666666666666666,
              "#ed7953"
             ],
             [
              0.7777777777777778,
              "#fb9f3a"
             ],
             [
              0.8888888888888888,
              "#fdca26"
             ],
             [
              1,
              "#f0f921"
             ]
            ],
            "type": "contour"
           }
          ],
          "contourcarpet": [
           {
            "colorbar": {
             "outlinewidth": 0,
             "ticks": ""
            },
            "type": "contourcarpet"
           }
          ],
          "heatmap": [
           {
            "colorbar": {
             "outlinewidth": 0,
             "ticks": ""
            },
            "colorscale": [
             [
              0,
              "#0d0887"
             ],
             [
              0.1111111111111111,
              "#46039f"
             ],
             [
              0.2222222222222222,
              "#7201a8"
             ],
             [
              0.3333333333333333,
              "#9c179e"
             ],
             [
              0.4444444444444444,
              "#bd3786"
             ],
             [
              0.5555555555555556,
              "#d8576b"
             ],
             [
              0.6666666666666666,
              "#ed7953"
             ],
             [
              0.7777777777777778,
              "#fb9f3a"
             ],
             [
              0.8888888888888888,
              "#fdca26"
             ],
             [
              1,
              "#f0f921"
             ]
            ],
            "type": "heatmap"
           }
          ],
          "heatmapgl": [
           {
            "colorbar": {
             "outlinewidth": 0,
             "ticks": ""
            },
            "colorscale": [
             [
              0,
              "#0d0887"
             ],
             [
              0.1111111111111111,
              "#46039f"
             ],
             [
              0.2222222222222222,
              "#7201a8"
             ],
             [
              0.3333333333333333,
              "#9c179e"
             ],
             [
              0.4444444444444444,
              "#bd3786"
             ],
             [
              0.5555555555555556,
              "#d8576b"
             ],
             [
              0.6666666666666666,
              "#ed7953"
             ],
             [
              0.7777777777777778,
              "#fb9f3a"
             ],
             [
              0.8888888888888888,
              "#fdca26"
             ],
             [
              1,
              "#f0f921"
             ]
            ],
            "type": "heatmapgl"
           }
          ],
          "histogram": [
           {
            "marker": {
             "pattern": {
              "fillmode": "overlay",
              "size": 10,
              "solidity": 0.2
             }
            },
            "type": "histogram"
           }
          ],
          "histogram2d": [
           {
            "colorbar": {
             "outlinewidth": 0,
             "ticks": ""
            },
            "colorscale": [
             [
              0,
              "#0d0887"
             ],
             [
              0.1111111111111111,
              "#46039f"
             ],
             [
              0.2222222222222222,
              "#7201a8"
             ],
             [
              0.3333333333333333,
              "#9c179e"
             ],
             [
              0.4444444444444444,
              "#bd3786"
             ],
             [
              0.5555555555555556,
              "#d8576b"
             ],
             [
              0.6666666666666666,
              "#ed7953"
             ],
             [
              0.7777777777777778,
              "#fb9f3a"
             ],
             [
              0.8888888888888888,
              "#fdca26"
             ],
             [
              1,
              "#f0f921"
             ]
            ],
            "type": "histogram2d"
           }
          ],
          "histogram2dcontour": [
           {
            "colorbar": {
             "outlinewidth": 0,
             "ticks": ""
            },
            "colorscale": [
             [
              0,
              "#0d0887"
             ],
             [
              0.1111111111111111,
              "#46039f"
             ],
             [
              0.2222222222222222,
              "#7201a8"
             ],
             [
              0.3333333333333333,
              "#9c179e"
             ],
             [
              0.4444444444444444,
              "#bd3786"
             ],
             [
              0.5555555555555556,
              "#d8576b"
             ],
             [
              0.6666666666666666,
              "#ed7953"
             ],
             [
              0.7777777777777778,
              "#fb9f3a"
             ],
             [
              0.8888888888888888,
              "#fdca26"
             ],
             [
              1,
              "#f0f921"
             ]
            ],
            "type": "histogram2dcontour"
           }
          ],
          "mesh3d": [
           {
            "colorbar": {
             "outlinewidth": 0,
             "ticks": ""
            },
            "type": "mesh3d"
           }
          ],
          "parcoords": [
           {
            "line": {
             "colorbar": {
              "outlinewidth": 0,
              "ticks": ""
             }
            },
            "type": "parcoords"
           }
          ],
          "pie": [
           {
            "automargin": true,
            "type": "pie"
           }
          ],
          "scatter": [
           {
            "fillpattern": {
             "fillmode": "overlay",
             "size": 10,
             "solidity": 0.2
            },
            "type": "scatter"
           }
          ],
          "scatter3d": [
           {
            "line": {
             "colorbar": {
              "outlinewidth": 0,
              "ticks": ""
             }
            },
            "marker": {
             "colorbar": {
              "outlinewidth": 0,
              "ticks": ""
             }
            },
            "type": "scatter3d"
           }
          ],
          "scattercarpet": [
           {
            "marker": {
             "colorbar": {
              "outlinewidth": 0,
              "ticks": ""
             }
            },
            "type": "scattercarpet"
           }
          ],
          "scattergeo": [
           {
            "marker": {
             "colorbar": {
              "outlinewidth": 0,
              "ticks": ""
             }
            },
            "type": "scattergeo"
           }
          ],
          "scattergl": [
           {
            "marker": {
             "colorbar": {
              "outlinewidth": 0,
              "ticks": ""
             }
            },
            "type": "scattergl"
           }
          ],
          "scattermapbox": [
           {
            "marker": {
             "colorbar": {
              "outlinewidth": 0,
              "ticks": ""
             }
            },
            "type": "scattermapbox"
           }
          ],
          "scatterpolar": [
           {
            "marker": {
             "colorbar": {
              "outlinewidth": 0,
              "ticks": ""
             }
            },
            "type": "scatterpolar"
           }
          ],
          "scatterpolargl": [
           {
            "marker": {
             "colorbar": {
              "outlinewidth": 0,
              "ticks": ""
             }
            },
            "type": "scatterpolargl"
           }
          ],
          "scatterternary": [
           {
            "marker": {
             "colorbar": {
              "outlinewidth": 0,
              "ticks": ""
             }
            },
            "type": "scatterternary"
           }
          ],
          "surface": [
           {
            "colorbar": {
             "outlinewidth": 0,
             "ticks": ""
            },
            "colorscale": [
             [
              0,
              "#0d0887"
             ],
             [
              0.1111111111111111,
              "#46039f"
             ],
             [
              0.2222222222222222,
              "#7201a8"
             ],
             [
              0.3333333333333333,
              "#9c179e"
             ],
             [
              0.4444444444444444,
              "#bd3786"
             ],
             [
              0.5555555555555556,
              "#d8576b"
             ],
             [
              0.6666666666666666,
              "#ed7953"
             ],
             [
              0.7777777777777778,
              "#fb9f3a"
             ],
             [
              0.8888888888888888,
              "#fdca26"
             ],
             [
              1,
              "#f0f921"
             ]
            ],
            "type": "surface"
           }
          ],
          "table": [
           {
            "cells": {
             "fill": {
              "color": "#EBF0F8"
             },
             "line": {
              "color": "white"
             }
            },
            "header": {
             "fill": {
              "color": "#C8D4E3"
             },
             "line": {
              "color": "white"
             }
            },
            "type": "table"
           }
          ]
         },
         "layout": {
          "annotationdefaults": {
           "arrowcolor": "#2a3f5f",
           "arrowhead": 0,
           "arrowwidth": 1
          },
          "autotypenumbers": "strict",
          "coloraxis": {
           "colorbar": {
            "outlinewidth": 0,
            "ticks": ""
           }
          },
          "colorscale": {
           "diverging": [
            [
             0,
             "#8e0152"
            ],
            [
             0.1,
             "#c51b7d"
            ],
            [
             0.2,
             "#de77ae"
            ],
            [
             0.3,
             "#f1b6da"
            ],
            [
             0.4,
             "#fde0ef"
            ],
            [
             0.5,
             "#f7f7f7"
            ],
            [
             0.6,
             "#e6f5d0"
            ],
            [
             0.7,
             "#b8e186"
            ],
            [
             0.8,
             "#7fbc41"
            ],
            [
             0.9,
             "#4d9221"
            ],
            [
             1,
             "#276419"
            ]
           ],
           "sequential": [
            [
             0,
             "#0d0887"
            ],
            [
             0.1111111111111111,
             "#46039f"
            ],
            [
             0.2222222222222222,
             "#7201a8"
            ],
            [
             0.3333333333333333,
             "#9c179e"
            ],
            [
             0.4444444444444444,
             "#bd3786"
            ],
            [
             0.5555555555555556,
             "#d8576b"
            ],
            [
             0.6666666666666666,
             "#ed7953"
            ],
            [
             0.7777777777777778,
             "#fb9f3a"
            ],
            [
             0.8888888888888888,
             "#fdca26"
            ],
            [
             1,
             "#f0f921"
            ]
           ],
           "sequentialminus": [
            [
             0,
             "#0d0887"
            ],
            [
             0.1111111111111111,
             "#46039f"
            ],
            [
             0.2222222222222222,
             "#7201a8"
            ],
            [
             0.3333333333333333,
             "#9c179e"
            ],
            [
             0.4444444444444444,
             "#bd3786"
            ],
            [
             0.5555555555555556,
             "#d8576b"
            ],
            [
             0.6666666666666666,
             "#ed7953"
            ],
            [
             0.7777777777777778,
             "#fb9f3a"
            ],
            [
             0.8888888888888888,
             "#fdca26"
            ],
            [
             1,
             "#f0f921"
            ]
           ]
          },
          "colorway": [
           "#636efa",
           "#EF553B",
           "#00cc96",
           "#ab63fa",
           "#FFA15A",
           "#19d3f3",
           "#FF6692",
           "#B6E880",
           "#FF97FF",
           "#FECB52"
          ],
          "font": {
           "color": "#2a3f5f"
          },
          "geo": {
           "bgcolor": "white",
           "lakecolor": "white",
           "landcolor": "#E5ECF6",
           "showlakes": true,
           "showland": true,
           "subunitcolor": "white"
          },
          "hoverlabel": {
           "align": "left"
          },
          "hovermode": "closest",
          "mapbox": {
           "style": "light"
          },
          "paper_bgcolor": "white",
          "plot_bgcolor": "#E5ECF6",
          "polar": {
           "angularaxis": {
            "gridcolor": "white",
            "linecolor": "white",
            "ticks": ""
           },
           "bgcolor": "#E5ECF6",
           "radialaxis": {
            "gridcolor": "white",
            "linecolor": "white",
            "ticks": ""
           }
          },
          "scene": {
           "xaxis": {
            "backgroundcolor": "#E5ECF6",
            "gridcolor": "white",
            "gridwidth": 2,
            "linecolor": "white",
            "showbackground": true,
            "ticks": "",
            "zerolinecolor": "white"
           },
           "yaxis": {
            "backgroundcolor": "#E5ECF6",
            "gridcolor": "white",
            "gridwidth": 2,
            "linecolor": "white",
            "showbackground": true,
            "ticks": "",
            "zerolinecolor": "white"
           },
           "zaxis": {
            "backgroundcolor": "#E5ECF6",
            "gridcolor": "white",
            "gridwidth": 2,
            "linecolor": "white",
            "showbackground": true,
            "ticks": "",
            "zerolinecolor": "white"
           }
          },
          "shapedefaults": {
           "line": {
            "color": "#2a3f5f"
           }
          },
          "ternary": {
           "aaxis": {
            "gridcolor": "white",
            "linecolor": "white",
            "ticks": ""
           },
           "baxis": {
            "gridcolor": "white",
            "linecolor": "white",
            "ticks": ""
           },
           "bgcolor": "#E5ECF6",
           "caxis": {
            "gridcolor": "white",
            "linecolor": "white",
            "ticks": ""
           }
          },
          "title": {
           "x": 0.05
          },
          "xaxis": {
           "automargin": true,
           "gridcolor": "white",
           "linecolor": "white",
           "ticks": "",
           "title": {
            "standoff": 15
           },
           "zerolinecolor": "white",
           "zerolinewidth": 2
          },
          "yaxis": {
           "automargin": true,
           "gridcolor": "white",
           "linecolor": "white",
           "ticks": "",
           "title": {
            "standoff": 15
           },
           "zerolinecolor": "white",
           "zerolinewidth": 2
          }
         }
        },
        "title": {
         "text": "Box Plots for Numerical Columns"
        },
        "xaxis": {
         "anchor": "y",
         "domain": [
          0,
          1
         ],
         "title": {
          "text": "variable"
         }
        },
        "yaxis": {
         "anchor": "x",
         "domain": [
          0,
          1
         ],
         "title": {
          "text": "value"
         }
        }
       }
      },
      "text/html": [
       "<div>                            <div id=\"201d3a16-5917-4b99-aefe-580355a52105\" class=\"plotly-graph-div\" style=\"height:525px; width:100%;\"></div>            <script type=\"text/javascript\">                require([\"plotly\"], function(Plotly) {                    window.PLOTLYENV=window.PLOTLYENV || {};                                    if (document.getElementById(\"201d3a16-5917-4b99-aefe-580355a52105\")) {                    Plotly.newPlot(                        \"201d3a16-5917-4b99-aefe-580355a52105\",                        [{\"alignmentgroup\":\"True\",\"hovertemplate\":\"variable=%{x}<br>value=%{y}<extra></extra>\",\"legendgroup\":\"\",\"marker\":{\"color\":\"#636efa\"},\"name\":\"\",\"notched\":false,\"offsetgroup\":\"\",\"orientation\":\"v\",\"showlegend\":false,\"x\":[\"energy\",\"energy\",\"energy\",\"energy\",\"energy\",\"energy\",\"energy\",\"energy\",\"energy\",\"energy\",\"energy\",\"energy\",\"energy\",\"energy\",\"energy\",\"energy\",\"energy\",\"energy\",\"energy\",\"energy\",\"energy\",\"energy\",\"energy\",\"energy\",\"energy\",\"energy\",\"energy\",\"energy\",\"energy\",\"energy\",\"energy\",\"energy\",\"energy\",\"energy\",\"energy\",\"energy\",\"energy\",\"energy\",\"energy\",\"energy\",\"energy\",\"energy\",\"energy\",\"energy\",\"energy\",\"energy\",\"energy\",\"energy\",\"energy\",\"energy\",\"danceability\",\"danceability\",\"danceability\",\"danceability\",\"danceability\",\"danceability\",\"danceability\",\"danceability\",\"danceability\",\"danceability\",\"danceability\",\"danceability\",\"danceability\",\"danceability\",\"danceability\",\"danceability\",\"danceability\",\"danceability\",\"danceability\",\"danceability\",\"danceability\",\"danceability\",\"danceability\",\"danceability\",\"danceability\",\"danceability\",\"danceability\",\"danceability\",\"danceability\",\"danceability\",\"danceability\",\"danceability\",\"danceability\",\"danceability\",\"danceability\",\"danceability\",\"danceability\",\"danceability\",\"danceability\",\"danceability\",\"danceability\",\"danceability\",\"danceability\",\"danceability\",\"danceability\",\"danceability\",\"danceability\",\"danceability\",\"danceability\",\"danceability\",\"key\",\"key\",\"key\",\"key\",\"key\",\"key\",\"key\",\"key\",\"key\",\"key\",\"key\",\"key\",\"key\",\"key\",\"key\",\"key\",\"key\",\"key\",\"key\",\"key\",\"key\",\"key\",\"key\",\"key\",\"key\",\"key\",\"key\",\"key\",\"key\",\"key\",\"key\",\"key\",\"key\",\"key\",\"key\",\"key\",\"key\",\"key\",\"key\",\"key\",\"key\",\"key\",\"key\",\"key\",\"key\",\"key\",\"key\",\"key\",\"key\",\"key\",\"loudness\",\"loudness\",\"loudness\",\"loudness\",\"loudness\",\"loudness\",\"loudness\",\"loudness\",\"loudness\",\"loudness\",\"loudness\",\"loudness\",\"loudness\",\"loudness\",\"loudness\",\"loudness\",\"loudness\",\"loudness\",\"loudness\",\"loudness\",\"loudness\",\"loudness\",\"loudness\",\"loudness\",\"loudness\",\"loudness\",\"loudness\",\"loudness\",\"loudness\",\"loudness\",\"loudness\",\"loudness\",\"loudness\",\"loudness\",\"loudness\",\"loudness\",\"loudness\",\"loudness\",\"loudness\",\"loudness\",\"loudness\",\"loudness\",\"loudness\",\"loudness\",\"loudness\",\"loudness\",\"loudness\",\"loudness\",\"loudness\",\"loudness\",\"acousticness\",\"acousticness\",\"acousticness\",\"acousticness\",\"acousticness\",\"acousticness\",\"acousticness\",\"acousticness\",\"acousticness\",\"acousticness\",\"acousticness\",\"acousticness\",\"acousticness\",\"acousticness\",\"acousticness\",\"acousticness\",\"acousticness\",\"acousticness\",\"acousticness\",\"acousticness\",\"acousticness\",\"acousticness\",\"acousticness\",\"acousticness\",\"acousticness\",\"acousticness\",\"acousticness\",\"acousticness\",\"acousticness\",\"acousticness\",\"acousticness\",\"acousticness\",\"acousticness\",\"acousticness\",\"acousticness\",\"acousticness\",\"acousticness\",\"acousticness\",\"acousticness\",\"acousticness\",\"acousticness\",\"acousticness\",\"acousticness\",\"acousticness\",\"acousticness\",\"acousticness\",\"acousticness\",\"acousticness\",\"acousticness\",\"acousticness\",\"speechiness\",\"speechiness\",\"speechiness\",\"speechiness\",\"speechiness\",\"speechiness\",\"speechiness\",\"speechiness\",\"speechiness\",\"speechiness\",\"speechiness\",\"speechiness\",\"speechiness\",\"speechiness\",\"speechiness\",\"speechiness\",\"speechiness\",\"speechiness\",\"speechiness\",\"speechiness\",\"speechiness\",\"speechiness\",\"speechiness\",\"speechiness\",\"speechiness\",\"speechiness\",\"speechiness\",\"speechiness\",\"speechiness\",\"speechiness\",\"speechiness\",\"speechiness\",\"speechiness\",\"speechiness\",\"speechiness\",\"speechiness\",\"speechiness\",\"speechiness\",\"speechiness\",\"speechiness\",\"speechiness\",\"speechiness\",\"speechiness\",\"speechiness\",\"speechiness\",\"speechiness\",\"speechiness\",\"speechiness\",\"speechiness\",\"speechiness\",\"instrumentalness\",\"instrumentalness\",\"instrumentalness\",\"instrumentalness\",\"instrumentalness\",\"instrumentalness\",\"instrumentalness\",\"instrumentalness\",\"instrumentalness\",\"instrumentalness\",\"instrumentalness\",\"instrumentalness\",\"instrumentalness\",\"instrumentalness\",\"instrumentalness\",\"instrumentalness\",\"instrumentalness\",\"instrumentalness\",\"instrumentalness\",\"instrumentalness\",\"instrumentalness\",\"instrumentalness\",\"instrumentalness\",\"instrumentalness\",\"instrumentalness\",\"instrumentalness\",\"instrumentalness\",\"instrumentalness\",\"instrumentalness\",\"instrumentalness\",\"instrumentalness\",\"instrumentalness\",\"instrumentalness\",\"instrumentalness\",\"instrumentalness\",\"instrumentalness\",\"instrumentalness\",\"instrumentalness\",\"instrumentalness\",\"instrumentalness\",\"instrumentalness\",\"instrumentalness\",\"instrumentalness\",\"instrumentalness\",\"instrumentalness\",\"instrumentalness\",\"instrumentalness\",\"instrumentalness\",\"instrumentalness\",\"instrumentalness\",\"liveness\",\"liveness\",\"liveness\",\"liveness\",\"liveness\",\"liveness\",\"liveness\",\"liveness\",\"liveness\",\"liveness\",\"liveness\",\"liveness\",\"liveness\",\"liveness\",\"liveness\",\"liveness\",\"liveness\",\"liveness\",\"liveness\",\"liveness\",\"liveness\",\"liveness\",\"liveness\",\"liveness\",\"liveness\",\"liveness\",\"liveness\",\"liveness\",\"liveness\",\"liveness\",\"liveness\",\"liveness\",\"liveness\",\"liveness\",\"liveness\",\"liveness\",\"liveness\",\"liveness\",\"liveness\",\"liveness\",\"liveness\",\"liveness\",\"liveness\",\"liveness\",\"liveness\",\"liveness\",\"liveness\",\"liveness\",\"liveness\",\"liveness\",\"valence\",\"valence\",\"valence\",\"valence\",\"valence\",\"valence\",\"valence\",\"valence\",\"valence\",\"valence\",\"valence\",\"valence\",\"valence\",\"valence\",\"valence\",\"valence\",\"valence\",\"valence\",\"valence\",\"valence\",\"valence\",\"valence\",\"valence\",\"valence\",\"valence\",\"valence\",\"valence\",\"valence\",\"valence\",\"valence\",\"valence\",\"valence\",\"valence\",\"valence\",\"valence\",\"valence\",\"valence\",\"valence\",\"valence\",\"valence\",\"valence\",\"valence\",\"valence\",\"valence\",\"valence\",\"valence\",\"valence\",\"valence\",\"valence\",\"valence\",\"tempo\",\"tempo\",\"tempo\",\"tempo\",\"tempo\",\"tempo\",\"tempo\",\"tempo\",\"tempo\",\"tempo\",\"tempo\",\"tempo\",\"tempo\",\"tempo\",\"tempo\",\"tempo\",\"tempo\",\"tempo\",\"tempo\",\"tempo\",\"tempo\",\"tempo\",\"tempo\",\"tempo\",\"tempo\",\"tempo\",\"tempo\",\"tempo\",\"tempo\",\"tempo\",\"tempo\",\"tempo\",\"tempo\",\"tempo\",\"tempo\",\"tempo\",\"tempo\",\"tempo\",\"tempo\",\"tempo\",\"tempo\",\"tempo\",\"tempo\",\"tempo\",\"tempo\",\"tempo\",\"tempo\",\"tempo\",\"tempo\",\"tempo\",\"duration_ms\",\"duration_ms\",\"duration_ms\",\"duration_ms\",\"duration_ms\",\"duration_ms\",\"duration_ms\",\"duration_ms\",\"duration_ms\",\"duration_ms\",\"duration_ms\",\"duration_ms\",\"duration_ms\",\"duration_ms\",\"duration_ms\",\"duration_ms\",\"duration_ms\",\"duration_ms\",\"duration_ms\",\"duration_ms\",\"duration_ms\",\"duration_ms\",\"duration_ms\",\"duration_ms\",\"duration_ms\",\"duration_ms\",\"duration_ms\",\"duration_ms\",\"duration_ms\",\"duration_ms\",\"duration_ms\",\"duration_ms\",\"duration_ms\",\"duration_ms\",\"duration_ms\",\"duration_ms\",\"duration_ms\",\"duration_ms\",\"duration_ms\",\"duration_ms\",\"duration_ms\",\"duration_ms\",\"duration_ms\",\"duration_ms\",\"duration_ms\",\"duration_ms\",\"duration_ms\",\"duration_ms\",\"duration_ms\",\"duration_ms\"],\"x0\":\" \",\"xaxis\":\"x\",\"y\":[0.73,0.593,0.586,0.721,0.793,0.69,0.816,0.431,0.43,0.405,0.715,0.601,0.762,0.554,0.546,0.49,0.575,0.673,0.32,0.574,0.481,0.771,0.72,0.722,0.225,0.548,0.425,0.454,0.525,0.745,0.506,0.729,0.765,0.631,0.774,0.855,0.427,0.522,0.727,0.751,0.728,0.704,0.537,0.829,0.296,0.566,0.45,0.473,0.844,0.73,0.514,0.825,0.896,0.785,0.793,0.746,0.548,0.726,0.784,0.501,0.803,0.621,0.695,0.774,0.806,0.83,0.459,0.787,0.764,0.795,0.767,0.676,0.789,0.7,0.704,0.759,0.701,0.935,0.878,0.808,0.676,0.73,0.746,0.862,0.674,0.672,0.598,0.755,0.783,0.88,0.841,0.723,0.716,0.607,0.351,0.511,0.597,0.464,0.647,0.834,1.0,6.0,10.0,8.0,11.0,11.0,0.0,8.0,10.0,1.0,2.0,6.0,0.0,0.0,9.0,1.0,3.0,11.0,11.0,2.0,0.0,8.0,8.0,7.0,6.0,9.0,7.0,1.0,5.0,10.0,9.0,4.0,6.0,7.0,11.0,9.0,7.0,2.0,6.0,7.0,7.0,10.0,0.0,2.0,4.0,6.0,8.0,1.0,0.0,8.0,-5.934,-6.401,-6.687,-5.457,-4.521,-7.956,-4.209,-8.765,-8.756,-5.679,-3.28,-5.616,-3.497,-7.909,-6.637,-8.82,-4.858,-4.577,-7.209,-6.903,-8.52,-3.675,-5.652,-3.558,-14.454,-6.049,-10.965,-7.509,-6.832,-5.26,-6.652,-3.434,-4.41,-4.746,-7.567,-3.764,-8.764,-4.368,-3.454,-4.258,-3.37,-7.088,-7.648,-4.074,-10.109,-7.23,-6.658,-10.086,-3.756,-3.714,0.00146,0.688,0.104,0.0149,0.0123,0.247,0.122,0.731,0.123,0.751,0.295,0.0522,0.192,0.207,0.3,0.289,0.604,0.256,0.837,0.067,0.234,0.0237,0.223,0.221,0.902,0.0392,0.328,0.0194,0.183,0.145,0.345,0.167,0.0112,0.291,0.0686,0.021,0.0546,0.533,0.185,0.177,0.0847,0.0259,0.233,0.0103,0.934,0.349,0.223,0.866,0.0137,0.00513,0.0598,0.0988,0.0559,0.0506,0.083,0.164,0.0465,0.135,0.0364,0.0319,0.298,0.148,0.0395,0.0383,0.0575,0.209,0.0573,0.158,0.0546,0.487,0.0803,0.0483,0.218,0.0369,0.0994,0.029,0.375,0.375,0.0578,0.342,0.0958,0.0883,0.0993,0.0515,0.0892,0.0397,0.0317,0.0575,0.389,0.0874,0.0484,0.0571,0.0514,0.379,0.0333,0.2,0.0418,0.129,0.0457,0.222,9.54e-05,0.000161,0.0,0.00432,0.0,0.0,0.0,0.0,0.0,0.0,0.000134,0.0,0.00244,0.0,0.0,3.04e-06,0.0,3.57e-06,0.0,0.0,0.0,7e-06,0.0,0.0,0.657,0.0,0.13,0.0,0.0,0.0,0.0,1.39e-06,0.0,0.000209,0.00188,0.0,5.83e-06,0.0,2.46e-05,6.43e-05,0.0,0.00109,0.0,0.0,0.0,0.0,0.0,0.0,0.000658,0.0,0.0897,0.17,0.79,0.285,0.0951,0.101,0.335,0.696,0.0887,0.105,0.0574,0.46,0.0863,0.132,0.102,0.113,0.0885,0.0904,0.0822,0.15,0.269,0.102,0.129,0.272,0.106,0.0828,0.1,0.0824,0.0714,0.292,0.118,0.349,0.0936,0.123,0.393,0.323,0.21,0.0685,0.0626,0.106,0.149,0.792,0.157,0.107,0.095,0.34,0.382,0.109,0.102,0.124,0.334,0.54,0.642,0.894,0.679,0.497,0.557,0.348,0.236,0.446,0.574,0.457,0.553,0.349,0.874,0.845,0.183,0.786,0.575,0.537,0.761,0.569,0.664,0.756,0.243,0.749,0.562,0.357,0.694,0.829,0.497,0.467,0.737,0.841,0.33,0.646,0.0605,0.925,0.558,0.884,0.43,0.684,0.28,0.685,0.12,0.218,0.537,0.604,0.746,0.446,171.005,98.078,116.971,121.962,123.95,89.977,95.39,144.026,127.087,109.891,101.085,116.735,120.042,99.034,147.986,81.604,111.881,110.962,91.019,142.053,150.076,99.048,122.031,90.989,120.006,116.967,135.128,133.073,112.022,165.995,145.842,113.013,114.044,128.978,112.05,123.056,76.469,89.96,180.067,117.948,130.049,105.095,129.979,96.172,115.284,83.903,178.765,75.801,146.967,155.008,200040.0,209755.0,196653.0,176219.0,183290.0,181733.0,174000.0,173333.0,159382.0,182161.0,200960.0,163636.0,215280.0,162547.0,212867.0,247059.0,215107.0,237893.0,189486.0,237918.0,171375.0,207133.0,166794.0,140526.0,245426.0,190800.0,194088.0,187541.0,158571.0,210800.0,208520.0,221820.0,199054.0,223488.0,176547.0,182200.0,175721.0,157560.0,199112.0,157606.0,243837.0,214935.0,165978.0,295177.0,200186.0,239836.0,228482.0,208687.0,193829.0,312820.0],\"y0\":\" \",\"yaxis\":\"y\",\"type\":\"box\"}],                        {\"template\":{\"data\":{\"histogram2dcontour\":[{\"type\":\"histogram2dcontour\",\"colorbar\":{\"outlinewidth\":0,\"ticks\":\"\"},\"colorscale\":[[0.0,\"#0d0887\"],[0.1111111111111111,\"#46039f\"],[0.2222222222222222,\"#7201a8\"],[0.3333333333333333,\"#9c179e\"],[0.4444444444444444,\"#bd3786\"],[0.5555555555555556,\"#d8576b\"],[0.6666666666666666,\"#ed7953\"],[0.7777777777777778,\"#fb9f3a\"],[0.8888888888888888,\"#fdca26\"],[1.0,\"#f0f921\"]]}],\"choropleth\":[{\"type\":\"choropleth\",\"colorbar\":{\"outlinewidth\":0,\"ticks\":\"\"}}],\"histogram2d\":[{\"type\":\"histogram2d\",\"colorbar\":{\"outlinewidth\":0,\"ticks\":\"\"},\"colorscale\":[[0.0,\"#0d0887\"],[0.1111111111111111,\"#46039f\"],[0.2222222222222222,\"#7201a8\"],[0.3333333333333333,\"#9c179e\"],[0.4444444444444444,\"#bd3786\"],[0.5555555555555556,\"#d8576b\"],[0.6666666666666666,\"#ed7953\"],[0.7777777777777778,\"#fb9f3a\"],[0.8888888888888888,\"#fdca26\"],[1.0,\"#f0f921\"]]}],\"heatmap\":[{\"type\":\"heatmap\",\"colorbar\":{\"outlinewidth\":0,\"ticks\":\"\"},\"colorscale\":[[0.0,\"#0d0887\"],[0.1111111111111111,\"#46039f\"],[0.2222222222222222,\"#7201a8\"],[0.3333333333333333,\"#9c179e\"],[0.4444444444444444,\"#bd3786\"],[0.5555555555555556,\"#d8576b\"],[0.6666666666666666,\"#ed7953\"],[0.7777777777777778,\"#fb9f3a\"],[0.8888888888888888,\"#fdca26\"],[1.0,\"#f0f921\"]]}],\"heatmapgl\":[{\"type\":\"heatmapgl\",\"colorbar\":{\"outlinewidth\":0,\"ticks\":\"\"},\"colorscale\":[[0.0,\"#0d0887\"],[0.1111111111111111,\"#46039f\"],[0.2222222222222222,\"#7201a8\"],[0.3333333333333333,\"#9c179e\"],[0.4444444444444444,\"#bd3786\"],[0.5555555555555556,\"#d8576b\"],[0.6666666666666666,\"#ed7953\"],[0.7777777777777778,\"#fb9f3a\"],[0.8888888888888888,\"#fdca26\"],[1.0,\"#f0f921\"]]}],\"contourcarpet\":[{\"type\":\"contourcarpet\",\"colorbar\":{\"outlinewidth\":0,\"ticks\":\"\"}}],\"contour\":[{\"type\":\"contour\",\"colorbar\":{\"outlinewidth\":0,\"ticks\":\"\"},\"colorscale\":[[0.0,\"#0d0887\"],[0.1111111111111111,\"#46039f\"],[0.2222222222222222,\"#7201a8\"],[0.3333333333333333,\"#9c179e\"],[0.4444444444444444,\"#bd3786\"],[0.5555555555555556,\"#d8576b\"],[0.6666666666666666,\"#ed7953\"],[0.7777777777777778,\"#fb9f3a\"],[0.8888888888888888,\"#fdca26\"],[1.0,\"#f0f921\"]]}],\"surface\":[{\"type\":\"surface\",\"colorbar\":{\"outlinewidth\":0,\"ticks\":\"\"},\"colorscale\":[[0.0,\"#0d0887\"],[0.1111111111111111,\"#46039f\"],[0.2222222222222222,\"#7201a8\"],[0.3333333333333333,\"#9c179e\"],[0.4444444444444444,\"#bd3786\"],[0.5555555555555556,\"#d8576b\"],[0.6666666666666666,\"#ed7953\"],[0.7777777777777778,\"#fb9f3a\"],[0.8888888888888888,\"#fdca26\"],[1.0,\"#f0f921\"]]}],\"mesh3d\":[{\"type\":\"mesh3d\",\"colorbar\":{\"outlinewidth\":0,\"ticks\":\"\"}}],\"scatter\":[{\"fillpattern\":{\"fillmode\":\"overlay\",\"size\":10,\"solidity\":0.2},\"type\":\"scatter\"}],\"parcoords\":[{\"type\":\"parcoords\",\"line\":{\"colorbar\":{\"outlinewidth\":0,\"ticks\":\"\"}}}],\"scatterpolargl\":[{\"type\":\"scatterpolargl\",\"marker\":{\"colorbar\":{\"outlinewidth\":0,\"ticks\":\"\"}}}],\"bar\":[{\"error_x\":{\"color\":\"#2a3f5f\"},\"error_y\":{\"color\":\"#2a3f5f\"},\"marker\":{\"line\":{\"color\":\"#E5ECF6\",\"width\":0.5},\"pattern\":{\"fillmode\":\"overlay\",\"size\":10,\"solidity\":0.2}},\"type\":\"bar\"}],\"scattergeo\":[{\"type\":\"scattergeo\",\"marker\":{\"colorbar\":{\"outlinewidth\":0,\"ticks\":\"\"}}}],\"scatterpolar\":[{\"type\":\"scatterpolar\",\"marker\":{\"colorbar\":{\"outlinewidth\":0,\"ticks\":\"\"}}}],\"histogram\":[{\"marker\":{\"pattern\":{\"fillmode\":\"overlay\",\"size\":10,\"solidity\":0.2}},\"type\":\"histogram\"}],\"scattergl\":[{\"type\":\"scattergl\",\"marker\":{\"colorbar\":{\"outlinewidth\":0,\"ticks\":\"\"}}}],\"scatter3d\":[{\"type\":\"scatter3d\",\"line\":{\"colorbar\":{\"outlinewidth\":0,\"ticks\":\"\"}},\"marker\":{\"colorbar\":{\"outlinewidth\":0,\"ticks\":\"\"}}}],\"scattermapbox\":[{\"type\":\"scattermapbox\",\"marker\":{\"colorbar\":{\"outlinewidth\":0,\"ticks\":\"\"}}}],\"scatterternary\":[{\"type\":\"scatterternary\",\"marker\":{\"colorbar\":{\"outlinewidth\":0,\"ticks\":\"\"}}}],\"scattercarpet\":[{\"type\":\"scattercarpet\",\"marker\":{\"colorbar\":{\"outlinewidth\":0,\"ticks\":\"\"}}}],\"carpet\":[{\"aaxis\":{\"endlinecolor\":\"#2a3f5f\",\"gridcolor\":\"white\",\"linecolor\":\"white\",\"minorgridcolor\":\"white\",\"startlinecolor\":\"#2a3f5f\"},\"baxis\":{\"endlinecolor\":\"#2a3f5f\",\"gridcolor\":\"white\",\"linecolor\":\"white\",\"minorgridcolor\":\"white\",\"startlinecolor\":\"#2a3f5f\"},\"type\":\"carpet\"}],\"table\":[{\"cells\":{\"fill\":{\"color\":\"#EBF0F8\"},\"line\":{\"color\":\"white\"}},\"header\":{\"fill\":{\"color\":\"#C8D4E3\"},\"line\":{\"color\":\"white\"}},\"type\":\"table\"}],\"barpolar\":[{\"marker\":{\"line\":{\"color\":\"#E5ECF6\",\"width\":0.5},\"pattern\":{\"fillmode\":\"overlay\",\"size\":10,\"solidity\":0.2}},\"type\":\"barpolar\"}],\"pie\":[{\"automargin\":true,\"type\":\"pie\"}]},\"layout\":{\"autotypenumbers\":\"strict\",\"colorway\":[\"#636efa\",\"#EF553B\",\"#00cc96\",\"#ab63fa\",\"#FFA15A\",\"#19d3f3\",\"#FF6692\",\"#B6E880\",\"#FF97FF\",\"#FECB52\"],\"font\":{\"color\":\"#2a3f5f\"},\"hovermode\":\"closest\",\"hoverlabel\":{\"align\":\"left\"},\"paper_bgcolor\":\"white\",\"plot_bgcolor\":\"#E5ECF6\",\"polar\":{\"bgcolor\":\"#E5ECF6\",\"angularaxis\":{\"gridcolor\":\"white\",\"linecolor\":\"white\",\"ticks\":\"\"},\"radialaxis\":{\"gridcolor\":\"white\",\"linecolor\":\"white\",\"ticks\":\"\"}},\"ternary\":{\"bgcolor\":\"#E5ECF6\",\"aaxis\":{\"gridcolor\":\"white\",\"linecolor\":\"white\",\"ticks\":\"\"},\"baxis\":{\"gridcolor\":\"white\",\"linecolor\":\"white\",\"ticks\":\"\"},\"caxis\":{\"gridcolor\":\"white\",\"linecolor\":\"white\",\"ticks\":\"\"}},\"coloraxis\":{\"colorbar\":{\"outlinewidth\":0,\"ticks\":\"\"}},\"colorscale\":{\"sequential\":[[0.0,\"#0d0887\"],[0.1111111111111111,\"#46039f\"],[0.2222222222222222,\"#7201a8\"],[0.3333333333333333,\"#9c179e\"],[0.4444444444444444,\"#bd3786\"],[0.5555555555555556,\"#d8576b\"],[0.6666666666666666,\"#ed7953\"],[0.7777777777777778,\"#fb9f3a\"],[0.8888888888888888,\"#fdca26\"],[1.0,\"#f0f921\"]],\"sequentialminus\":[[0.0,\"#0d0887\"],[0.1111111111111111,\"#46039f\"],[0.2222222222222222,\"#7201a8\"],[0.3333333333333333,\"#9c179e\"],[0.4444444444444444,\"#bd3786\"],[0.5555555555555556,\"#d8576b\"],[0.6666666666666666,\"#ed7953\"],[0.7777777777777778,\"#fb9f3a\"],[0.8888888888888888,\"#fdca26\"],[1.0,\"#f0f921\"]],\"diverging\":[[0,\"#8e0152\"],[0.1,\"#c51b7d\"],[0.2,\"#de77ae\"],[0.3,\"#f1b6da\"],[0.4,\"#fde0ef\"],[0.5,\"#f7f7f7\"],[0.6,\"#e6f5d0\"],[0.7,\"#b8e186\"],[0.8,\"#7fbc41\"],[0.9,\"#4d9221\"],[1,\"#276419\"]]},\"xaxis\":{\"gridcolor\":\"white\",\"linecolor\":\"white\",\"ticks\":\"\",\"title\":{\"standoff\":15},\"zerolinecolor\":\"white\",\"automargin\":true,\"zerolinewidth\":2},\"yaxis\":{\"gridcolor\":\"white\",\"linecolor\":\"white\",\"ticks\":\"\",\"title\":{\"standoff\":15},\"zerolinecolor\":\"white\",\"automargin\":true,\"zerolinewidth\":2},\"scene\":{\"xaxis\":{\"backgroundcolor\":\"#E5ECF6\",\"gridcolor\":\"white\",\"linecolor\":\"white\",\"showbackground\":true,\"ticks\":\"\",\"zerolinecolor\":\"white\",\"gridwidth\":2},\"yaxis\":{\"backgroundcolor\":\"#E5ECF6\",\"gridcolor\":\"white\",\"linecolor\":\"white\",\"showbackground\":true,\"ticks\":\"\",\"zerolinecolor\":\"white\",\"gridwidth\":2},\"zaxis\":{\"backgroundcolor\":\"#E5ECF6\",\"gridcolor\":\"white\",\"linecolor\":\"white\",\"showbackground\":true,\"ticks\":\"\",\"zerolinecolor\":\"white\",\"gridwidth\":2}},\"shapedefaults\":{\"line\":{\"color\":\"#2a3f5f\"}},\"annotationdefaults\":{\"arrowcolor\":\"#2a3f5f\",\"arrowhead\":0,\"arrowwidth\":1},\"geo\":{\"bgcolor\":\"white\",\"landcolor\":\"#E5ECF6\",\"subunitcolor\":\"white\",\"showland\":true,\"showlakes\":true,\"lakecolor\":\"white\"},\"title\":{\"x\":0.05},\"mapbox\":{\"style\":\"light\"}}},\"xaxis\":{\"anchor\":\"y\",\"domain\":[0.0,1.0],\"title\":{\"text\":\"variable\"}},\"yaxis\":{\"anchor\":\"x\",\"domain\":[0.0,1.0],\"title\":{\"text\":\"value\"}},\"legend\":{\"tracegroupgap\":0},\"title\":{\"text\":\"Box Plots for Numerical Columns\"},\"boxmode\":\"group\"},                        {\"responsive\": true}                    ).then(function(){\n",
       "                            \n",
       "var gd = document.getElementById('201d3a16-5917-4b99-aefe-580355a52105');\n",
       "var x = new MutationObserver(function (mutations, observer) {{\n",
       "        var display = window.getComputedStyle(gd).display;\n",
       "        if (!display || display === 'none') {{\n",
       "            console.log([gd, 'removed!']);\n",
       "            Plotly.purge(gd);\n",
       "            observer.disconnect();\n",
       "        }}\n",
       "}});\n",
       "\n",
       "// Listen for the removal of the full notebook cells\n",
       "var notebookContainer = gd.closest('#notebook-container');\n",
       "if (notebookContainer) {{\n",
       "    x.observe(notebookContainer, {childList: true});\n",
       "}}\n",
       "\n",
       "// Listen for the clearing of the current output cell\n",
       "var outputEl = gd.closest('.output');\n",
       "if (outputEl) {{\n",
       "    x.observe(outputEl, {childList: true});\n",
       "}}\n",
       "\n",
       "                        })                };                });            </script>        </div>"
      ]
     },
     "metadata": {},
     "output_type": "display_data"
    }
   ],
   "source": [
    "px.box(numerical_df, title=\"Box Plots for Numerical Columns\")"
   ]
  },
  {
   "cell_type": "markdown",
   "id": "db3e1fb8",
   "metadata": {},
   "source": [
    "This is not very clear. Need to make subplots"
   ]
  },
  {
   "cell_type": "code",
   "execution_count": 41,
   "id": "944333de",
   "metadata": {},
   "outputs": [],
   "source": [
    "from plotly.subplots import make_subplots"
   ]
  },
  {
   "cell_type": "code",
   "execution_count": 42,
   "id": "1fe4ffce",
   "metadata": {},
   "outputs": [],
   "source": [
    "fig = make_subplots(rows = len(numerical_df), cols = 1)"
   ]
  },
  {
   "cell_type": "code",
   "execution_count": 43,
   "id": "6aff4494",
   "metadata": {},
   "outputs": [],
   "source": [
    "for i, col in enumerate(numerical_df, start=1):\n",
    "    fig.add_trace(px.box(numerical_df, y=col).data[0], row=i, col=1)\n",
    "    fig.update_yaxes(title_text=col, row=i, col=1)"
   ]
  },
  {
   "cell_type": "code",
   "execution_count": 44,
   "id": "479f9b5c",
   "metadata": {},
   "outputs": [
    {
     "data": {
      "application/vnd.plotly.v1+json": {
       "config": {
        "plotlyServerURL": "https://plot.ly"
       },
       "data": [
        {
         "alignmentgroup": "True",
         "hovertemplate": "energy=%{y}<extra></extra>",
         "legendgroup": "",
         "marker": {
          "color": "#636efa"
         },
         "name": "",
         "notched": false,
         "offsetgroup": "",
         "orientation": "v",
         "showlegend": false,
         "type": "box",
         "x0": " ",
         "xaxis": "x",
         "y": [
          0.73,
          0.593,
          0.586,
          0.721,
          0.793,
          0.69,
          0.816,
          0.431,
          0.43,
          0.405,
          0.715,
          0.601,
          0.762,
          0.554,
          0.546,
          0.49,
          0.575,
          0.673,
          0.32,
          0.574,
          0.481,
          0.771,
          0.72,
          0.722,
          0.225,
          0.548,
          0.425,
          0.454,
          0.525,
          0.745,
          0.506,
          0.729,
          0.765,
          0.631,
          0.774,
          0.855,
          0.427,
          0.522,
          0.727,
          0.751,
          0.728,
          0.704,
          0.537,
          0.829,
          0.296,
          0.566,
          0.45,
          0.473,
          0.844,
          0.73
         ],
         "y0": " ",
         "yaxis": "y"
        },
        {
         "alignmentgroup": "True",
         "hovertemplate": "danceability=%{y}<extra></extra>",
         "legendgroup": "",
         "marker": {
          "color": "#636efa"
         },
         "name": "",
         "notched": false,
         "offsetgroup": "",
         "orientation": "v",
         "showlegend": false,
         "type": "box",
         "x0": " ",
         "xaxis": "x2",
         "y": [
          0.514,
          0.825,
          0.896,
          0.785,
          0.793,
          0.746,
          0.548,
          0.726,
          0.784,
          0.501,
          0.803,
          0.621,
          0.695,
          0.774,
          0.806,
          0.83,
          0.459,
          0.787,
          0.764,
          0.795,
          0.767,
          0.676,
          0.789,
          0.7,
          0.704,
          0.759,
          0.701,
          0.935,
          0.878,
          0.808,
          0.676,
          0.73,
          0.746,
          0.862,
          0.674,
          0.672,
          0.598,
          0.755,
          0.783,
          0.88,
          0.841,
          0.723,
          0.716,
          0.607,
          0.351,
          0.511,
          0.597,
          0.464,
          0.647,
          0.834
         ],
         "y0": " ",
         "yaxis": "y2"
        },
        {
         "alignmentgroup": "True",
         "hovertemplate": "key=%{y}<extra></extra>",
         "legendgroup": "",
         "marker": {
          "color": "#636efa"
         },
         "name": "",
         "notched": false,
         "offsetgroup": "",
         "orientation": "v",
         "showlegend": false,
         "type": "box",
         "x0": " ",
         "xaxis": "x3",
         "y": [
          1,
          6,
          10,
          8,
          11,
          11,
          0,
          8,
          10,
          1,
          2,
          6,
          0,
          0,
          9,
          1,
          3,
          11,
          11,
          2,
          0,
          8,
          8,
          7,
          6,
          9,
          7,
          1,
          5,
          10,
          9,
          4,
          6,
          7,
          11,
          9,
          7,
          2,
          6,
          7,
          7,
          10,
          0,
          2,
          4,
          6,
          8,
          1,
          0,
          8
         ],
         "y0": " ",
         "yaxis": "y3"
        },
        {
         "alignmentgroup": "True",
         "hovertemplate": "loudness=%{y}<extra></extra>",
         "legendgroup": "",
         "marker": {
          "color": "#636efa"
         },
         "name": "",
         "notched": false,
         "offsetgroup": "",
         "orientation": "v",
         "showlegend": false,
         "type": "box",
         "x0": " ",
         "xaxis": "x4",
         "y": [
          -5.934,
          -6.401,
          -6.687,
          -5.457,
          -4.521,
          -7.956,
          -4.209,
          -8.765,
          -8.756,
          -5.679,
          -3.28,
          -5.616,
          -3.497,
          -7.909,
          -6.637,
          -8.82,
          -4.858,
          -4.577,
          -7.209,
          -6.903,
          -8.52,
          -3.675,
          -5.652,
          -3.558,
          -14.454,
          -6.049,
          -10.965,
          -7.509,
          -6.832,
          -5.26,
          -6.652,
          -3.434,
          -4.41,
          -4.746,
          -7.567,
          -3.764,
          -8.764,
          -4.368,
          -3.454,
          -4.258,
          -3.37,
          -7.088,
          -7.648,
          -4.074,
          -10.109,
          -7.23,
          -6.658,
          -10.086,
          -3.756,
          -3.714
         ],
         "y0": " ",
         "yaxis": "y4"
        },
        {
         "alignmentgroup": "True",
         "hovertemplate": "acousticness=%{y}<extra></extra>",
         "legendgroup": "",
         "marker": {
          "color": "#636efa"
         },
         "name": "",
         "notched": false,
         "offsetgroup": "",
         "orientation": "v",
         "showlegend": false,
         "type": "box",
         "x0": " ",
         "xaxis": "x5",
         "y": [
          0.00146,
          0.688,
          0.104,
          0.0149,
          0.0123,
          0.247,
          0.122,
          0.731,
          0.123,
          0.751,
          0.295,
          0.0522,
          0.192,
          0.207,
          0.3,
          0.289,
          0.604,
          0.256,
          0.837,
          0.067,
          0.234,
          0.0237,
          0.223,
          0.221,
          0.902,
          0.0392,
          0.328,
          0.0194,
          0.183,
          0.145,
          0.345,
          0.167,
          0.0112,
          0.291,
          0.0686,
          0.021,
          0.0546,
          0.533,
          0.185,
          0.177,
          0.0847,
          0.0259,
          0.233,
          0.0103,
          0.934,
          0.349,
          0.223,
          0.866,
          0.0137,
          0.00513
         ],
         "y0": " ",
         "yaxis": "y5"
        },
        {
         "alignmentgroup": "True",
         "hovertemplate": "speechiness=%{y}<extra></extra>",
         "legendgroup": "",
         "marker": {
          "color": "#636efa"
         },
         "name": "",
         "notched": false,
         "offsetgroup": "",
         "orientation": "v",
         "showlegend": false,
         "type": "box",
         "x0": " ",
         "xaxis": "x6",
         "y": [
          0.0598,
          0.0988,
          0.0559,
          0.0506,
          0.083,
          0.164,
          0.0465,
          0.135,
          0.0364,
          0.0319,
          0.298,
          0.148,
          0.0395,
          0.0383,
          0.0575,
          0.209,
          0.0573,
          0.158,
          0.0546,
          0.487,
          0.0803,
          0.0483,
          0.218,
          0.0369,
          0.0994,
          0.029,
          0.375,
          0.375,
          0.0578,
          0.342,
          0.0958,
          0.0883,
          0.0993,
          0.0515,
          0.0892,
          0.0397,
          0.0317,
          0.0575,
          0.389,
          0.0874,
          0.0484,
          0.0571,
          0.0514,
          0.379,
          0.0333,
          0.2,
          0.0418,
          0.129,
          0.0457,
          0.222
         ],
         "y0": " ",
         "yaxis": "y6"
        },
        {
         "alignmentgroup": "True",
         "hovertemplate": "instrumentalness=%{y}<extra></extra>",
         "legendgroup": "",
         "marker": {
          "color": "#636efa"
         },
         "name": "",
         "notched": false,
         "offsetgroup": "",
         "orientation": "v",
         "showlegend": false,
         "type": "box",
         "x0": " ",
         "xaxis": "x7",
         "y": [
          9.54e-05,
          0.000161,
          0,
          0.00432,
          0,
          0,
          0,
          0,
          0,
          0,
          0.000134,
          0,
          0.00244,
          0,
          0,
          3.04e-06,
          0,
          3.57e-06,
          0,
          0,
          0,
          7e-06,
          0,
          0,
          0.657,
          0,
          0.13,
          0,
          0,
          0,
          0,
          1.39e-06,
          0,
          0.000209,
          0.00188,
          0,
          5.83e-06,
          0,
          2.46e-05,
          6.43e-05,
          0,
          0.00109,
          0,
          0,
          0,
          0,
          0,
          0,
          0.000658,
          0
         ],
         "y0": " ",
         "yaxis": "y7"
        },
        {
         "alignmentgroup": "True",
         "hovertemplate": "liveness=%{y}<extra></extra>",
         "legendgroup": "",
         "marker": {
          "color": "#636efa"
         },
         "name": "",
         "notched": false,
         "offsetgroup": "",
         "orientation": "v",
         "showlegend": false,
         "type": "box",
         "x0": " ",
         "xaxis": "x8",
         "y": [
          0.0897,
          0.17,
          0.79,
          0.285,
          0.0951,
          0.101,
          0.335,
          0.696,
          0.0887,
          0.105,
          0.0574,
          0.46,
          0.0863,
          0.132,
          0.102,
          0.113,
          0.0885,
          0.0904,
          0.0822,
          0.15,
          0.269,
          0.102,
          0.129,
          0.272,
          0.106,
          0.0828,
          0.1,
          0.0824,
          0.0714,
          0.292,
          0.118,
          0.349,
          0.0936,
          0.123,
          0.393,
          0.323,
          0.21,
          0.0685,
          0.0626,
          0.106,
          0.149,
          0.792,
          0.157,
          0.107,
          0.095,
          0.34,
          0.382,
          0.109,
          0.102,
          0.124
         ],
         "y0": " ",
         "yaxis": "y8"
        },
        {
         "alignmentgroup": "True",
         "hovertemplate": "valence=%{y}<extra></extra>",
         "legendgroup": "",
         "marker": {
          "color": "#636efa"
         },
         "name": "",
         "notched": false,
         "offsetgroup": "",
         "orientation": "v",
         "showlegend": false,
         "type": "box",
         "x0": " ",
         "xaxis": "x9",
         "y": [
          0.334,
          0.54,
          0.642,
          0.894,
          0.679,
          0.497,
          0.557,
          0.348,
          0.236,
          0.446,
          0.574,
          0.457,
          0.553,
          0.349,
          0.874,
          0.845,
          0.183,
          0.786,
          0.575,
          0.537,
          0.761,
          0.569,
          0.664,
          0.756,
          0.243,
          0.749,
          0.562,
          0.357,
          0.694,
          0.829,
          0.497,
          0.467,
          0.737,
          0.841,
          0.33,
          0.646,
          0.0605,
          0.925,
          0.558,
          0.884,
          0.43,
          0.684,
          0.28,
          0.685,
          0.12,
          0.218,
          0.537,
          0.604,
          0.746,
          0.446
         ],
         "y0": " ",
         "yaxis": "y9"
        },
        {
         "alignmentgroup": "True",
         "hovertemplate": "tempo=%{y}<extra></extra>",
         "legendgroup": "",
         "marker": {
          "color": "#636efa"
         },
         "name": "",
         "notched": false,
         "offsetgroup": "",
         "orientation": "v",
         "showlegend": false,
         "type": "box",
         "x0": " ",
         "xaxis": "x10",
         "y": [
          171.005,
          98.078,
          116.971,
          121.962,
          123.95,
          89.977,
          95.39,
          144.026,
          127.087,
          109.891,
          101.085,
          116.735,
          120.042,
          99.034,
          147.986,
          81.604,
          111.881,
          110.962,
          91.019,
          142.053,
          150.076,
          99.048,
          122.031,
          90.989,
          120.006,
          116.967,
          135.128,
          133.073,
          112.022,
          165.995,
          145.842,
          113.013,
          114.044,
          128.978,
          112.05,
          123.056,
          76.469,
          89.96,
          180.067,
          117.948,
          130.049,
          105.095,
          129.979,
          96.172,
          115.284,
          83.903,
          178.765,
          75.801,
          146.967,
          155.008
         ],
         "y0": " ",
         "yaxis": "y10"
        },
        {
         "alignmentgroup": "True",
         "hovertemplate": "duration_ms=%{y}<extra></extra>",
         "legendgroup": "",
         "marker": {
          "color": "#636efa"
         },
         "name": "",
         "notched": false,
         "offsetgroup": "",
         "orientation": "v",
         "showlegend": false,
         "type": "box",
         "x0": " ",
         "xaxis": "x11",
         "y": [
          200040,
          209755,
          196653,
          176219,
          183290,
          181733,
          174000,
          173333,
          159382,
          182161,
          200960,
          163636,
          215280,
          162547,
          212867,
          247059,
          215107,
          237893,
          189486,
          237918,
          171375,
          207133,
          166794,
          140526,
          245426,
          190800,
          194088,
          187541,
          158571,
          210800,
          208520,
          221820,
          199054,
          223488,
          176547,
          182200,
          175721,
          157560,
          199112,
          157606,
          243837,
          214935,
          165978,
          295177,
          200186,
          239836,
          228482,
          208687,
          193829,
          312820
         ],
         "y0": " ",
         "yaxis": "y11"
        }
       ],
       "layout": {
        "height": 20000,
        "showlegend": false,
        "template": {
         "data": {
          "bar": [
           {
            "error_x": {
             "color": "#2a3f5f"
            },
            "error_y": {
             "color": "#2a3f5f"
            },
            "marker": {
             "line": {
              "color": "#E5ECF6",
              "width": 0.5
             },
             "pattern": {
              "fillmode": "overlay",
              "size": 10,
              "solidity": 0.2
             }
            },
            "type": "bar"
           }
          ],
          "barpolar": [
           {
            "marker": {
             "line": {
              "color": "#E5ECF6",
              "width": 0.5
             },
             "pattern": {
              "fillmode": "overlay",
              "size": 10,
              "solidity": 0.2
             }
            },
            "type": "barpolar"
           }
          ],
          "carpet": [
           {
            "aaxis": {
             "endlinecolor": "#2a3f5f",
             "gridcolor": "white",
             "linecolor": "white",
             "minorgridcolor": "white",
             "startlinecolor": "#2a3f5f"
            },
            "baxis": {
             "endlinecolor": "#2a3f5f",
             "gridcolor": "white",
             "linecolor": "white",
             "minorgridcolor": "white",
             "startlinecolor": "#2a3f5f"
            },
            "type": "carpet"
           }
          ],
          "choropleth": [
           {
            "colorbar": {
             "outlinewidth": 0,
             "ticks": ""
            },
            "type": "choropleth"
           }
          ],
          "contour": [
           {
            "colorbar": {
             "outlinewidth": 0,
             "ticks": ""
            },
            "colorscale": [
             [
              0,
              "#0d0887"
             ],
             [
              0.1111111111111111,
              "#46039f"
             ],
             [
              0.2222222222222222,
              "#7201a8"
             ],
             [
              0.3333333333333333,
              "#9c179e"
             ],
             [
              0.4444444444444444,
              "#bd3786"
             ],
             [
              0.5555555555555556,
              "#d8576b"
             ],
             [
              0.6666666666666666,
              "#ed7953"
             ],
             [
              0.7777777777777778,
              "#fb9f3a"
             ],
             [
              0.8888888888888888,
              "#fdca26"
             ],
             [
              1,
              "#f0f921"
             ]
            ],
            "type": "contour"
           }
          ],
          "contourcarpet": [
           {
            "colorbar": {
             "outlinewidth": 0,
             "ticks": ""
            },
            "type": "contourcarpet"
           }
          ],
          "heatmap": [
           {
            "colorbar": {
             "outlinewidth": 0,
             "ticks": ""
            },
            "colorscale": [
             [
              0,
              "#0d0887"
             ],
             [
              0.1111111111111111,
              "#46039f"
             ],
             [
              0.2222222222222222,
              "#7201a8"
             ],
             [
              0.3333333333333333,
              "#9c179e"
             ],
             [
              0.4444444444444444,
              "#bd3786"
             ],
             [
              0.5555555555555556,
              "#d8576b"
             ],
             [
              0.6666666666666666,
              "#ed7953"
             ],
             [
              0.7777777777777778,
              "#fb9f3a"
             ],
             [
              0.8888888888888888,
              "#fdca26"
             ],
             [
              1,
              "#f0f921"
             ]
            ],
            "type": "heatmap"
           }
          ],
          "heatmapgl": [
           {
            "colorbar": {
             "outlinewidth": 0,
             "ticks": ""
            },
            "colorscale": [
             [
              0,
              "#0d0887"
             ],
             [
              0.1111111111111111,
              "#46039f"
             ],
             [
              0.2222222222222222,
              "#7201a8"
             ],
             [
              0.3333333333333333,
              "#9c179e"
             ],
             [
              0.4444444444444444,
              "#bd3786"
             ],
             [
              0.5555555555555556,
              "#d8576b"
             ],
             [
              0.6666666666666666,
              "#ed7953"
             ],
             [
              0.7777777777777778,
              "#fb9f3a"
             ],
             [
              0.8888888888888888,
              "#fdca26"
             ],
             [
              1,
              "#f0f921"
             ]
            ],
            "type": "heatmapgl"
           }
          ],
          "histogram": [
           {
            "marker": {
             "pattern": {
              "fillmode": "overlay",
              "size": 10,
              "solidity": 0.2
             }
            },
            "type": "histogram"
           }
          ],
          "histogram2d": [
           {
            "colorbar": {
             "outlinewidth": 0,
             "ticks": ""
            },
            "colorscale": [
             [
              0,
              "#0d0887"
             ],
             [
              0.1111111111111111,
              "#46039f"
             ],
             [
              0.2222222222222222,
              "#7201a8"
             ],
             [
              0.3333333333333333,
              "#9c179e"
             ],
             [
              0.4444444444444444,
              "#bd3786"
             ],
             [
              0.5555555555555556,
              "#d8576b"
             ],
             [
              0.6666666666666666,
              "#ed7953"
             ],
             [
              0.7777777777777778,
              "#fb9f3a"
             ],
             [
              0.8888888888888888,
              "#fdca26"
             ],
             [
              1,
              "#f0f921"
             ]
            ],
            "type": "histogram2d"
           }
          ],
          "histogram2dcontour": [
           {
            "colorbar": {
             "outlinewidth": 0,
             "ticks": ""
            },
            "colorscale": [
             [
              0,
              "#0d0887"
             ],
             [
              0.1111111111111111,
              "#46039f"
             ],
             [
              0.2222222222222222,
              "#7201a8"
             ],
             [
              0.3333333333333333,
              "#9c179e"
             ],
             [
              0.4444444444444444,
              "#bd3786"
             ],
             [
              0.5555555555555556,
              "#d8576b"
             ],
             [
              0.6666666666666666,
              "#ed7953"
             ],
             [
              0.7777777777777778,
              "#fb9f3a"
             ],
             [
              0.8888888888888888,
              "#fdca26"
             ],
             [
              1,
              "#f0f921"
             ]
            ],
            "type": "histogram2dcontour"
           }
          ],
          "mesh3d": [
           {
            "colorbar": {
             "outlinewidth": 0,
             "ticks": ""
            },
            "type": "mesh3d"
           }
          ],
          "parcoords": [
           {
            "line": {
             "colorbar": {
              "outlinewidth": 0,
              "ticks": ""
             }
            },
            "type": "parcoords"
           }
          ],
          "pie": [
           {
            "automargin": true,
            "type": "pie"
           }
          ],
          "scatter": [
           {
            "fillpattern": {
             "fillmode": "overlay",
             "size": 10,
             "solidity": 0.2
            },
            "type": "scatter"
           }
          ],
          "scatter3d": [
           {
            "line": {
             "colorbar": {
              "outlinewidth": 0,
              "ticks": ""
             }
            },
            "marker": {
             "colorbar": {
              "outlinewidth": 0,
              "ticks": ""
             }
            },
            "type": "scatter3d"
           }
          ],
          "scattercarpet": [
           {
            "marker": {
             "colorbar": {
              "outlinewidth": 0,
              "ticks": ""
             }
            },
            "type": "scattercarpet"
           }
          ],
          "scattergeo": [
           {
            "marker": {
             "colorbar": {
              "outlinewidth": 0,
              "ticks": ""
             }
            },
            "type": "scattergeo"
           }
          ],
          "scattergl": [
           {
            "marker": {
             "colorbar": {
              "outlinewidth": 0,
              "ticks": ""
             }
            },
            "type": "scattergl"
           }
          ],
          "scattermapbox": [
           {
            "marker": {
             "colorbar": {
              "outlinewidth": 0,
              "ticks": ""
             }
            },
            "type": "scattermapbox"
           }
          ],
          "scatterpolar": [
           {
            "marker": {
             "colorbar": {
              "outlinewidth": 0,
              "ticks": ""
             }
            },
            "type": "scatterpolar"
           }
          ],
          "scatterpolargl": [
           {
            "marker": {
             "colorbar": {
              "outlinewidth": 0,
              "ticks": ""
             }
            },
            "type": "scatterpolargl"
           }
          ],
          "scatterternary": [
           {
            "marker": {
             "colorbar": {
              "outlinewidth": 0,
              "ticks": ""
             }
            },
            "type": "scatterternary"
           }
          ],
          "surface": [
           {
            "colorbar": {
             "outlinewidth": 0,
             "ticks": ""
            },
            "colorscale": [
             [
              0,
              "#0d0887"
             ],
             [
              0.1111111111111111,
              "#46039f"
             ],
             [
              0.2222222222222222,
              "#7201a8"
             ],
             [
              0.3333333333333333,
              "#9c179e"
             ],
             [
              0.4444444444444444,
              "#bd3786"
             ],
             [
              0.5555555555555556,
              "#d8576b"
             ],
             [
              0.6666666666666666,
              "#ed7953"
             ],
             [
              0.7777777777777778,
              "#fb9f3a"
             ],
             [
              0.8888888888888888,
              "#fdca26"
             ],
             [
              1,
              "#f0f921"
             ]
            ],
            "type": "surface"
           }
          ],
          "table": [
           {
            "cells": {
             "fill": {
              "color": "#EBF0F8"
             },
             "line": {
              "color": "white"
             }
            },
            "header": {
             "fill": {
              "color": "#C8D4E3"
             },
             "line": {
              "color": "white"
             }
            },
            "type": "table"
           }
          ]
         },
         "layout": {
          "annotationdefaults": {
           "arrowcolor": "#2a3f5f",
           "arrowhead": 0,
           "arrowwidth": 1
          },
          "autotypenumbers": "strict",
          "coloraxis": {
           "colorbar": {
            "outlinewidth": 0,
            "ticks": ""
           }
          },
          "colorscale": {
           "diverging": [
            [
             0,
             "#8e0152"
            ],
            [
             0.1,
             "#c51b7d"
            ],
            [
             0.2,
             "#de77ae"
            ],
            [
             0.3,
             "#f1b6da"
            ],
            [
             0.4,
             "#fde0ef"
            ],
            [
             0.5,
             "#f7f7f7"
            ],
            [
             0.6,
             "#e6f5d0"
            ],
            [
             0.7,
             "#b8e186"
            ],
            [
             0.8,
             "#7fbc41"
            ],
            [
             0.9,
             "#4d9221"
            ],
            [
             1,
             "#276419"
            ]
           ],
           "sequential": [
            [
             0,
             "#0d0887"
            ],
            [
             0.1111111111111111,
             "#46039f"
            ],
            [
             0.2222222222222222,
             "#7201a8"
            ],
            [
             0.3333333333333333,
             "#9c179e"
            ],
            [
             0.4444444444444444,
             "#bd3786"
            ],
            [
             0.5555555555555556,
             "#d8576b"
            ],
            [
             0.6666666666666666,
             "#ed7953"
            ],
            [
             0.7777777777777778,
             "#fb9f3a"
            ],
            [
             0.8888888888888888,
             "#fdca26"
            ],
            [
             1,
             "#f0f921"
            ]
           ],
           "sequentialminus": [
            [
             0,
             "#0d0887"
            ],
            [
             0.1111111111111111,
             "#46039f"
            ],
            [
             0.2222222222222222,
             "#7201a8"
            ],
            [
             0.3333333333333333,
             "#9c179e"
            ],
            [
             0.4444444444444444,
             "#bd3786"
            ],
            [
             0.5555555555555556,
             "#d8576b"
            ],
            [
             0.6666666666666666,
             "#ed7953"
            ],
            [
             0.7777777777777778,
             "#fb9f3a"
            ],
            [
             0.8888888888888888,
             "#fdca26"
            ],
            [
             1,
             "#f0f921"
            ]
           ]
          },
          "colorway": [
           "#636efa",
           "#EF553B",
           "#00cc96",
           "#ab63fa",
           "#FFA15A",
           "#19d3f3",
           "#FF6692",
           "#B6E880",
           "#FF97FF",
           "#FECB52"
          ],
          "font": {
           "color": "#2a3f5f"
          },
          "geo": {
           "bgcolor": "white",
           "lakecolor": "white",
           "landcolor": "#E5ECF6",
           "showlakes": true,
           "showland": true,
           "subunitcolor": "white"
          },
          "hoverlabel": {
           "align": "left"
          },
          "hovermode": "closest",
          "mapbox": {
           "style": "light"
          },
          "paper_bgcolor": "white",
          "plot_bgcolor": "#E5ECF6",
          "polar": {
           "angularaxis": {
            "gridcolor": "white",
            "linecolor": "white",
            "ticks": ""
           },
           "bgcolor": "#E5ECF6",
           "radialaxis": {
            "gridcolor": "white",
            "linecolor": "white",
            "ticks": ""
           }
          },
          "scene": {
           "xaxis": {
            "backgroundcolor": "#E5ECF6",
            "gridcolor": "white",
            "gridwidth": 2,
            "linecolor": "white",
            "showbackground": true,
            "ticks": "",
            "zerolinecolor": "white"
           },
           "yaxis": {
            "backgroundcolor": "#E5ECF6",
            "gridcolor": "white",
            "gridwidth": 2,
            "linecolor": "white",
            "showbackground": true,
            "ticks": "",
            "zerolinecolor": "white"
           },
           "zaxis": {
            "backgroundcolor": "#E5ECF6",
            "gridcolor": "white",
            "gridwidth": 2,
            "linecolor": "white",
            "showbackground": true,
            "ticks": "",
            "zerolinecolor": "white"
           }
          },
          "shapedefaults": {
           "line": {
            "color": "#2a3f5f"
           }
          },
          "ternary": {
           "aaxis": {
            "gridcolor": "white",
            "linecolor": "white",
            "ticks": ""
           },
           "baxis": {
            "gridcolor": "white",
            "linecolor": "white",
            "ticks": ""
           },
           "bgcolor": "#E5ECF6",
           "caxis": {
            "gridcolor": "white",
            "linecolor": "white",
            "ticks": ""
           }
          },
          "title": {
           "x": 0.05
          },
          "xaxis": {
           "automargin": true,
           "gridcolor": "white",
           "linecolor": "white",
           "ticks": "",
           "title": {
            "standoff": 15
           },
           "zerolinecolor": "white",
           "zerolinewidth": 2
          },
          "yaxis": {
           "automargin": true,
           "gridcolor": "white",
           "linecolor": "white",
           "ticks": "",
           "title": {
            "standoff": 15
           },
           "zerolinecolor": "white",
           "zerolinewidth": 2
          }
         }
        },
        "title": {
         "text": "Box Plots for Numerical Columns"
        },
        "xaxis": {
         "anchor": "y",
         "domain": [
          0,
          1
         ]
        },
        "xaxis10": {
         "anchor": "y10",
         "domain": [
          0,
          1
         ]
        },
        "xaxis11": {
         "anchor": "y11",
         "domain": [
          0,
          1
         ]
        },
        "xaxis12": {
         "anchor": "y12",
         "domain": [
          0,
          1
         ]
        },
        "xaxis13": {
         "anchor": "y13",
         "domain": [
          0,
          1
         ]
        },
        "xaxis14": {
         "anchor": "y14",
         "domain": [
          0,
          1
         ]
        },
        "xaxis15": {
         "anchor": "y15",
         "domain": [
          0,
          1
         ]
        },
        "xaxis16": {
         "anchor": "y16",
         "domain": [
          0,
          1
         ]
        },
        "xaxis17": {
         "anchor": "y17",
         "domain": [
          0,
          1
         ]
        },
        "xaxis18": {
         "anchor": "y18",
         "domain": [
          0,
          1
         ]
        },
        "xaxis19": {
         "anchor": "y19",
         "domain": [
          0,
          1
         ]
        },
        "xaxis2": {
         "anchor": "y2",
         "domain": [
          0,
          1
         ]
        },
        "xaxis20": {
         "anchor": "y20",
         "domain": [
          0,
          1
         ]
        },
        "xaxis21": {
         "anchor": "y21",
         "domain": [
          0,
          1
         ]
        },
        "xaxis22": {
         "anchor": "y22",
         "domain": [
          0,
          1
         ]
        },
        "xaxis23": {
         "anchor": "y23",
         "domain": [
          0,
          1
         ]
        },
        "xaxis24": {
         "anchor": "y24",
         "domain": [
          0,
          1
         ]
        },
        "xaxis25": {
         "anchor": "y25",
         "domain": [
          0,
          1
         ]
        },
        "xaxis26": {
         "anchor": "y26",
         "domain": [
          0,
          1
         ]
        },
        "xaxis27": {
         "anchor": "y27",
         "domain": [
          0,
          1
         ]
        },
        "xaxis28": {
         "anchor": "y28",
         "domain": [
          0,
          1
         ]
        },
        "xaxis29": {
         "anchor": "y29",
         "domain": [
          0,
          1
         ]
        },
        "xaxis3": {
         "anchor": "y3",
         "domain": [
          0,
          1
         ]
        },
        "xaxis30": {
         "anchor": "y30",
         "domain": [
          0,
          1
         ]
        },
        "xaxis31": {
         "anchor": "y31",
         "domain": [
          0,
          1
         ]
        },
        "xaxis32": {
         "anchor": "y32",
         "domain": [
          0,
          1
         ]
        },
        "xaxis33": {
         "anchor": "y33",
         "domain": [
          0,
          1
         ]
        },
        "xaxis34": {
         "anchor": "y34",
         "domain": [
          0,
          1
         ]
        },
        "xaxis35": {
         "anchor": "y35",
         "domain": [
          0,
          1
         ]
        },
        "xaxis36": {
         "anchor": "y36",
         "domain": [
          0,
          1
         ]
        },
        "xaxis37": {
         "anchor": "y37",
         "domain": [
          0,
          1
         ]
        },
        "xaxis38": {
         "anchor": "y38",
         "domain": [
          0,
          1
         ]
        },
        "xaxis39": {
         "anchor": "y39",
         "domain": [
          0,
          1
         ]
        },
        "xaxis4": {
         "anchor": "y4",
         "domain": [
          0,
          1
         ]
        },
        "xaxis40": {
         "anchor": "y40",
         "domain": [
          0,
          1
         ]
        },
        "xaxis41": {
         "anchor": "y41",
         "domain": [
          0,
          1
         ]
        },
        "xaxis42": {
         "anchor": "y42",
         "domain": [
          0,
          1
         ]
        },
        "xaxis43": {
         "anchor": "y43",
         "domain": [
          0,
          1
         ]
        },
        "xaxis44": {
         "anchor": "y44",
         "domain": [
          0,
          1
         ]
        },
        "xaxis45": {
         "anchor": "y45",
         "domain": [
          0,
          1
         ]
        },
        "xaxis46": {
         "anchor": "y46",
         "domain": [
          0,
          1
         ]
        },
        "xaxis47": {
         "anchor": "y47",
         "domain": [
          0,
          1
         ]
        },
        "xaxis48": {
         "anchor": "y48",
         "domain": [
          0,
          1
         ]
        },
        "xaxis49": {
         "anchor": "y49",
         "domain": [
          0,
          1
         ]
        },
        "xaxis5": {
         "anchor": "y5",
         "domain": [
          0,
          1
         ]
        },
        "xaxis50": {
         "anchor": "y50",
         "domain": [
          0,
          1
         ]
        },
        "xaxis6": {
         "anchor": "y6",
         "domain": [
          0,
          1
         ]
        },
        "xaxis7": {
         "anchor": "y7",
         "domain": [
          0,
          1
         ]
        },
        "xaxis8": {
         "anchor": "y8",
         "domain": [
          0,
          1
         ]
        },
        "xaxis9": {
         "anchor": "y9",
         "domain": [
          0,
          1
         ]
        },
        "yaxis": {
         "anchor": "x",
         "domain": [
          0.9858800000000005,
          1
         ],
         "title": {
          "text": "energy"
         }
        },
        "yaxis10": {
         "anchor": "x10",
         "domain": [
          0.8048000000000004,
          0.8189200000000004
         ],
         "title": {
          "text": "tempo"
         }
        },
        "yaxis11": {
         "anchor": "x11",
         "domain": [
          0.7846800000000004,
          0.7988000000000004
         ],
         "title": {
          "text": "duration_ms"
         }
        },
        "yaxis12": {
         "anchor": "x12",
         "domain": [
          0.7645600000000004,
          0.7786800000000004
         ]
        },
        "yaxis13": {
         "anchor": "x13",
         "domain": [
          0.7444400000000003,
          0.7585600000000003
         ]
        },
        "yaxis14": {
         "anchor": "x14",
         "domain": [
          0.7243200000000003,
          0.7384400000000003
         ]
        },
        "yaxis15": {
         "anchor": "x15",
         "domain": [
          0.7042000000000003,
          0.7183200000000003
         ]
        },
        "yaxis16": {
         "anchor": "x16",
         "domain": [
          0.6840800000000002,
          0.6982000000000003
         ]
        },
        "yaxis17": {
         "anchor": "x17",
         "domain": [
          0.6639600000000003,
          0.6780800000000003
         ]
        },
        "yaxis18": {
         "anchor": "x18",
         "domain": [
          0.6438400000000002,
          0.6579600000000002
         ]
        },
        "yaxis19": {
         "anchor": "x19",
         "domain": [
          0.6237200000000003,
          0.6378400000000003
         ]
        },
        "yaxis2": {
         "anchor": "x2",
         "domain": [
          0.9657600000000006,
          0.9798800000000006
         ],
         "title": {
          "text": "danceability"
         }
        },
        "yaxis20": {
         "anchor": "x20",
         "domain": [
          0.6036000000000001,
          0.6177200000000002
         ]
        },
        "yaxis21": {
         "anchor": "x21",
         "domain": [
          0.5834800000000002,
          0.5976000000000002
         ]
        },
        "yaxis22": {
         "anchor": "x22",
         "domain": [
          0.5633600000000002,
          0.5774800000000002
         ]
        },
        "yaxis23": {
         "anchor": "x23",
         "domain": [
          0.5432400000000002,
          0.5573600000000002
         ]
        },
        "yaxis24": {
         "anchor": "x24",
         "domain": [
          0.5231200000000001,
          0.5372400000000002
         ]
        },
        "yaxis25": {
         "anchor": "x25",
         "domain": [
          0.5030000000000001,
          0.5171200000000001
         ]
        },
        "yaxis26": {
         "anchor": "x26",
         "domain": [
          0.4828800000000001,
          0.4970000000000001
         ]
        },
        "yaxis27": {
         "anchor": "x27",
         "domain": [
          0.46276000000000006,
          0.4768800000000001
         ]
        },
        "yaxis28": {
         "anchor": "x28",
         "domain": [
          0.44264000000000003,
          0.45676000000000005
         ]
        },
        "yaxis29": {
         "anchor": "x29",
         "domain": [
          0.42252,
          0.43664000000000003
         ]
        },
        "yaxis3": {
         "anchor": "x3",
         "domain": [
          0.9456400000000006,
          0.9597600000000006
         ],
         "title": {
          "text": "key"
         }
        },
        "yaxis30": {
         "anchor": "x30",
         "domain": [
          0.4024,
          0.41652
         ]
        },
        "yaxis31": {
         "anchor": "x31",
         "domain": [
          0.38227999999999995,
          0.3964
         ]
        },
        "yaxis32": {
         "anchor": "x32",
         "domain": [
          0.3621599999999999,
          0.37627999999999995
         ]
        },
        "yaxis33": {
         "anchor": "x33",
         "domain": [
          0.3420399999999999,
          0.3561599999999999
         ]
        },
        "yaxis34": {
         "anchor": "x34",
         "domain": [
          0.32191999999999993,
          0.33603999999999995
         ]
        },
        "yaxis35": {
         "anchor": "x35",
         "domain": [
          0.30179999999999996,
          0.31592
         ]
        },
        "yaxis36": {
         "anchor": "x36",
         "domain": [
          0.28167999999999993,
          0.29579999999999995
         ]
        },
        "yaxis37": {
         "anchor": "x37",
         "domain": [
          0.26155999999999996,
          0.27568
         ]
        },
        "yaxis38": {
         "anchor": "x38",
         "domain": [
          0.24143999999999996,
          0.25555999999999995
         ]
        },
        "yaxis39": {
         "anchor": "x39",
         "domain": [
          0.22131999999999996,
          0.23543999999999995
         ]
        },
        "yaxis4": {
         "anchor": "x4",
         "domain": [
          0.9255200000000006,
          0.9396400000000006
         ],
         "title": {
          "text": "loudness"
         }
        },
        "yaxis40": {
         "anchor": "x40",
         "domain": [
          0.20119999999999996,
          0.21531999999999996
         ]
        },
        "yaxis41": {
         "anchor": "x41",
         "domain": [
          0.18107999999999996,
          0.19519999999999996
         ]
        },
        "yaxis42": {
         "anchor": "x42",
         "domain": [
          0.16096,
          0.17507999999999999
         ]
        },
        "yaxis43": {
         "anchor": "x43",
         "domain": [
          0.14084,
          0.15496
         ]
        },
        "yaxis44": {
         "anchor": "x44",
         "domain": [
          0.12072,
          0.13484
         ]
        },
        "yaxis45": {
         "anchor": "x45",
         "domain": [
          0.1006,
          0.11471999999999999
         ]
        },
        "yaxis46": {
         "anchor": "x46",
         "domain": [
          0.08048,
          0.09459999999999999
         ]
        },
        "yaxis47": {
         "anchor": "x47",
         "domain": [
          0.06036,
          0.07447999999999999
         ]
        },
        "yaxis48": {
         "anchor": "x48",
         "domain": [
          0.04024,
          0.05436
         ]
        },
        "yaxis49": {
         "anchor": "x49",
         "domain": [
          0.02012,
          0.03424
         ]
        },
        "yaxis5": {
         "anchor": "x5",
         "domain": [
          0.9054000000000005,
          0.9195200000000006
         ],
         "title": {
          "text": "acousticness"
         }
        },
        "yaxis50": {
         "anchor": "x50",
         "domain": [
          0,
          0.014119999999999999
         ]
        },
        "yaxis6": {
         "anchor": "x6",
         "domain": [
          0.8852800000000005,
          0.8994000000000005
         ],
         "title": {
          "text": "speechiness"
         }
        },
        "yaxis7": {
         "anchor": "x7",
         "domain": [
          0.8651600000000005,
          0.8792800000000005
         ],
         "title": {
          "text": "instrumentalness"
         }
        },
        "yaxis8": {
         "anchor": "x8",
         "domain": [
          0.8450400000000005,
          0.8591600000000005
         ],
         "title": {
          "text": "liveness"
         }
        },
        "yaxis9": {
         "anchor": "x9",
         "domain": [
          0.8249200000000004,
          0.8390400000000005
         ],
         "title": {
          "text": "valence"
         }
        }
       }
      },
      "text/html": [
       "<div>                            <div id=\"26f623ae-29ee-467f-8c3e-38313e006c3e\" class=\"plotly-graph-div\" style=\"height:20000px; width:100%;\"></div>            <script type=\"text/javascript\">                require([\"plotly\"], function(Plotly) {                    window.PLOTLYENV=window.PLOTLYENV || {};                                    if (document.getElementById(\"26f623ae-29ee-467f-8c3e-38313e006c3e\")) {                    Plotly.newPlot(                        \"26f623ae-29ee-467f-8c3e-38313e006c3e\",                        [{\"alignmentgroup\":\"True\",\"hovertemplate\":\"energy=%{y}<extra></extra>\",\"legendgroup\":\"\",\"marker\":{\"color\":\"#636efa\"},\"name\":\"\",\"notched\":false,\"offsetgroup\":\"\",\"orientation\":\"v\",\"showlegend\":false,\"x0\":\" \",\"xaxis\":\"x\",\"y\":[0.73,0.593,0.586,0.721,0.793,0.69,0.816,0.431,0.43,0.405,0.715,0.601,0.762,0.554,0.546,0.49,0.575,0.673,0.32,0.574,0.481,0.771,0.72,0.722,0.225,0.548,0.425,0.454,0.525,0.745,0.506,0.729,0.765,0.631,0.774,0.855,0.427,0.522,0.727,0.751,0.728,0.704,0.537,0.829,0.296,0.566,0.45,0.473,0.844,0.73],\"y0\":\" \",\"yaxis\":\"y\",\"type\":\"box\"},{\"alignmentgroup\":\"True\",\"hovertemplate\":\"danceability=%{y}<extra></extra>\",\"legendgroup\":\"\",\"marker\":{\"color\":\"#636efa\"},\"name\":\"\",\"notched\":false,\"offsetgroup\":\"\",\"orientation\":\"v\",\"showlegend\":false,\"x0\":\" \",\"xaxis\":\"x2\",\"y\":[0.514,0.825,0.896,0.785,0.793,0.746,0.548,0.726,0.784,0.501,0.803,0.621,0.695,0.774,0.806,0.83,0.459,0.787,0.764,0.795,0.767,0.676,0.789,0.7,0.704,0.759,0.701,0.935,0.878,0.808,0.676,0.73,0.746,0.862,0.674,0.672,0.598,0.755,0.783,0.88,0.841,0.723,0.716,0.607,0.351,0.511,0.597,0.464,0.647,0.834],\"y0\":\" \",\"yaxis\":\"y2\",\"type\":\"box\"},{\"alignmentgroup\":\"True\",\"hovertemplate\":\"key=%{y}<extra></extra>\",\"legendgroup\":\"\",\"marker\":{\"color\":\"#636efa\"},\"name\":\"\",\"notched\":false,\"offsetgroup\":\"\",\"orientation\":\"v\",\"showlegend\":false,\"x0\":\" \",\"xaxis\":\"x3\",\"y\":[1,6,10,8,11,11,0,8,10,1,2,6,0,0,9,1,3,11,11,2,0,8,8,7,6,9,7,1,5,10,9,4,6,7,11,9,7,2,6,7,7,10,0,2,4,6,8,1,0,8],\"y0\":\" \",\"yaxis\":\"y3\",\"type\":\"box\"},{\"alignmentgroup\":\"True\",\"hovertemplate\":\"loudness=%{y}<extra></extra>\",\"legendgroup\":\"\",\"marker\":{\"color\":\"#636efa\"},\"name\":\"\",\"notched\":false,\"offsetgroup\":\"\",\"orientation\":\"v\",\"showlegend\":false,\"x0\":\" \",\"xaxis\":\"x4\",\"y\":[-5.934,-6.401,-6.687,-5.457,-4.521,-7.956,-4.209,-8.765,-8.756,-5.679,-3.28,-5.616,-3.497,-7.909,-6.637,-8.82,-4.858,-4.577,-7.209,-6.903,-8.52,-3.675,-5.652,-3.558,-14.454,-6.049,-10.965,-7.509,-6.832,-5.26,-6.652,-3.434,-4.41,-4.746,-7.567,-3.764,-8.764,-4.368,-3.454,-4.258,-3.37,-7.088,-7.648,-4.074,-10.109,-7.23,-6.658,-10.086,-3.756,-3.714],\"y0\":\" \",\"yaxis\":\"y4\",\"type\":\"box\"},{\"alignmentgroup\":\"True\",\"hovertemplate\":\"acousticness=%{y}<extra></extra>\",\"legendgroup\":\"\",\"marker\":{\"color\":\"#636efa\"},\"name\":\"\",\"notched\":false,\"offsetgroup\":\"\",\"orientation\":\"v\",\"showlegend\":false,\"x0\":\" \",\"xaxis\":\"x5\",\"y\":[0.00146,0.688,0.104,0.0149,0.0123,0.247,0.122,0.731,0.123,0.751,0.295,0.0522,0.192,0.207,0.3,0.289,0.604,0.256,0.837,0.067,0.234,0.0237,0.223,0.221,0.902,0.0392,0.328,0.0194,0.183,0.145,0.345,0.167,0.0112,0.291,0.0686,0.021,0.0546,0.533,0.185,0.177,0.0847,0.0259,0.233,0.0103,0.934,0.349,0.223,0.866,0.0137,0.00513],\"y0\":\" \",\"yaxis\":\"y5\",\"type\":\"box\"},{\"alignmentgroup\":\"True\",\"hovertemplate\":\"speechiness=%{y}<extra></extra>\",\"legendgroup\":\"\",\"marker\":{\"color\":\"#636efa\"},\"name\":\"\",\"notched\":false,\"offsetgroup\":\"\",\"orientation\":\"v\",\"showlegend\":false,\"x0\":\" \",\"xaxis\":\"x6\",\"y\":[0.0598,0.0988,0.0559,0.0506,0.083,0.164,0.0465,0.135,0.0364,0.0319,0.298,0.148,0.0395,0.0383,0.0575,0.209,0.0573,0.158,0.0546,0.487,0.0803,0.0483,0.218,0.0369,0.0994,0.029,0.375,0.375,0.0578,0.342,0.0958,0.0883,0.0993,0.0515,0.0892,0.0397,0.0317,0.0575,0.389,0.0874,0.0484,0.0571,0.0514,0.379,0.0333,0.2,0.0418,0.129,0.0457,0.222],\"y0\":\" \",\"yaxis\":\"y6\",\"type\":\"box\"},{\"alignmentgroup\":\"True\",\"hovertemplate\":\"instrumentalness=%{y}<extra></extra>\",\"legendgroup\":\"\",\"marker\":{\"color\":\"#636efa\"},\"name\":\"\",\"notched\":false,\"offsetgroup\":\"\",\"orientation\":\"v\",\"showlegend\":false,\"x0\":\" \",\"xaxis\":\"x7\",\"y\":[9.54e-05,0.000161,0.0,0.00432,0.0,0.0,0.0,0.0,0.0,0.0,0.000134,0.0,0.00244,0.0,0.0,3.04e-06,0.0,3.57e-06,0.0,0.0,0.0,7e-06,0.0,0.0,0.657,0.0,0.13,0.0,0.0,0.0,0.0,1.39e-06,0.0,0.000209,0.00188,0.0,5.83e-06,0.0,2.46e-05,6.43e-05,0.0,0.00109,0.0,0.0,0.0,0.0,0.0,0.0,0.000658,0.0],\"y0\":\" \",\"yaxis\":\"y7\",\"type\":\"box\"},{\"alignmentgroup\":\"True\",\"hovertemplate\":\"liveness=%{y}<extra></extra>\",\"legendgroup\":\"\",\"marker\":{\"color\":\"#636efa\"},\"name\":\"\",\"notched\":false,\"offsetgroup\":\"\",\"orientation\":\"v\",\"showlegend\":false,\"x0\":\" \",\"xaxis\":\"x8\",\"y\":[0.0897,0.17,0.79,0.285,0.0951,0.101,0.335,0.696,0.0887,0.105,0.0574,0.46,0.0863,0.132,0.102,0.113,0.0885,0.0904,0.0822,0.15,0.269,0.102,0.129,0.272,0.106,0.0828,0.1,0.0824,0.0714,0.292,0.118,0.349,0.0936,0.123,0.393,0.323,0.21,0.0685,0.0626,0.106,0.149,0.792,0.157,0.107,0.095,0.34,0.382,0.109,0.102,0.124],\"y0\":\" \",\"yaxis\":\"y8\",\"type\":\"box\"},{\"alignmentgroup\":\"True\",\"hovertemplate\":\"valence=%{y}<extra></extra>\",\"legendgroup\":\"\",\"marker\":{\"color\":\"#636efa\"},\"name\":\"\",\"notched\":false,\"offsetgroup\":\"\",\"orientation\":\"v\",\"showlegend\":false,\"x0\":\" \",\"xaxis\":\"x9\",\"y\":[0.334,0.54,0.642,0.894,0.679,0.497,0.557,0.348,0.236,0.446,0.574,0.457,0.553,0.349,0.874,0.845,0.183,0.786,0.575,0.537,0.761,0.569,0.664,0.756,0.243,0.749,0.562,0.357,0.694,0.829,0.497,0.467,0.737,0.841,0.33,0.646,0.0605,0.925,0.558,0.884,0.43,0.684,0.28,0.685,0.12,0.218,0.537,0.604,0.746,0.446],\"y0\":\" \",\"yaxis\":\"y9\",\"type\":\"box\"},{\"alignmentgroup\":\"True\",\"hovertemplate\":\"tempo=%{y}<extra></extra>\",\"legendgroup\":\"\",\"marker\":{\"color\":\"#636efa\"},\"name\":\"\",\"notched\":false,\"offsetgroup\":\"\",\"orientation\":\"v\",\"showlegend\":false,\"x0\":\" \",\"xaxis\":\"x10\",\"y\":[171.005,98.078,116.971,121.962,123.95,89.977,95.39,144.026,127.087,109.891,101.085,116.735,120.042,99.034,147.986,81.604,111.881,110.962,91.019,142.053,150.076,99.048,122.031,90.989,120.006,116.967,135.128,133.073,112.022,165.995,145.842,113.013,114.044,128.978,112.05,123.056,76.469,89.96,180.067,117.948,130.049,105.095,129.979,96.172,115.284,83.903,178.765,75.801,146.967,155.008],\"y0\":\" \",\"yaxis\":\"y10\",\"type\":\"box\"},{\"alignmentgroup\":\"True\",\"hovertemplate\":\"duration_ms=%{y}<extra></extra>\",\"legendgroup\":\"\",\"marker\":{\"color\":\"#636efa\"},\"name\":\"\",\"notched\":false,\"offsetgroup\":\"\",\"orientation\":\"v\",\"showlegend\":false,\"x0\":\" \",\"xaxis\":\"x11\",\"y\":[200040,209755,196653,176219,183290,181733,174000,173333,159382,182161,200960,163636,215280,162547,212867,247059,215107,237893,189486,237918,171375,207133,166794,140526,245426,190800,194088,187541,158571,210800,208520,221820,199054,223488,176547,182200,175721,157560,199112,157606,243837,214935,165978,295177,200186,239836,228482,208687,193829,312820],\"y0\":\" \",\"yaxis\":\"y11\",\"type\":\"box\"}],                        {\"template\":{\"data\":{\"histogram2dcontour\":[{\"type\":\"histogram2dcontour\",\"colorbar\":{\"outlinewidth\":0,\"ticks\":\"\"},\"colorscale\":[[0.0,\"#0d0887\"],[0.1111111111111111,\"#46039f\"],[0.2222222222222222,\"#7201a8\"],[0.3333333333333333,\"#9c179e\"],[0.4444444444444444,\"#bd3786\"],[0.5555555555555556,\"#d8576b\"],[0.6666666666666666,\"#ed7953\"],[0.7777777777777778,\"#fb9f3a\"],[0.8888888888888888,\"#fdca26\"],[1.0,\"#f0f921\"]]}],\"choropleth\":[{\"type\":\"choropleth\",\"colorbar\":{\"outlinewidth\":0,\"ticks\":\"\"}}],\"histogram2d\":[{\"type\":\"histogram2d\",\"colorbar\":{\"outlinewidth\":0,\"ticks\":\"\"},\"colorscale\":[[0.0,\"#0d0887\"],[0.1111111111111111,\"#46039f\"],[0.2222222222222222,\"#7201a8\"],[0.3333333333333333,\"#9c179e\"],[0.4444444444444444,\"#bd3786\"],[0.5555555555555556,\"#d8576b\"],[0.6666666666666666,\"#ed7953\"],[0.7777777777777778,\"#fb9f3a\"],[0.8888888888888888,\"#fdca26\"],[1.0,\"#f0f921\"]]}],\"heatmap\":[{\"type\":\"heatmap\",\"colorbar\":{\"outlinewidth\":0,\"ticks\":\"\"},\"colorscale\":[[0.0,\"#0d0887\"],[0.1111111111111111,\"#46039f\"],[0.2222222222222222,\"#7201a8\"],[0.3333333333333333,\"#9c179e\"],[0.4444444444444444,\"#bd3786\"],[0.5555555555555556,\"#d8576b\"],[0.6666666666666666,\"#ed7953\"],[0.7777777777777778,\"#fb9f3a\"],[0.8888888888888888,\"#fdca26\"],[1.0,\"#f0f921\"]]}],\"heatmapgl\":[{\"type\":\"heatmapgl\",\"colorbar\":{\"outlinewidth\":0,\"ticks\":\"\"},\"colorscale\":[[0.0,\"#0d0887\"],[0.1111111111111111,\"#46039f\"],[0.2222222222222222,\"#7201a8\"],[0.3333333333333333,\"#9c179e\"],[0.4444444444444444,\"#bd3786\"],[0.5555555555555556,\"#d8576b\"],[0.6666666666666666,\"#ed7953\"],[0.7777777777777778,\"#fb9f3a\"],[0.8888888888888888,\"#fdca26\"],[1.0,\"#f0f921\"]]}],\"contourcarpet\":[{\"type\":\"contourcarpet\",\"colorbar\":{\"outlinewidth\":0,\"ticks\":\"\"}}],\"contour\":[{\"type\":\"contour\",\"colorbar\":{\"outlinewidth\":0,\"ticks\":\"\"},\"colorscale\":[[0.0,\"#0d0887\"],[0.1111111111111111,\"#46039f\"],[0.2222222222222222,\"#7201a8\"],[0.3333333333333333,\"#9c179e\"],[0.4444444444444444,\"#bd3786\"],[0.5555555555555556,\"#d8576b\"],[0.6666666666666666,\"#ed7953\"],[0.7777777777777778,\"#fb9f3a\"],[0.8888888888888888,\"#fdca26\"],[1.0,\"#f0f921\"]]}],\"surface\":[{\"type\":\"surface\",\"colorbar\":{\"outlinewidth\":0,\"ticks\":\"\"},\"colorscale\":[[0.0,\"#0d0887\"],[0.1111111111111111,\"#46039f\"],[0.2222222222222222,\"#7201a8\"],[0.3333333333333333,\"#9c179e\"],[0.4444444444444444,\"#bd3786\"],[0.5555555555555556,\"#d8576b\"],[0.6666666666666666,\"#ed7953\"],[0.7777777777777778,\"#fb9f3a\"],[0.8888888888888888,\"#fdca26\"],[1.0,\"#f0f921\"]]}],\"mesh3d\":[{\"type\":\"mesh3d\",\"colorbar\":{\"outlinewidth\":0,\"ticks\":\"\"}}],\"scatter\":[{\"fillpattern\":{\"fillmode\":\"overlay\",\"size\":10,\"solidity\":0.2},\"type\":\"scatter\"}],\"parcoords\":[{\"type\":\"parcoords\",\"line\":{\"colorbar\":{\"outlinewidth\":0,\"ticks\":\"\"}}}],\"scatterpolargl\":[{\"type\":\"scatterpolargl\",\"marker\":{\"colorbar\":{\"outlinewidth\":0,\"ticks\":\"\"}}}],\"bar\":[{\"error_x\":{\"color\":\"#2a3f5f\"},\"error_y\":{\"color\":\"#2a3f5f\"},\"marker\":{\"line\":{\"color\":\"#E5ECF6\",\"width\":0.5},\"pattern\":{\"fillmode\":\"overlay\",\"size\":10,\"solidity\":0.2}},\"type\":\"bar\"}],\"scattergeo\":[{\"type\":\"scattergeo\",\"marker\":{\"colorbar\":{\"outlinewidth\":0,\"ticks\":\"\"}}}],\"scatterpolar\":[{\"type\":\"scatterpolar\",\"marker\":{\"colorbar\":{\"outlinewidth\":0,\"ticks\":\"\"}}}],\"histogram\":[{\"marker\":{\"pattern\":{\"fillmode\":\"overlay\",\"size\":10,\"solidity\":0.2}},\"type\":\"histogram\"}],\"scattergl\":[{\"type\":\"scattergl\",\"marker\":{\"colorbar\":{\"outlinewidth\":0,\"ticks\":\"\"}}}],\"scatter3d\":[{\"type\":\"scatter3d\",\"line\":{\"colorbar\":{\"outlinewidth\":0,\"ticks\":\"\"}},\"marker\":{\"colorbar\":{\"outlinewidth\":0,\"ticks\":\"\"}}}],\"scattermapbox\":[{\"type\":\"scattermapbox\",\"marker\":{\"colorbar\":{\"outlinewidth\":0,\"ticks\":\"\"}}}],\"scatterternary\":[{\"type\":\"scatterternary\",\"marker\":{\"colorbar\":{\"outlinewidth\":0,\"ticks\":\"\"}}}],\"scattercarpet\":[{\"type\":\"scattercarpet\",\"marker\":{\"colorbar\":{\"outlinewidth\":0,\"ticks\":\"\"}}}],\"carpet\":[{\"aaxis\":{\"endlinecolor\":\"#2a3f5f\",\"gridcolor\":\"white\",\"linecolor\":\"white\",\"minorgridcolor\":\"white\",\"startlinecolor\":\"#2a3f5f\"},\"baxis\":{\"endlinecolor\":\"#2a3f5f\",\"gridcolor\":\"white\",\"linecolor\":\"white\",\"minorgridcolor\":\"white\",\"startlinecolor\":\"#2a3f5f\"},\"type\":\"carpet\"}],\"table\":[{\"cells\":{\"fill\":{\"color\":\"#EBF0F8\"},\"line\":{\"color\":\"white\"}},\"header\":{\"fill\":{\"color\":\"#C8D4E3\"},\"line\":{\"color\":\"white\"}},\"type\":\"table\"}],\"barpolar\":[{\"marker\":{\"line\":{\"color\":\"#E5ECF6\",\"width\":0.5},\"pattern\":{\"fillmode\":\"overlay\",\"size\":10,\"solidity\":0.2}},\"type\":\"barpolar\"}],\"pie\":[{\"automargin\":true,\"type\":\"pie\"}]},\"layout\":{\"autotypenumbers\":\"strict\",\"colorway\":[\"#636efa\",\"#EF553B\",\"#00cc96\",\"#ab63fa\",\"#FFA15A\",\"#19d3f3\",\"#FF6692\",\"#B6E880\",\"#FF97FF\",\"#FECB52\"],\"font\":{\"color\":\"#2a3f5f\"},\"hovermode\":\"closest\",\"hoverlabel\":{\"align\":\"left\"},\"paper_bgcolor\":\"white\",\"plot_bgcolor\":\"#E5ECF6\",\"polar\":{\"bgcolor\":\"#E5ECF6\",\"angularaxis\":{\"gridcolor\":\"white\",\"linecolor\":\"white\",\"ticks\":\"\"},\"radialaxis\":{\"gridcolor\":\"white\",\"linecolor\":\"white\",\"ticks\":\"\"}},\"ternary\":{\"bgcolor\":\"#E5ECF6\",\"aaxis\":{\"gridcolor\":\"white\",\"linecolor\":\"white\",\"ticks\":\"\"},\"baxis\":{\"gridcolor\":\"white\",\"linecolor\":\"white\",\"ticks\":\"\"},\"caxis\":{\"gridcolor\":\"white\",\"linecolor\":\"white\",\"ticks\":\"\"}},\"coloraxis\":{\"colorbar\":{\"outlinewidth\":0,\"ticks\":\"\"}},\"colorscale\":{\"sequential\":[[0.0,\"#0d0887\"],[0.1111111111111111,\"#46039f\"],[0.2222222222222222,\"#7201a8\"],[0.3333333333333333,\"#9c179e\"],[0.4444444444444444,\"#bd3786\"],[0.5555555555555556,\"#d8576b\"],[0.6666666666666666,\"#ed7953\"],[0.7777777777777778,\"#fb9f3a\"],[0.8888888888888888,\"#fdca26\"],[1.0,\"#f0f921\"]],\"sequentialminus\":[[0.0,\"#0d0887\"],[0.1111111111111111,\"#46039f\"],[0.2222222222222222,\"#7201a8\"],[0.3333333333333333,\"#9c179e\"],[0.4444444444444444,\"#bd3786\"],[0.5555555555555556,\"#d8576b\"],[0.6666666666666666,\"#ed7953\"],[0.7777777777777778,\"#fb9f3a\"],[0.8888888888888888,\"#fdca26\"],[1.0,\"#f0f921\"]],\"diverging\":[[0,\"#8e0152\"],[0.1,\"#c51b7d\"],[0.2,\"#de77ae\"],[0.3,\"#f1b6da\"],[0.4,\"#fde0ef\"],[0.5,\"#f7f7f7\"],[0.6,\"#e6f5d0\"],[0.7,\"#b8e186\"],[0.8,\"#7fbc41\"],[0.9,\"#4d9221\"],[1,\"#276419\"]]},\"xaxis\":{\"gridcolor\":\"white\",\"linecolor\":\"white\",\"ticks\":\"\",\"title\":{\"standoff\":15},\"zerolinecolor\":\"white\",\"automargin\":true,\"zerolinewidth\":2},\"yaxis\":{\"gridcolor\":\"white\",\"linecolor\":\"white\",\"ticks\":\"\",\"title\":{\"standoff\":15},\"zerolinecolor\":\"white\",\"automargin\":true,\"zerolinewidth\":2},\"scene\":{\"xaxis\":{\"backgroundcolor\":\"#E5ECF6\",\"gridcolor\":\"white\",\"linecolor\":\"white\",\"showbackground\":true,\"ticks\":\"\",\"zerolinecolor\":\"white\",\"gridwidth\":2},\"yaxis\":{\"backgroundcolor\":\"#E5ECF6\",\"gridcolor\":\"white\",\"linecolor\":\"white\",\"showbackground\":true,\"ticks\":\"\",\"zerolinecolor\":\"white\",\"gridwidth\":2},\"zaxis\":{\"backgroundcolor\":\"#E5ECF6\",\"gridcolor\":\"white\",\"linecolor\":\"white\",\"showbackground\":true,\"ticks\":\"\",\"zerolinecolor\":\"white\",\"gridwidth\":2}},\"shapedefaults\":{\"line\":{\"color\":\"#2a3f5f\"}},\"annotationdefaults\":{\"arrowcolor\":\"#2a3f5f\",\"arrowhead\":0,\"arrowwidth\":1},\"geo\":{\"bgcolor\":\"white\",\"landcolor\":\"#E5ECF6\",\"subunitcolor\":\"white\",\"showland\":true,\"showlakes\":true,\"lakecolor\":\"white\"},\"title\":{\"x\":0.05},\"mapbox\":{\"style\":\"light\"}}},\"xaxis\":{\"anchor\":\"y\",\"domain\":[0.0,1.0]},\"yaxis\":{\"anchor\":\"x\",\"domain\":[0.9858800000000005,1.0],\"title\":{\"text\":\"energy\"}},\"xaxis2\":{\"anchor\":\"y2\",\"domain\":[0.0,1.0]},\"yaxis2\":{\"anchor\":\"x2\",\"domain\":[0.9657600000000006,0.9798800000000006],\"title\":{\"text\":\"danceability\"}},\"xaxis3\":{\"anchor\":\"y3\",\"domain\":[0.0,1.0]},\"yaxis3\":{\"anchor\":\"x3\",\"domain\":[0.9456400000000006,0.9597600000000006],\"title\":{\"text\":\"key\"}},\"xaxis4\":{\"anchor\":\"y4\",\"domain\":[0.0,1.0]},\"yaxis4\":{\"anchor\":\"x4\",\"domain\":[0.9255200000000006,0.9396400000000006],\"title\":{\"text\":\"loudness\"}},\"xaxis5\":{\"anchor\":\"y5\",\"domain\":[0.0,1.0]},\"yaxis5\":{\"anchor\":\"x5\",\"domain\":[0.9054000000000005,0.9195200000000006],\"title\":{\"text\":\"acousticness\"}},\"xaxis6\":{\"anchor\":\"y6\",\"domain\":[0.0,1.0]},\"yaxis6\":{\"anchor\":\"x6\",\"domain\":[0.8852800000000005,0.8994000000000005],\"title\":{\"text\":\"speechiness\"}},\"xaxis7\":{\"anchor\":\"y7\",\"domain\":[0.0,1.0]},\"yaxis7\":{\"anchor\":\"x7\",\"domain\":[0.8651600000000005,0.8792800000000005],\"title\":{\"text\":\"instrumentalness\"}},\"xaxis8\":{\"anchor\":\"y8\",\"domain\":[0.0,1.0]},\"yaxis8\":{\"anchor\":\"x8\",\"domain\":[0.8450400000000005,0.8591600000000005],\"title\":{\"text\":\"liveness\"}},\"xaxis9\":{\"anchor\":\"y9\",\"domain\":[0.0,1.0]},\"yaxis9\":{\"anchor\":\"x9\",\"domain\":[0.8249200000000004,0.8390400000000005],\"title\":{\"text\":\"valence\"}},\"xaxis10\":{\"anchor\":\"y10\",\"domain\":[0.0,1.0]},\"yaxis10\":{\"anchor\":\"x10\",\"domain\":[0.8048000000000004,0.8189200000000004],\"title\":{\"text\":\"tempo\"}},\"xaxis11\":{\"anchor\":\"y11\",\"domain\":[0.0,1.0]},\"yaxis11\":{\"anchor\":\"x11\",\"domain\":[0.7846800000000004,0.7988000000000004],\"title\":{\"text\":\"duration_ms\"}},\"xaxis12\":{\"anchor\":\"y12\",\"domain\":[0.0,1.0]},\"yaxis12\":{\"anchor\":\"x12\",\"domain\":[0.7645600000000004,0.7786800000000004]},\"xaxis13\":{\"anchor\":\"y13\",\"domain\":[0.0,1.0]},\"yaxis13\":{\"anchor\":\"x13\",\"domain\":[0.7444400000000003,0.7585600000000003]},\"xaxis14\":{\"anchor\":\"y14\",\"domain\":[0.0,1.0]},\"yaxis14\":{\"anchor\":\"x14\",\"domain\":[0.7243200000000003,0.7384400000000003]},\"xaxis15\":{\"anchor\":\"y15\",\"domain\":[0.0,1.0]},\"yaxis15\":{\"anchor\":\"x15\",\"domain\":[0.7042000000000003,0.7183200000000003]},\"xaxis16\":{\"anchor\":\"y16\",\"domain\":[0.0,1.0]},\"yaxis16\":{\"anchor\":\"x16\",\"domain\":[0.6840800000000002,0.6982000000000003]},\"xaxis17\":{\"anchor\":\"y17\",\"domain\":[0.0,1.0]},\"yaxis17\":{\"anchor\":\"x17\",\"domain\":[0.6639600000000003,0.6780800000000003]},\"xaxis18\":{\"anchor\":\"y18\",\"domain\":[0.0,1.0]},\"yaxis18\":{\"anchor\":\"x18\",\"domain\":[0.6438400000000002,0.6579600000000002]},\"xaxis19\":{\"anchor\":\"y19\",\"domain\":[0.0,1.0]},\"yaxis19\":{\"anchor\":\"x19\",\"domain\":[0.6237200000000003,0.6378400000000003]},\"xaxis20\":{\"anchor\":\"y20\",\"domain\":[0.0,1.0]},\"yaxis20\":{\"anchor\":\"x20\",\"domain\":[0.6036000000000001,0.6177200000000002]},\"xaxis21\":{\"anchor\":\"y21\",\"domain\":[0.0,1.0]},\"yaxis21\":{\"anchor\":\"x21\",\"domain\":[0.5834800000000002,0.5976000000000002]},\"xaxis22\":{\"anchor\":\"y22\",\"domain\":[0.0,1.0]},\"yaxis22\":{\"anchor\":\"x22\",\"domain\":[0.5633600000000002,0.5774800000000002]},\"xaxis23\":{\"anchor\":\"y23\",\"domain\":[0.0,1.0]},\"yaxis23\":{\"anchor\":\"x23\",\"domain\":[0.5432400000000002,0.5573600000000002]},\"xaxis24\":{\"anchor\":\"y24\",\"domain\":[0.0,1.0]},\"yaxis24\":{\"anchor\":\"x24\",\"domain\":[0.5231200000000001,0.5372400000000002]},\"xaxis25\":{\"anchor\":\"y25\",\"domain\":[0.0,1.0]},\"yaxis25\":{\"anchor\":\"x25\",\"domain\":[0.5030000000000001,0.5171200000000001]},\"xaxis26\":{\"anchor\":\"y26\",\"domain\":[0.0,1.0]},\"yaxis26\":{\"anchor\":\"x26\",\"domain\":[0.4828800000000001,0.4970000000000001]},\"xaxis27\":{\"anchor\":\"y27\",\"domain\":[0.0,1.0]},\"yaxis27\":{\"anchor\":\"x27\",\"domain\":[0.46276000000000006,0.4768800000000001]},\"xaxis28\":{\"anchor\":\"y28\",\"domain\":[0.0,1.0]},\"yaxis28\":{\"anchor\":\"x28\",\"domain\":[0.44264000000000003,0.45676000000000005]},\"xaxis29\":{\"anchor\":\"y29\",\"domain\":[0.0,1.0]},\"yaxis29\":{\"anchor\":\"x29\",\"domain\":[0.42252,0.43664000000000003]},\"xaxis30\":{\"anchor\":\"y30\",\"domain\":[0.0,1.0]},\"yaxis30\":{\"anchor\":\"x30\",\"domain\":[0.4024,0.41652]},\"xaxis31\":{\"anchor\":\"y31\",\"domain\":[0.0,1.0]},\"yaxis31\":{\"anchor\":\"x31\",\"domain\":[0.38227999999999995,0.3964]},\"xaxis32\":{\"anchor\":\"y32\",\"domain\":[0.0,1.0]},\"yaxis32\":{\"anchor\":\"x32\",\"domain\":[0.3621599999999999,0.37627999999999995]},\"xaxis33\":{\"anchor\":\"y33\",\"domain\":[0.0,1.0]},\"yaxis33\":{\"anchor\":\"x33\",\"domain\":[0.3420399999999999,0.3561599999999999]},\"xaxis34\":{\"anchor\":\"y34\",\"domain\":[0.0,1.0]},\"yaxis34\":{\"anchor\":\"x34\",\"domain\":[0.32191999999999993,0.33603999999999995]},\"xaxis35\":{\"anchor\":\"y35\",\"domain\":[0.0,1.0]},\"yaxis35\":{\"anchor\":\"x35\",\"domain\":[0.30179999999999996,0.31592]},\"xaxis36\":{\"anchor\":\"y36\",\"domain\":[0.0,1.0]},\"yaxis36\":{\"anchor\":\"x36\",\"domain\":[0.28167999999999993,0.29579999999999995]},\"xaxis37\":{\"anchor\":\"y37\",\"domain\":[0.0,1.0]},\"yaxis37\":{\"anchor\":\"x37\",\"domain\":[0.26155999999999996,0.27568]},\"xaxis38\":{\"anchor\":\"y38\",\"domain\":[0.0,1.0]},\"yaxis38\":{\"anchor\":\"x38\",\"domain\":[0.24143999999999996,0.25555999999999995]},\"xaxis39\":{\"anchor\":\"y39\",\"domain\":[0.0,1.0]},\"yaxis39\":{\"anchor\":\"x39\",\"domain\":[0.22131999999999996,0.23543999999999995]},\"xaxis40\":{\"anchor\":\"y40\",\"domain\":[0.0,1.0]},\"yaxis40\":{\"anchor\":\"x40\",\"domain\":[0.20119999999999996,0.21531999999999996]},\"xaxis41\":{\"anchor\":\"y41\",\"domain\":[0.0,1.0]},\"yaxis41\":{\"anchor\":\"x41\",\"domain\":[0.18107999999999996,0.19519999999999996]},\"xaxis42\":{\"anchor\":\"y42\",\"domain\":[0.0,1.0]},\"yaxis42\":{\"anchor\":\"x42\",\"domain\":[0.16096,0.17507999999999999]},\"xaxis43\":{\"anchor\":\"y43\",\"domain\":[0.0,1.0]},\"yaxis43\":{\"anchor\":\"x43\",\"domain\":[0.14084,0.15496]},\"xaxis44\":{\"anchor\":\"y44\",\"domain\":[0.0,1.0]},\"yaxis44\":{\"anchor\":\"x44\",\"domain\":[0.12072,0.13484]},\"xaxis45\":{\"anchor\":\"y45\",\"domain\":[0.0,1.0]},\"yaxis45\":{\"anchor\":\"x45\",\"domain\":[0.1006,0.11471999999999999]},\"xaxis46\":{\"anchor\":\"y46\",\"domain\":[0.0,1.0]},\"yaxis46\":{\"anchor\":\"x46\",\"domain\":[0.08048,0.09459999999999999]},\"xaxis47\":{\"anchor\":\"y47\",\"domain\":[0.0,1.0]},\"yaxis47\":{\"anchor\":\"x47\",\"domain\":[0.06036,0.07447999999999999]},\"xaxis48\":{\"anchor\":\"y48\",\"domain\":[0.0,1.0]},\"yaxis48\":{\"anchor\":\"x48\",\"domain\":[0.04024,0.05436]},\"xaxis49\":{\"anchor\":\"y49\",\"domain\":[0.0,1.0]},\"yaxis49\":{\"anchor\":\"x49\",\"domain\":[0.02012,0.03424]},\"xaxis50\":{\"anchor\":\"y50\",\"domain\":[0.0,1.0]},\"yaxis50\":{\"anchor\":\"x50\",\"domain\":[0.0,0.014119999999999999]},\"title\":{\"text\":\"Box Plots for Numerical Columns\"},\"showlegend\":false,\"height\":20000},                        {\"responsive\": true}                    ).then(function(){\n",
       "                            \n",
       "var gd = document.getElementById('26f623ae-29ee-467f-8c3e-38313e006c3e');\n",
       "var x = new MutationObserver(function (mutations, observer) {{\n",
       "        var display = window.getComputedStyle(gd).display;\n",
       "        if (!display || display === 'none') {{\n",
       "            console.log([gd, 'removed!']);\n",
       "            Plotly.purge(gd);\n",
       "            observer.disconnect();\n",
       "        }}\n",
       "}});\n",
       "\n",
       "// Listen for the removal of the full notebook cells\n",
       "var notebookContainer = gd.closest('#notebook-container');\n",
       "if (notebookContainer) {{\n",
       "    x.observe(notebookContainer, {childList: true});\n",
       "}}\n",
       "\n",
       "// Listen for the clearing of the current output cell\n",
       "var outputEl = gd.closest('.output');\n",
       "if (outputEl) {{\n",
       "    x.observe(outputEl, {childList: true});\n",
       "}}\n",
       "\n",
       "                        })                };                });            </script>        </div>"
      ]
     },
     "metadata": {},
     "output_type": "display_data"
    }
   ],
   "source": [
    "fig.update_layout(\n",
    "    title=\"Box Plots for Numerical Columns\",\n",
    "    showlegend=False,\n",
    "    height=400 * len(numerical_df))"
   ]
  },
  {
   "cell_type": "markdown",
   "id": "01e83327",
   "metadata": {},
   "source": [
    "OK there's a bunch of outliers. Are they \"real\" though? Could be just a consequence of different genres, not mistakes. Honestly, in real life situation I would leave those untouched unless there was something crazy like duration 100 miliseconds"
   ]
  },
  {
   "cell_type": "markdown",
   "id": "eaa3b1e6",
   "metadata": {},
   "source": [
    "<span style='color: blue;'>Are there any artists that have more than 1 popular track? If yes, which and how many?</span>"
   ]
  },
  {
   "cell_type": "code",
   "execution_count": 27,
   "id": "89bd2c1a",
   "metadata": {},
   "outputs": [
    {
     "name": "stdout",
     "output_type": "stream",
     "text": [
      "These are the artists with more than one song in TOP50:\n",
      "Billie Eilish    3\n",
      "Dua Lipa         3\n",
      "Travis Scott     3\n",
      "Justin Bieber    2\n",
      "Harry Styles     2\n",
      "Lewis Capaldi    2\n",
      "Post Malone      2\n",
      "Name: artist, dtype: int64\n"
     ]
    }
   ],
   "source": [
    "pop_artist = df['artist'].value_counts()\n",
    "print(f'These are the artists with more than one song in TOP50:\\n{pop_artist[pop_artist > 1]}')"
   ]
  },
  {
   "cell_type": "markdown",
   "id": "1ea1525f",
   "metadata": {},
   "source": [
    "<span style='color: blue;'>Who was the most popular artist?</span>"
   ]
  },
  {
   "cell_type": "code",
   "execution_count": 21,
   "id": "ddac6a42",
   "metadata": {},
   "outputs": [
    {
     "name": "stdout",
     "output_type": "stream",
     "text": [
      "These are the most popular Spotify Top 50 2020 artists:\n",
      "Billie Eilish    3\n",
      "Dua Lipa         3\n",
      "Travis Scott     3\n",
      "Name: artist, dtype: int64\n"
     ]
    }
   ],
   "source": [
    "print(f'These are the most popular Spotify Top 50 2020 artists:\\n{pop_artist[pop_artist == pop_artist.max()]}') "
   ]
  },
  {
   "cell_type": "markdown",
   "id": "f0c87b60",
   "metadata": {},
   "source": [
    "<span style='color: blue;'>How many artists in total have their songs in the top 50?</span>"
   ]
  },
  {
   "cell_type": "code",
   "execution_count": 22,
   "id": "016068cf",
   "metadata": {},
   "outputs": [
    {
     "name": "stdout",
     "output_type": "stream",
     "text": [
      "40 artists have their songs in the TOP 50\n"
     ]
    }
   ],
   "source": [
    "print(f'{df[\"artist\"].nunique()} artists have their songs in the TOP 50')"
   ]
  },
  {
   "cell_type": "markdown",
   "id": "20386567",
   "metadata": {},
   "source": [
    "<span style='color: blue;'>Are there any albums that have more than 1 popular track? If yes, which and how many?</span>"
   ]
  },
  {
   "cell_type": "code",
   "execution_count": 23,
   "id": "cf90bcb3",
   "metadata": {},
   "outputs": [
    {
     "name": "stdout",
     "output_type": "stream",
     "text": [
      "The albums with more than one song in TOP50:\n",
      "Future Nostalgia        3\n",
      "Hollywood's Bleeding    2\n",
      "Fine Line               2\n",
      "Changes                 2\n",
      "Name: album, dtype: int64\n"
     ]
    }
   ],
   "source": [
    "pop_albums = df['album'].value_counts()\n",
    "print(f'The albums with more than one song in TOP50:\\n{pop_albums[pop_albums > 1]}')"
   ]
  },
  {
   "cell_type": "markdown",
   "id": "3f26d775",
   "metadata": {},
   "source": [
    "<span style='color: blue;'> How many albums in total have their songs in the top 50?</span>"
   ]
  },
  {
   "cell_type": "code",
   "execution_count": 24,
   "id": "4565f160",
   "metadata": {},
   "outputs": [
    {
     "name": "stdout",
     "output_type": "stream",
     "text": [
      "There are 45 albums in TOP 50\n"
     ]
    }
   ],
   "source": [
    "print(f'There are {df[\"album\"].nunique()} albums in TOP 50')"
   ]
  },
  {
   "cell_type": "markdown",
   "id": "9f9a2ae8",
   "metadata": {},
   "source": [
    "<span style='color: blue;'> Which tracks have a danceability score above 0.7?</span>"
   ]
  },
  {
   "cell_type": "code",
   "execution_count": 34,
   "id": "12208308",
   "metadata": {},
   "outputs": [
    {
     "name": "stdout",
     "output_type": "stream",
     "text": [
      "These songs are realy good for dancing:\n",
      "              artist                                     track_name\n",
      "1       Tones And I                                   Dance Monkey\n",
      "2       Roddy Ricch                                        The Box\n",
      "3         SAINt JHN                          Roses - Imanbek Remix\n",
      "4          Dua Lipa                                Don't Start Now\n",
      "5            DaBaby                   ROCKSTAR (feat. Roddy Ricch)\n",
      "7             Powfu               death bed (coffee for your head)\n",
      "8     Trevor Daniel                                        Falling\n",
      "10          KAROL G                                           Tusa\n",
      "13        Lil Mosey                                Blueberry Faygo\n",
      "14    Justin Bieber                       Intentions (feat. Quavo)\n",
      "15            Drake                                   Toosie Slide\n",
      "17         Doja Cat                                         Say So\n",
      "18         Maroon 5                                       Memories\n",
      "19           Future                     Life Is Good (feat. Drake)\n",
      "20        Jawsh 685               Savage Love (Laxed - Siren Beat)\n",
      "22            Topic                                    Breaking Me\n",
      "24    Billie Eilish                            everything i wanted\n",
      "25     Shawn Mendes                                       Señorita\n",
      "26    Billie Eilish                                        bad guy\n",
      "27          Cardi B                WAP (feat. Megan Thee Stallion)\n",
      "28         Surfaces                                    Sunday Best\n",
      "29           Eminem                    Godzilla (feat. Juice WRLD)\n",
      "31         Dua Lipa                                 Break My Heart\n",
      "32              BTS                                       Dynamite\n",
      "33            BENEE               Supalonely (feat. Gus Dapperton)\n",
      "37      Post Malone  Sunflower - Spider-Man: Into the Spider-Verse\n",
      "38           Maluma                                          Hawái\n",
      "39           Regard                                        Ride It\n",
      "40     Travis Scott                                     goosebumps\n",
      "41  Black Eyed Peas                      RITMO (Bad Boys For Life)\n",
      "42       THE SCOTTS                                     THE SCOTTS\n",
      "49     Travis Scott                                     SICKO MODE\n"
     ]
    }
   ],
   "source": [
    "dance_mask = df['danceability'].gt(0.7)\n",
    "print(f'These songs are realy good for dancing:\\n {df[dance_mask][[\"artist\",\"track_name\"]]}')"
   ]
  },
  {
   "cell_type": "markdown",
   "id": "bc6e53a0",
   "metadata": {},
   "source": [
    "<span style='color: blue;'> Which tracks have a danceability score below 0.4?</span>"
   ]
  },
  {
   "cell_type": "code",
   "execution_count": 35,
   "id": "4d948517",
   "metadata": {},
   "outputs": [
    {
     "name": "stdout",
     "output_type": "stream",
     "text": [
      "These songs are nice but not for dancing:\n",
      "           artist            track_name\n",
      "44  Billie Eilish  lovely (with Khalid)\n"
     ]
    }
   ],
   "source": [
    "nodance_mask = df['danceability'].lt(0.4)\n",
    "print(f'These songs are nice but not for dancing:\\n{df[nodance_mask][[\"artist\", \"track_name\"]]}')"
   ]
  },
  {
   "cell_type": "markdown",
   "id": "1f1b5f75",
   "metadata": {},
   "source": [
    "<span style='color: blue;'> Which tracks have their loudness above -5?</span>"
   ]
  },
  {
   "cell_type": "code",
   "execution_count": 36,
   "id": "89662ce1",
   "metadata": {},
   "outputs": [
    {
     "name": "stdout",
     "output_type": "stream",
     "text": [
      "These songs are loud:\n",
      "            artist                                     track_name\n",
      "4        Dua Lipa                                Don't Start Now\n",
      "6    Harry Styles                               Watermelon Sugar\n",
      "10        KAROL G                                           Tusa\n",
      "12    Post Malone                                        Circles\n",
      "16  Lewis Capaldi                                  Before You Go\n",
      "17       Doja Cat                                         Say So\n",
      "21   Harry Styles                                      Adore You\n",
      "23       24kGoldn                         Mood (feat. iann dior)\n",
      "31       Dua Lipa                                 Break My Heart\n",
      "32            BTS                                       Dynamite\n",
      "33          BENEE               Supalonely (feat. Gus Dapperton)\n",
      "35      Lady Gaga                Rain On Me (with Ariana Grande)\n",
      "37    Post Malone  Sunflower - Spider-Man: Into the Spider-Verse\n",
      "38         Maluma                                          Hawái\n",
      "39         Regard                                        Ride It\n",
      "40   Travis Scott                                     goosebumps\n",
      "43      Bad Bunny                                        Safaera\n",
      "48       Dua Lipa                                       Physical\n",
      "49   Travis Scott                                     SICKO MODE\n"
     ]
    }
   ],
   "source": [
    "loud_mask = df['loudness'].gt(-5)\n",
    "print(f'These songs are loud:\\n {df[loud_mask][[\"artist\", \"track_name\"]]}')"
   ]
  },
  {
   "cell_type": "markdown",
   "id": "a9197287",
   "metadata": {},
   "source": [
    "<span style='color: blue;'> Which tracks have their loudness below -8?</span>"
   ]
  },
  {
   "cell_type": "code",
   "execution_count": 37,
   "id": "365acf02",
   "metadata": {},
   "outputs": [
    {
     "name": "stdout",
     "output_type": "stream",
     "text": [
      "These songs are quiet:\n",
      "            artist                                      track_name\n",
      "7           Powfu                death bed (coffee for your head)\n",
      "8   Trevor Daniel                                         Falling\n",
      "15          Drake                                    Toosie Slide\n",
      "20      Jawsh 685                Savage Love (Laxed - Siren Beat)\n",
      "24  Billie Eilish                             everything i wanted\n",
      "26  Billie Eilish                                         bad guy\n",
      "36   Travis Scott                             HIGHEST IN THE ROOM\n",
      "44  Billie Eilish                            lovely (with Khalid)\n",
      "47        JP Saxe  If the World Was Ending - feat. Julia Michaels\n"
     ]
    }
   ],
   "source": [
    "quiet_mask = df['loudness'].lt(-8)\n",
    "print(f'These songs are quiet:\\n {df[quiet_mask][[\"artist\", \"track_name\"]]}')"
   ]
  },
  {
   "cell_type": "markdown",
   "id": "f5508fc1",
   "metadata": {},
   "source": [
    "<span style='color: blue;'> Which track is the longest?<span>"
   ]
  },
  {
   "cell_type": "code",
   "execution_count": 42,
   "id": "672ccf34",
   "metadata": {},
   "outputs": [
    {
     "name": "stdout",
     "output_type": "stream",
     "text": [
      "This is the longest song in TOP 50:\n",
      "          artist  track_name\n",
      "49  Travis Scott  SICKO MODE\n"
     ]
    }
   ],
   "source": [
    "longest = df['duration_ms'].idxmax()\n",
    "print(f'This is the longest song in TOP 50:\\n{df.loc[[longest], [\"artist\", \"track_name\"]]}')"
   ]
  },
  {
   "cell_type": "markdown",
   "id": "4b2e2f77",
   "metadata": {},
   "source": [
    "<span style='color: blue;'>Which track is the shortest?"
   ]
  },
  {
   "cell_type": "code",
   "execution_count": 43,
   "id": "057ea223",
   "metadata": {},
   "outputs": [
    {
     "name": "stdout",
     "output_type": "stream",
     "text": [
      "This is the shortest song in TOP 50:\n",
      "      artist              track_name\n",
      "23  24kGoldn  Mood (feat. iann dior)\n"
     ]
    }
   ],
   "source": [
    "shortest = df['duration_ms'].idxmin()\n",
    "print(f'This is the shortest song in TOP 50:\\n{df.loc[[shortest], [\"artist\", \"track_name\"]]}')"
   ]
  },
  {
   "cell_type": "markdown",
   "id": "2a19736d",
   "metadata": {},
   "source": [
    "<span style='color: blue;'>Which genre is the most popular?"
   ]
  },
  {
   "cell_type": "code",
   "execution_count": 44,
   "id": "9db6ba67",
   "metadata": {},
   "outputs": [
    {
     "name": "stdout",
     "output_type": "stream",
     "text": [
      "Pop is the most popular genre in TOP 50\n"
     ]
    }
   ],
   "source": [
    "print(f'{df[\"genre\"].value_counts().idxmax()} is the most popular genre in TOP 50')"
   ]
  },
  {
   "cell_type": "markdown",
   "id": "4e170cff",
   "metadata": {},
   "source": [
    "<span style='color:blue;'>Which genres have just one song on the top 50?"
   ]
  },
  {
   "cell_type": "code",
   "execution_count": 45,
   "id": "3c8ee1a0",
   "metadata": {},
   "outputs": [
    {
     "name": "stdout",
     "output_type": "stream",
     "text": [
      "These genres have only 1 song in TOP 50:\n",
      "Nu-disco\n",
      "R&B/Hip-Hop alternative\n",
      "Pop/Soft Rock\n",
      "Pop rap\n",
      "Hip-Hop/Trap\n",
      "Dance-pop/Disco\n",
      "Disco-pop\n",
      "Dreampop/Hip-Hop/R&B\n",
      "Alternative/reggaeton/experimental\n",
      "Chamber pop\n"
     ]
    }
   ],
   "source": [
    "genre_count = df[\"genre\"].value_counts()\n",
    "print('These genres have only 1 song in TOP 50:\\n' +\"\\n\".join(genre_count[genre_count == 1].index.tolist()))"
   ]
  },
  {
   "cell_type": "markdown",
   "id": "e71c8099",
   "metadata": {},
   "source": [
    "<span style='color:blue;'>How many genres in total are represented in the top 50?"
   ]
  },
  {
   "cell_type": "code",
   "execution_count": 47,
   "id": "c5d67c76",
   "metadata": {},
   "outputs": [
    {
     "name": "stdout",
     "output_type": "stream",
     "text": [
      "16 genres are represented in TOP 50\n"
     ]
    }
   ],
   "source": [
    "print(f'{df[\"genre\"].nunique()} genres are represented in TOP 50')"
   ]
  },
  {
   "cell_type": "markdown",
   "id": "cfc1fca3",
   "metadata": {},
   "source": [
    "<span style='color:blue;'>Which features are strongly positively correlated? <br> Basically that means finding not signifficant "
   ]
  },
  {
   "cell_type": "code",
   "execution_count": 79,
   "id": "8e6661a4",
   "metadata": {},
   "outputs": [
    {
     "data": {
      "text/plain": [
       "energy    loudness    0.79\n",
       "loudness  energy      0.79\n",
       "dtype: float64"
      ]
     },
     "execution_count": 79,
     "metadata": {},
     "output_type": "execute_result"
    }
   ],
   "source": [
    "cor_matrix = round(numerical_df.corr(), 2)\n",
    "mask = (cor_matrix > 0.5)&(cor_matrix < 1)\n",
    "cor_matrix[mask].stack()"
   ]
  },
  {
   "cell_type": "markdown",
   "id": "57e2b481",
   "metadata": {},
   "source": [
    "The p value should be checked to make sure energy and loudness a truly correlated"
   ]
  },
  {
   "cell_type": "code",
   "execution_count": 80,
   "id": "ca508f7a",
   "metadata": {},
   "outputs": [
    {
     "data": {
      "text/plain": [
       "PearsonRResult(statistic=0.7916395653045618, pvalue=7.674982027015801e-12)"
      ]
     },
     "execution_count": 80,
     "metadata": {},
     "output_type": "execute_result"
    }
   ],
   "source": [
    "import scipy.stats\n",
    "scipy.stats.pearsonr(numerical_df['energy'], numerical_df['loudness'])"
   ]
  },
  {
   "cell_type": "markdown",
   "id": "1c5f1cc3",
   "metadata": {},
   "source": [
    "**There is a strong positive correlation between song loudness and energy (p < 0.001), meaning that the bigger loudness feature, the greater song energy**"
   ]
  },
  {
   "cell_type": "markdown",
   "id": "6129b331",
   "metadata": {},
   "source": [
    "<span style='color:blue;'>Which features are strongly negatively correlated?"
   ]
  },
  {
   "cell_type": "code",
   "execution_count": 83,
   "id": "7970af33",
   "metadata": {},
   "outputs": [
    {
     "data": {
      "text/plain": [
       "energy            acousticness       -0.68\n",
       "loudness          instrumentalness   -0.55\n",
       "acousticness      energy             -0.68\n",
       "instrumentalness  loudness           -0.55\n",
       "dtype: float64"
      ]
     },
     "execution_count": 83,
     "metadata": {},
     "output_type": "execute_result"
    }
   ],
   "source": [
    "mask_negative = cor_matrix.lt(-0.5)\n",
    "cor_matrix[mask_negative].stack()"
   ]
  },
  {
   "cell_type": "code",
   "execution_count": 87,
   "id": "6978b324",
   "metadata": {},
   "outputs": [
    {
     "name": "stdout",
     "output_type": "stream",
     "text": [
      "PearsonRResult(statistic=-0.682478520324153, pvalue=4.795622803271117e-08)\n",
      "PearsonRResult(statistic=-0.5537348090851062, pvalue=3.0280913330404932e-05)\n"
     ]
    }
   ],
   "source": [
    "print(scipy.stats.pearsonr(numerical_df['energy'], numerical_df['acousticness']))\n",
    "print(scipy.stats.pearsonr(numerical_df['loudness'], numerical_df['instrumentalness']))"
   ]
  },
  {
   "cell_type": "markdown",
   "id": "25d0538b",
   "metadata": {},
   "source": [
    "**There is a strong negative correlation (p < 0.001) between song energy and acousticness and between loudness and instrumentalness, meaning that loud, fast songs(i.e. high in energy) are low in acoustics, and loud song are low in instrumentalness**"
   ]
  },
  {
   "cell_type": "markdown",
   "id": "0e727c48",
   "metadata": {},
   "source": [
    "<span style='color:blue;'>Which features are not correlated?</span> <br>\n",
    "    Basically that means finding all not significant p values"
   ]
  },
  {
   "cell_type": "code",
   "execution_count": 128,
   "id": "cc477d3e",
   "metadata": {},
   "outputs": [],
   "source": [
    "from itertools import combinations\n",
    "column_names = numerical_df.columns.tolist()\n",
    "column_pairs = list(combinations(column_names, 2))\n",
    "def p_notsignif(df = numerical_df, between = column_pairs):\n",
    "    p_value_dict = {}\n",
    "    for pair in between:\n",
    "        col1, col2 = pair\n",
    "        correlation, p_value = scipy.stats.pearsonr(df[col1], df[col2])\n",
    "        if p_value >0.05:\n",
    "            if col1 in p_value_dict:\n",
    "                p_value_dict[col1].append(col2)\n",
    "            else:\n",
    "                p_value_dict[col1] = [col2]\n",
    "            if col2 in p_value_dict:\n",
    "                p_value_dict[col2].append(col1)\n",
    "            else:\n",
    "                p_value_dict[col2] = [col1]\n",
    "    return p_value_dict"
   ]
  },
  {
   "cell_type": "code",
   "execution_count": 129,
   "id": "b36fad5f",
   "metadata": {},
   "outputs": [
    {
     "data": {
      "text/plain": [
       "{'energy': ['danceability',\n",
       "  'key',\n",
       "  'speechiness',\n",
       "  'liveness',\n",
       "  'tempo',\n",
       "  'duration_ms'],\n",
       " 'danceability': ['energy',\n",
       "  'loudness',\n",
       "  'speechiness',\n",
       "  'instrumentalness',\n",
       "  'liveness',\n",
       "  'tempo',\n",
       "  'duration_ms'],\n",
       " 'key': ['energy',\n",
       "  'loudness',\n",
       "  'acousticness',\n",
       "  'speechiness',\n",
       "  'instrumentalness',\n",
       "  'liveness',\n",
       "  'valence',\n",
       "  'tempo',\n",
       "  'duration_ms'],\n",
       " 'speechiness': ['energy',\n",
       "  'danceability',\n",
       "  'key',\n",
       "  'loudness',\n",
       "  'acousticness',\n",
       "  'instrumentalness',\n",
       "  'liveness',\n",
       "  'valence',\n",
       "  'tempo'],\n",
       " 'liveness': ['energy',\n",
       "  'danceability',\n",
       "  'key',\n",
       "  'loudness',\n",
       "  'acousticness',\n",
       "  'speechiness',\n",
       "  'instrumentalness',\n",
       "  'valence',\n",
       "  'tempo',\n",
       "  'duration_ms'],\n",
       " 'tempo': ['energy',\n",
       "  'danceability',\n",
       "  'key',\n",
       "  'loudness',\n",
       "  'acousticness',\n",
       "  'speechiness',\n",
       "  'instrumentalness',\n",
       "  'liveness',\n",
       "  'valence',\n",
       "  'duration_ms'],\n",
       " 'duration_ms': ['energy',\n",
       "  'danceability',\n",
       "  'key',\n",
       "  'loudness',\n",
       "  'acousticness',\n",
       "  'instrumentalness',\n",
       "  'liveness',\n",
       "  'valence',\n",
       "  'tempo'],\n",
       " 'loudness': ['danceability',\n",
       "  'key',\n",
       "  'speechiness',\n",
       "  'liveness',\n",
       "  'tempo',\n",
       "  'duration_ms'],\n",
       " 'instrumentalness': ['danceability',\n",
       "  'key',\n",
       "  'speechiness',\n",
       "  'liveness',\n",
       "  'valence',\n",
       "  'tempo',\n",
       "  'duration_ms'],\n",
       " 'acousticness': ['key',\n",
       "  'speechiness',\n",
       "  'liveness',\n",
       "  'valence',\n",
       "  'tempo',\n",
       "  'duration_ms'],\n",
       " 'valence': ['key',\n",
       "  'acousticness',\n",
       "  'speechiness',\n",
       "  'instrumentalness',\n",
       "  'liveness',\n",
       "  'tempo',\n",
       "  'duration_ms']}"
      ]
     },
     "execution_count": 129,
     "metadata": {},
     "output_type": "execute_result"
    }
   ],
   "source": [
    "p_notsignif()"
   ]
  },
  {
   "cell_type": "markdown",
   "id": "d949fbb8",
   "metadata": {},
   "source": [
    "**In this dictionary we can see which features do not correlate**"
   ]
  },
  {
   "cell_type": "markdown",
   "id": "76914693",
   "metadata": {},
   "source": [
    "<span style='color:blue;'>How does the danceability score compare between Pop, Hip-Hop/Rap, Dance/Electronic, and Alternative/Indie genres?"
   ]
  },
  {
   "cell_type": "code",
   "execution_count": 151,
   "id": "8ff71e93",
   "metadata": {},
   "outputs": [
    {
     "data": {
      "text/plain": [
       "genre\n",
       "Hip-Hop/Rap          0.766\n",
       "Dance/Electronic     0.755\n",
       "Pop                  0.678\n",
       "Alternative/Indie    0.662\n",
       "Name: danceability, dtype: float64"
      ]
     },
     "execution_count": 151,
     "metadata": {},
     "output_type": "execute_result"
    }
   ],
   "source": [
    "genre_filter = ['Pop', 'Hip-Hop/Rap', 'Dance/Electronic', 'Alternative/Indie']\n",
    "compare_dance = df[df['genre'].isin(genre_filter)].filter(items = ['danceability', 'genre'])\n",
    "compare_dance.groupby('genre')['danceability'].mean().round(3).sort_values(ascending=False)"
   ]
  },
  {
   "cell_type": "markdown",
   "id": "a5dc2791",
   "metadata": {},
   "source": [
    "**Hip-Hop/Rap has the highest mean danceability, closely followed by Dance/Electronics** It might be nicer to see the differences between these genres in a figure"
   ]
  },
  {
   "cell_type": "code",
   "execution_count": 150,
   "id": "56167fae",
   "metadata": {},
   "outputs": [
    {
     "data": {
      "application/vnd.plotly.v1+json": {
       "config": {
        "plotlyServerURL": "https://plot.ly"
       },
       "data": [
        {
         "alignmentgroup": "True",
         "hovertemplate": "genre=%{x}<br>danceability=%{y}<extra></extra>",
         "legendgroup": "",
         "marker": {
          "color": "#636efa"
         },
         "name": "",
         "notched": false,
         "offsetgroup": "",
         "orientation": "v",
         "showlegend": false,
         "type": "box",
         "x": [
          "Alternative/Indie",
          "Hip-Hop/Rap",
          "Dance/Electronic",
          "Hip-Hop/Rap",
          "Pop",
          "Hip-Hop/Rap",
          "Alternative/Indie",
          "Pop",
          "Hip-Hop/Rap",
          "Hip-Hop/Rap",
          "Pop",
          "Hip-Hop/Rap",
          "Alternative/Indie",
          "Pop",
          "Hip-Hop/Rap",
          "Hip-Hop/Rap",
          "Pop",
          "Dance/Electronic",
          "Pop",
          "Pop",
          "Hip-Hop/Rap",
          "Pop",
          "Alternative/Indie",
          "Dance/Electronic",
          "Pop",
          "Hip-Hop/Rap",
          "Pop",
          "Dance/Electronic",
          "Hip-Hop/Rap",
          "Pop",
          "Hip-Hop/Rap",
          "Pop",
          "Pop",
          "Pop",
          "Dance/Electronic",
          "Hip-Hop/Rap"
         ],
         "x0": " ",
         "xaxis": "x",
         "y": [
          0.825,
          0.896,
          0.785,
          0.746,
          0.548,
          0.726,
          0.501,
          0.803,
          0.621,
          0.774,
          0.806,
          0.83,
          0.459,
          0.764,
          0.795,
          0.767,
          0.676,
          0.789,
          0.704,
          0.759,
          0.808,
          0.676,
          0.862,
          0.674,
          0.672,
          0.598,
          0.783,
          0.88,
          0.841,
          0.723,
          0.716,
          0.511,
          0.597,
          0.464,
          0.647,
          0.834
         ],
         "y0": " ",
         "yaxis": "y"
        }
       ],
       "layout": {
        "boxmode": "group",
        "legend": {
         "tracegroupgap": 0
        },
        "template": {
         "data": {
          "bar": [
           {
            "error_x": {
             "color": "#2a3f5f"
            },
            "error_y": {
             "color": "#2a3f5f"
            },
            "marker": {
             "line": {
              "color": "#E5ECF6",
              "width": 0.5
             },
             "pattern": {
              "fillmode": "overlay",
              "size": 10,
              "solidity": 0.2
             }
            },
            "type": "bar"
           }
          ],
          "barpolar": [
           {
            "marker": {
             "line": {
              "color": "#E5ECF6",
              "width": 0.5
             },
             "pattern": {
              "fillmode": "overlay",
              "size": 10,
              "solidity": 0.2
             }
            },
            "type": "barpolar"
           }
          ],
          "carpet": [
           {
            "aaxis": {
             "endlinecolor": "#2a3f5f",
             "gridcolor": "white",
             "linecolor": "white",
             "minorgridcolor": "white",
             "startlinecolor": "#2a3f5f"
            },
            "baxis": {
             "endlinecolor": "#2a3f5f",
             "gridcolor": "white",
             "linecolor": "white",
             "minorgridcolor": "white",
             "startlinecolor": "#2a3f5f"
            },
            "type": "carpet"
           }
          ],
          "choropleth": [
           {
            "colorbar": {
             "outlinewidth": 0,
             "ticks": ""
            },
            "type": "choropleth"
           }
          ],
          "contour": [
           {
            "colorbar": {
             "outlinewidth": 0,
             "ticks": ""
            },
            "colorscale": [
             [
              0,
              "#0d0887"
             ],
             [
              0.1111111111111111,
              "#46039f"
             ],
             [
              0.2222222222222222,
              "#7201a8"
             ],
             [
              0.3333333333333333,
              "#9c179e"
             ],
             [
              0.4444444444444444,
              "#bd3786"
             ],
             [
              0.5555555555555556,
              "#d8576b"
             ],
             [
              0.6666666666666666,
              "#ed7953"
             ],
             [
              0.7777777777777778,
              "#fb9f3a"
             ],
             [
              0.8888888888888888,
              "#fdca26"
             ],
             [
              1,
              "#f0f921"
             ]
            ],
            "type": "contour"
           }
          ],
          "contourcarpet": [
           {
            "colorbar": {
             "outlinewidth": 0,
             "ticks": ""
            },
            "type": "contourcarpet"
           }
          ],
          "heatmap": [
           {
            "colorbar": {
             "outlinewidth": 0,
             "ticks": ""
            },
            "colorscale": [
             [
              0,
              "#0d0887"
             ],
             [
              0.1111111111111111,
              "#46039f"
             ],
             [
              0.2222222222222222,
              "#7201a8"
             ],
             [
              0.3333333333333333,
              "#9c179e"
             ],
             [
              0.4444444444444444,
              "#bd3786"
             ],
             [
              0.5555555555555556,
              "#d8576b"
             ],
             [
              0.6666666666666666,
              "#ed7953"
             ],
             [
              0.7777777777777778,
              "#fb9f3a"
             ],
             [
              0.8888888888888888,
              "#fdca26"
             ],
             [
              1,
              "#f0f921"
             ]
            ],
            "type": "heatmap"
           }
          ],
          "heatmapgl": [
           {
            "colorbar": {
             "outlinewidth": 0,
             "ticks": ""
            },
            "colorscale": [
             [
              0,
              "#0d0887"
             ],
             [
              0.1111111111111111,
              "#46039f"
             ],
             [
              0.2222222222222222,
              "#7201a8"
             ],
             [
              0.3333333333333333,
              "#9c179e"
             ],
             [
              0.4444444444444444,
              "#bd3786"
             ],
             [
              0.5555555555555556,
              "#d8576b"
             ],
             [
              0.6666666666666666,
              "#ed7953"
             ],
             [
              0.7777777777777778,
              "#fb9f3a"
             ],
             [
              0.8888888888888888,
              "#fdca26"
             ],
             [
              1,
              "#f0f921"
             ]
            ],
            "type": "heatmapgl"
           }
          ],
          "histogram": [
           {
            "marker": {
             "pattern": {
              "fillmode": "overlay",
              "size": 10,
              "solidity": 0.2
             }
            },
            "type": "histogram"
           }
          ],
          "histogram2d": [
           {
            "colorbar": {
             "outlinewidth": 0,
             "ticks": ""
            },
            "colorscale": [
             [
              0,
              "#0d0887"
             ],
             [
              0.1111111111111111,
              "#46039f"
             ],
             [
              0.2222222222222222,
              "#7201a8"
             ],
             [
              0.3333333333333333,
              "#9c179e"
             ],
             [
              0.4444444444444444,
              "#bd3786"
             ],
             [
              0.5555555555555556,
              "#d8576b"
             ],
             [
              0.6666666666666666,
              "#ed7953"
             ],
             [
              0.7777777777777778,
              "#fb9f3a"
             ],
             [
              0.8888888888888888,
              "#fdca26"
             ],
             [
              1,
              "#f0f921"
             ]
            ],
            "type": "histogram2d"
           }
          ],
          "histogram2dcontour": [
           {
            "colorbar": {
             "outlinewidth": 0,
             "ticks": ""
            },
            "colorscale": [
             [
              0,
              "#0d0887"
             ],
             [
              0.1111111111111111,
              "#46039f"
             ],
             [
              0.2222222222222222,
              "#7201a8"
             ],
             [
              0.3333333333333333,
              "#9c179e"
             ],
             [
              0.4444444444444444,
              "#bd3786"
             ],
             [
              0.5555555555555556,
              "#d8576b"
             ],
             [
              0.6666666666666666,
              "#ed7953"
             ],
             [
              0.7777777777777778,
              "#fb9f3a"
             ],
             [
              0.8888888888888888,
              "#fdca26"
             ],
             [
              1,
              "#f0f921"
             ]
            ],
            "type": "histogram2dcontour"
           }
          ],
          "mesh3d": [
           {
            "colorbar": {
             "outlinewidth": 0,
             "ticks": ""
            },
            "type": "mesh3d"
           }
          ],
          "parcoords": [
           {
            "line": {
             "colorbar": {
              "outlinewidth": 0,
              "ticks": ""
             }
            },
            "type": "parcoords"
           }
          ],
          "pie": [
           {
            "automargin": true,
            "type": "pie"
           }
          ],
          "scatter": [
           {
            "fillpattern": {
             "fillmode": "overlay",
             "size": 10,
             "solidity": 0.2
            },
            "type": "scatter"
           }
          ],
          "scatter3d": [
           {
            "line": {
             "colorbar": {
              "outlinewidth": 0,
              "ticks": ""
             }
            },
            "marker": {
             "colorbar": {
              "outlinewidth": 0,
              "ticks": ""
             }
            },
            "type": "scatter3d"
           }
          ],
          "scattercarpet": [
           {
            "marker": {
             "colorbar": {
              "outlinewidth": 0,
              "ticks": ""
             }
            },
            "type": "scattercarpet"
           }
          ],
          "scattergeo": [
           {
            "marker": {
             "colorbar": {
              "outlinewidth": 0,
              "ticks": ""
             }
            },
            "type": "scattergeo"
           }
          ],
          "scattergl": [
           {
            "marker": {
             "colorbar": {
              "outlinewidth": 0,
              "ticks": ""
             }
            },
            "type": "scattergl"
           }
          ],
          "scattermapbox": [
           {
            "marker": {
             "colorbar": {
              "outlinewidth": 0,
              "ticks": ""
             }
            },
            "type": "scattermapbox"
           }
          ],
          "scatterpolar": [
           {
            "marker": {
             "colorbar": {
              "outlinewidth": 0,
              "ticks": ""
             }
            },
            "type": "scatterpolar"
           }
          ],
          "scatterpolargl": [
           {
            "marker": {
             "colorbar": {
              "outlinewidth": 0,
              "ticks": ""
             }
            },
            "type": "scatterpolargl"
           }
          ],
          "scatterternary": [
           {
            "marker": {
             "colorbar": {
              "outlinewidth": 0,
              "ticks": ""
             }
            },
            "type": "scatterternary"
           }
          ],
          "surface": [
           {
            "colorbar": {
             "outlinewidth": 0,
             "ticks": ""
            },
            "colorscale": [
             [
              0,
              "#0d0887"
             ],
             [
              0.1111111111111111,
              "#46039f"
             ],
             [
              0.2222222222222222,
              "#7201a8"
             ],
             [
              0.3333333333333333,
              "#9c179e"
             ],
             [
              0.4444444444444444,
              "#bd3786"
             ],
             [
              0.5555555555555556,
              "#d8576b"
             ],
             [
              0.6666666666666666,
              "#ed7953"
             ],
             [
              0.7777777777777778,
              "#fb9f3a"
             ],
             [
              0.8888888888888888,
              "#fdca26"
             ],
             [
              1,
              "#f0f921"
             ]
            ],
            "type": "surface"
           }
          ],
          "table": [
           {
            "cells": {
             "fill": {
              "color": "#EBF0F8"
             },
             "line": {
              "color": "white"
             }
            },
            "header": {
             "fill": {
              "color": "#C8D4E3"
             },
             "line": {
              "color": "white"
             }
            },
            "type": "table"
           }
          ]
         },
         "layout": {
          "annotationdefaults": {
           "arrowcolor": "#2a3f5f",
           "arrowhead": 0,
           "arrowwidth": 1
          },
          "autotypenumbers": "strict",
          "coloraxis": {
           "colorbar": {
            "outlinewidth": 0,
            "ticks": ""
           }
          },
          "colorscale": {
           "diverging": [
            [
             0,
             "#8e0152"
            ],
            [
             0.1,
             "#c51b7d"
            ],
            [
             0.2,
             "#de77ae"
            ],
            [
             0.3,
             "#f1b6da"
            ],
            [
             0.4,
             "#fde0ef"
            ],
            [
             0.5,
             "#f7f7f7"
            ],
            [
             0.6,
             "#e6f5d0"
            ],
            [
             0.7,
             "#b8e186"
            ],
            [
             0.8,
             "#7fbc41"
            ],
            [
             0.9,
             "#4d9221"
            ],
            [
             1,
             "#276419"
            ]
           ],
           "sequential": [
            [
             0,
             "#0d0887"
            ],
            [
             0.1111111111111111,
             "#46039f"
            ],
            [
             0.2222222222222222,
             "#7201a8"
            ],
            [
             0.3333333333333333,
             "#9c179e"
            ],
            [
             0.4444444444444444,
             "#bd3786"
            ],
            [
             0.5555555555555556,
             "#d8576b"
            ],
            [
             0.6666666666666666,
             "#ed7953"
            ],
            [
             0.7777777777777778,
             "#fb9f3a"
            ],
            [
             0.8888888888888888,
             "#fdca26"
            ],
            [
             1,
             "#f0f921"
            ]
           ],
           "sequentialminus": [
            [
             0,
             "#0d0887"
            ],
            [
             0.1111111111111111,
             "#46039f"
            ],
            [
             0.2222222222222222,
             "#7201a8"
            ],
            [
             0.3333333333333333,
             "#9c179e"
            ],
            [
             0.4444444444444444,
             "#bd3786"
            ],
            [
             0.5555555555555556,
             "#d8576b"
            ],
            [
             0.6666666666666666,
             "#ed7953"
            ],
            [
             0.7777777777777778,
             "#fb9f3a"
            ],
            [
             0.8888888888888888,
             "#fdca26"
            ],
            [
             1,
             "#f0f921"
            ]
           ]
          },
          "colorway": [
           "#636efa",
           "#EF553B",
           "#00cc96",
           "#ab63fa",
           "#FFA15A",
           "#19d3f3",
           "#FF6692",
           "#B6E880",
           "#FF97FF",
           "#FECB52"
          ],
          "font": {
           "color": "#2a3f5f"
          },
          "geo": {
           "bgcolor": "white",
           "lakecolor": "white",
           "landcolor": "#E5ECF6",
           "showlakes": true,
           "showland": true,
           "subunitcolor": "white"
          },
          "hoverlabel": {
           "align": "left"
          },
          "hovermode": "closest",
          "mapbox": {
           "style": "light"
          },
          "paper_bgcolor": "white",
          "plot_bgcolor": "#E5ECF6",
          "polar": {
           "angularaxis": {
            "gridcolor": "white",
            "linecolor": "white",
            "ticks": ""
           },
           "bgcolor": "#E5ECF6",
           "radialaxis": {
            "gridcolor": "white",
            "linecolor": "white",
            "ticks": ""
           }
          },
          "scene": {
           "xaxis": {
            "backgroundcolor": "#E5ECF6",
            "gridcolor": "white",
            "gridwidth": 2,
            "linecolor": "white",
            "showbackground": true,
            "ticks": "",
            "zerolinecolor": "white"
           },
           "yaxis": {
            "backgroundcolor": "#E5ECF6",
            "gridcolor": "white",
            "gridwidth": 2,
            "linecolor": "white",
            "showbackground": true,
            "ticks": "",
            "zerolinecolor": "white"
           },
           "zaxis": {
            "backgroundcolor": "#E5ECF6",
            "gridcolor": "white",
            "gridwidth": 2,
            "linecolor": "white",
            "showbackground": true,
            "ticks": "",
            "zerolinecolor": "white"
           }
          },
          "shapedefaults": {
           "line": {
            "color": "#2a3f5f"
           }
          },
          "ternary": {
           "aaxis": {
            "gridcolor": "white",
            "linecolor": "white",
            "ticks": ""
           },
           "baxis": {
            "gridcolor": "white",
            "linecolor": "white",
            "ticks": ""
           },
           "bgcolor": "#E5ECF6",
           "caxis": {
            "gridcolor": "white",
            "linecolor": "white",
            "ticks": ""
           }
          },
          "title": {
           "x": 0.05
          },
          "xaxis": {
           "automargin": true,
           "gridcolor": "white",
           "linecolor": "white",
           "ticks": "",
           "title": {
            "standoff": 15
           },
           "zerolinecolor": "white",
           "zerolinewidth": 2
          },
          "yaxis": {
           "automargin": true,
           "gridcolor": "white",
           "linecolor": "white",
           "ticks": "",
           "title": {
            "standoff": 15
           },
           "zerolinecolor": "white",
           "zerolinewidth": 2
          }
         }
        },
        "title": {
         "text": "Comparison of danceability"
        },
        "xaxis": {
         "anchor": "y",
         "domain": [
          0,
          1
         ],
         "title": {
          "text": "genre"
         }
        },
        "yaxis": {
         "anchor": "x",
         "domain": [
          0,
          1
         ],
         "title": {
          "text": "danceability"
         }
        }
       }
      },
      "text/html": [
       "<div>                            <div id=\"1b706a0b-89d8-4d19-9351-b75d9b145431\" class=\"plotly-graph-div\" style=\"height:525px; width:100%;\"></div>            <script type=\"text/javascript\">                require([\"plotly\"], function(Plotly) {                    window.PLOTLYENV=window.PLOTLYENV || {};                                    if (document.getElementById(\"1b706a0b-89d8-4d19-9351-b75d9b145431\")) {                    Plotly.newPlot(                        \"1b706a0b-89d8-4d19-9351-b75d9b145431\",                        [{\"alignmentgroup\":\"True\",\"hovertemplate\":\"genre=%{x}<br>danceability=%{y}<extra></extra>\",\"legendgroup\":\"\",\"marker\":{\"color\":\"#636efa\"},\"name\":\"\",\"notched\":false,\"offsetgroup\":\"\",\"orientation\":\"v\",\"showlegend\":false,\"x\":[\"Alternative/Indie\",\"Hip-Hop/Rap\",\"Dance/Electronic\",\"Hip-Hop/Rap\",\"Pop\",\"Hip-Hop/Rap\",\"Alternative/Indie\",\"Pop\",\"Hip-Hop/Rap\",\"Hip-Hop/Rap\",\"Pop\",\"Hip-Hop/Rap\",\"Alternative/Indie\",\"Pop\",\"Hip-Hop/Rap\",\"Hip-Hop/Rap\",\"Pop\",\"Dance/Electronic\",\"Pop\",\"Pop\",\"Hip-Hop/Rap\",\"Pop\",\"Alternative/Indie\",\"Dance/Electronic\",\"Pop\",\"Hip-Hop/Rap\",\"Pop\",\"Dance/Electronic\",\"Hip-Hop/Rap\",\"Pop\",\"Hip-Hop/Rap\",\"Pop\",\"Pop\",\"Pop\",\"Dance/Electronic\",\"Hip-Hop/Rap\"],\"x0\":\" \",\"xaxis\":\"x\",\"y\":[0.825,0.896,0.785,0.746,0.548,0.726,0.501,0.803,0.621,0.774,0.806,0.83,0.459,0.764,0.795,0.767,0.676,0.789,0.704,0.759,0.808,0.676,0.862,0.674,0.672,0.598,0.783,0.88,0.841,0.723,0.716,0.511,0.597,0.464,0.647,0.834],\"y0\":\" \",\"yaxis\":\"y\",\"type\":\"box\"}],                        {\"template\":{\"data\":{\"histogram2dcontour\":[{\"type\":\"histogram2dcontour\",\"colorbar\":{\"outlinewidth\":0,\"ticks\":\"\"},\"colorscale\":[[0.0,\"#0d0887\"],[0.1111111111111111,\"#46039f\"],[0.2222222222222222,\"#7201a8\"],[0.3333333333333333,\"#9c179e\"],[0.4444444444444444,\"#bd3786\"],[0.5555555555555556,\"#d8576b\"],[0.6666666666666666,\"#ed7953\"],[0.7777777777777778,\"#fb9f3a\"],[0.8888888888888888,\"#fdca26\"],[1.0,\"#f0f921\"]]}],\"choropleth\":[{\"type\":\"choropleth\",\"colorbar\":{\"outlinewidth\":0,\"ticks\":\"\"}}],\"histogram2d\":[{\"type\":\"histogram2d\",\"colorbar\":{\"outlinewidth\":0,\"ticks\":\"\"},\"colorscale\":[[0.0,\"#0d0887\"],[0.1111111111111111,\"#46039f\"],[0.2222222222222222,\"#7201a8\"],[0.3333333333333333,\"#9c179e\"],[0.4444444444444444,\"#bd3786\"],[0.5555555555555556,\"#d8576b\"],[0.6666666666666666,\"#ed7953\"],[0.7777777777777778,\"#fb9f3a\"],[0.8888888888888888,\"#fdca26\"],[1.0,\"#f0f921\"]]}],\"heatmap\":[{\"type\":\"heatmap\",\"colorbar\":{\"outlinewidth\":0,\"ticks\":\"\"},\"colorscale\":[[0.0,\"#0d0887\"],[0.1111111111111111,\"#46039f\"],[0.2222222222222222,\"#7201a8\"],[0.3333333333333333,\"#9c179e\"],[0.4444444444444444,\"#bd3786\"],[0.5555555555555556,\"#d8576b\"],[0.6666666666666666,\"#ed7953\"],[0.7777777777777778,\"#fb9f3a\"],[0.8888888888888888,\"#fdca26\"],[1.0,\"#f0f921\"]]}],\"heatmapgl\":[{\"type\":\"heatmapgl\",\"colorbar\":{\"outlinewidth\":0,\"ticks\":\"\"},\"colorscale\":[[0.0,\"#0d0887\"],[0.1111111111111111,\"#46039f\"],[0.2222222222222222,\"#7201a8\"],[0.3333333333333333,\"#9c179e\"],[0.4444444444444444,\"#bd3786\"],[0.5555555555555556,\"#d8576b\"],[0.6666666666666666,\"#ed7953\"],[0.7777777777777778,\"#fb9f3a\"],[0.8888888888888888,\"#fdca26\"],[1.0,\"#f0f921\"]]}],\"contourcarpet\":[{\"type\":\"contourcarpet\",\"colorbar\":{\"outlinewidth\":0,\"ticks\":\"\"}}],\"contour\":[{\"type\":\"contour\",\"colorbar\":{\"outlinewidth\":0,\"ticks\":\"\"},\"colorscale\":[[0.0,\"#0d0887\"],[0.1111111111111111,\"#46039f\"],[0.2222222222222222,\"#7201a8\"],[0.3333333333333333,\"#9c179e\"],[0.4444444444444444,\"#bd3786\"],[0.5555555555555556,\"#d8576b\"],[0.6666666666666666,\"#ed7953\"],[0.7777777777777778,\"#fb9f3a\"],[0.8888888888888888,\"#fdca26\"],[1.0,\"#f0f921\"]]}],\"surface\":[{\"type\":\"surface\",\"colorbar\":{\"outlinewidth\":0,\"ticks\":\"\"},\"colorscale\":[[0.0,\"#0d0887\"],[0.1111111111111111,\"#46039f\"],[0.2222222222222222,\"#7201a8\"],[0.3333333333333333,\"#9c179e\"],[0.4444444444444444,\"#bd3786\"],[0.5555555555555556,\"#d8576b\"],[0.6666666666666666,\"#ed7953\"],[0.7777777777777778,\"#fb9f3a\"],[0.8888888888888888,\"#fdca26\"],[1.0,\"#f0f921\"]]}],\"mesh3d\":[{\"type\":\"mesh3d\",\"colorbar\":{\"outlinewidth\":0,\"ticks\":\"\"}}],\"scatter\":[{\"fillpattern\":{\"fillmode\":\"overlay\",\"size\":10,\"solidity\":0.2},\"type\":\"scatter\"}],\"parcoords\":[{\"type\":\"parcoords\",\"line\":{\"colorbar\":{\"outlinewidth\":0,\"ticks\":\"\"}}}],\"scatterpolargl\":[{\"type\":\"scatterpolargl\",\"marker\":{\"colorbar\":{\"outlinewidth\":0,\"ticks\":\"\"}}}],\"bar\":[{\"error_x\":{\"color\":\"#2a3f5f\"},\"error_y\":{\"color\":\"#2a3f5f\"},\"marker\":{\"line\":{\"color\":\"#E5ECF6\",\"width\":0.5},\"pattern\":{\"fillmode\":\"overlay\",\"size\":10,\"solidity\":0.2}},\"type\":\"bar\"}],\"scattergeo\":[{\"type\":\"scattergeo\",\"marker\":{\"colorbar\":{\"outlinewidth\":0,\"ticks\":\"\"}}}],\"scatterpolar\":[{\"type\":\"scatterpolar\",\"marker\":{\"colorbar\":{\"outlinewidth\":0,\"ticks\":\"\"}}}],\"histogram\":[{\"marker\":{\"pattern\":{\"fillmode\":\"overlay\",\"size\":10,\"solidity\":0.2}},\"type\":\"histogram\"}],\"scattergl\":[{\"type\":\"scattergl\",\"marker\":{\"colorbar\":{\"outlinewidth\":0,\"ticks\":\"\"}}}],\"scatter3d\":[{\"type\":\"scatter3d\",\"line\":{\"colorbar\":{\"outlinewidth\":0,\"ticks\":\"\"}},\"marker\":{\"colorbar\":{\"outlinewidth\":0,\"ticks\":\"\"}}}],\"scattermapbox\":[{\"type\":\"scattermapbox\",\"marker\":{\"colorbar\":{\"outlinewidth\":0,\"ticks\":\"\"}}}],\"scatterternary\":[{\"type\":\"scatterternary\",\"marker\":{\"colorbar\":{\"outlinewidth\":0,\"ticks\":\"\"}}}],\"scattercarpet\":[{\"type\":\"scattercarpet\",\"marker\":{\"colorbar\":{\"outlinewidth\":0,\"ticks\":\"\"}}}],\"carpet\":[{\"aaxis\":{\"endlinecolor\":\"#2a3f5f\",\"gridcolor\":\"white\",\"linecolor\":\"white\",\"minorgridcolor\":\"white\",\"startlinecolor\":\"#2a3f5f\"},\"baxis\":{\"endlinecolor\":\"#2a3f5f\",\"gridcolor\":\"white\",\"linecolor\":\"white\",\"minorgridcolor\":\"white\",\"startlinecolor\":\"#2a3f5f\"},\"type\":\"carpet\"}],\"table\":[{\"cells\":{\"fill\":{\"color\":\"#EBF0F8\"},\"line\":{\"color\":\"white\"}},\"header\":{\"fill\":{\"color\":\"#C8D4E3\"},\"line\":{\"color\":\"white\"}},\"type\":\"table\"}],\"barpolar\":[{\"marker\":{\"line\":{\"color\":\"#E5ECF6\",\"width\":0.5},\"pattern\":{\"fillmode\":\"overlay\",\"size\":10,\"solidity\":0.2}},\"type\":\"barpolar\"}],\"pie\":[{\"automargin\":true,\"type\":\"pie\"}]},\"layout\":{\"autotypenumbers\":\"strict\",\"colorway\":[\"#636efa\",\"#EF553B\",\"#00cc96\",\"#ab63fa\",\"#FFA15A\",\"#19d3f3\",\"#FF6692\",\"#B6E880\",\"#FF97FF\",\"#FECB52\"],\"font\":{\"color\":\"#2a3f5f\"},\"hovermode\":\"closest\",\"hoverlabel\":{\"align\":\"left\"},\"paper_bgcolor\":\"white\",\"plot_bgcolor\":\"#E5ECF6\",\"polar\":{\"bgcolor\":\"#E5ECF6\",\"angularaxis\":{\"gridcolor\":\"white\",\"linecolor\":\"white\",\"ticks\":\"\"},\"radialaxis\":{\"gridcolor\":\"white\",\"linecolor\":\"white\",\"ticks\":\"\"}},\"ternary\":{\"bgcolor\":\"#E5ECF6\",\"aaxis\":{\"gridcolor\":\"white\",\"linecolor\":\"white\",\"ticks\":\"\"},\"baxis\":{\"gridcolor\":\"white\",\"linecolor\":\"white\",\"ticks\":\"\"},\"caxis\":{\"gridcolor\":\"white\",\"linecolor\":\"white\",\"ticks\":\"\"}},\"coloraxis\":{\"colorbar\":{\"outlinewidth\":0,\"ticks\":\"\"}},\"colorscale\":{\"sequential\":[[0.0,\"#0d0887\"],[0.1111111111111111,\"#46039f\"],[0.2222222222222222,\"#7201a8\"],[0.3333333333333333,\"#9c179e\"],[0.4444444444444444,\"#bd3786\"],[0.5555555555555556,\"#d8576b\"],[0.6666666666666666,\"#ed7953\"],[0.7777777777777778,\"#fb9f3a\"],[0.8888888888888888,\"#fdca26\"],[1.0,\"#f0f921\"]],\"sequentialminus\":[[0.0,\"#0d0887\"],[0.1111111111111111,\"#46039f\"],[0.2222222222222222,\"#7201a8\"],[0.3333333333333333,\"#9c179e\"],[0.4444444444444444,\"#bd3786\"],[0.5555555555555556,\"#d8576b\"],[0.6666666666666666,\"#ed7953\"],[0.7777777777777778,\"#fb9f3a\"],[0.8888888888888888,\"#fdca26\"],[1.0,\"#f0f921\"]],\"diverging\":[[0,\"#8e0152\"],[0.1,\"#c51b7d\"],[0.2,\"#de77ae\"],[0.3,\"#f1b6da\"],[0.4,\"#fde0ef\"],[0.5,\"#f7f7f7\"],[0.6,\"#e6f5d0\"],[0.7,\"#b8e186\"],[0.8,\"#7fbc41\"],[0.9,\"#4d9221\"],[1,\"#276419\"]]},\"xaxis\":{\"gridcolor\":\"white\",\"linecolor\":\"white\",\"ticks\":\"\",\"title\":{\"standoff\":15},\"zerolinecolor\":\"white\",\"automargin\":true,\"zerolinewidth\":2},\"yaxis\":{\"gridcolor\":\"white\",\"linecolor\":\"white\",\"ticks\":\"\",\"title\":{\"standoff\":15},\"zerolinecolor\":\"white\",\"automargin\":true,\"zerolinewidth\":2},\"scene\":{\"xaxis\":{\"backgroundcolor\":\"#E5ECF6\",\"gridcolor\":\"white\",\"linecolor\":\"white\",\"showbackground\":true,\"ticks\":\"\",\"zerolinecolor\":\"white\",\"gridwidth\":2},\"yaxis\":{\"backgroundcolor\":\"#E5ECF6\",\"gridcolor\":\"white\",\"linecolor\":\"white\",\"showbackground\":true,\"ticks\":\"\",\"zerolinecolor\":\"white\",\"gridwidth\":2},\"zaxis\":{\"backgroundcolor\":\"#E5ECF6\",\"gridcolor\":\"white\",\"linecolor\":\"white\",\"showbackground\":true,\"ticks\":\"\",\"zerolinecolor\":\"white\",\"gridwidth\":2}},\"shapedefaults\":{\"line\":{\"color\":\"#2a3f5f\"}},\"annotationdefaults\":{\"arrowcolor\":\"#2a3f5f\",\"arrowhead\":0,\"arrowwidth\":1},\"geo\":{\"bgcolor\":\"white\",\"landcolor\":\"#E5ECF6\",\"subunitcolor\":\"white\",\"showland\":true,\"showlakes\":true,\"lakecolor\":\"white\"},\"title\":{\"x\":0.05},\"mapbox\":{\"style\":\"light\"}}},\"xaxis\":{\"anchor\":\"y\",\"domain\":[0.0,1.0],\"title\":{\"text\":\"genre\"}},\"yaxis\":{\"anchor\":\"x\",\"domain\":[0.0,1.0],\"title\":{\"text\":\"danceability\"}},\"legend\":{\"tracegroupgap\":0},\"title\":{\"text\":\"Comparison of danceability\"},\"boxmode\":\"group\"},                        {\"responsive\": true}                    ).then(function(){\n",
       "                            \n",
       "var gd = document.getElementById('1b706a0b-89d8-4d19-9351-b75d9b145431');\n",
       "var x = new MutationObserver(function (mutations, observer) {{\n",
       "        var display = window.getComputedStyle(gd).display;\n",
       "        if (!display || display === 'none') {{\n",
       "            console.log([gd, 'removed!']);\n",
       "            Plotly.purge(gd);\n",
       "            observer.disconnect();\n",
       "        }}\n",
       "}});\n",
       "\n",
       "// Listen for the removal of the full notebook cells\n",
       "var notebookContainer = gd.closest('#notebook-container');\n",
       "if (notebookContainer) {{\n",
       "    x.observe(notebookContainer, {childList: true});\n",
       "}}\n",
       "\n",
       "// Listen for the clearing of the current output cell\n",
       "var outputEl = gd.closest('.output');\n",
       "if (outputEl) {{\n",
       "    x.observe(outputEl, {childList: true});\n",
       "}}\n",
       "\n",
       "                        })                };                });            </script>        </div>"
      ]
     },
     "metadata": {},
     "output_type": "display_data"
    }
   ],
   "source": [
    "px.box(compare_dance,x = 'genre', y = 'danceability', title=\"Comparison of danceability\")"
   ]
  },
  {
   "cell_type": "markdown",
   "id": "747d4560",
   "metadata": {},
   "source": [
    "**We can see that Dance/Electronics has higher danceability median and lower variation than Hip-Hop/Rap, making this genre more 'dancy' than the rest. Both mean and median danceability of Alternative/Indie is the lowest, however based on the boxplot we can see that there's 25% chance to come across realy 'dancy' Alternative/Indie song. Pop is scored slightly higher in danceability than Alternative/Indie overall**"
   ]
  },
  {
   "cell_type": "markdown",
   "id": "740f86f4",
   "metadata": {},
   "source": [
    "<span style='color:blue;'>How does the loudness score compare between Pop, Hip-Hop/Rap, Dance/Electronic, and Alternative/Indie genres?"
   ]
  },
  {
   "cell_type": "code",
   "execution_count": 160,
   "id": "8bfc20ec",
   "metadata": {},
   "outputs": [
    {
     "data": {
      "text/plain": [
       "genre\n",
       "Dance/Electronic    -5.34\n",
       "Alternative/Indie   -5.42\n",
       "Pop                 -6.46\n",
       "Hip-Hop/Rap         -6.92\n",
       "Name: loudness, dtype: float64"
      ]
     },
     "execution_count": 160,
     "metadata": {},
     "output_type": "execute_result"
    }
   ],
   "source": [
    "compare_loud = df[df['genre'].isin(genre_filter)].filter(items = ['loudness', 'genre'])\n",
    "compare_loud.groupby('genre')['loudness'].mean().round(2).sort_values(ascending=False)\n",
    "# compare_loud"
   ]
  },
  {
   "cell_type": "code",
   "execution_count": 161,
   "id": "1657afde",
   "metadata": {},
   "outputs": [
    {
     "data": {
      "application/vnd.plotly.v1+json": {
       "config": {
        "plotlyServerURL": "https://plot.ly"
       },
       "data": [
        {
         "alignmentgroup": "True",
         "hovertemplate": "genre=%{x}<br>loudness=%{y}<extra></extra>",
         "legendgroup": "",
         "marker": {
          "color": "#636efa"
         },
         "name": "",
         "notched": false,
         "offsetgroup": "",
         "orientation": "v",
         "showlegend": false,
         "type": "box",
         "x": [
          "Alternative/Indie",
          "Hip-Hop/Rap",
          "Dance/Electronic",
          "Hip-Hop/Rap",
          "Pop",
          "Hip-Hop/Rap",
          "Alternative/Indie",
          "Pop",
          "Hip-Hop/Rap",
          "Hip-Hop/Rap",
          "Pop",
          "Hip-Hop/Rap",
          "Alternative/Indie",
          "Pop",
          "Hip-Hop/Rap",
          "Hip-Hop/Rap",
          "Pop",
          "Dance/Electronic",
          "Pop",
          "Pop",
          "Hip-Hop/Rap",
          "Pop",
          "Alternative/Indie",
          "Dance/Electronic",
          "Pop",
          "Hip-Hop/Rap",
          "Pop",
          "Dance/Electronic",
          "Hip-Hop/Rap",
          "Pop",
          "Hip-Hop/Rap",
          "Pop",
          "Pop",
          "Pop",
          "Dance/Electronic",
          "Hip-Hop/Rap"
         ],
         "x0": " ",
         "xaxis": "x",
         "y": [
          -6.401,
          -6.687,
          -5.457,
          -7.956,
          -4.209,
          -8.765,
          -5.679,
          -3.28,
          -5.616,
          -7.909,
          -6.637,
          -8.82,
          -4.858,
          -7.209,
          -6.903,
          -8.52,
          -3.675,
          -5.652,
          -14.454,
          -6.049,
          -5.26,
          -6.652,
          -4.746,
          -7.567,
          -3.764,
          -8.764,
          -3.454,
          -4.258,
          -3.37,
          -7.088,
          -7.648,
          -7.23,
          -6.658,
          -10.086,
          -3.756,
          -3.714
         ],
         "y0": " ",
         "yaxis": "y"
        }
       ],
       "layout": {
        "boxmode": "group",
        "legend": {
         "tracegroupgap": 0
        },
        "template": {
         "data": {
          "bar": [
           {
            "error_x": {
             "color": "#2a3f5f"
            },
            "error_y": {
             "color": "#2a3f5f"
            },
            "marker": {
             "line": {
              "color": "#E5ECF6",
              "width": 0.5
             },
             "pattern": {
              "fillmode": "overlay",
              "size": 10,
              "solidity": 0.2
             }
            },
            "type": "bar"
           }
          ],
          "barpolar": [
           {
            "marker": {
             "line": {
              "color": "#E5ECF6",
              "width": 0.5
             },
             "pattern": {
              "fillmode": "overlay",
              "size": 10,
              "solidity": 0.2
             }
            },
            "type": "barpolar"
           }
          ],
          "carpet": [
           {
            "aaxis": {
             "endlinecolor": "#2a3f5f",
             "gridcolor": "white",
             "linecolor": "white",
             "minorgridcolor": "white",
             "startlinecolor": "#2a3f5f"
            },
            "baxis": {
             "endlinecolor": "#2a3f5f",
             "gridcolor": "white",
             "linecolor": "white",
             "minorgridcolor": "white",
             "startlinecolor": "#2a3f5f"
            },
            "type": "carpet"
           }
          ],
          "choropleth": [
           {
            "colorbar": {
             "outlinewidth": 0,
             "ticks": ""
            },
            "type": "choropleth"
           }
          ],
          "contour": [
           {
            "colorbar": {
             "outlinewidth": 0,
             "ticks": ""
            },
            "colorscale": [
             [
              0,
              "#0d0887"
             ],
             [
              0.1111111111111111,
              "#46039f"
             ],
             [
              0.2222222222222222,
              "#7201a8"
             ],
             [
              0.3333333333333333,
              "#9c179e"
             ],
             [
              0.4444444444444444,
              "#bd3786"
             ],
             [
              0.5555555555555556,
              "#d8576b"
             ],
             [
              0.6666666666666666,
              "#ed7953"
             ],
             [
              0.7777777777777778,
              "#fb9f3a"
             ],
             [
              0.8888888888888888,
              "#fdca26"
             ],
             [
              1,
              "#f0f921"
             ]
            ],
            "type": "contour"
           }
          ],
          "contourcarpet": [
           {
            "colorbar": {
             "outlinewidth": 0,
             "ticks": ""
            },
            "type": "contourcarpet"
           }
          ],
          "heatmap": [
           {
            "colorbar": {
             "outlinewidth": 0,
             "ticks": ""
            },
            "colorscale": [
             [
              0,
              "#0d0887"
             ],
             [
              0.1111111111111111,
              "#46039f"
             ],
             [
              0.2222222222222222,
              "#7201a8"
             ],
             [
              0.3333333333333333,
              "#9c179e"
             ],
             [
              0.4444444444444444,
              "#bd3786"
             ],
             [
              0.5555555555555556,
              "#d8576b"
             ],
             [
              0.6666666666666666,
              "#ed7953"
             ],
             [
              0.7777777777777778,
              "#fb9f3a"
             ],
             [
              0.8888888888888888,
              "#fdca26"
             ],
             [
              1,
              "#f0f921"
             ]
            ],
            "type": "heatmap"
           }
          ],
          "heatmapgl": [
           {
            "colorbar": {
             "outlinewidth": 0,
             "ticks": ""
            },
            "colorscale": [
             [
              0,
              "#0d0887"
             ],
             [
              0.1111111111111111,
              "#46039f"
             ],
             [
              0.2222222222222222,
              "#7201a8"
             ],
             [
              0.3333333333333333,
              "#9c179e"
             ],
             [
              0.4444444444444444,
              "#bd3786"
             ],
             [
              0.5555555555555556,
              "#d8576b"
             ],
             [
              0.6666666666666666,
              "#ed7953"
             ],
             [
              0.7777777777777778,
              "#fb9f3a"
             ],
             [
              0.8888888888888888,
              "#fdca26"
             ],
             [
              1,
              "#f0f921"
             ]
            ],
            "type": "heatmapgl"
           }
          ],
          "histogram": [
           {
            "marker": {
             "pattern": {
              "fillmode": "overlay",
              "size": 10,
              "solidity": 0.2
             }
            },
            "type": "histogram"
           }
          ],
          "histogram2d": [
           {
            "colorbar": {
             "outlinewidth": 0,
             "ticks": ""
            },
            "colorscale": [
             [
              0,
              "#0d0887"
             ],
             [
              0.1111111111111111,
              "#46039f"
             ],
             [
              0.2222222222222222,
              "#7201a8"
             ],
             [
              0.3333333333333333,
              "#9c179e"
             ],
             [
              0.4444444444444444,
              "#bd3786"
             ],
             [
              0.5555555555555556,
              "#d8576b"
             ],
             [
              0.6666666666666666,
              "#ed7953"
             ],
             [
              0.7777777777777778,
              "#fb9f3a"
             ],
             [
              0.8888888888888888,
              "#fdca26"
             ],
             [
              1,
              "#f0f921"
             ]
            ],
            "type": "histogram2d"
           }
          ],
          "histogram2dcontour": [
           {
            "colorbar": {
             "outlinewidth": 0,
             "ticks": ""
            },
            "colorscale": [
             [
              0,
              "#0d0887"
             ],
             [
              0.1111111111111111,
              "#46039f"
             ],
             [
              0.2222222222222222,
              "#7201a8"
             ],
             [
              0.3333333333333333,
              "#9c179e"
             ],
             [
              0.4444444444444444,
              "#bd3786"
             ],
             [
              0.5555555555555556,
              "#d8576b"
             ],
             [
              0.6666666666666666,
              "#ed7953"
             ],
             [
              0.7777777777777778,
              "#fb9f3a"
             ],
             [
              0.8888888888888888,
              "#fdca26"
             ],
             [
              1,
              "#f0f921"
             ]
            ],
            "type": "histogram2dcontour"
           }
          ],
          "mesh3d": [
           {
            "colorbar": {
             "outlinewidth": 0,
             "ticks": ""
            },
            "type": "mesh3d"
           }
          ],
          "parcoords": [
           {
            "line": {
             "colorbar": {
              "outlinewidth": 0,
              "ticks": ""
             }
            },
            "type": "parcoords"
           }
          ],
          "pie": [
           {
            "automargin": true,
            "type": "pie"
           }
          ],
          "scatter": [
           {
            "fillpattern": {
             "fillmode": "overlay",
             "size": 10,
             "solidity": 0.2
            },
            "type": "scatter"
           }
          ],
          "scatter3d": [
           {
            "line": {
             "colorbar": {
              "outlinewidth": 0,
              "ticks": ""
             }
            },
            "marker": {
             "colorbar": {
              "outlinewidth": 0,
              "ticks": ""
             }
            },
            "type": "scatter3d"
           }
          ],
          "scattercarpet": [
           {
            "marker": {
             "colorbar": {
              "outlinewidth": 0,
              "ticks": ""
             }
            },
            "type": "scattercarpet"
           }
          ],
          "scattergeo": [
           {
            "marker": {
             "colorbar": {
              "outlinewidth": 0,
              "ticks": ""
             }
            },
            "type": "scattergeo"
           }
          ],
          "scattergl": [
           {
            "marker": {
             "colorbar": {
              "outlinewidth": 0,
              "ticks": ""
             }
            },
            "type": "scattergl"
           }
          ],
          "scattermapbox": [
           {
            "marker": {
             "colorbar": {
              "outlinewidth": 0,
              "ticks": ""
             }
            },
            "type": "scattermapbox"
           }
          ],
          "scatterpolar": [
           {
            "marker": {
             "colorbar": {
              "outlinewidth": 0,
              "ticks": ""
             }
            },
            "type": "scatterpolar"
           }
          ],
          "scatterpolargl": [
           {
            "marker": {
             "colorbar": {
              "outlinewidth": 0,
              "ticks": ""
             }
            },
            "type": "scatterpolargl"
           }
          ],
          "scatterternary": [
           {
            "marker": {
             "colorbar": {
              "outlinewidth": 0,
              "ticks": ""
             }
            },
            "type": "scatterternary"
           }
          ],
          "surface": [
           {
            "colorbar": {
             "outlinewidth": 0,
             "ticks": ""
            },
            "colorscale": [
             [
              0,
              "#0d0887"
             ],
             [
              0.1111111111111111,
              "#46039f"
             ],
             [
              0.2222222222222222,
              "#7201a8"
             ],
             [
              0.3333333333333333,
              "#9c179e"
             ],
             [
              0.4444444444444444,
              "#bd3786"
             ],
             [
              0.5555555555555556,
              "#d8576b"
             ],
             [
              0.6666666666666666,
              "#ed7953"
             ],
             [
              0.7777777777777778,
              "#fb9f3a"
             ],
             [
              0.8888888888888888,
              "#fdca26"
             ],
             [
              1,
              "#f0f921"
             ]
            ],
            "type": "surface"
           }
          ],
          "table": [
           {
            "cells": {
             "fill": {
              "color": "#EBF0F8"
             },
             "line": {
              "color": "white"
             }
            },
            "header": {
             "fill": {
              "color": "#C8D4E3"
             },
             "line": {
              "color": "white"
             }
            },
            "type": "table"
           }
          ]
         },
         "layout": {
          "annotationdefaults": {
           "arrowcolor": "#2a3f5f",
           "arrowhead": 0,
           "arrowwidth": 1
          },
          "autotypenumbers": "strict",
          "coloraxis": {
           "colorbar": {
            "outlinewidth": 0,
            "ticks": ""
           }
          },
          "colorscale": {
           "diverging": [
            [
             0,
             "#8e0152"
            ],
            [
             0.1,
             "#c51b7d"
            ],
            [
             0.2,
             "#de77ae"
            ],
            [
             0.3,
             "#f1b6da"
            ],
            [
             0.4,
             "#fde0ef"
            ],
            [
             0.5,
             "#f7f7f7"
            ],
            [
             0.6,
             "#e6f5d0"
            ],
            [
             0.7,
             "#b8e186"
            ],
            [
             0.8,
             "#7fbc41"
            ],
            [
             0.9,
             "#4d9221"
            ],
            [
             1,
             "#276419"
            ]
           ],
           "sequential": [
            [
             0,
             "#0d0887"
            ],
            [
             0.1111111111111111,
             "#46039f"
            ],
            [
             0.2222222222222222,
             "#7201a8"
            ],
            [
             0.3333333333333333,
             "#9c179e"
            ],
            [
             0.4444444444444444,
             "#bd3786"
            ],
            [
             0.5555555555555556,
             "#d8576b"
            ],
            [
             0.6666666666666666,
             "#ed7953"
            ],
            [
             0.7777777777777778,
             "#fb9f3a"
            ],
            [
             0.8888888888888888,
             "#fdca26"
            ],
            [
             1,
             "#f0f921"
            ]
           ],
           "sequentialminus": [
            [
             0,
             "#0d0887"
            ],
            [
             0.1111111111111111,
             "#46039f"
            ],
            [
             0.2222222222222222,
             "#7201a8"
            ],
            [
             0.3333333333333333,
             "#9c179e"
            ],
            [
             0.4444444444444444,
             "#bd3786"
            ],
            [
             0.5555555555555556,
             "#d8576b"
            ],
            [
             0.6666666666666666,
             "#ed7953"
            ],
            [
             0.7777777777777778,
             "#fb9f3a"
            ],
            [
             0.8888888888888888,
             "#fdca26"
            ],
            [
             1,
             "#f0f921"
            ]
           ]
          },
          "colorway": [
           "#636efa",
           "#EF553B",
           "#00cc96",
           "#ab63fa",
           "#FFA15A",
           "#19d3f3",
           "#FF6692",
           "#B6E880",
           "#FF97FF",
           "#FECB52"
          ],
          "font": {
           "color": "#2a3f5f"
          },
          "geo": {
           "bgcolor": "white",
           "lakecolor": "white",
           "landcolor": "#E5ECF6",
           "showlakes": true,
           "showland": true,
           "subunitcolor": "white"
          },
          "hoverlabel": {
           "align": "left"
          },
          "hovermode": "closest",
          "mapbox": {
           "style": "light"
          },
          "paper_bgcolor": "white",
          "plot_bgcolor": "#E5ECF6",
          "polar": {
           "angularaxis": {
            "gridcolor": "white",
            "linecolor": "white",
            "ticks": ""
           },
           "bgcolor": "#E5ECF6",
           "radialaxis": {
            "gridcolor": "white",
            "linecolor": "white",
            "ticks": ""
           }
          },
          "scene": {
           "xaxis": {
            "backgroundcolor": "#E5ECF6",
            "gridcolor": "white",
            "gridwidth": 2,
            "linecolor": "white",
            "showbackground": true,
            "ticks": "",
            "zerolinecolor": "white"
           },
           "yaxis": {
            "backgroundcolor": "#E5ECF6",
            "gridcolor": "white",
            "gridwidth": 2,
            "linecolor": "white",
            "showbackground": true,
            "ticks": "",
            "zerolinecolor": "white"
           },
           "zaxis": {
            "backgroundcolor": "#E5ECF6",
            "gridcolor": "white",
            "gridwidth": 2,
            "linecolor": "white",
            "showbackground": true,
            "ticks": "",
            "zerolinecolor": "white"
           }
          },
          "shapedefaults": {
           "line": {
            "color": "#2a3f5f"
           }
          },
          "ternary": {
           "aaxis": {
            "gridcolor": "white",
            "linecolor": "white",
            "ticks": ""
           },
           "baxis": {
            "gridcolor": "white",
            "linecolor": "white",
            "ticks": ""
           },
           "bgcolor": "#E5ECF6",
           "caxis": {
            "gridcolor": "white",
            "linecolor": "white",
            "ticks": ""
           }
          },
          "title": {
           "x": 0.05
          },
          "xaxis": {
           "automargin": true,
           "gridcolor": "white",
           "linecolor": "white",
           "ticks": "",
           "title": {
            "standoff": 15
           },
           "zerolinecolor": "white",
           "zerolinewidth": 2
          },
          "yaxis": {
           "automargin": true,
           "gridcolor": "white",
           "linecolor": "white",
           "ticks": "",
           "title": {
            "standoff": 15
           },
           "zerolinecolor": "white",
           "zerolinewidth": 2
          }
         }
        },
        "title": {
         "text": "Comparison of loudness"
        },
        "xaxis": {
         "anchor": "y",
         "domain": [
          0,
          1
         ],
         "title": {
          "text": "genre"
         }
        },
        "yaxis": {
         "anchor": "x",
         "domain": [
          0,
          1
         ],
         "title": {
          "text": "loudness"
         }
        }
       }
      },
      "text/html": [
       "<div>                            <div id=\"63948f43-9b83-4247-a937-67aac164ecf1\" class=\"plotly-graph-div\" style=\"height:525px; width:100%;\"></div>            <script type=\"text/javascript\">                require([\"plotly\"], function(Plotly) {                    window.PLOTLYENV=window.PLOTLYENV || {};                                    if (document.getElementById(\"63948f43-9b83-4247-a937-67aac164ecf1\")) {                    Plotly.newPlot(                        \"63948f43-9b83-4247-a937-67aac164ecf1\",                        [{\"alignmentgroup\":\"True\",\"hovertemplate\":\"genre=%{x}<br>loudness=%{y}<extra></extra>\",\"legendgroup\":\"\",\"marker\":{\"color\":\"#636efa\"},\"name\":\"\",\"notched\":false,\"offsetgroup\":\"\",\"orientation\":\"v\",\"showlegend\":false,\"x\":[\"Alternative/Indie\",\"Hip-Hop/Rap\",\"Dance/Electronic\",\"Hip-Hop/Rap\",\"Pop\",\"Hip-Hop/Rap\",\"Alternative/Indie\",\"Pop\",\"Hip-Hop/Rap\",\"Hip-Hop/Rap\",\"Pop\",\"Hip-Hop/Rap\",\"Alternative/Indie\",\"Pop\",\"Hip-Hop/Rap\",\"Hip-Hop/Rap\",\"Pop\",\"Dance/Electronic\",\"Pop\",\"Pop\",\"Hip-Hop/Rap\",\"Pop\",\"Alternative/Indie\",\"Dance/Electronic\",\"Pop\",\"Hip-Hop/Rap\",\"Pop\",\"Dance/Electronic\",\"Hip-Hop/Rap\",\"Pop\",\"Hip-Hop/Rap\",\"Pop\",\"Pop\",\"Pop\",\"Dance/Electronic\",\"Hip-Hop/Rap\"],\"x0\":\" \",\"xaxis\":\"x\",\"y\":[-6.401,-6.687,-5.457,-7.956,-4.209,-8.765,-5.679,-3.28,-5.616,-7.909,-6.637,-8.82,-4.858,-7.209,-6.903,-8.52,-3.675,-5.652,-14.454,-6.049,-5.26,-6.652,-4.746,-7.567,-3.764,-8.764,-3.454,-4.258,-3.37,-7.088,-7.648,-7.23,-6.658,-10.086,-3.756,-3.714],\"y0\":\" \",\"yaxis\":\"y\",\"type\":\"box\"}],                        {\"template\":{\"data\":{\"histogram2dcontour\":[{\"type\":\"histogram2dcontour\",\"colorbar\":{\"outlinewidth\":0,\"ticks\":\"\"},\"colorscale\":[[0.0,\"#0d0887\"],[0.1111111111111111,\"#46039f\"],[0.2222222222222222,\"#7201a8\"],[0.3333333333333333,\"#9c179e\"],[0.4444444444444444,\"#bd3786\"],[0.5555555555555556,\"#d8576b\"],[0.6666666666666666,\"#ed7953\"],[0.7777777777777778,\"#fb9f3a\"],[0.8888888888888888,\"#fdca26\"],[1.0,\"#f0f921\"]]}],\"choropleth\":[{\"type\":\"choropleth\",\"colorbar\":{\"outlinewidth\":0,\"ticks\":\"\"}}],\"histogram2d\":[{\"type\":\"histogram2d\",\"colorbar\":{\"outlinewidth\":0,\"ticks\":\"\"},\"colorscale\":[[0.0,\"#0d0887\"],[0.1111111111111111,\"#46039f\"],[0.2222222222222222,\"#7201a8\"],[0.3333333333333333,\"#9c179e\"],[0.4444444444444444,\"#bd3786\"],[0.5555555555555556,\"#d8576b\"],[0.6666666666666666,\"#ed7953\"],[0.7777777777777778,\"#fb9f3a\"],[0.8888888888888888,\"#fdca26\"],[1.0,\"#f0f921\"]]}],\"heatmap\":[{\"type\":\"heatmap\",\"colorbar\":{\"outlinewidth\":0,\"ticks\":\"\"},\"colorscale\":[[0.0,\"#0d0887\"],[0.1111111111111111,\"#46039f\"],[0.2222222222222222,\"#7201a8\"],[0.3333333333333333,\"#9c179e\"],[0.4444444444444444,\"#bd3786\"],[0.5555555555555556,\"#d8576b\"],[0.6666666666666666,\"#ed7953\"],[0.7777777777777778,\"#fb9f3a\"],[0.8888888888888888,\"#fdca26\"],[1.0,\"#f0f921\"]]}],\"heatmapgl\":[{\"type\":\"heatmapgl\",\"colorbar\":{\"outlinewidth\":0,\"ticks\":\"\"},\"colorscale\":[[0.0,\"#0d0887\"],[0.1111111111111111,\"#46039f\"],[0.2222222222222222,\"#7201a8\"],[0.3333333333333333,\"#9c179e\"],[0.4444444444444444,\"#bd3786\"],[0.5555555555555556,\"#d8576b\"],[0.6666666666666666,\"#ed7953\"],[0.7777777777777778,\"#fb9f3a\"],[0.8888888888888888,\"#fdca26\"],[1.0,\"#f0f921\"]]}],\"contourcarpet\":[{\"type\":\"contourcarpet\",\"colorbar\":{\"outlinewidth\":0,\"ticks\":\"\"}}],\"contour\":[{\"type\":\"contour\",\"colorbar\":{\"outlinewidth\":0,\"ticks\":\"\"},\"colorscale\":[[0.0,\"#0d0887\"],[0.1111111111111111,\"#46039f\"],[0.2222222222222222,\"#7201a8\"],[0.3333333333333333,\"#9c179e\"],[0.4444444444444444,\"#bd3786\"],[0.5555555555555556,\"#d8576b\"],[0.6666666666666666,\"#ed7953\"],[0.7777777777777778,\"#fb9f3a\"],[0.8888888888888888,\"#fdca26\"],[1.0,\"#f0f921\"]]}],\"surface\":[{\"type\":\"surface\",\"colorbar\":{\"outlinewidth\":0,\"ticks\":\"\"},\"colorscale\":[[0.0,\"#0d0887\"],[0.1111111111111111,\"#46039f\"],[0.2222222222222222,\"#7201a8\"],[0.3333333333333333,\"#9c179e\"],[0.4444444444444444,\"#bd3786\"],[0.5555555555555556,\"#d8576b\"],[0.6666666666666666,\"#ed7953\"],[0.7777777777777778,\"#fb9f3a\"],[0.8888888888888888,\"#fdca26\"],[1.0,\"#f0f921\"]]}],\"mesh3d\":[{\"type\":\"mesh3d\",\"colorbar\":{\"outlinewidth\":0,\"ticks\":\"\"}}],\"scatter\":[{\"fillpattern\":{\"fillmode\":\"overlay\",\"size\":10,\"solidity\":0.2},\"type\":\"scatter\"}],\"parcoords\":[{\"type\":\"parcoords\",\"line\":{\"colorbar\":{\"outlinewidth\":0,\"ticks\":\"\"}}}],\"scatterpolargl\":[{\"type\":\"scatterpolargl\",\"marker\":{\"colorbar\":{\"outlinewidth\":0,\"ticks\":\"\"}}}],\"bar\":[{\"error_x\":{\"color\":\"#2a3f5f\"},\"error_y\":{\"color\":\"#2a3f5f\"},\"marker\":{\"line\":{\"color\":\"#E5ECF6\",\"width\":0.5},\"pattern\":{\"fillmode\":\"overlay\",\"size\":10,\"solidity\":0.2}},\"type\":\"bar\"}],\"scattergeo\":[{\"type\":\"scattergeo\",\"marker\":{\"colorbar\":{\"outlinewidth\":0,\"ticks\":\"\"}}}],\"scatterpolar\":[{\"type\":\"scatterpolar\",\"marker\":{\"colorbar\":{\"outlinewidth\":0,\"ticks\":\"\"}}}],\"histogram\":[{\"marker\":{\"pattern\":{\"fillmode\":\"overlay\",\"size\":10,\"solidity\":0.2}},\"type\":\"histogram\"}],\"scattergl\":[{\"type\":\"scattergl\",\"marker\":{\"colorbar\":{\"outlinewidth\":0,\"ticks\":\"\"}}}],\"scatter3d\":[{\"type\":\"scatter3d\",\"line\":{\"colorbar\":{\"outlinewidth\":0,\"ticks\":\"\"}},\"marker\":{\"colorbar\":{\"outlinewidth\":0,\"ticks\":\"\"}}}],\"scattermapbox\":[{\"type\":\"scattermapbox\",\"marker\":{\"colorbar\":{\"outlinewidth\":0,\"ticks\":\"\"}}}],\"scatterternary\":[{\"type\":\"scatterternary\",\"marker\":{\"colorbar\":{\"outlinewidth\":0,\"ticks\":\"\"}}}],\"scattercarpet\":[{\"type\":\"scattercarpet\",\"marker\":{\"colorbar\":{\"outlinewidth\":0,\"ticks\":\"\"}}}],\"carpet\":[{\"aaxis\":{\"endlinecolor\":\"#2a3f5f\",\"gridcolor\":\"white\",\"linecolor\":\"white\",\"minorgridcolor\":\"white\",\"startlinecolor\":\"#2a3f5f\"},\"baxis\":{\"endlinecolor\":\"#2a3f5f\",\"gridcolor\":\"white\",\"linecolor\":\"white\",\"minorgridcolor\":\"white\",\"startlinecolor\":\"#2a3f5f\"},\"type\":\"carpet\"}],\"table\":[{\"cells\":{\"fill\":{\"color\":\"#EBF0F8\"},\"line\":{\"color\":\"white\"}},\"header\":{\"fill\":{\"color\":\"#C8D4E3\"},\"line\":{\"color\":\"white\"}},\"type\":\"table\"}],\"barpolar\":[{\"marker\":{\"line\":{\"color\":\"#E5ECF6\",\"width\":0.5},\"pattern\":{\"fillmode\":\"overlay\",\"size\":10,\"solidity\":0.2}},\"type\":\"barpolar\"}],\"pie\":[{\"automargin\":true,\"type\":\"pie\"}]},\"layout\":{\"autotypenumbers\":\"strict\",\"colorway\":[\"#636efa\",\"#EF553B\",\"#00cc96\",\"#ab63fa\",\"#FFA15A\",\"#19d3f3\",\"#FF6692\",\"#B6E880\",\"#FF97FF\",\"#FECB52\"],\"font\":{\"color\":\"#2a3f5f\"},\"hovermode\":\"closest\",\"hoverlabel\":{\"align\":\"left\"},\"paper_bgcolor\":\"white\",\"plot_bgcolor\":\"#E5ECF6\",\"polar\":{\"bgcolor\":\"#E5ECF6\",\"angularaxis\":{\"gridcolor\":\"white\",\"linecolor\":\"white\",\"ticks\":\"\"},\"radialaxis\":{\"gridcolor\":\"white\",\"linecolor\":\"white\",\"ticks\":\"\"}},\"ternary\":{\"bgcolor\":\"#E5ECF6\",\"aaxis\":{\"gridcolor\":\"white\",\"linecolor\":\"white\",\"ticks\":\"\"},\"baxis\":{\"gridcolor\":\"white\",\"linecolor\":\"white\",\"ticks\":\"\"},\"caxis\":{\"gridcolor\":\"white\",\"linecolor\":\"white\",\"ticks\":\"\"}},\"coloraxis\":{\"colorbar\":{\"outlinewidth\":0,\"ticks\":\"\"}},\"colorscale\":{\"sequential\":[[0.0,\"#0d0887\"],[0.1111111111111111,\"#46039f\"],[0.2222222222222222,\"#7201a8\"],[0.3333333333333333,\"#9c179e\"],[0.4444444444444444,\"#bd3786\"],[0.5555555555555556,\"#d8576b\"],[0.6666666666666666,\"#ed7953\"],[0.7777777777777778,\"#fb9f3a\"],[0.8888888888888888,\"#fdca26\"],[1.0,\"#f0f921\"]],\"sequentialminus\":[[0.0,\"#0d0887\"],[0.1111111111111111,\"#46039f\"],[0.2222222222222222,\"#7201a8\"],[0.3333333333333333,\"#9c179e\"],[0.4444444444444444,\"#bd3786\"],[0.5555555555555556,\"#d8576b\"],[0.6666666666666666,\"#ed7953\"],[0.7777777777777778,\"#fb9f3a\"],[0.8888888888888888,\"#fdca26\"],[1.0,\"#f0f921\"]],\"diverging\":[[0,\"#8e0152\"],[0.1,\"#c51b7d\"],[0.2,\"#de77ae\"],[0.3,\"#f1b6da\"],[0.4,\"#fde0ef\"],[0.5,\"#f7f7f7\"],[0.6,\"#e6f5d0\"],[0.7,\"#b8e186\"],[0.8,\"#7fbc41\"],[0.9,\"#4d9221\"],[1,\"#276419\"]]},\"xaxis\":{\"gridcolor\":\"white\",\"linecolor\":\"white\",\"ticks\":\"\",\"title\":{\"standoff\":15},\"zerolinecolor\":\"white\",\"automargin\":true,\"zerolinewidth\":2},\"yaxis\":{\"gridcolor\":\"white\",\"linecolor\":\"white\",\"ticks\":\"\",\"title\":{\"standoff\":15},\"zerolinecolor\":\"white\",\"automargin\":true,\"zerolinewidth\":2},\"scene\":{\"xaxis\":{\"backgroundcolor\":\"#E5ECF6\",\"gridcolor\":\"white\",\"linecolor\":\"white\",\"showbackground\":true,\"ticks\":\"\",\"zerolinecolor\":\"white\",\"gridwidth\":2},\"yaxis\":{\"backgroundcolor\":\"#E5ECF6\",\"gridcolor\":\"white\",\"linecolor\":\"white\",\"showbackground\":true,\"ticks\":\"\",\"zerolinecolor\":\"white\",\"gridwidth\":2},\"zaxis\":{\"backgroundcolor\":\"#E5ECF6\",\"gridcolor\":\"white\",\"linecolor\":\"white\",\"showbackground\":true,\"ticks\":\"\",\"zerolinecolor\":\"white\",\"gridwidth\":2}},\"shapedefaults\":{\"line\":{\"color\":\"#2a3f5f\"}},\"annotationdefaults\":{\"arrowcolor\":\"#2a3f5f\",\"arrowhead\":0,\"arrowwidth\":1},\"geo\":{\"bgcolor\":\"white\",\"landcolor\":\"#E5ECF6\",\"subunitcolor\":\"white\",\"showland\":true,\"showlakes\":true,\"lakecolor\":\"white\"},\"title\":{\"x\":0.05},\"mapbox\":{\"style\":\"light\"}}},\"xaxis\":{\"anchor\":\"y\",\"domain\":[0.0,1.0],\"title\":{\"text\":\"genre\"}},\"yaxis\":{\"anchor\":\"x\",\"domain\":[0.0,1.0],\"title\":{\"text\":\"loudness\"}},\"legend\":{\"tracegroupgap\":0},\"title\":{\"text\":\"Comparison of loudness\"},\"boxmode\":\"group\"},                        {\"responsive\": true}                    ).then(function(){\n",
       "                            \n",
       "var gd = document.getElementById('63948f43-9b83-4247-a937-67aac164ecf1');\n",
       "var x = new MutationObserver(function (mutations, observer) {{\n",
       "        var display = window.getComputedStyle(gd).display;\n",
       "        if (!display || display === 'none') {{\n",
       "            console.log([gd, 'removed!']);\n",
       "            Plotly.purge(gd);\n",
       "            observer.disconnect();\n",
       "        }}\n",
       "}});\n",
       "\n",
       "// Listen for the removal of the full notebook cells\n",
       "var notebookContainer = gd.closest('#notebook-container');\n",
       "if (notebookContainer) {{\n",
       "    x.observe(notebookContainer, {childList: true});\n",
       "}}\n",
       "\n",
       "// Listen for the clearing of the current output cell\n",
       "var outputEl = gd.closest('.output');\n",
       "if (outputEl) {{\n",
       "    x.observe(outputEl, {childList: true});\n",
       "}}\n",
       "\n",
       "                        })                };                });            </script>        </div>"
      ]
     },
     "metadata": {},
     "output_type": "display_data"
    }
   ],
   "source": [
    "px.box(compare_loud,x = 'genre', y = 'loudness', title=\"Comparison of loudness\")"
   ]
  },
  {
   "cell_type": "code",
   "execution_count": 164,
   "id": "00e87757",
   "metadata": {},
   "outputs": [
    {
     "data": {
      "text/html": [
       "<div>\n",
       "<style scoped>\n",
       "    .dataframe tbody tr th:only-of-type {\n",
       "        vertical-align: middle;\n",
       "    }\n",
       "\n",
       "    .dataframe tbody tr th {\n",
       "        vertical-align: top;\n",
       "    }\n",
       "\n",
       "    .dataframe thead th {\n",
       "        text-align: right;\n",
       "    }\n",
       "</style>\n",
       "<table border=\"1\" class=\"dataframe\">\n",
       "  <thead>\n",
       "    <tr style=\"text-align: right;\">\n",
       "      <th></th>\n",
       "      <th>artist</th>\n",
       "      <th>album</th>\n",
       "      <th>track_name</th>\n",
       "      <th>track_id</th>\n",
       "      <th>energy</th>\n",
       "      <th>danceability</th>\n",
       "      <th>key</th>\n",
       "      <th>loudness</th>\n",
       "      <th>acousticness</th>\n",
       "      <th>speechiness</th>\n",
       "      <th>instrumentalness</th>\n",
       "      <th>liveness</th>\n",
       "      <th>valence</th>\n",
       "      <th>tempo</th>\n",
       "      <th>duration_ms</th>\n",
       "      <th>genre</th>\n",
       "    </tr>\n",
       "  </thead>\n",
       "  <tbody>\n",
       "    <tr>\n",
       "      <th>24</th>\n",
       "      <td>Billie Eilish</td>\n",
       "      <td>everything i wanted</td>\n",
       "      <td>everything i wanted</td>\n",
       "      <td>3ZCTVFBt2Brf31RLEnCkWJ</td>\n",
       "      <td>0.225</td>\n",
       "      <td>0.704</td>\n",
       "      <td>6</td>\n",
       "      <td>-14.454</td>\n",
       "      <td>0.902</td>\n",
       "      <td>0.0994</td>\n",
       "      <td>0.657</td>\n",
       "      <td>0.106</td>\n",
       "      <td>0.243</td>\n",
       "      <td>120.006</td>\n",
       "      <td>245426</td>\n",
       "      <td>Pop</td>\n",
       "    </tr>\n",
       "  </tbody>\n",
       "</table>\n",
       "</div>"
      ],
      "text/plain": [
       "           artist                album           track_name  \\\n",
       "24  Billie Eilish  everything i wanted  everything i wanted   \n",
       "\n",
       "                  track_id  energy  danceability  key  loudness  acousticness  \\\n",
       "24  3ZCTVFBt2Brf31RLEnCkWJ   0.225         0.704    6   -14.454         0.902   \n",
       "\n",
       "    speechiness  instrumentalness  liveness  valence    tempo  duration_ms  \\\n",
       "24       0.0994             0.657     0.106    0.243  120.006       245426   \n",
       "\n",
       "   genre  \n",
       "24   Pop  "
      ]
     },
     "execution_count": 164,
     "metadata": {},
     "output_type": "execute_result"
    }
   ],
   "source": [
    "df.loc[df['loudness'] == min(compare_loud['loudness'])]"
   ]
  },
  {
   "cell_type": "markdown",
   "id": "3fddc0db",
   "metadata": {},
   "source": [
    "**Hip-Hop/Rap has the lowest mean and median loudness score, and Dance/Electronics is the loudest. One song, \"Everything I wanted\" By Billie Eilish stands out as particulary quiet. After having a closer look at it we can see that it is also highly instrumental, and we saw from correlation analysis that loudness and instrumentalness are highly negatively correlated. Therefore the low loudness score is most likely not some mistake but a true feature of this song**"
   ]
  },
  {
   "cell_type": "markdown",
   "id": "cae3bac5",
   "metadata": {},
   "source": [
    "<span style='color:blue;'>How does the acousticness score compare between Pop, Hip-Hop/Rap, Dance/Electronic, and Alternative/Indie genres?"
   ]
  },
  {
   "cell_type": "code",
   "execution_count": 166,
   "id": "52f3b6e8",
   "metadata": {},
   "outputs": [
    {
     "data": {
      "text/plain": [
       "genre\n",
       "Alternative/Indie    0.584\n",
       "Pop                  0.324\n",
       "Hip-Hop/Rap          0.189\n",
       "Dance/Electronic     0.099\n",
       "Name: acousticness, dtype: float64"
      ]
     },
     "execution_count": 166,
     "metadata": {},
     "output_type": "execute_result"
    }
   ],
   "source": [
    "compare_acoustic = df[df['genre'].isin(genre_filter)].filter(items = ['acousticness', 'genre'])\n",
    "compare_acoustic.groupby('genre')['acousticness'].mean().round(3).sort_values(ascending=False)"
   ]
  },
  {
   "cell_type": "code",
   "execution_count": 168,
   "id": "99cb435c",
   "metadata": {},
   "outputs": [
    {
     "data": {
      "application/vnd.plotly.v1+json": {
       "config": {
        "plotlyServerURL": "https://plot.ly"
       },
       "data": [
        {
         "alignmentgroup": "True",
         "hovertemplate": "genre=%{x}<br>acousticness=%{y}<extra></extra>",
         "legendgroup": "",
         "marker": {
          "color": "#636efa"
         },
         "name": "",
         "notched": false,
         "offsetgroup": "",
         "orientation": "v",
         "showlegend": false,
         "type": "box",
         "x": [
          "Alternative/Indie",
          "Hip-Hop/Rap",
          "Dance/Electronic",
          "Hip-Hop/Rap",
          "Pop",
          "Hip-Hop/Rap",
          "Alternative/Indie",
          "Pop",
          "Hip-Hop/Rap",
          "Hip-Hop/Rap",
          "Pop",
          "Hip-Hop/Rap",
          "Alternative/Indie",
          "Pop",
          "Hip-Hop/Rap",
          "Hip-Hop/Rap",
          "Pop",
          "Dance/Electronic",
          "Pop",
          "Pop",
          "Hip-Hop/Rap",
          "Pop",
          "Alternative/Indie",
          "Dance/Electronic",
          "Pop",
          "Hip-Hop/Rap",
          "Pop",
          "Dance/Electronic",
          "Hip-Hop/Rap",
          "Pop",
          "Hip-Hop/Rap",
          "Pop",
          "Pop",
          "Pop",
          "Dance/Electronic",
          "Hip-Hop/Rap"
         ],
         "x0": " ",
         "xaxis": "x",
         "y": [
          0.688,
          0.104,
          0.0149,
          0.247,
          0.122,
          0.731,
          0.751,
          0.295,
          0.0522,
          0.207,
          0.3,
          0.289,
          0.604,
          0.837,
          0.067,
          0.234,
          0.0237,
          0.223,
          0.902,
          0.0392,
          0.145,
          0.345,
          0.291,
          0.0686,
          0.021,
          0.0546,
          0.185,
          0.177,
          0.0847,
          0.0259,
          0.233,
          0.349,
          0.223,
          0.866,
          0.0137,
          0.00513
         ],
         "y0": " ",
         "yaxis": "y"
        }
       ],
       "layout": {
        "boxmode": "group",
        "legend": {
         "tracegroupgap": 0
        },
        "template": {
         "data": {
          "bar": [
           {
            "error_x": {
             "color": "#2a3f5f"
            },
            "error_y": {
             "color": "#2a3f5f"
            },
            "marker": {
             "line": {
              "color": "#E5ECF6",
              "width": 0.5
             },
             "pattern": {
              "fillmode": "overlay",
              "size": 10,
              "solidity": 0.2
             }
            },
            "type": "bar"
           }
          ],
          "barpolar": [
           {
            "marker": {
             "line": {
              "color": "#E5ECF6",
              "width": 0.5
             },
             "pattern": {
              "fillmode": "overlay",
              "size": 10,
              "solidity": 0.2
             }
            },
            "type": "barpolar"
           }
          ],
          "carpet": [
           {
            "aaxis": {
             "endlinecolor": "#2a3f5f",
             "gridcolor": "white",
             "linecolor": "white",
             "minorgridcolor": "white",
             "startlinecolor": "#2a3f5f"
            },
            "baxis": {
             "endlinecolor": "#2a3f5f",
             "gridcolor": "white",
             "linecolor": "white",
             "minorgridcolor": "white",
             "startlinecolor": "#2a3f5f"
            },
            "type": "carpet"
           }
          ],
          "choropleth": [
           {
            "colorbar": {
             "outlinewidth": 0,
             "ticks": ""
            },
            "type": "choropleth"
           }
          ],
          "contour": [
           {
            "colorbar": {
             "outlinewidth": 0,
             "ticks": ""
            },
            "colorscale": [
             [
              0,
              "#0d0887"
             ],
             [
              0.1111111111111111,
              "#46039f"
             ],
             [
              0.2222222222222222,
              "#7201a8"
             ],
             [
              0.3333333333333333,
              "#9c179e"
             ],
             [
              0.4444444444444444,
              "#bd3786"
             ],
             [
              0.5555555555555556,
              "#d8576b"
             ],
             [
              0.6666666666666666,
              "#ed7953"
             ],
             [
              0.7777777777777778,
              "#fb9f3a"
             ],
             [
              0.8888888888888888,
              "#fdca26"
             ],
             [
              1,
              "#f0f921"
             ]
            ],
            "type": "contour"
           }
          ],
          "contourcarpet": [
           {
            "colorbar": {
             "outlinewidth": 0,
             "ticks": ""
            },
            "type": "contourcarpet"
           }
          ],
          "heatmap": [
           {
            "colorbar": {
             "outlinewidth": 0,
             "ticks": ""
            },
            "colorscale": [
             [
              0,
              "#0d0887"
             ],
             [
              0.1111111111111111,
              "#46039f"
             ],
             [
              0.2222222222222222,
              "#7201a8"
             ],
             [
              0.3333333333333333,
              "#9c179e"
             ],
             [
              0.4444444444444444,
              "#bd3786"
             ],
             [
              0.5555555555555556,
              "#d8576b"
             ],
             [
              0.6666666666666666,
              "#ed7953"
             ],
             [
              0.7777777777777778,
              "#fb9f3a"
             ],
             [
              0.8888888888888888,
              "#fdca26"
             ],
             [
              1,
              "#f0f921"
             ]
            ],
            "type": "heatmap"
           }
          ],
          "heatmapgl": [
           {
            "colorbar": {
             "outlinewidth": 0,
             "ticks": ""
            },
            "colorscale": [
             [
              0,
              "#0d0887"
             ],
             [
              0.1111111111111111,
              "#46039f"
             ],
             [
              0.2222222222222222,
              "#7201a8"
             ],
             [
              0.3333333333333333,
              "#9c179e"
             ],
             [
              0.4444444444444444,
              "#bd3786"
             ],
             [
              0.5555555555555556,
              "#d8576b"
             ],
             [
              0.6666666666666666,
              "#ed7953"
             ],
             [
              0.7777777777777778,
              "#fb9f3a"
             ],
             [
              0.8888888888888888,
              "#fdca26"
             ],
             [
              1,
              "#f0f921"
             ]
            ],
            "type": "heatmapgl"
           }
          ],
          "histogram": [
           {
            "marker": {
             "pattern": {
              "fillmode": "overlay",
              "size": 10,
              "solidity": 0.2
             }
            },
            "type": "histogram"
           }
          ],
          "histogram2d": [
           {
            "colorbar": {
             "outlinewidth": 0,
             "ticks": ""
            },
            "colorscale": [
             [
              0,
              "#0d0887"
             ],
             [
              0.1111111111111111,
              "#46039f"
             ],
             [
              0.2222222222222222,
              "#7201a8"
             ],
             [
              0.3333333333333333,
              "#9c179e"
             ],
             [
              0.4444444444444444,
              "#bd3786"
             ],
             [
              0.5555555555555556,
              "#d8576b"
             ],
             [
              0.6666666666666666,
              "#ed7953"
             ],
             [
              0.7777777777777778,
              "#fb9f3a"
             ],
             [
              0.8888888888888888,
              "#fdca26"
             ],
             [
              1,
              "#f0f921"
             ]
            ],
            "type": "histogram2d"
           }
          ],
          "histogram2dcontour": [
           {
            "colorbar": {
             "outlinewidth": 0,
             "ticks": ""
            },
            "colorscale": [
             [
              0,
              "#0d0887"
             ],
             [
              0.1111111111111111,
              "#46039f"
             ],
             [
              0.2222222222222222,
              "#7201a8"
             ],
             [
              0.3333333333333333,
              "#9c179e"
             ],
             [
              0.4444444444444444,
              "#bd3786"
             ],
             [
              0.5555555555555556,
              "#d8576b"
             ],
             [
              0.6666666666666666,
              "#ed7953"
             ],
             [
              0.7777777777777778,
              "#fb9f3a"
             ],
             [
              0.8888888888888888,
              "#fdca26"
             ],
             [
              1,
              "#f0f921"
             ]
            ],
            "type": "histogram2dcontour"
           }
          ],
          "mesh3d": [
           {
            "colorbar": {
             "outlinewidth": 0,
             "ticks": ""
            },
            "type": "mesh3d"
           }
          ],
          "parcoords": [
           {
            "line": {
             "colorbar": {
              "outlinewidth": 0,
              "ticks": ""
             }
            },
            "type": "parcoords"
           }
          ],
          "pie": [
           {
            "automargin": true,
            "type": "pie"
           }
          ],
          "scatter": [
           {
            "fillpattern": {
             "fillmode": "overlay",
             "size": 10,
             "solidity": 0.2
            },
            "type": "scatter"
           }
          ],
          "scatter3d": [
           {
            "line": {
             "colorbar": {
              "outlinewidth": 0,
              "ticks": ""
             }
            },
            "marker": {
             "colorbar": {
              "outlinewidth": 0,
              "ticks": ""
             }
            },
            "type": "scatter3d"
           }
          ],
          "scattercarpet": [
           {
            "marker": {
             "colorbar": {
              "outlinewidth": 0,
              "ticks": ""
             }
            },
            "type": "scattercarpet"
           }
          ],
          "scattergeo": [
           {
            "marker": {
             "colorbar": {
              "outlinewidth": 0,
              "ticks": ""
             }
            },
            "type": "scattergeo"
           }
          ],
          "scattergl": [
           {
            "marker": {
             "colorbar": {
              "outlinewidth": 0,
              "ticks": ""
             }
            },
            "type": "scattergl"
           }
          ],
          "scattermapbox": [
           {
            "marker": {
             "colorbar": {
              "outlinewidth": 0,
              "ticks": ""
             }
            },
            "type": "scattermapbox"
           }
          ],
          "scatterpolar": [
           {
            "marker": {
             "colorbar": {
              "outlinewidth": 0,
              "ticks": ""
             }
            },
            "type": "scatterpolar"
           }
          ],
          "scatterpolargl": [
           {
            "marker": {
             "colorbar": {
              "outlinewidth": 0,
              "ticks": ""
             }
            },
            "type": "scatterpolargl"
           }
          ],
          "scatterternary": [
           {
            "marker": {
             "colorbar": {
              "outlinewidth": 0,
              "ticks": ""
             }
            },
            "type": "scatterternary"
           }
          ],
          "surface": [
           {
            "colorbar": {
             "outlinewidth": 0,
             "ticks": ""
            },
            "colorscale": [
             [
              0,
              "#0d0887"
             ],
             [
              0.1111111111111111,
              "#46039f"
             ],
             [
              0.2222222222222222,
              "#7201a8"
             ],
             [
              0.3333333333333333,
              "#9c179e"
             ],
             [
              0.4444444444444444,
              "#bd3786"
             ],
             [
              0.5555555555555556,
              "#d8576b"
             ],
             [
              0.6666666666666666,
              "#ed7953"
             ],
             [
              0.7777777777777778,
              "#fb9f3a"
             ],
             [
              0.8888888888888888,
              "#fdca26"
             ],
             [
              1,
              "#f0f921"
             ]
            ],
            "type": "surface"
           }
          ],
          "table": [
           {
            "cells": {
             "fill": {
              "color": "#EBF0F8"
             },
             "line": {
              "color": "white"
             }
            },
            "header": {
             "fill": {
              "color": "#C8D4E3"
             },
             "line": {
              "color": "white"
             }
            },
            "type": "table"
           }
          ]
         },
         "layout": {
          "annotationdefaults": {
           "arrowcolor": "#2a3f5f",
           "arrowhead": 0,
           "arrowwidth": 1
          },
          "autotypenumbers": "strict",
          "coloraxis": {
           "colorbar": {
            "outlinewidth": 0,
            "ticks": ""
           }
          },
          "colorscale": {
           "diverging": [
            [
             0,
             "#8e0152"
            ],
            [
             0.1,
             "#c51b7d"
            ],
            [
             0.2,
             "#de77ae"
            ],
            [
             0.3,
             "#f1b6da"
            ],
            [
             0.4,
             "#fde0ef"
            ],
            [
             0.5,
             "#f7f7f7"
            ],
            [
             0.6,
             "#e6f5d0"
            ],
            [
             0.7,
             "#b8e186"
            ],
            [
             0.8,
             "#7fbc41"
            ],
            [
             0.9,
             "#4d9221"
            ],
            [
             1,
             "#276419"
            ]
           ],
           "sequential": [
            [
             0,
             "#0d0887"
            ],
            [
             0.1111111111111111,
             "#46039f"
            ],
            [
             0.2222222222222222,
             "#7201a8"
            ],
            [
             0.3333333333333333,
             "#9c179e"
            ],
            [
             0.4444444444444444,
             "#bd3786"
            ],
            [
             0.5555555555555556,
             "#d8576b"
            ],
            [
             0.6666666666666666,
             "#ed7953"
            ],
            [
             0.7777777777777778,
             "#fb9f3a"
            ],
            [
             0.8888888888888888,
             "#fdca26"
            ],
            [
             1,
             "#f0f921"
            ]
           ],
           "sequentialminus": [
            [
             0,
             "#0d0887"
            ],
            [
             0.1111111111111111,
             "#46039f"
            ],
            [
             0.2222222222222222,
             "#7201a8"
            ],
            [
             0.3333333333333333,
             "#9c179e"
            ],
            [
             0.4444444444444444,
             "#bd3786"
            ],
            [
             0.5555555555555556,
             "#d8576b"
            ],
            [
             0.6666666666666666,
             "#ed7953"
            ],
            [
             0.7777777777777778,
             "#fb9f3a"
            ],
            [
             0.8888888888888888,
             "#fdca26"
            ],
            [
             1,
             "#f0f921"
            ]
           ]
          },
          "colorway": [
           "#636efa",
           "#EF553B",
           "#00cc96",
           "#ab63fa",
           "#FFA15A",
           "#19d3f3",
           "#FF6692",
           "#B6E880",
           "#FF97FF",
           "#FECB52"
          ],
          "font": {
           "color": "#2a3f5f"
          },
          "geo": {
           "bgcolor": "white",
           "lakecolor": "white",
           "landcolor": "#E5ECF6",
           "showlakes": true,
           "showland": true,
           "subunitcolor": "white"
          },
          "hoverlabel": {
           "align": "left"
          },
          "hovermode": "closest",
          "mapbox": {
           "style": "light"
          },
          "paper_bgcolor": "white",
          "plot_bgcolor": "#E5ECF6",
          "polar": {
           "angularaxis": {
            "gridcolor": "white",
            "linecolor": "white",
            "ticks": ""
           },
           "bgcolor": "#E5ECF6",
           "radialaxis": {
            "gridcolor": "white",
            "linecolor": "white",
            "ticks": ""
           }
          },
          "scene": {
           "xaxis": {
            "backgroundcolor": "#E5ECF6",
            "gridcolor": "white",
            "gridwidth": 2,
            "linecolor": "white",
            "showbackground": true,
            "ticks": "",
            "zerolinecolor": "white"
           },
           "yaxis": {
            "backgroundcolor": "#E5ECF6",
            "gridcolor": "white",
            "gridwidth": 2,
            "linecolor": "white",
            "showbackground": true,
            "ticks": "",
            "zerolinecolor": "white"
           },
           "zaxis": {
            "backgroundcolor": "#E5ECF6",
            "gridcolor": "white",
            "gridwidth": 2,
            "linecolor": "white",
            "showbackground": true,
            "ticks": "",
            "zerolinecolor": "white"
           }
          },
          "shapedefaults": {
           "line": {
            "color": "#2a3f5f"
           }
          },
          "ternary": {
           "aaxis": {
            "gridcolor": "white",
            "linecolor": "white",
            "ticks": ""
           },
           "baxis": {
            "gridcolor": "white",
            "linecolor": "white",
            "ticks": ""
           },
           "bgcolor": "#E5ECF6",
           "caxis": {
            "gridcolor": "white",
            "linecolor": "white",
            "ticks": ""
           }
          },
          "title": {
           "x": 0.05
          },
          "xaxis": {
           "automargin": true,
           "gridcolor": "white",
           "linecolor": "white",
           "ticks": "",
           "title": {
            "standoff": 15
           },
           "zerolinecolor": "white",
           "zerolinewidth": 2
          },
          "yaxis": {
           "automargin": true,
           "gridcolor": "white",
           "linecolor": "white",
           "ticks": "",
           "title": {
            "standoff": 15
           },
           "zerolinecolor": "white",
           "zerolinewidth": 2
          }
         }
        },
        "title": {
         "text": "Comparison of acousticness"
        },
        "xaxis": {
         "anchor": "y",
         "domain": [
          0,
          1
         ],
         "title": {
          "text": "genre"
         }
        },
        "yaxis": {
         "anchor": "x",
         "domain": [
          0,
          1
         ],
         "title": {
          "text": "acousticness"
         }
        }
       }
      },
      "text/html": [
       "<div>                            <div id=\"fc38ea1d-5ecd-463d-82c3-cd182acd6589\" class=\"plotly-graph-div\" style=\"height:525px; width:100%;\"></div>            <script type=\"text/javascript\">                require([\"plotly\"], function(Plotly) {                    window.PLOTLYENV=window.PLOTLYENV || {};                                    if (document.getElementById(\"fc38ea1d-5ecd-463d-82c3-cd182acd6589\")) {                    Plotly.newPlot(                        \"fc38ea1d-5ecd-463d-82c3-cd182acd6589\",                        [{\"alignmentgroup\":\"True\",\"hovertemplate\":\"genre=%{x}<br>acousticness=%{y}<extra></extra>\",\"legendgroup\":\"\",\"marker\":{\"color\":\"#636efa\"},\"name\":\"\",\"notched\":false,\"offsetgroup\":\"\",\"orientation\":\"v\",\"showlegend\":false,\"x\":[\"Alternative/Indie\",\"Hip-Hop/Rap\",\"Dance/Electronic\",\"Hip-Hop/Rap\",\"Pop\",\"Hip-Hop/Rap\",\"Alternative/Indie\",\"Pop\",\"Hip-Hop/Rap\",\"Hip-Hop/Rap\",\"Pop\",\"Hip-Hop/Rap\",\"Alternative/Indie\",\"Pop\",\"Hip-Hop/Rap\",\"Hip-Hop/Rap\",\"Pop\",\"Dance/Electronic\",\"Pop\",\"Pop\",\"Hip-Hop/Rap\",\"Pop\",\"Alternative/Indie\",\"Dance/Electronic\",\"Pop\",\"Hip-Hop/Rap\",\"Pop\",\"Dance/Electronic\",\"Hip-Hop/Rap\",\"Pop\",\"Hip-Hop/Rap\",\"Pop\",\"Pop\",\"Pop\",\"Dance/Electronic\",\"Hip-Hop/Rap\"],\"x0\":\" \",\"xaxis\":\"x\",\"y\":[0.688,0.104,0.0149,0.247,0.122,0.731,0.751,0.295,0.0522,0.207,0.3,0.289,0.604,0.837,0.067,0.234,0.0237,0.223,0.902,0.0392,0.145,0.345,0.291,0.0686,0.021,0.0546,0.185,0.177,0.0847,0.0259,0.233,0.349,0.223,0.866,0.0137,0.00513],\"y0\":\" \",\"yaxis\":\"y\",\"type\":\"box\"}],                        {\"template\":{\"data\":{\"histogram2dcontour\":[{\"type\":\"histogram2dcontour\",\"colorbar\":{\"outlinewidth\":0,\"ticks\":\"\"},\"colorscale\":[[0.0,\"#0d0887\"],[0.1111111111111111,\"#46039f\"],[0.2222222222222222,\"#7201a8\"],[0.3333333333333333,\"#9c179e\"],[0.4444444444444444,\"#bd3786\"],[0.5555555555555556,\"#d8576b\"],[0.6666666666666666,\"#ed7953\"],[0.7777777777777778,\"#fb9f3a\"],[0.8888888888888888,\"#fdca26\"],[1.0,\"#f0f921\"]]}],\"choropleth\":[{\"type\":\"choropleth\",\"colorbar\":{\"outlinewidth\":0,\"ticks\":\"\"}}],\"histogram2d\":[{\"type\":\"histogram2d\",\"colorbar\":{\"outlinewidth\":0,\"ticks\":\"\"},\"colorscale\":[[0.0,\"#0d0887\"],[0.1111111111111111,\"#46039f\"],[0.2222222222222222,\"#7201a8\"],[0.3333333333333333,\"#9c179e\"],[0.4444444444444444,\"#bd3786\"],[0.5555555555555556,\"#d8576b\"],[0.6666666666666666,\"#ed7953\"],[0.7777777777777778,\"#fb9f3a\"],[0.8888888888888888,\"#fdca26\"],[1.0,\"#f0f921\"]]}],\"heatmap\":[{\"type\":\"heatmap\",\"colorbar\":{\"outlinewidth\":0,\"ticks\":\"\"},\"colorscale\":[[0.0,\"#0d0887\"],[0.1111111111111111,\"#46039f\"],[0.2222222222222222,\"#7201a8\"],[0.3333333333333333,\"#9c179e\"],[0.4444444444444444,\"#bd3786\"],[0.5555555555555556,\"#d8576b\"],[0.6666666666666666,\"#ed7953\"],[0.7777777777777778,\"#fb9f3a\"],[0.8888888888888888,\"#fdca26\"],[1.0,\"#f0f921\"]]}],\"heatmapgl\":[{\"type\":\"heatmapgl\",\"colorbar\":{\"outlinewidth\":0,\"ticks\":\"\"},\"colorscale\":[[0.0,\"#0d0887\"],[0.1111111111111111,\"#46039f\"],[0.2222222222222222,\"#7201a8\"],[0.3333333333333333,\"#9c179e\"],[0.4444444444444444,\"#bd3786\"],[0.5555555555555556,\"#d8576b\"],[0.6666666666666666,\"#ed7953\"],[0.7777777777777778,\"#fb9f3a\"],[0.8888888888888888,\"#fdca26\"],[1.0,\"#f0f921\"]]}],\"contourcarpet\":[{\"type\":\"contourcarpet\",\"colorbar\":{\"outlinewidth\":0,\"ticks\":\"\"}}],\"contour\":[{\"type\":\"contour\",\"colorbar\":{\"outlinewidth\":0,\"ticks\":\"\"},\"colorscale\":[[0.0,\"#0d0887\"],[0.1111111111111111,\"#46039f\"],[0.2222222222222222,\"#7201a8\"],[0.3333333333333333,\"#9c179e\"],[0.4444444444444444,\"#bd3786\"],[0.5555555555555556,\"#d8576b\"],[0.6666666666666666,\"#ed7953\"],[0.7777777777777778,\"#fb9f3a\"],[0.8888888888888888,\"#fdca26\"],[1.0,\"#f0f921\"]]}],\"surface\":[{\"type\":\"surface\",\"colorbar\":{\"outlinewidth\":0,\"ticks\":\"\"},\"colorscale\":[[0.0,\"#0d0887\"],[0.1111111111111111,\"#46039f\"],[0.2222222222222222,\"#7201a8\"],[0.3333333333333333,\"#9c179e\"],[0.4444444444444444,\"#bd3786\"],[0.5555555555555556,\"#d8576b\"],[0.6666666666666666,\"#ed7953\"],[0.7777777777777778,\"#fb9f3a\"],[0.8888888888888888,\"#fdca26\"],[1.0,\"#f0f921\"]]}],\"mesh3d\":[{\"type\":\"mesh3d\",\"colorbar\":{\"outlinewidth\":0,\"ticks\":\"\"}}],\"scatter\":[{\"fillpattern\":{\"fillmode\":\"overlay\",\"size\":10,\"solidity\":0.2},\"type\":\"scatter\"}],\"parcoords\":[{\"type\":\"parcoords\",\"line\":{\"colorbar\":{\"outlinewidth\":0,\"ticks\":\"\"}}}],\"scatterpolargl\":[{\"type\":\"scatterpolargl\",\"marker\":{\"colorbar\":{\"outlinewidth\":0,\"ticks\":\"\"}}}],\"bar\":[{\"error_x\":{\"color\":\"#2a3f5f\"},\"error_y\":{\"color\":\"#2a3f5f\"},\"marker\":{\"line\":{\"color\":\"#E5ECF6\",\"width\":0.5},\"pattern\":{\"fillmode\":\"overlay\",\"size\":10,\"solidity\":0.2}},\"type\":\"bar\"}],\"scattergeo\":[{\"type\":\"scattergeo\",\"marker\":{\"colorbar\":{\"outlinewidth\":0,\"ticks\":\"\"}}}],\"scatterpolar\":[{\"type\":\"scatterpolar\",\"marker\":{\"colorbar\":{\"outlinewidth\":0,\"ticks\":\"\"}}}],\"histogram\":[{\"marker\":{\"pattern\":{\"fillmode\":\"overlay\",\"size\":10,\"solidity\":0.2}},\"type\":\"histogram\"}],\"scattergl\":[{\"type\":\"scattergl\",\"marker\":{\"colorbar\":{\"outlinewidth\":0,\"ticks\":\"\"}}}],\"scatter3d\":[{\"type\":\"scatter3d\",\"line\":{\"colorbar\":{\"outlinewidth\":0,\"ticks\":\"\"}},\"marker\":{\"colorbar\":{\"outlinewidth\":0,\"ticks\":\"\"}}}],\"scattermapbox\":[{\"type\":\"scattermapbox\",\"marker\":{\"colorbar\":{\"outlinewidth\":0,\"ticks\":\"\"}}}],\"scatterternary\":[{\"type\":\"scatterternary\",\"marker\":{\"colorbar\":{\"outlinewidth\":0,\"ticks\":\"\"}}}],\"scattercarpet\":[{\"type\":\"scattercarpet\",\"marker\":{\"colorbar\":{\"outlinewidth\":0,\"ticks\":\"\"}}}],\"carpet\":[{\"aaxis\":{\"endlinecolor\":\"#2a3f5f\",\"gridcolor\":\"white\",\"linecolor\":\"white\",\"minorgridcolor\":\"white\",\"startlinecolor\":\"#2a3f5f\"},\"baxis\":{\"endlinecolor\":\"#2a3f5f\",\"gridcolor\":\"white\",\"linecolor\":\"white\",\"minorgridcolor\":\"white\",\"startlinecolor\":\"#2a3f5f\"},\"type\":\"carpet\"}],\"table\":[{\"cells\":{\"fill\":{\"color\":\"#EBF0F8\"},\"line\":{\"color\":\"white\"}},\"header\":{\"fill\":{\"color\":\"#C8D4E3\"},\"line\":{\"color\":\"white\"}},\"type\":\"table\"}],\"barpolar\":[{\"marker\":{\"line\":{\"color\":\"#E5ECF6\",\"width\":0.5},\"pattern\":{\"fillmode\":\"overlay\",\"size\":10,\"solidity\":0.2}},\"type\":\"barpolar\"}],\"pie\":[{\"automargin\":true,\"type\":\"pie\"}]},\"layout\":{\"autotypenumbers\":\"strict\",\"colorway\":[\"#636efa\",\"#EF553B\",\"#00cc96\",\"#ab63fa\",\"#FFA15A\",\"#19d3f3\",\"#FF6692\",\"#B6E880\",\"#FF97FF\",\"#FECB52\"],\"font\":{\"color\":\"#2a3f5f\"},\"hovermode\":\"closest\",\"hoverlabel\":{\"align\":\"left\"},\"paper_bgcolor\":\"white\",\"plot_bgcolor\":\"#E5ECF6\",\"polar\":{\"bgcolor\":\"#E5ECF6\",\"angularaxis\":{\"gridcolor\":\"white\",\"linecolor\":\"white\",\"ticks\":\"\"},\"radialaxis\":{\"gridcolor\":\"white\",\"linecolor\":\"white\",\"ticks\":\"\"}},\"ternary\":{\"bgcolor\":\"#E5ECF6\",\"aaxis\":{\"gridcolor\":\"white\",\"linecolor\":\"white\",\"ticks\":\"\"},\"baxis\":{\"gridcolor\":\"white\",\"linecolor\":\"white\",\"ticks\":\"\"},\"caxis\":{\"gridcolor\":\"white\",\"linecolor\":\"white\",\"ticks\":\"\"}},\"coloraxis\":{\"colorbar\":{\"outlinewidth\":0,\"ticks\":\"\"}},\"colorscale\":{\"sequential\":[[0.0,\"#0d0887\"],[0.1111111111111111,\"#46039f\"],[0.2222222222222222,\"#7201a8\"],[0.3333333333333333,\"#9c179e\"],[0.4444444444444444,\"#bd3786\"],[0.5555555555555556,\"#d8576b\"],[0.6666666666666666,\"#ed7953\"],[0.7777777777777778,\"#fb9f3a\"],[0.8888888888888888,\"#fdca26\"],[1.0,\"#f0f921\"]],\"sequentialminus\":[[0.0,\"#0d0887\"],[0.1111111111111111,\"#46039f\"],[0.2222222222222222,\"#7201a8\"],[0.3333333333333333,\"#9c179e\"],[0.4444444444444444,\"#bd3786\"],[0.5555555555555556,\"#d8576b\"],[0.6666666666666666,\"#ed7953\"],[0.7777777777777778,\"#fb9f3a\"],[0.8888888888888888,\"#fdca26\"],[1.0,\"#f0f921\"]],\"diverging\":[[0,\"#8e0152\"],[0.1,\"#c51b7d\"],[0.2,\"#de77ae\"],[0.3,\"#f1b6da\"],[0.4,\"#fde0ef\"],[0.5,\"#f7f7f7\"],[0.6,\"#e6f5d0\"],[0.7,\"#b8e186\"],[0.8,\"#7fbc41\"],[0.9,\"#4d9221\"],[1,\"#276419\"]]},\"xaxis\":{\"gridcolor\":\"white\",\"linecolor\":\"white\",\"ticks\":\"\",\"title\":{\"standoff\":15},\"zerolinecolor\":\"white\",\"automargin\":true,\"zerolinewidth\":2},\"yaxis\":{\"gridcolor\":\"white\",\"linecolor\":\"white\",\"ticks\":\"\",\"title\":{\"standoff\":15},\"zerolinecolor\":\"white\",\"automargin\":true,\"zerolinewidth\":2},\"scene\":{\"xaxis\":{\"backgroundcolor\":\"#E5ECF6\",\"gridcolor\":\"white\",\"linecolor\":\"white\",\"showbackground\":true,\"ticks\":\"\",\"zerolinecolor\":\"white\",\"gridwidth\":2},\"yaxis\":{\"backgroundcolor\":\"#E5ECF6\",\"gridcolor\":\"white\",\"linecolor\":\"white\",\"showbackground\":true,\"ticks\":\"\",\"zerolinecolor\":\"white\",\"gridwidth\":2},\"zaxis\":{\"backgroundcolor\":\"#E5ECF6\",\"gridcolor\":\"white\",\"linecolor\":\"white\",\"showbackground\":true,\"ticks\":\"\",\"zerolinecolor\":\"white\",\"gridwidth\":2}},\"shapedefaults\":{\"line\":{\"color\":\"#2a3f5f\"}},\"annotationdefaults\":{\"arrowcolor\":\"#2a3f5f\",\"arrowhead\":0,\"arrowwidth\":1},\"geo\":{\"bgcolor\":\"white\",\"landcolor\":\"#E5ECF6\",\"subunitcolor\":\"white\",\"showland\":true,\"showlakes\":true,\"lakecolor\":\"white\"},\"title\":{\"x\":0.05},\"mapbox\":{\"style\":\"light\"}}},\"xaxis\":{\"anchor\":\"y\",\"domain\":[0.0,1.0],\"title\":{\"text\":\"genre\"}},\"yaxis\":{\"anchor\":\"x\",\"domain\":[0.0,1.0],\"title\":{\"text\":\"acousticness\"}},\"legend\":{\"tracegroupgap\":0},\"title\":{\"text\":\"Comparison of acousticness\"},\"boxmode\":\"group\"},                        {\"responsive\": true}                    ).then(function(){\n",
       "                            \n",
       "var gd = document.getElementById('fc38ea1d-5ecd-463d-82c3-cd182acd6589');\n",
       "var x = new MutationObserver(function (mutations, observer) {{\n",
       "        var display = window.getComputedStyle(gd).display;\n",
       "        if (!display || display === 'none') {{\n",
       "            console.log([gd, 'removed!']);\n",
       "            Plotly.purge(gd);\n",
       "            observer.disconnect();\n",
       "        }}\n",
       "}});\n",
       "\n",
       "// Listen for the removal of the full notebook cells\n",
       "var notebookContainer = gd.closest('#notebook-container');\n",
       "if (notebookContainer) {{\n",
       "    x.observe(notebookContainer, {childList: true});\n",
       "}}\n",
       "\n",
       "// Listen for the clearing of the current output cell\n",
       "var outputEl = gd.closest('.output');\n",
       "if (outputEl) {{\n",
       "    x.observe(outputEl, {childList: true});\n",
       "}}\n",
       "\n",
       "                        })                };                });            </script>        </div>"
      ]
     },
     "metadata": {},
     "output_type": "display_data"
    }
   ],
   "source": [
    "px.box(compare_acoustic,x = 'genre', y = 'acousticness', title=\"Comparison of acousticness\")"
   ]
  },
  {
   "cell_type": "markdown",
   "id": "6c3847ac",
   "metadata": {},
   "source": [
    "**Alternative/Indie stands out as highest in acousticness. As should be expected, Dance/Electronics is the least acoustic. Hip-Hop/Rap in general is not very acoustic genre, with one exception. Pop group has 3 outliers - song with high acousticness score, which makes group mean higher than median**"
   ]
  },
  {
   "cell_type": "code",
   "execution_count": null,
   "id": "2425ed56",
   "metadata": {},
   "outputs": [],
   "source": []
  },
  {
   "cell_type": "code",
   "execution_count": 51,
   "id": "f40001cc",
   "metadata": {},
   "outputs": [
    {
     "data": {
      "text/plain": [
       "pandas.core.frame.DataFrame"
      ]
     },
     "execution_count": 51,
     "metadata": {},
     "output_type": "execute_result"
    }
   ],
   "source": [
    "type(cor_matrix)"
   ]
  },
  {
   "cell_type": "markdown",
   "id": "6ca6d51e",
   "metadata": {},
   "source": [
    "OK there's a bunch of outliers. Are they \"real\" though? Could be just a consequence of different genres, not mistakes. Honestly, in real life situation I would leave those untouched unless there was something crazy like duration 100 miliseconds"
   ]
  },
  {
   "cell_type": "code",
   "execution_count": 20,
   "id": "2a051de7",
   "metadata": {},
   "outputs": [
    {
     "data": {
      "text/plain": [
       "13"
      ]
     },
     "execution_count": 20,
     "metadata": {},
     "output_type": "execute_result"
    }
   ],
   "source": [
    "np.count_nonzero(df['genre'] == 'Hip-Hop/Rap')#tik patikrinti kaip teisingai pasirinkti"
   ]
  },
  {
   "cell_type": "code",
   "execution_count": 170,
   "id": "304036c6",
   "metadata": {},
   "outputs": [
    {
     "name": "stdout",
     "output_type": "stream",
     "text": [
      "There are 13 Hip-Hop/Rap songs in TOP50\n"
     ]
    }
   ],
   "source": [
    "print(f\"There are {np.count_nonzero(df['genre'] == 'Hip-Hop/Rap')} Hip-Hop/Rap songs in TOP50\")"
   ]
  },
  {
   "cell_type": "code",
   "execution_count": 19,
   "id": "11e5ad1c",
   "metadata": {},
   "outputs": [
    {
     "data": {
      "text/plain": [
       "pandas.core.series.Series"
      ]
     },
     "execution_count": 19,
     "metadata": {},
     "output_type": "execute_result"
    }
   ],
   "source": [
    "type(pop_artist)"
   ]
  },
  {
   "cell_type": "code",
   "execution_count": 20,
   "id": "6be9a4d5",
   "metadata": {},
   "outputs": [
    {
     "data": {
      "text/plain": [
       "Index(['Billie Eilish', 'Dua Lipa', 'Travis Scott', 'Justin Bieber',\n",
       "       'Harry Styles', 'Lewis Capaldi', 'Post Malone', 'Cardi B', 'Surfaces',\n",
       "       'Eminem', 'BTS', 'BENEE', 'Surf Mesa', 'Lady Gaga', 'The Weeknd',\n",
       "       'Shawn Mendes', 'Regard', 'Black Eyed Peas', 'THE SCOTTS', 'Bad Bunny',\n",
       "       'Juice WRLD', 'Ariana Grande', 'Maluma', 'Topic', '24kGoldn',\n",
       "       'Tones And I', 'Jawsh 685', 'Future', 'Maroon 5', 'Doja Cat', 'Drake',\n",
       "       'Lil Mosey', 'Arizona Zervas', 'KAROL G', 'Trevor Daniel', 'Powfu',\n",
       "       'DaBaby', 'SAINt JHN', 'Roddy Ricch', 'JP Saxe'],\n",
       "      dtype='object')"
      ]
     },
     "execution_count": 20,
     "metadata": {},
     "output_type": "execute_result"
    }
   ],
   "source": [
    "pop_artist.index"
   ]
  },
  {
   "cell_type": "code",
   "execution_count": null,
   "id": "b5a2c61b",
   "metadata": {},
   "outputs": [],
   "source": []
  },
  {
   "cell_type": "code",
   "execution_count": null,
   "id": "f7b70f5b",
   "metadata": {},
   "outputs": [],
   "source": []
  },
  {
   "cell_type": "code",
   "execution_count": null,
   "id": "8d4194ca",
   "metadata": {},
   "outputs": [],
   "source": []
  },
  {
   "cell_type": "code",
   "execution_count": null,
   "id": "fc2d9279",
   "metadata": {},
   "outputs": [],
   "source": []
  },
  {
   "cell_type": "code",
   "execution_count": null,
   "id": "17f017aa",
   "metadata": {},
   "outputs": [],
   "source": []
  },
  {
   "cell_type": "code",
   "execution_count": 98,
   "id": "add2982c",
   "metadata": {},
   "outputs": [
    {
     "data": {
      "text/html": [
       "<div>\n",
       "<style scoped>\n",
       "    .dataframe tbody tr th:only-of-type {\n",
       "        vertical-align: middle;\n",
       "    }\n",
       "\n",
       "    .dataframe tbody tr th {\n",
       "        vertical-align: top;\n",
       "    }\n",
       "\n",
       "    .dataframe thead th {\n",
       "        text-align: right;\n",
       "    }\n",
       "</style>\n",
       "<table border=\"1\" class=\"dataframe\">\n",
       "  <thead>\n",
       "    <tr style=\"text-align: right;\">\n",
       "      <th></th>\n",
       "      <th>artist</th>\n",
       "      <th>album</th>\n",
       "      <th>track_name</th>\n",
       "      <th>track_id</th>\n",
       "      <th>energy</th>\n",
       "      <th>danceability</th>\n",
       "      <th>key</th>\n",
       "      <th>loudness</th>\n",
       "      <th>acousticness</th>\n",
       "      <th>speechiness</th>\n",
       "      <th>instrumentalness</th>\n",
       "      <th>liveness</th>\n",
       "      <th>valence</th>\n",
       "      <th>tempo</th>\n",
       "      <th>duration_ms</th>\n",
       "      <th>genre</th>\n",
       "    </tr>\n",
       "  </thead>\n",
       "  <tbody>\n",
       "    <tr>\n",
       "      <th>0</th>\n",
       "      <td>The Weeknd</td>\n",
       "      <td>After Hours</td>\n",
       "      <td>Blinding Lights</td>\n",
       "      <td>0VjIjW4GlUZAMYd2vXMi3b</td>\n",
       "      <td>0.730</td>\n",
       "      <td>0.514</td>\n",
       "      <td>1</td>\n",
       "      <td>-5.934</td>\n",
       "      <td>0.00146</td>\n",
       "      <td>0.0598</td>\n",
       "      <td>0.000095</td>\n",
       "      <td>0.0897</td>\n",
       "      <td>0.3340</td>\n",
       "      <td>171.005</td>\n",
       "      <td>200040</td>\n",
       "      <td>R&amp;B/Soul</td>\n",
       "    </tr>\n",
       "    <tr>\n",
       "      <th>1</th>\n",
       "      <td>Tones And I</td>\n",
       "      <td>Dance Monkey</td>\n",
       "      <td>Dance Monkey</td>\n",
       "      <td>1rgnBhdG2JDFTbYkYRZAku</td>\n",
       "      <td>0.593</td>\n",
       "      <td>0.825</td>\n",
       "      <td>6</td>\n",
       "      <td>-6.401</td>\n",
       "      <td>0.68800</td>\n",
       "      <td>0.0988</td>\n",
       "      <td>0.000161</td>\n",
       "      <td>0.1700</td>\n",
       "      <td>0.5400</td>\n",
       "      <td>98.078</td>\n",
       "      <td>209755</td>\n",
       "      <td>Alternative/Indie</td>\n",
       "    </tr>\n",
       "    <tr>\n",
       "      <th>2</th>\n",
       "      <td>Roddy Ricch</td>\n",
       "      <td>Please Excuse Me For Being Antisocial</td>\n",
       "      <td>The Box</td>\n",
       "      <td>0nbXyq5TXYPCO7pr3N8S4I</td>\n",
       "      <td>0.586</td>\n",
       "      <td>0.896</td>\n",
       "      <td>10</td>\n",
       "      <td>-6.687</td>\n",
       "      <td>0.10400</td>\n",
       "      <td>0.0559</td>\n",
       "      <td>0.000000</td>\n",
       "      <td>0.7900</td>\n",
       "      <td>0.6420</td>\n",
       "      <td>116.971</td>\n",
       "      <td>196653</td>\n",
       "      <td>Hip-Hop/Rap</td>\n",
       "    </tr>\n",
       "    <tr>\n",
       "      <th>3</th>\n",
       "      <td>SAINt JHN</td>\n",
       "      <td>Roses (Imanbek Remix)</td>\n",
       "      <td>Roses - Imanbek Remix</td>\n",
       "      <td>2Wo6QQD1KMDWeFkkjLqwx5</td>\n",
       "      <td>0.721</td>\n",
       "      <td>0.785</td>\n",
       "      <td>8</td>\n",
       "      <td>-5.457</td>\n",
       "      <td>0.01490</td>\n",
       "      <td>0.0506</td>\n",
       "      <td>0.004320</td>\n",
       "      <td>0.2850</td>\n",
       "      <td>0.8940</td>\n",
       "      <td>121.962</td>\n",
       "      <td>176219</td>\n",
       "      <td>Dance/Electronic</td>\n",
       "    </tr>\n",
       "    <tr>\n",
       "      <th>4</th>\n",
       "      <td>Dua Lipa</td>\n",
       "      <td>Future Nostalgia</td>\n",
       "      <td>Don't Start Now</td>\n",
       "      <td>3PfIrDoz19wz7qK7tYeu62</td>\n",
       "      <td>0.793</td>\n",
       "      <td>0.793</td>\n",
       "      <td>11</td>\n",
       "      <td>-4.521</td>\n",
       "      <td>0.01230</td>\n",
       "      <td>0.0830</td>\n",
       "      <td>0.000000</td>\n",
       "      <td>0.0951</td>\n",
       "      <td>0.6790</td>\n",
       "      <td>123.950</td>\n",
       "      <td>183290</td>\n",
       "      <td>Nu-disco</td>\n",
       "    </tr>\n",
       "    <tr>\n",
       "      <th>5</th>\n",
       "      <td>DaBaby</td>\n",
       "      <td>BLAME IT ON BABY</td>\n",
       "      <td>ROCKSTAR (feat. Roddy Ricch)</td>\n",
       "      <td>7ytR5pFWmSjzHJIeQkgog4</td>\n",
       "      <td>0.690</td>\n",
       "      <td>0.746</td>\n",
       "      <td>11</td>\n",
       "      <td>-7.956</td>\n",
       "      <td>0.24700</td>\n",
       "      <td>0.1640</td>\n",
       "      <td>0.000000</td>\n",
       "      <td>0.1010</td>\n",
       "      <td>0.4970</td>\n",
       "      <td>89.977</td>\n",
       "      <td>181733</td>\n",
       "      <td>Hip-Hop/Rap</td>\n",
       "    </tr>\n",
       "    <tr>\n",
       "      <th>6</th>\n",
       "      <td>Harry Styles</td>\n",
       "      <td>Fine Line</td>\n",
       "      <td>Watermelon Sugar</td>\n",
       "      <td>6UelLqGlWMcVH1E5c4H7lY</td>\n",
       "      <td>0.816</td>\n",
       "      <td>0.548</td>\n",
       "      <td>0</td>\n",
       "      <td>-4.209</td>\n",
       "      <td>0.12200</td>\n",
       "      <td>0.0465</td>\n",
       "      <td>0.000000</td>\n",
       "      <td>0.3350</td>\n",
       "      <td>0.5570</td>\n",
       "      <td>95.390</td>\n",
       "      <td>174000</td>\n",
       "      <td>Pop</td>\n",
       "    </tr>\n",
       "    <tr>\n",
       "      <th>7</th>\n",
       "      <td>Powfu</td>\n",
       "      <td>death bed (coffee for your head)</td>\n",
       "      <td>death bed (coffee for your head)</td>\n",
       "      <td>7eJMfftS33KTjuF7lTsMCx</td>\n",
       "      <td>0.431</td>\n",
       "      <td>0.726</td>\n",
       "      <td>8</td>\n",
       "      <td>-8.765</td>\n",
       "      <td>0.73100</td>\n",
       "      <td>0.1350</td>\n",
       "      <td>0.000000</td>\n",
       "      <td>0.6960</td>\n",
       "      <td>0.3480</td>\n",
       "      <td>144.026</td>\n",
       "      <td>173333</td>\n",
       "      <td>Hip-Hop/Rap</td>\n",
       "    </tr>\n",
       "    <tr>\n",
       "      <th>8</th>\n",
       "      <td>Trevor Daniel</td>\n",
       "      <td>Nicotine</td>\n",
       "      <td>Falling</td>\n",
       "      <td>2rRJrJEo19S2J82BDsQ3F7</td>\n",
       "      <td>0.430</td>\n",
       "      <td>0.784</td>\n",
       "      <td>10</td>\n",
       "      <td>-8.756</td>\n",
       "      <td>0.12300</td>\n",
       "      <td>0.0364</td>\n",
       "      <td>0.000000</td>\n",
       "      <td>0.0887</td>\n",
       "      <td>0.2360</td>\n",
       "      <td>127.087</td>\n",
       "      <td>159382</td>\n",
       "      <td>R&amp;B/Hip-Hop alternative</td>\n",
       "    </tr>\n",
       "    <tr>\n",
       "      <th>9</th>\n",
       "      <td>Lewis Capaldi</td>\n",
       "      <td>Divinely Uninspired To A Hellish Extent</td>\n",
       "      <td>Someone You Loved</td>\n",
       "      <td>7qEHsqek33rTcFNT9PFqLf</td>\n",
       "      <td>0.405</td>\n",
       "      <td>0.501</td>\n",
       "      <td>1</td>\n",
       "      <td>-5.679</td>\n",
       "      <td>0.75100</td>\n",
       "      <td>0.0319</td>\n",
       "      <td>0.000000</td>\n",
       "      <td>0.1050</td>\n",
       "      <td>0.4460</td>\n",
       "      <td>109.891</td>\n",
       "      <td>182161</td>\n",
       "      <td>Alternative/Indie</td>\n",
       "    </tr>\n",
       "    <tr>\n",
       "      <th>10</th>\n",
       "      <td>KAROL G</td>\n",
       "      <td>Tusa</td>\n",
       "      <td>Tusa</td>\n",
       "      <td>7k4t7uLgtOxPwTpFmtJNTY</td>\n",
       "      <td>0.715</td>\n",
       "      <td>0.803</td>\n",
       "      <td>2</td>\n",
       "      <td>-3.280</td>\n",
       "      <td>0.29500</td>\n",
       "      <td>0.2980</td>\n",
       "      <td>0.000134</td>\n",
       "      <td>0.0574</td>\n",
       "      <td>0.5740</td>\n",
       "      <td>101.085</td>\n",
       "      <td>200960</td>\n",
       "      <td>Pop</td>\n",
       "    </tr>\n",
       "    <tr>\n",
       "      <th>11</th>\n",
       "      <td>Arizona Zervas</td>\n",
       "      <td>ROXANNE</td>\n",
       "      <td>ROXANNE</td>\n",
       "      <td>696DnlkuDOXcMAnKlTgXXK</td>\n",
       "      <td>0.601</td>\n",
       "      <td>0.621</td>\n",
       "      <td>6</td>\n",
       "      <td>-5.616</td>\n",
       "      <td>0.05220</td>\n",
       "      <td>0.1480</td>\n",
       "      <td>0.000000</td>\n",
       "      <td>0.4600</td>\n",
       "      <td>0.4570</td>\n",
       "      <td>116.735</td>\n",
       "      <td>163636</td>\n",
       "      <td>Hip-Hop/Rap</td>\n",
       "    </tr>\n",
       "    <tr>\n",
       "      <th>12</th>\n",
       "      <td>Post Malone</td>\n",
       "      <td>Hollywood's Bleeding</td>\n",
       "      <td>Circles</td>\n",
       "      <td>21jGcNKet2qwijlDFuPiPb</td>\n",
       "      <td>0.762</td>\n",
       "      <td>0.695</td>\n",
       "      <td>0</td>\n",
       "      <td>-3.497</td>\n",
       "      <td>0.19200</td>\n",
       "      <td>0.0395</td>\n",
       "      <td>0.002440</td>\n",
       "      <td>0.0863</td>\n",
       "      <td>0.5530</td>\n",
       "      <td>120.042</td>\n",
       "      <td>215280</td>\n",
       "      <td>Pop/Soft Rock</td>\n",
       "    </tr>\n",
       "    <tr>\n",
       "      <th>13</th>\n",
       "      <td>Lil Mosey</td>\n",
       "      <td>Certified Hitmaker</td>\n",
       "      <td>Blueberry Faygo</td>\n",
       "      <td>22LAwLoDA5b4AaGSkg6bKW</td>\n",
       "      <td>0.554</td>\n",
       "      <td>0.774</td>\n",
       "      <td>0</td>\n",
       "      <td>-7.909</td>\n",
       "      <td>0.20700</td>\n",
       "      <td>0.0383</td>\n",
       "      <td>0.000000</td>\n",
       "      <td>0.1320</td>\n",
       "      <td>0.3490</td>\n",
       "      <td>99.034</td>\n",
       "      <td>162547</td>\n",
       "      <td>Hip-Hop/Rap</td>\n",
       "    </tr>\n",
       "    <tr>\n",
       "      <th>14</th>\n",
       "      <td>Justin Bieber</td>\n",
       "      <td>Changes</td>\n",
       "      <td>Intentions (feat. Quavo)</td>\n",
       "      <td>4umIPjkehX1r7uhmGvXiSV</td>\n",
       "      <td>0.546</td>\n",
       "      <td>0.806</td>\n",
       "      <td>9</td>\n",
       "      <td>-6.637</td>\n",
       "      <td>0.30000</td>\n",
       "      <td>0.0575</td>\n",
       "      <td>0.000000</td>\n",
       "      <td>0.1020</td>\n",
       "      <td>0.8740</td>\n",
       "      <td>147.986</td>\n",
       "      <td>212867</td>\n",
       "      <td>Pop</td>\n",
       "    </tr>\n",
       "    <tr>\n",
       "      <th>15</th>\n",
       "      <td>Drake</td>\n",
       "      <td>Dark Lane Demo Tapes</td>\n",
       "      <td>Toosie Slide</td>\n",
       "      <td>466cKvZn1j45IpxDdYZqdA</td>\n",
       "      <td>0.490</td>\n",
       "      <td>0.830</td>\n",
       "      <td>1</td>\n",
       "      <td>-8.820</td>\n",
       "      <td>0.28900</td>\n",
       "      <td>0.2090</td>\n",
       "      <td>0.000003</td>\n",
       "      <td>0.1130</td>\n",
       "      <td>0.8450</td>\n",
       "      <td>81.604</td>\n",
       "      <td>247059</td>\n",
       "      <td>Hip-Hop/Rap</td>\n",
       "    </tr>\n",
       "    <tr>\n",
       "      <th>16</th>\n",
       "      <td>Lewis Capaldi</td>\n",
       "      <td>Divinely Uninspired To A Hellish Extent (Exten...</td>\n",
       "      <td>Before You Go</td>\n",
       "      <td>2gMXnyrvIjhVBUZwvLZDMP</td>\n",
       "      <td>0.575</td>\n",
       "      <td>0.459</td>\n",
       "      <td>3</td>\n",
       "      <td>-4.858</td>\n",
       "      <td>0.60400</td>\n",
       "      <td>0.0573</td>\n",
       "      <td>0.000000</td>\n",
       "      <td>0.0885</td>\n",
       "      <td>0.1830</td>\n",
       "      <td>111.881</td>\n",
       "      <td>215107</td>\n",
       "      <td>Alternative/Indie</td>\n",
       "    </tr>\n",
       "    <tr>\n",
       "      <th>17</th>\n",
       "      <td>Doja Cat</td>\n",
       "      <td>Hot Pink</td>\n",
       "      <td>Say So</td>\n",
       "      <td>3Dv1eDb0MEgF93GpLXlucZ</td>\n",
       "      <td>0.673</td>\n",
       "      <td>0.787</td>\n",
       "      <td>11</td>\n",
       "      <td>-4.577</td>\n",
       "      <td>0.25600</td>\n",
       "      <td>0.1580</td>\n",
       "      <td>0.000004</td>\n",
       "      <td>0.0904</td>\n",
       "      <td>0.7860</td>\n",
       "      <td>110.962</td>\n",
       "      <td>237893</td>\n",
       "      <td>R&amp;B/Soul</td>\n",
       "    </tr>\n",
       "    <tr>\n",
       "      <th>18</th>\n",
       "      <td>Maroon 5</td>\n",
       "      <td>Memories</td>\n",
       "      <td>Memories</td>\n",
       "      <td>2b8fOow8UzyDFAE27YhOZM</td>\n",
       "      <td>0.320</td>\n",
       "      <td>0.764</td>\n",
       "      <td>11</td>\n",
       "      <td>-7.209</td>\n",
       "      <td>0.83700</td>\n",
       "      <td>0.0546</td>\n",
       "      <td>0.000000</td>\n",
       "      <td>0.0822</td>\n",
       "      <td>0.5750</td>\n",
       "      <td>91.019</td>\n",
       "      <td>189486</td>\n",
       "      <td>Pop</td>\n",
       "    </tr>\n",
       "    <tr>\n",
       "      <th>19</th>\n",
       "      <td>Future</td>\n",
       "      <td>High Off Life</td>\n",
       "      <td>Life Is Good (feat. Drake)</td>\n",
       "      <td>1K5KBOgreBi5fkEHvg5ap3</td>\n",
       "      <td>0.574</td>\n",
       "      <td>0.795</td>\n",
       "      <td>2</td>\n",
       "      <td>-6.903</td>\n",
       "      <td>0.06700</td>\n",
       "      <td>0.4870</td>\n",
       "      <td>0.000000</td>\n",
       "      <td>0.1500</td>\n",
       "      <td>0.5370</td>\n",
       "      <td>142.053</td>\n",
       "      <td>237918</td>\n",
       "      <td>Hip-Hop/Rap</td>\n",
       "    </tr>\n",
       "    <tr>\n",
       "      <th>20</th>\n",
       "      <td>Jawsh 685</td>\n",
       "      <td>Savage Love (Laxed - Siren Beat)</td>\n",
       "      <td>Savage Love (Laxed - Siren Beat)</td>\n",
       "      <td>1xQ6trAsedVPCdbtDAmk0c</td>\n",
       "      <td>0.481</td>\n",
       "      <td>0.767</td>\n",
       "      <td>0</td>\n",
       "      <td>-8.520</td>\n",
       "      <td>0.23400</td>\n",
       "      <td>0.0803</td>\n",
       "      <td>0.000000</td>\n",
       "      <td>0.2690</td>\n",
       "      <td>0.7610</td>\n",
       "      <td>150.076</td>\n",
       "      <td>171375</td>\n",
       "      <td>Hip-Hop/Rap</td>\n",
       "    </tr>\n",
       "    <tr>\n",
       "      <th>21</th>\n",
       "      <td>Harry Styles</td>\n",
       "      <td>Fine Line</td>\n",
       "      <td>Adore You</td>\n",
       "      <td>3jjujdWJ72nww5eGnfs2E7</td>\n",
       "      <td>0.771</td>\n",
       "      <td>0.676</td>\n",
       "      <td>8</td>\n",
       "      <td>-3.675</td>\n",
       "      <td>0.02370</td>\n",
       "      <td>0.0483</td>\n",
       "      <td>0.000007</td>\n",
       "      <td>0.1020</td>\n",
       "      <td>0.5690</td>\n",
       "      <td>99.048</td>\n",
       "      <td>207133</td>\n",
       "      <td>Pop</td>\n",
       "    </tr>\n",
       "    <tr>\n",
       "      <th>22</th>\n",
       "      <td>Topic</td>\n",
       "      <td>Breaking Me</td>\n",
       "      <td>Breaking Me</td>\n",
       "      <td>3H7ihDc1dqLriiWXwsc2po</td>\n",
       "      <td>0.720</td>\n",
       "      <td>0.789</td>\n",
       "      <td>8</td>\n",
       "      <td>-5.652</td>\n",
       "      <td>0.22300</td>\n",
       "      <td>0.2180</td>\n",
       "      <td>0.000000</td>\n",
       "      <td>0.1290</td>\n",
       "      <td>0.6640</td>\n",
       "      <td>122.031</td>\n",
       "      <td>166794</td>\n",
       "      <td>Dance/Electronic</td>\n",
       "    </tr>\n",
       "    <tr>\n",
       "      <th>23</th>\n",
       "      <td>24kGoldn</td>\n",
       "      <td>Mood (feat. iann dior)</td>\n",
       "      <td>Mood (feat. iann dior)</td>\n",
       "      <td>3tjFYV6RSFtuktYl3ZtYcq</td>\n",
       "      <td>0.722</td>\n",
       "      <td>0.700</td>\n",
       "      <td>7</td>\n",
       "      <td>-3.558</td>\n",
       "      <td>0.22100</td>\n",
       "      <td>0.0369</td>\n",
       "      <td>0.000000</td>\n",
       "      <td>0.2720</td>\n",
       "      <td>0.7560</td>\n",
       "      <td>90.989</td>\n",
       "      <td>140526</td>\n",
       "      <td>Pop rap</td>\n",
       "    </tr>\n",
       "    <tr>\n",
       "      <th>24</th>\n",
       "      <td>Billie Eilish</td>\n",
       "      <td>everything i wanted</td>\n",
       "      <td>everything i wanted</td>\n",
       "      <td>3ZCTVFBt2Brf31RLEnCkWJ</td>\n",
       "      <td>0.225</td>\n",
       "      <td>0.704</td>\n",
       "      <td>6</td>\n",
       "      <td>-14.454</td>\n",
       "      <td>0.90200</td>\n",
       "      <td>0.0994</td>\n",
       "      <td>0.657000</td>\n",
       "      <td>0.1060</td>\n",
       "      <td>0.2430</td>\n",
       "      <td>120.006</td>\n",
       "      <td>245426</td>\n",
       "      <td>Pop</td>\n",
       "    </tr>\n",
       "    <tr>\n",
       "      <th>25</th>\n",
       "      <td>Shawn Mendes</td>\n",
       "      <td>Shawn Mendes (Deluxe)</td>\n",
       "      <td>Señorita</td>\n",
       "      <td>6v3KW9xbzN5yKLt9YKDYA2</td>\n",
       "      <td>0.548</td>\n",
       "      <td>0.759</td>\n",
       "      <td>9</td>\n",
       "      <td>-6.049</td>\n",
       "      <td>0.03920</td>\n",
       "      <td>0.0290</td>\n",
       "      <td>0.000000</td>\n",
       "      <td>0.0828</td>\n",
       "      <td>0.7490</td>\n",
       "      <td>116.967</td>\n",
       "      <td>190800</td>\n",
       "      <td>Pop</td>\n",
       "    </tr>\n",
       "    <tr>\n",
       "      <th>26</th>\n",
       "      <td>Billie Eilish</td>\n",
       "      <td>WHEN WE ALL FALL ASLEEP, WHERE DO WE GO?</td>\n",
       "      <td>bad guy</td>\n",
       "      <td>2Fxmhks0bxGSBdJ92vM42m</td>\n",
       "      <td>0.425</td>\n",
       "      <td>0.701</td>\n",
       "      <td>7</td>\n",
       "      <td>-10.965</td>\n",
       "      <td>0.32800</td>\n",
       "      <td>0.3750</td>\n",
       "      <td>0.130000</td>\n",
       "      <td>0.1000</td>\n",
       "      <td>0.5620</td>\n",
       "      <td>135.128</td>\n",
       "      <td>194088</td>\n",
       "      <td>Electro-pop</td>\n",
       "    </tr>\n",
       "    <tr>\n",
       "      <th>27</th>\n",
       "      <td>Cardi B</td>\n",
       "      <td>WAP (feat. Megan Thee Stallion)</td>\n",
       "      <td>WAP (feat. Megan Thee Stallion)</td>\n",
       "      <td>4Oun2ylbjFKMPTiaSbbCih</td>\n",
       "      <td>0.454</td>\n",
       "      <td>0.935</td>\n",
       "      <td>1</td>\n",
       "      <td>-7.509</td>\n",
       "      <td>0.01940</td>\n",
       "      <td>0.3750</td>\n",
       "      <td>0.000000</td>\n",
       "      <td>0.0824</td>\n",
       "      <td>0.3570</td>\n",
       "      <td>133.073</td>\n",
       "      <td>187541</td>\n",
       "      <td>Hip-Hop/Trap</td>\n",
       "    </tr>\n",
       "    <tr>\n",
       "      <th>28</th>\n",
       "      <td>Surfaces</td>\n",
       "      <td>Where the Light Is</td>\n",
       "      <td>Sunday Best</td>\n",
       "      <td>1Cv1YLb4q0RzL6pybtaMLo</td>\n",
       "      <td>0.525</td>\n",
       "      <td>0.878</td>\n",
       "      <td>5</td>\n",
       "      <td>-6.832</td>\n",
       "      <td>0.18300</td>\n",
       "      <td>0.0578</td>\n",
       "      <td>0.000000</td>\n",
       "      <td>0.0714</td>\n",
       "      <td>0.6940</td>\n",
       "      <td>112.022</td>\n",
       "      <td>158571</td>\n",
       "      <td>Electro-pop</td>\n",
       "    </tr>\n",
       "    <tr>\n",
       "      <th>29</th>\n",
       "      <td>Eminem</td>\n",
       "      <td>Music To Be Murdered By</td>\n",
       "      <td>Godzilla (feat. Juice WRLD)</td>\n",
       "      <td>7FIWs0pqAYbP91WWM0vlTQ</td>\n",
       "      <td>0.745</td>\n",
       "      <td>0.808</td>\n",
       "      <td>10</td>\n",
       "      <td>-5.260</td>\n",
       "      <td>0.14500</td>\n",
       "      <td>0.3420</td>\n",
       "      <td>0.000000</td>\n",
       "      <td>0.2920</td>\n",
       "      <td>0.8290</td>\n",
       "      <td>165.995</td>\n",
       "      <td>210800</td>\n",
       "      <td>Hip-Hop/Rap</td>\n",
       "    </tr>\n",
       "    <tr>\n",
       "      <th>30</th>\n",
       "      <td>Justin Bieber</td>\n",
       "      <td>Changes</td>\n",
       "      <td>Yummy</td>\n",
       "      <td>16wAOAZ2OkqoIDN7TpChjR</td>\n",
       "      <td>0.506</td>\n",
       "      <td>0.676</td>\n",
       "      <td>9</td>\n",
       "      <td>-6.652</td>\n",
       "      <td>0.34500</td>\n",
       "      <td>0.0958</td>\n",
       "      <td>0.000000</td>\n",
       "      <td>0.1180</td>\n",
       "      <td>0.4970</td>\n",
       "      <td>145.842</td>\n",
       "      <td>208520</td>\n",
       "      <td>Pop</td>\n",
       "    </tr>\n",
       "    <tr>\n",
       "      <th>31</th>\n",
       "      <td>Dua Lipa</td>\n",
       "      <td>Future Nostalgia</td>\n",
       "      <td>Break My Heart</td>\n",
       "      <td>017PF4Q3l4DBUiWoXk4OWT</td>\n",
       "      <td>0.729</td>\n",
       "      <td>0.730</td>\n",
       "      <td>4</td>\n",
       "      <td>-3.434</td>\n",
       "      <td>0.16700</td>\n",
       "      <td>0.0883</td>\n",
       "      <td>0.000001</td>\n",
       "      <td>0.3490</td>\n",
       "      <td>0.4670</td>\n",
       "      <td>113.013</td>\n",
       "      <td>221820</td>\n",
       "      <td>Dance-pop/Disco</td>\n",
       "    </tr>\n",
       "    <tr>\n",
       "      <th>32</th>\n",
       "      <td>BTS</td>\n",
       "      <td>Dynamite (DayTime Version)</td>\n",
       "      <td>Dynamite</td>\n",
       "      <td>0t1kP63rueHleOhQkYSXFY</td>\n",
       "      <td>0.765</td>\n",
       "      <td>0.746</td>\n",
       "      <td>6</td>\n",
       "      <td>-4.410</td>\n",
       "      <td>0.01120</td>\n",
       "      <td>0.0993</td>\n",
       "      <td>0.000000</td>\n",
       "      <td>0.0936</td>\n",
       "      <td>0.7370</td>\n",
       "      <td>114.044</td>\n",
       "      <td>199054</td>\n",
       "      <td>Disco-pop</td>\n",
       "    </tr>\n",
       "    <tr>\n",
       "      <th>33</th>\n",
       "      <td>BENEE</td>\n",
       "      <td>Hey u x</td>\n",
       "      <td>Supalonely (feat. Gus Dapperton)</td>\n",
       "      <td>3GZoWLVbmxcBys6g0DLFLf</td>\n",
       "      <td>0.631</td>\n",
       "      <td>0.862</td>\n",
       "      <td>7</td>\n",
       "      <td>-4.746</td>\n",
       "      <td>0.29100</td>\n",
       "      <td>0.0515</td>\n",
       "      <td>0.000209</td>\n",
       "      <td>0.1230</td>\n",
       "      <td>0.8410</td>\n",
       "      <td>128.978</td>\n",
       "      <td>223488</td>\n",
       "      <td>Alternative/Indie</td>\n",
       "    </tr>\n",
       "    <tr>\n",
       "      <th>34</th>\n",
       "      <td>Surf Mesa</td>\n",
       "      <td>ily (i love you baby) (feat. Emilee)</td>\n",
       "      <td>ily (i love you baby) (feat. Emilee)</td>\n",
       "      <td>62aP9fBQKYKxi7PDXwcUAS</td>\n",
       "      <td>0.774</td>\n",
       "      <td>0.674</td>\n",
       "      <td>11</td>\n",
       "      <td>-7.567</td>\n",
       "      <td>0.06860</td>\n",
       "      <td>0.0892</td>\n",
       "      <td>0.001880</td>\n",
       "      <td>0.3930</td>\n",
       "      <td>0.3300</td>\n",
       "      <td>112.050</td>\n",
       "      <td>176547</td>\n",
       "      <td>Dance/Electronic</td>\n",
       "    </tr>\n",
       "    <tr>\n",
       "      <th>35</th>\n",
       "      <td>Lady Gaga</td>\n",
       "      <td>Chromatica</td>\n",
       "      <td>Rain On Me (with Ariana Grande)</td>\n",
       "      <td>7ju97lgwC2rKQ6wwsf9no9</td>\n",
       "      <td>0.855</td>\n",
       "      <td>0.672</td>\n",
       "      <td>9</td>\n",
       "      <td>-3.764</td>\n",
       "      <td>0.02100</td>\n",
       "      <td>0.0397</td>\n",
       "      <td>0.000000</td>\n",
       "      <td>0.3230</td>\n",
       "      <td>0.6460</td>\n",
       "      <td>123.056</td>\n",
       "      <td>182200</td>\n",
       "      <td>Pop</td>\n",
       "    </tr>\n",
       "    <tr>\n",
       "      <th>36</th>\n",
       "      <td>Travis Scott</td>\n",
       "      <td>HIGHEST IN THE ROOM</td>\n",
       "      <td>HIGHEST IN THE ROOM</td>\n",
       "      <td>3eekarcy7kvN4yt5ZFzltW</td>\n",
       "      <td>0.427</td>\n",
       "      <td>0.598</td>\n",
       "      <td>7</td>\n",
       "      <td>-8.764</td>\n",
       "      <td>0.05460</td>\n",
       "      <td>0.0317</td>\n",
       "      <td>0.000006</td>\n",
       "      <td>0.2100</td>\n",
       "      <td>0.0605</td>\n",
       "      <td>76.469</td>\n",
       "      <td>175721</td>\n",
       "      <td>Hip-Hop/Rap</td>\n",
       "    </tr>\n",
       "    <tr>\n",
       "      <th>37</th>\n",
       "      <td>Post Malone</td>\n",
       "      <td>Hollywood's Bleeding</td>\n",
       "      <td>Sunflower - Spider-Man: Into the Spider-Verse</td>\n",
       "      <td>0RiRZpuVRbi7oqRdSMwhQY</td>\n",
       "      <td>0.522</td>\n",
       "      <td>0.755</td>\n",
       "      <td>2</td>\n",
       "      <td>-4.368</td>\n",
       "      <td>0.53300</td>\n",
       "      <td>0.0575</td>\n",
       "      <td>0.000000</td>\n",
       "      <td>0.0685</td>\n",
       "      <td>0.9250</td>\n",
       "      <td>89.960</td>\n",
       "      <td>157560</td>\n",
       "      <td>Dreampop/Hip-Hop/R&amp;B</td>\n",
       "    </tr>\n",
       "    <tr>\n",
       "      <th>38</th>\n",
       "      <td>Maluma</td>\n",
       "      <td>PAPI JUANCHO</td>\n",
       "      <td>Hawái</td>\n",
       "      <td>1yoMvmasuxZfqHEipJhRbp</td>\n",
       "      <td>0.727</td>\n",
       "      <td>0.783</td>\n",
       "      <td>6</td>\n",
       "      <td>-3.454</td>\n",
       "      <td>0.18500</td>\n",
       "      <td>0.3890</td>\n",
       "      <td>0.000025</td>\n",
       "      <td>0.0626</td>\n",
       "      <td>0.5580</td>\n",
       "      <td>180.067</td>\n",
       "      <td>199112</td>\n",
       "      <td>Pop</td>\n",
       "    </tr>\n",
       "    <tr>\n",
       "      <th>39</th>\n",
       "      <td>Regard</td>\n",
       "      <td>Ride It</td>\n",
       "      <td>Ride It</td>\n",
       "      <td>2tnVG71enUj33Ic2nFN6kZ</td>\n",
       "      <td>0.751</td>\n",
       "      <td>0.880</td>\n",
       "      <td>7</td>\n",
       "      <td>-4.258</td>\n",
       "      <td>0.17700</td>\n",
       "      <td>0.0874</td>\n",
       "      <td>0.000064</td>\n",
       "      <td>0.1060</td>\n",
       "      <td>0.8840</td>\n",
       "      <td>117.948</td>\n",
       "      <td>157606</td>\n",
       "      <td>Dance/Electronic</td>\n",
       "    </tr>\n",
       "    <tr>\n",
       "      <th>40</th>\n",
       "      <td>Travis Scott</td>\n",
       "      <td>Birds In The Trap Sing McKnight</td>\n",
       "      <td>goosebumps</td>\n",
       "      <td>6gBFPUFcJLzWGx4lenP6h2</td>\n",
       "      <td>0.728</td>\n",
       "      <td>0.841</td>\n",
       "      <td>7</td>\n",
       "      <td>-3.370</td>\n",
       "      <td>0.08470</td>\n",
       "      <td>0.0484</td>\n",
       "      <td>0.000000</td>\n",
       "      <td>0.1490</td>\n",
       "      <td>0.4300</td>\n",
       "      <td>130.049</td>\n",
       "      <td>243837</td>\n",
       "      <td>Hip-Hop/Rap</td>\n",
       "    </tr>\n",
       "    <tr>\n",
       "      <th>41</th>\n",
       "      <td>Black Eyed Peas</td>\n",
       "      <td>Translation</td>\n",
       "      <td>RITMO (Bad Boys For Life)</td>\n",
       "      <td>4NCsrTzgVfsDo8nWyP8PPc</td>\n",
       "      <td>0.704</td>\n",
       "      <td>0.723</td>\n",
       "      <td>10</td>\n",
       "      <td>-7.088</td>\n",
       "      <td>0.02590</td>\n",
       "      <td>0.0571</td>\n",
       "      <td>0.001090</td>\n",
       "      <td>0.7920</td>\n",
       "      <td>0.6840</td>\n",
       "      <td>105.095</td>\n",
       "      <td>214935</td>\n",
       "      <td>Pop</td>\n",
       "    </tr>\n",
       "    <tr>\n",
       "      <th>42</th>\n",
       "      <td>THE SCOTTS</td>\n",
       "      <td>THE SCOTTS</td>\n",
       "      <td>THE SCOTTS</td>\n",
       "      <td>39Yp9wwQiSRIDOvrVg7mbk</td>\n",
       "      <td>0.537</td>\n",
       "      <td>0.716</td>\n",
       "      <td>0</td>\n",
       "      <td>-7.648</td>\n",
       "      <td>0.23300</td>\n",
       "      <td>0.0514</td>\n",
       "      <td>0.000000</td>\n",
       "      <td>0.1570</td>\n",
       "      <td>0.2800</td>\n",
       "      <td>129.979</td>\n",
       "      <td>165978</td>\n",
       "      <td>Hip-Hop/Rap</td>\n",
       "    </tr>\n",
       "    <tr>\n",
       "      <th>43</th>\n",
       "      <td>Bad Bunny</td>\n",
       "      <td>YHLQMDLG</td>\n",
       "      <td>Safaera</td>\n",
       "      <td>2DEZmgHKAvm41k4J3R2E9Y</td>\n",
       "      <td>0.829</td>\n",
       "      <td>0.607</td>\n",
       "      <td>2</td>\n",
       "      <td>-4.074</td>\n",
       "      <td>0.01030</td>\n",
       "      <td>0.3790</td>\n",
       "      <td>0.000000</td>\n",
       "      <td>0.1070</td>\n",
       "      <td>0.6850</td>\n",
       "      <td>96.172</td>\n",
       "      <td>295177</td>\n",
       "      <td>Alternative/reggaeton/experimental</td>\n",
       "    </tr>\n",
       "    <tr>\n",
       "      <th>44</th>\n",
       "      <td>Billie Eilish</td>\n",
       "      <td>lovely (with Khalid)</td>\n",
       "      <td>lovely (with Khalid)</td>\n",
       "      <td>0u2P5u6lvoDfwTYjAADbn4</td>\n",
       "      <td>0.296</td>\n",
       "      <td>0.351</td>\n",
       "      <td>4</td>\n",
       "      <td>-10.109</td>\n",
       "      <td>0.93400</td>\n",
       "      <td>0.0333</td>\n",
       "      <td>0.000000</td>\n",
       "      <td>0.0950</td>\n",
       "      <td>0.1200</td>\n",
       "      <td>115.284</td>\n",
       "      <td>200186</td>\n",
       "      <td>Chamber pop</td>\n",
       "    </tr>\n",
       "    <tr>\n",
       "      <th>45</th>\n",
       "      <td>Juice WRLD</td>\n",
       "      <td>Goodbye &amp; Good Riddance</td>\n",
       "      <td>Lucid Dreams</td>\n",
       "      <td>285pBltuF7vW8TeWk8hdRR</td>\n",
       "      <td>0.566</td>\n",
       "      <td>0.511</td>\n",
       "      <td>6</td>\n",
       "      <td>-7.230</td>\n",
       "      <td>0.34900</td>\n",
       "      <td>0.2000</td>\n",
       "      <td>0.000000</td>\n",
       "      <td>0.3400</td>\n",
       "      <td>0.2180</td>\n",
       "      <td>83.903</td>\n",
       "      <td>239836</td>\n",
       "      <td>Pop</td>\n",
       "    </tr>\n",
       "    <tr>\n",
       "      <th>46</th>\n",
       "      <td>Ariana Grande</td>\n",
       "      <td>Stuck with U</td>\n",
       "      <td>Stuck with U (with Justin Bieber)</td>\n",
       "      <td>4HBZA5flZLE435QTztThqH</td>\n",
       "      <td>0.450</td>\n",
       "      <td>0.597</td>\n",
       "      <td>8</td>\n",
       "      <td>-6.658</td>\n",
       "      <td>0.22300</td>\n",
       "      <td>0.0418</td>\n",
       "      <td>0.000000</td>\n",
       "      <td>0.3820</td>\n",
       "      <td>0.5370</td>\n",
       "      <td>178.765</td>\n",
       "      <td>228482</td>\n",
       "      <td>Pop</td>\n",
       "    </tr>\n",
       "    <tr>\n",
       "      <th>47</th>\n",
       "      <td>JP Saxe</td>\n",
       "      <td>If the World Was Ending (feat. Julia Michaels)</td>\n",
       "      <td>If the World Was Ending - feat. Julia Michaels</td>\n",
       "      <td>2kJwzbxV2ppxnQoYw4GLBZ</td>\n",
       "      <td>0.473</td>\n",
       "      <td>0.464</td>\n",
       "      <td>1</td>\n",
       "      <td>-10.086</td>\n",
       "      <td>0.86600</td>\n",
       "      <td>0.1290</td>\n",
       "      <td>0.000000</td>\n",
       "      <td>0.1090</td>\n",
       "      <td>0.6040</td>\n",
       "      <td>75.801</td>\n",
       "      <td>208687</td>\n",
       "      <td>Pop</td>\n",
       "    </tr>\n",
       "    <tr>\n",
       "      <th>48</th>\n",
       "      <td>Dua Lipa</td>\n",
       "      <td>Future Nostalgia</td>\n",
       "      <td>Physical</td>\n",
       "      <td>3AzjcOeAmA57TIOr9zF1ZW</td>\n",
       "      <td>0.844</td>\n",
       "      <td>0.647</td>\n",
       "      <td>0</td>\n",
       "      <td>-3.756</td>\n",
       "      <td>0.01370</td>\n",
       "      <td>0.0457</td>\n",
       "      <td>0.000658</td>\n",
       "      <td>0.1020</td>\n",
       "      <td>0.7460</td>\n",
       "      <td>146.967</td>\n",
       "      <td>193829</td>\n",
       "      <td>Dance/Electronic</td>\n",
       "    </tr>\n",
       "    <tr>\n",
       "      <th>49</th>\n",
       "      <td>Travis Scott</td>\n",
       "      <td>ASTROWORLD</td>\n",
       "      <td>SICKO MODE</td>\n",
       "      <td>2xLMifQCjDGFmkHkpNLD9h</td>\n",
       "      <td>0.730</td>\n",
       "      <td>0.834</td>\n",
       "      <td>8</td>\n",
       "      <td>-3.714</td>\n",
       "      <td>0.00513</td>\n",
       "      <td>0.2220</td>\n",
       "      <td>0.000000</td>\n",
       "      <td>0.1240</td>\n",
       "      <td>0.4460</td>\n",
       "      <td>155.008</td>\n",
       "      <td>312820</td>\n",
       "      <td>Hip-Hop/Rap</td>\n",
       "    </tr>\n",
       "  </tbody>\n",
       "</table>\n",
       "</div>"
      ],
      "text/plain": [
       "             artist                                              album  \\\n",
       "0        The Weeknd                                        After Hours   \n",
       "1       Tones And I                                       Dance Monkey   \n",
       "2       Roddy Ricch              Please Excuse Me For Being Antisocial   \n",
       "3         SAINt JHN                              Roses (Imanbek Remix)   \n",
       "4          Dua Lipa                                   Future Nostalgia   \n",
       "5            DaBaby                                   BLAME IT ON BABY   \n",
       "6      Harry Styles                                          Fine Line   \n",
       "7             Powfu                   death bed (coffee for your head)   \n",
       "8     Trevor Daniel                                           Nicotine   \n",
       "9     Lewis Capaldi            Divinely Uninspired To A Hellish Extent   \n",
       "10          KAROL G                                               Tusa   \n",
       "11   Arizona Zervas                                            ROXANNE   \n",
       "12      Post Malone                               Hollywood's Bleeding   \n",
       "13        Lil Mosey                                 Certified Hitmaker   \n",
       "14    Justin Bieber                                            Changes   \n",
       "15            Drake                               Dark Lane Demo Tapes   \n",
       "16    Lewis Capaldi  Divinely Uninspired To A Hellish Extent (Exten...   \n",
       "17         Doja Cat                                           Hot Pink   \n",
       "18         Maroon 5                                           Memories   \n",
       "19           Future                                      High Off Life   \n",
       "20        Jawsh 685                   Savage Love (Laxed - Siren Beat)   \n",
       "21     Harry Styles                                          Fine Line   \n",
       "22            Topic                                        Breaking Me   \n",
       "23         24kGoldn                             Mood (feat. iann dior)   \n",
       "24    Billie Eilish                                everything i wanted   \n",
       "25     Shawn Mendes                              Shawn Mendes (Deluxe)   \n",
       "26    Billie Eilish           WHEN WE ALL FALL ASLEEP, WHERE DO WE GO?   \n",
       "27          Cardi B                    WAP (feat. Megan Thee Stallion)   \n",
       "28         Surfaces                                 Where the Light Is   \n",
       "29           Eminem                            Music To Be Murdered By   \n",
       "30    Justin Bieber                                            Changes   \n",
       "31         Dua Lipa                                   Future Nostalgia   \n",
       "32              BTS                         Dynamite (DayTime Version)   \n",
       "33            BENEE                                            Hey u x   \n",
       "34        Surf Mesa               ily (i love you baby) (feat. Emilee)   \n",
       "35        Lady Gaga                                         Chromatica   \n",
       "36     Travis Scott                                HIGHEST IN THE ROOM   \n",
       "37      Post Malone                               Hollywood's Bleeding   \n",
       "38           Maluma                                       PAPI JUANCHO   \n",
       "39           Regard                                            Ride It   \n",
       "40     Travis Scott                    Birds In The Trap Sing McKnight   \n",
       "41  Black Eyed Peas                                        Translation   \n",
       "42       THE SCOTTS                                         THE SCOTTS   \n",
       "43        Bad Bunny                                           YHLQMDLG   \n",
       "44    Billie Eilish                               lovely (with Khalid)   \n",
       "45       Juice WRLD                            Goodbye & Good Riddance   \n",
       "46    Ariana Grande                                       Stuck with U   \n",
       "47          JP Saxe     If the World Was Ending (feat. Julia Michaels)   \n",
       "48         Dua Lipa                                   Future Nostalgia   \n",
       "49     Travis Scott                                         ASTROWORLD   \n",
       "\n",
       "                                        track_name                track_id  \\\n",
       "0                                  Blinding Lights  0VjIjW4GlUZAMYd2vXMi3b   \n",
       "1                                     Dance Monkey  1rgnBhdG2JDFTbYkYRZAku   \n",
       "2                                          The Box  0nbXyq5TXYPCO7pr3N8S4I   \n",
       "3                            Roses - Imanbek Remix  2Wo6QQD1KMDWeFkkjLqwx5   \n",
       "4                                  Don't Start Now  3PfIrDoz19wz7qK7tYeu62   \n",
       "5                     ROCKSTAR (feat. Roddy Ricch)  7ytR5pFWmSjzHJIeQkgog4   \n",
       "6                                 Watermelon Sugar  6UelLqGlWMcVH1E5c4H7lY   \n",
       "7                 death bed (coffee for your head)  7eJMfftS33KTjuF7lTsMCx   \n",
       "8                                          Falling  2rRJrJEo19S2J82BDsQ3F7   \n",
       "9                                Someone You Loved  7qEHsqek33rTcFNT9PFqLf   \n",
       "10                                            Tusa  7k4t7uLgtOxPwTpFmtJNTY   \n",
       "11                                         ROXANNE  696DnlkuDOXcMAnKlTgXXK   \n",
       "12                                         Circles  21jGcNKet2qwijlDFuPiPb   \n",
       "13                                 Blueberry Faygo  22LAwLoDA5b4AaGSkg6bKW   \n",
       "14                        Intentions (feat. Quavo)  4umIPjkehX1r7uhmGvXiSV   \n",
       "15                                    Toosie Slide  466cKvZn1j45IpxDdYZqdA   \n",
       "16                                   Before You Go  2gMXnyrvIjhVBUZwvLZDMP   \n",
       "17                                          Say So  3Dv1eDb0MEgF93GpLXlucZ   \n",
       "18                                        Memories  2b8fOow8UzyDFAE27YhOZM   \n",
       "19                      Life Is Good (feat. Drake)  1K5KBOgreBi5fkEHvg5ap3   \n",
       "20                Savage Love (Laxed - Siren Beat)  1xQ6trAsedVPCdbtDAmk0c   \n",
       "21                                       Adore You  3jjujdWJ72nww5eGnfs2E7   \n",
       "22                                     Breaking Me  3H7ihDc1dqLriiWXwsc2po   \n",
       "23                          Mood (feat. iann dior)  3tjFYV6RSFtuktYl3ZtYcq   \n",
       "24                             everything i wanted  3ZCTVFBt2Brf31RLEnCkWJ   \n",
       "25                                        Señorita  6v3KW9xbzN5yKLt9YKDYA2   \n",
       "26                                         bad guy  2Fxmhks0bxGSBdJ92vM42m   \n",
       "27                 WAP (feat. Megan Thee Stallion)  4Oun2ylbjFKMPTiaSbbCih   \n",
       "28                                     Sunday Best  1Cv1YLb4q0RzL6pybtaMLo   \n",
       "29                     Godzilla (feat. Juice WRLD)  7FIWs0pqAYbP91WWM0vlTQ   \n",
       "30                                           Yummy  16wAOAZ2OkqoIDN7TpChjR   \n",
       "31                                  Break My Heart  017PF4Q3l4DBUiWoXk4OWT   \n",
       "32                                        Dynamite  0t1kP63rueHleOhQkYSXFY   \n",
       "33                Supalonely (feat. Gus Dapperton)  3GZoWLVbmxcBys6g0DLFLf   \n",
       "34            ily (i love you baby) (feat. Emilee)  62aP9fBQKYKxi7PDXwcUAS   \n",
       "35                 Rain On Me (with Ariana Grande)  7ju97lgwC2rKQ6wwsf9no9   \n",
       "36                             HIGHEST IN THE ROOM  3eekarcy7kvN4yt5ZFzltW   \n",
       "37   Sunflower - Spider-Man: Into the Spider-Verse  0RiRZpuVRbi7oqRdSMwhQY   \n",
       "38                                           Hawái  1yoMvmasuxZfqHEipJhRbp   \n",
       "39                                         Ride It  2tnVG71enUj33Ic2nFN6kZ   \n",
       "40                                      goosebumps  6gBFPUFcJLzWGx4lenP6h2   \n",
       "41                       RITMO (Bad Boys For Life)  4NCsrTzgVfsDo8nWyP8PPc   \n",
       "42                                      THE SCOTTS  39Yp9wwQiSRIDOvrVg7mbk   \n",
       "43                                         Safaera  2DEZmgHKAvm41k4J3R2E9Y   \n",
       "44                            lovely (with Khalid)  0u2P5u6lvoDfwTYjAADbn4   \n",
       "45                                    Lucid Dreams  285pBltuF7vW8TeWk8hdRR   \n",
       "46               Stuck with U (with Justin Bieber)  4HBZA5flZLE435QTztThqH   \n",
       "47  If the World Was Ending - feat. Julia Michaels  2kJwzbxV2ppxnQoYw4GLBZ   \n",
       "48                                        Physical  3AzjcOeAmA57TIOr9zF1ZW   \n",
       "49                                      SICKO MODE  2xLMifQCjDGFmkHkpNLD9h   \n",
       "\n",
       "    energy  danceability  key  loudness  acousticness  speechiness  \\\n",
       "0    0.730         0.514    1    -5.934       0.00146       0.0598   \n",
       "1    0.593         0.825    6    -6.401       0.68800       0.0988   \n",
       "2    0.586         0.896   10    -6.687       0.10400       0.0559   \n",
       "3    0.721         0.785    8    -5.457       0.01490       0.0506   \n",
       "4    0.793         0.793   11    -4.521       0.01230       0.0830   \n",
       "5    0.690         0.746   11    -7.956       0.24700       0.1640   \n",
       "6    0.816         0.548    0    -4.209       0.12200       0.0465   \n",
       "7    0.431         0.726    8    -8.765       0.73100       0.1350   \n",
       "8    0.430         0.784   10    -8.756       0.12300       0.0364   \n",
       "9    0.405         0.501    1    -5.679       0.75100       0.0319   \n",
       "10   0.715         0.803    2    -3.280       0.29500       0.2980   \n",
       "11   0.601         0.621    6    -5.616       0.05220       0.1480   \n",
       "12   0.762         0.695    0    -3.497       0.19200       0.0395   \n",
       "13   0.554         0.774    0    -7.909       0.20700       0.0383   \n",
       "14   0.546         0.806    9    -6.637       0.30000       0.0575   \n",
       "15   0.490         0.830    1    -8.820       0.28900       0.2090   \n",
       "16   0.575         0.459    3    -4.858       0.60400       0.0573   \n",
       "17   0.673         0.787   11    -4.577       0.25600       0.1580   \n",
       "18   0.320         0.764   11    -7.209       0.83700       0.0546   \n",
       "19   0.574         0.795    2    -6.903       0.06700       0.4870   \n",
       "20   0.481         0.767    0    -8.520       0.23400       0.0803   \n",
       "21   0.771         0.676    8    -3.675       0.02370       0.0483   \n",
       "22   0.720         0.789    8    -5.652       0.22300       0.2180   \n",
       "23   0.722         0.700    7    -3.558       0.22100       0.0369   \n",
       "24   0.225         0.704    6   -14.454       0.90200       0.0994   \n",
       "25   0.548         0.759    9    -6.049       0.03920       0.0290   \n",
       "26   0.425         0.701    7   -10.965       0.32800       0.3750   \n",
       "27   0.454         0.935    1    -7.509       0.01940       0.3750   \n",
       "28   0.525         0.878    5    -6.832       0.18300       0.0578   \n",
       "29   0.745         0.808   10    -5.260       0.14500       0.3420   \n",
       "30   0.506         0.676    9    -6.652       0.34500       0.0958   \n",
       "31   0.729         0.730    4    -3.434       0.16700       0.0883   \n",
       "32   0.765         0.746    6    -4.410       0.01120       0.0993   \n",
       "33   0.631         0.862    7    -4.746       0.29100       0.0515   \n",
       "34   0.774         0.674   11    -7.567       0.06860       0.0892   \n",
       "35   0.855         0.672    9    -3.764       0.02100       0.0397   \n",
       "36   0.427         0.598    7    -8.764       0.05460       0.0317   \n",
       "37   0.522         0.755    2    -4.368       0.53300       0.0575   \n",
       "38   0.727         0.783    6    -3.454       0.18500       0.3890   \n",
       "39   0.751         0.880    7    -4.258       0.17700       0.0874   \n",
       "40   0.728         0.841    7    -3.370       0.08470       0.0484   \n",
       "41   0.704         0.723   10    -7.088       0.02590       0.0571   \n",
       "42   0.537         0.716    0    -7.648       0.23300       0.0514   \n",
       "43   0.829         0.607    2    -4.074       0.01030       0.3790   \n",
       "44   0.296         0.351    4   -10.109       0.93400       0.0333   \n",
       "45   0.566         0.511    6    -7.230       0.34900       0.2000   \n",
       "46   0.450         0.597    8    -6.658       0.22300       0.0418   \n",
       "47   0.473         0.464    1   -10.086       0.86600       0.1290   \n",
       "48   0.844         0.647    0    -3.756       0.01370       0.0457   \n",
       "49   0.730         0.834    8    -3.714       0.00513       0.2220   \n",
       "\n",
       "    instrumentalness  liveness  valence    tempo  duration_ms  \\\n",
       "0           0.000095    0.0897   0.3340  171.005       200040   \n",
       "1           0.000161    0.1700   0.5400   98.078       209755   \n",
       "2           0.000000    0.7900   0.6420  116.971       196653   \n",
       "3           0.004320    0.2850   0.8940  121.962       176219   \n",
       "4           0.000000    0.0951   0.6790  123.950       183290   \n",
       "5           0.000000    0.1010   0.4970   89.977       181733   \n",
       "6           0.000000    0.3350   0.5570   95.390       174000   \n",
       "7           0.000000    0.6960   0.3480  144.026       173333   \n",
       "8           0.000000    0.0887   0.2360  127.087       159382   \n",
       "9           0.000000    0.1050   0.4460  109.891       182161   \n",
       "10          0.000134    0.0574   0.5740  101.085       200960   \n",
       "11          0.000000    0.4600   0.4570  116.735       163636   \n",
       "12          0.002440    0.0863   0.5530  120.042       215280   \n",
       "13          0.000000    0.1320   0.3490   99.034       162547   \n",
       "14          0.000000    0.1020   0.8740  147.986       212867   \n",
       "15          0.000003    0.1130   0.8450   81.604       247059   \n",
       "16          0.000000    0.0885   0.1830  111.881       215107   \n",
       "17          0.000004    0.0904   0.7860  110.962       237893   \n",
       "18          0.000000    0.0822   0.5750   91.019       189486   \n",
       "19          0.000000    0.1500   0.5370  142.053       237918   \n",
       "20          0.000000    0.2690   0.7610  150.076       171375   \n",
       "21          0.000007    0.1020   0.5690   99.048       207133   \n",
       "22          0.000000    0.1290   0.6640  122.031       166794   \n",
       "23          0.000000    0.2720   0.7560   90.989       140526   \n",
       "24          0.657000    0.1060   0.2430  120.006       245426   \n",
       "25          0.000000    0.0828   0.7490  116.967       190800   \n",
       "26          0.130000    0.1000   0.5620  135.128       194088   \n",
       "27          0.000000    0.0824   0.3570  133.073       187541   \n",
       "28          0.000000    0.0714   0.6940  112.022       158571   \n",
       "29          0.000000    0.2920   0.8290  165.995       210800   \n",
       "30          0.000000    0.1180   0.4970  145.842       208520   \n",
       "31          0.000001    0.3490   0.4670  113.013       221820   \n",
       "32          0.000000    0.0936   0.7370  114.044       199054   \n",
       "33          0.000209    0.1230   0.8410  128.978       223488   \n",
       "34          0.001880    0.3930   0.3300  112.050       176547   \n",
       "35          0.000000    0.3230   0.6460  123.056       182200   \n",
       "36          0.000006    0.2100   0.0605   76.469       175721   \n",
       "37          0.000000    0.0685   0.9250   89.960       157560   \n",
       "38          0.000025    0.0626   0.5580  180.067       199112   \n",
       "39          0.000064    0.1060   0.8840  117.948       157606   \n",
       "40          0.000000    0.1490   0.4300  130.049       243837   \n",
       "41          0.001090    0.7920   0.6840  105.095       214935   \n",
       "42          0.000000    0.1570   0.2800  129.979       165978   \n",
       "43          0.000000    0.1070   0.6850   96.172       295177   \n",
       "44          0.000000    0.0950   0.1200  115.284       200186   \n",
       "45          0.000000    0.3400   0.2180   83.903       239836   \n",
       "46          0.000000    0.3820   0.5370  178.765       228482   \n",
       "47          0.000000    0.1090   0.6040   75.801       208687   \n",
       "48          0.000658    0.1020   0.7460  146.967       193829   \n",
       "49          0.000000    0.1240   0.4460  155.008       312820   \n",
       "\n",
       "                                 genre  \n",
       "0                             R&B/Soul  \n",
       "1                    Alternative/Indie  \n",
       "2                          Hip-Hop/Rap  \n",
       "3                     Dance/Electronic  \n",
       "4                             Nu-disco  \n",
       "5                          Hip-Hop/Rap  \n",
       "6                                  Pop  \n",
       "7                          Hip-Hop/Rap  \n",
       "8              R&B/Hip-Hop alternative  \n",
       "9                    Alternative/Indie  \n",
       "10                                 Pop  \n",
       "11                         Hip-Hop/Rap  \n",
       "12                       Pop/Soft Rock  \n",
       "13                         Hip-Hop/Rap  \n",
       "14                                 Pop  \n",
       "15                         Hip-Hop/Rap  \n",
       "16                   Alternative/Indie  \n",
       "17                            R&B/Soul  \n",
       "18                                 Pop  \n",
       "19                         Hip-Hop/Rap  \n",
       "20                         Hip-Hop/Rap  \n",
       "21                                 Pop  \n",
       "22                    Dance/Electronic  \n",
       "23                             Pop rap  \n",
       "24                                 Pop  \n",
       "25                                 Pop  \n",
       "26                         Electro-pop  \n",
       "27                        Hip-Hop/Trap  \n",
       "28                         Electro-pop  \n",
       "29                         Hip-Hop/Rap  \n",
       "30                                 Pop  \n",
       "31                     Dance-pop/Disco  \n",
       "32                           Disco-pop  \n",
       "33                   Alternative/Indie  \n",
       "34                    Dance/Electronic  \n",
       "35                                 Pop  \n",
       "36                         Hip-Hop/Rap  \n",
       "37                Dreampop/Hip-Hop/R&B  \n",
       "38                                 Pop  \n",
       "39                    Dance/Electronic  \n",
       "40                         Hip-Hop/Rap  \n",
       "41                                 Pop  \n",
       "42                         Hip-Hop/Rap  \n",
       "43  Alternative/reggaeton/experimental  \n",
       "44                         Chamber pop  \n",
       "45                                 Pop  \n",
       "46                                 Pop  \n",
       "47                                 Pop  \n",
       "48                    Dance/Electronic  \n",
       "49                         Hip-Hop/Rap  "
      ]
     },
     "execution_count": 98,
     "metadata": {},
     "output_type": "execute_result"
    }
   ],
   "source": [
    "df"
   ]
  },
  {
   "cell_type": "markdown",
   "id": "671c7250",
   "metadata": {},
   "source": [
    "kaip patikrinti kiek laiko trunka skaiciavimas"
   ]
  },
  {
   "cell_type": "code",
   "execution_count": 160,
   "id": "1e467c9a",
   "metadata": {},
   "outputs": [],
   "source": [
    "numbers = pd.Series(np.random.randint(0, 1000, 10000))"
   ]
  },
  {
   "cell_type": "code",
   "execution_count": 161,
   "id": "467e381f",
   "metadata": {},
   "outputs": [
    {
     "name": "stdout",
     "output_type": "stream",
     "text": [
      "711 µs ± 12.2 µs per loop (mean ± std. dev. of 7 runs, 100 loops each)\n"
     ]
    }
   ],
   "source": [
    "%%timeit -n 100\n",
    "total = 0\n",
    "for number in numbers:\n",
    "    total+=number\n",
    "total/len(numbers)"
   ]
  },
  {
   "cell_type": "code",
   "execution_count": 162,
   "id": "c80daaf4",
   "metadata": {},
   "outputs": [
    {
     "name": "stdout",
     "output_type": "stream",
     "text": [
      "42.1 µs ± 16.4 µs per loop (mean ± std. dev. of 7 runs, 100 loops each)\n"
     ]
    }
   ],
   "source": [
    "%%timeit -n 100\n",
    "total = np.sum(numbers)\n",
    "total/len(numbers)"
   ]
  },
  {
   "cell_type": "code",
   "execution_count": 177,
   "id": "52b18b98",
   "metadata": {},
   "outputs": [
    {
     "name": "stdout",
     "output_type": "stream",
     "text": [
      "Processing c:\\mano\\nb_black-master\\nb_black-master\n",
      "  Preparing metadata (setup.py): started\n",
      "  Preparing metadata (setup.py): finished with status 'done'\n",
      "Requirement already satisfied: ipython in c:\\mano\\anaconda\\envs\\learn\\lib\\site-packages (from nb-black==1.0.7) (8.14.0)\n",
      "Requirement already satisfied: black>=19.3 in c:\\mano\\anaconda\\envs\\learn\\lib\\site-packages (from nb-black==1.0.7) (23.7.0)\n",
      "Requirement already satisfied: click>=8.0.0 in c:\\mano\\anaconda\\envs\\learn\\lib\\site-packages (from black>=19.3->nb-black==1.0.7) (8.0.4)\n",
      "Requirement already satisfied: mypy-extensions>=0.4.3 in c:\\mano\\anaconda\\envs\\learn\\lib\\site-packages (from black>=19.3->nb-black==1.0.7) (0.4.3)\n",
      "Requirement already satisfied: packaging>=22.0 in c:\\mano\\anaconda\\envs\\learn\\lib\\site-packages (from black>=19.3->nb-black==1.0.7) (23.0)\n",
      "Requirement already satisfied: pathspec>=0.9.0 in c:\\mano\\anaconda\\envs\\learn\\lib\\site-packages (from black>=19.3->nb-black==1.0.7) (0.10.3)\n",
      "Requirement already satisfied: platformdirs>=2 in c:\\mano\\anaconda\\envs\\learn\\lib\\site-packages (from black>=19.3->nb-black==1.0.7) (2.5.2)\n",
      "Requirement already satisfied: backcall in c:\\mano\\anaconda\\envs\\learn\\lib\\site-packages (from ipython->nb-black==1.0.7) (0.2.0)\n",
      "Requirement already satisfied: decorator in c:\\mano\\anaconda\\envs\\learn\\lib\\site-packages (from ipython->nb-black==1.0.7) (5.1.1)\n",
      "Requirement already satisfied: jedi>=0.16 in c:\\mano\\anaconda\\envs\\learn\\lib\\site-packages (from ipython->nb-black==1.0.7) (0.19.0)\n",
      "Requirement already satisfied: matplotlib-inline in c:\\mano\\anaconda\\envs\\learn\\lib\\site-packages (from ipython->nb-black==1.0.7) (0.1.6)\n",
      "Requirement already satisfied: pickleshare in c:\\mano\\anaconda\\envs\\learn\\lib\\site-packages (from ipython->nb-black==1.0.7) (0.7.5)\n",
      "Requirement already satisfied: prompt-toolkit!=3.0.37,<3.1.0,>=3.0.30 in c:\\mano\\anaconda\\envs\\learn\\lib\\site-packages (from ipython->nb-black==1.0.7) (3.0.39)\n",
      "Requirement already satisfied: pygments>=2.4.0 in c:\\mano\\anaconda\\envs\\learn\\lib\\site-packages (from ipython->nb-black==1.0.7) (2.15.1)\n",
      "Requirement already satisfied: stack-data in c:\\mano\\anaconda\\envs\\learn\\lib\\site-packages (from ipython->nb-black==1.0.7) (0.6.2)\n",
      "Requirement already satisfied: traitlets>=5 in c:\\mano\\anaconda\\envs\\learn\\lib\\site-packages (from ipython->nb-black==1.0.7) (5.9.0)\n",
      "Requirement already satisfied: colorama in c:\\mano\\anaconda\\envs\\learn\\lib\\site-packages (from ipython->nb-black==1.0.7) (0.4.6)\n",
      "Requirement already satisfied: parso<0.9.0,>=0.8.3 in c:\\mano\\anaconda\\envs\\learn\\lib\\site-packages (from jedi>=0.16->ipython->nb-black==1.0.7) (0.8.3)\n",
      "Requirement already satisfied: wcwidth in c:\\mano\\anaconda\\envs\\learn\\lib\\site-packages (from prompt-toolkit!=3.0.37,<3.1.0,>=3.0.30->ipython->nb-black==1.0.7) (0.2.6)\n",
      "Requirement already satisfied: executing>=1.2.0 in c:\\mano\\anaconda\\envs\\learn\\lib\\site-packages (from stack-data->ipython->nb-black==1.0.7) (1.2.0)\n",
      "Requirement already satisfied: asttokens>=2.1.0 in c:\\mano\\anaconda\\envs\\learn\\lib\\site-packages (from stack-data->ipython->nb-black==1.0.7) (2.2.1)\n",
      "Requirement already satisfied: pure-eval in c:\\mano\\anaconda\\envs\\learn\\lib\\site-packages (from stack-data->ipython->nb-black==1.0.7) (0.2.2)\n",
      "Requirement already satisfied: six in c:\\mano\\anaconda\\envs\\learn\\lib\\site-packages (from asttokens>=2.1.0->stack-data->ipython->nb-black==1.0.7) (1.16.0)\n",
      "Building wheels for collected packages: nb-black\n",
      "  Building wheel for nb-black (setup.py): started\n",
      "  Building wheel for nb-black (setup.py): finished with status 'done'\n",
      "  Created wheel for nb-black: filename=nb_black-1.0.7-py3-none-any.whl size=5367 sha256=a98a2312aaa202c89a1a6d4755ad4804913a9fb9ef672f9a2f35229d084c2b1a\n",
      "  Stored in directory: c:\\users\\grazina s\\appdata\\local\\pip\\cache\\wheels\\e3\\4a\\69\\5ee8802fd67a6793bca94284d260293b03c6220b9375c3cea5\n",
      "Successfully built nb-black\n",
      "Installing collected packages: nb-black\n",
      "  Attempting uninstall: nb-black\n",
      "    Found existing installation: nb-black 1.0.7\n",
      "    Uninstalling nb-black-1.0.7:\n",
      "      Successfully uninstalled nb-black-1.0.7\n",
      "Successfully installed nb-black-1.0.7\n"
     ]
    }
   ],
   "source": [
    "!pip install c:/mano/nb_black-master/nb_black-master"
   ]
  },
  {
   "cell_type": "code",
   "execution_count": 179,
   "id": "17f3220c",
   "metadata": {},
   "outputs": [
    {
     "name": "stdout",
     "output_type": "stream",
     "text": [
      "Name: nb-black\n",
      "Version: 1.0.7\n",
      "Summary: A simple extension for Jupyter Notebook and Jupyter Lab to beautify Python code automatically using Black.\n",
      "Home-page: https://github.com/dnanhkhoa/nb_black\n",
      "Author: Khoa Duong\n",
      "Author-email: dnanhkhoa@live.com\n",
      "License: MIT\n",
      "Location: C:\\mano\\ANACONDA\\envs\\learn\\Lib\\site-packages\n",
      "Requires: black, ipython\n",
      "Required-by: \n"
     ]
    }
   ],
   "source": [
    "!pip show nb_black"
   ]
  },
  {
   "cell_type": "code",
   "execution_count": 1,
   "id": "7564e5d9",
   "metadata": {},
   "outputs": [
    {
     "name": "stderr",
     "output_type": "stream",
     "text": [
      "Traceback (most recent call last):\n",
      "  File \"C:\\mano\\ANACONDA\\Scripts\\jupyter-nbextension-script.py\", line 10, in <module>\n",
      "    sys.exit(main())\n",
      "             ^^^^^^\n",
      "  File \"C:\\mano\\ANACONDA\\Lib\\site-packages\\jupyter_core\\application.py\", line 277, in launch_instance\n",
      "    return super().launch_instance(argv=argv, **kwargs)\n",
      "           ^^^^^^^^^^^^^^^^^^^^^^^^^^^^^^^^^^^^^^^^^^^^\n",
      "  File \"C:\\mano\\ANACONDA\\Lib\\site-packages\\traitlets\\config\\application.py\", line 992, in launch_instance\n",
      "    app.start()\n",
      "  File \"C:\\mano\\ANACONDA\\Lib\\site-packages\\notebook\\nbextensions.py\", line 972, in start\n",
      "    super().start()\n",
      "  File \"C:\\mano\\ANACONDA\\Lib\\site-packages\\jupyter_core\\application.py\", line 266, in start\n",
      "    self.subapp.start()\n",
      "  File \"C:\\mano\\ANACONDA\\Lib\\site-packages\\notebook\\nbextensions.py\", line 882, in start\n",
      "    self.toggle_nbextension_python(self.extra_args[0])\n",
      "  File \"C:\\mano\\ANACONDA\\Lib\\site-packages\\notebook\\nbextensions.py\", line 855, in toggle_nbextension_python\n",
      "    return toggle(module,\n",
      "           ^^^^^^^^^^^^^^\n",
      "  File \"C:\\mano\\ANACONDA\\Lib\\site-packages\\notebook\\nbextensions.py\", line 470, in enable_nbextension_python\n",
      "    return _set_nbextension_state_python(True, module, user, sys_prefix,\n",
      "           ^^^^^^^^^^^^^^^^^^^^^^^^^^^^^^^^^^^^^^^^^^^^^^^^^^^^^^^^^^^^^\n",
      "  File \"C:\\mano\\ANACONDA\\Lib\\site-packages\\notebook\\nbextensions.py\", line 368, in _set_nbextension_state_python\n",
      "    m, nbexts = _get_nbextension_metadata(module)\n",
      "                ^^^^^^^^^^^^^^^^^^^^^^^^^^^^^^^^^\n",
      "  File \"C:\\mano\\ANACONDA\\Lib\\site-packages\\notebook\\nbextensions.py\", line 1107, in _get_nbextension_metadata\n",
      "    m = import_item(module)\n",
      "        ^^^^^^^^^^^^^^^^^^^\n",
      "  File \"C:\\mano\\ANACONDA\\Lib\\site-packages\\traitlets\\utils\\importstring.py\", line 38, in import_item\n",
      "    return __import__(parts[0])\n",
      "           ^^^^^^^^^^^^^^^^^^^^\n",
      "ModuleNotFoundError: No module named 'nb_black'\n"
     ]
    }
   ],
   "source": [
    "!jupyter nbextension enable nb_black --user --py"
   ]
  },
  {
   "cell_type": "code",
   "execution_count": 2,
   "id": "c5b947a7",
   "metadata": {},
   "outputs": [
    {
     "name": "stdout",
     "output_type": "stream",
     "text": [
      "Package           Version\n",
      "----------------- -------\n",
      "asttokens         2.2.1\n",
      "backcall          0.2.0\n",
      "black             23.7.0\n",
      "click             8.0.4\n",
      "colorama          0.4.6\n",
      "decorator         5.1.1\n",
      "executing         1.2.0\n",
      "ipython           8.14.0\n",
      "jedi              0.19.0\n",
      "matplotlib-inline 0.1.6\n",
      "mypy-extensions   0.4.3\n",
      "nb-black          1.0.7\n",
      "packaging         23.0\n",
      "parso             0.8.3\n",
      "pathspec          0.10.3\n",
      "pickleshare       0.7.5\n",
      "pip               23.2.1\n",
      "platformdirs      2.5.2\n",
      "prompt-toolkit    3.0.39\n",
      "pure-eval         0.2.2\n",
      "Pygments          2.15.1\n",
      "setuptools        68.0.0\n",
      "six               1.16.0\n",
      "stack-data        0.6.2\n",
      "traitlets         5.9.0\n",
      "wcwidth           0.2.6\n",
      "wheel             0.38.4\n"
     ]
    }
   ],
   "source": [
    "!pip list"
   ]
  },
  {
   "cell_type": "code",
   "execution_count": null,
   "id": "9d4b01b9",
   "metadata": {},
   "outputs": [],
   "source": []
  }
 ],
 "metadata": {
  "kernelspec": {
   "display_name": "Python 3 (ipykernel)",
   "language": "python",
   "name": "python3"
  },
  "language_info": {
   "codemirror_mode": {
    "name": "ipython",
    "version": 3
   },
   "file_extension": ".py",
   "mimetype": "text/x-python",
   "name": "python",
   "nbconvert_exporter": "python",
   "pygments_lexer": "ipython3",
   "version": "3.11.3"
  }
 },
 "nbformat": 4,
 "nbformat_minor": 5
}
