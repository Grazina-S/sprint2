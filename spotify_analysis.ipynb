{
 "cells": [
  {
   "cell_type": "markdown",
   "id": "56df14a2",
   "metadata": {},
   "source": [
    "### Top 50 Spotify Tracks of 2020"
   ]
  },
  {
   "cell_type": "markdown",
   "id": "45bd0a43",
   "metadata": {},
   "source": [
    "**Importing and reading the data**"
   ]
  },
  {
   "cell_type": "code",
   "execution_count": 33,
   "id": "bd07887b",
   "metadata": {
    "tags": []
   },
   "outputs": [],
   "source": [
    "# import zipfile\n",
    "# zip_dir = 'E:/archive.zip'\n",
    "# extr_dir = 'Spottify_data'\n",
    "# with zipfile.ZipFile(zip_dir, 'r') as zip_file:\n",
    "#     zip_file.extractall(extr_dir)"
   ]
  },
  {
   "cell_type": "code",
   "execution_count": 77,
   "id": "7e5eb2da",
   "metadata": {},
   "outputs": [],
   "source": [
    "import pandas as pd\n",
    "import numpy as np"
   ]
  },
  {
   "cell_type": "code",
   "execution_count": 78,
   "id": "fdf97688",
   "metadata": {},
   "outputs": [],
   "source": [
    "df = pd.read_csv(r'Spottify_data\\spotifytoptracks.csv', index_col = 0)"
   ]
  },
  {
   "cell_type": "markdown",
   "id": "68ee494d",
   "metadata": {},
   "source": [
    "**Ispecting the data**"
   ]
  },
  {
   "cell_type": "markdown",
   "id": "348fa63b",
   "metadata": {},
   "source": [
    "<span style='color: blue;'>What is the size of the table? i.e. how many observations and features</span>"
   ]
  },
  {
   "cell_type": "code",
   "execution_count": 79,
   "id": "afc60f33",
   "metadata": {},
   "outputs": [
    {
     "data": {
      "text/plain": [
       "(50, 16)"
      ]
     },
     "execution_count": 79,
     "metadata": {},
     "output_type": "execute_result"
    }
   ],
   "source": [
    "df.shape"
   ]
  },
  {
   "cell_type": "markdown",
   "id": "09f4d94f",
   "metadata": {},
   "source": [
    "<span style='color: blue;'>What are the names of the columns?</span>"
   ]
  },
  {
   "cell_type": "code",
   "execution_count": 80,
   "id": "48ec1c3b",
   "metadata": {},
   "outputs": [
    {
     "data": {
      "text/plain": [
       "Index(['artist', 'album', 'track_name', 'track_id', 'energy', 'danceability',\n",
       "       'key', 'loudness', 'acousticness', 'speechiness', 'instrumentalness',\n",
       "       'liveness', 'valence', 'tempo', 'duration_ms', 'genre'],\n",
       "      dtype='object')"
      ]
     },
     "execution_count": 80,
     "metadata": {},
     "output_type": "execute_result"
    }
   ],
   "source": [
    "df.columns"
   ]
  },
  {
   "cell_type": "markdown",
   "id": "28fec40e",
   "metadata": {},
   "source": [
    "<span style='color: blue;'>Get a glimpse of what it looks like</span>"
   ]
  },
  {
   "cell_type": "code",
   "execution_count": 81,
   "id": "9f6bd441",
   "metadata": {},
   "outputs": [
    {
     "data": {
      "text/html": [
       "<div>\n",
       "<style scoped>\n",
       "    .dataframe tbody tr th:only-of-type {\n",
       "        vertical-align: middle;\n",
       "    }\n",
       "\n",
       "    .dataframe tbody tr th {\n",
       "        vertical-align: top;\n",
       "    }\n",
       "\n",
       "    .dataframe thead th {\n",
       "        text-align: right;\n",
       "    }\n",
       "</style>\n",
       "<table border=\"1\" class=\"dataframe\">\n",
       "  <thead>\n",
       "    <tr style=\"text-align: right;\">\n",
       "      <th></th>\n",
       "      <th>artist</th>\n",
       "      <th>album</th>\n",
       "      <th>track_name</th>\n",
       "      <th>track_id</th>\n",
       "      <th>energy</th>\n",
       "      <th>danceability</th>\n",
       "      <th>key</th>\n",
       "      <th>loudness</th>\n",
       "      <th>acousticness</th>\n",
       "      <th>speechiness</th>\n",
       "      <th>instrumentalness</th>\n",
       "      <th>liveness</th>\n",
       "      <th>valence</th>\n",
       "      <th>tempo</th>\n",
       "      <th>duration_ms</th>\n",
       "      <th>genre</th>\n",
       "    </tr>\n",
       "  </thead>\n",
       "  <tbody>\n",
       "    <tr>\n",
       "      <th>0</th>\n",
       "      <td>The Weeknd</td>\n",
       "      <td>After Hours</td>\n",
       "      <td>Blinding Lights</td>\n",
       "      <td>0VjIjW4GlUZAMYd2vXMi3b</td>\n",
       "      <td>0.730</td>\n",
       "      <td>0.514</td>\n",
       "      <td>1</td>\n",
       "      <td>-5.934</td>\n",
       "      <td>0.00146</td>\n",
       "      <td>0.0598</td>\n",
       "      <td>0.000095</td>\n",
       "      <td>0.0897</td>\n",
       "      <td>0.334</td>\n",
       "      <td>171.005</td>\n",
       "      <td>200040</td>\n",
       "      <td>R&amp;B/Soul</td>\n",
       "    </tr>\n",
       "    <tr>\n",
       "      <th>1</th>\n",
       "      <td>Tones And I</td>\n",
       "      <td>Dance Monkey</td>\n",
       "      <td>Dance Monkey</td>\n",
       "      <td>1rgnBhdG2JDFTbYkYRZAku</td>\n",
       "      <td>0.593</td>\n",
       "      <td>0.825</td>\n",
       "      <td>6</td>\n",
       "      <td>-6.401</td>\n",
       "      <td>0.68800</td>\n",
       "      <td>0.0988</td>\n",
       "      <td>0.000161</td>\n",
       "      <td>0.1700</td>\n",
       "      <td>0.540</td>\n",
       "      <td>98.078</td>\n",
       "      <td>209755</td>\n",
       "      <td>Alternative/Indie</td>\n",
       "    </tr>\n",
       "    <tr>\n",
       "      <th>2</th>\n",
       "      <td>Roddy Ricch</td>\n",
       "      <td>Please Excuse Me For Being Antisocial</td>\n",
       "      <td>The Box</td>\n",
       "      <td>0nbXyq5TXYPCO7pr3N8S4I</td>\n",
       "      <td>0.586</td>\n",
       "      <td>0.896</td>\n",
       "      <td>10</td>\n",
       "      <td>-6.687</td>\n",
       "      <td>0.10400</td>\n",
       "      <td>0.0559</td>\n",
       "      <td>0.000000</td>\n",
       "      <td>0.7900</td>\n",
       "      <td>0.642</td>\n",
       "      <td>116.971</td>\n",
       "      <td>196653</td>\n",
       "      <td>Hip-Hop/Rap</td>\n",
       "    </tr>\n",
       "  </tbody>\n",
       "</table>\n",
       "</div>"
      ],
      "text/plain": [
       "        artist                                  album       track_name  \\\n",
       "0   The Weeknd                            After Hours  Blinding Lights   \n",
       "1  Tones And I                           Dance Monkey     Dance Monkey   \n",
       "2  Roddy Ricch  Please Excuse Me For Being Antisocial          The Box   \n",
       "\n",
       "                 track_id  energy  danceability  key  loudness  acousticness  \\\n",
       "0  0VjIjW4GlUZAMYd2vXMi3b   0.730         0.514    1    -5.934       0.00146   \n",
       "1  1rgnBhdG2JDFTbYkYRZAku   0.593         0.825    6    -6.401       0.68800   \n",
       "2  0nbXyq5TXYPCO7pr3N8S4I   0.586         0.896   10    -6.687       0.10400   \n",
       "\n",
       "   speechiness  instrumentalness  liveness  valence    tempo  duration_ms  \\\n",
       "0       0.0598          0.000095    0.0897    0.334  171.005       200040   \n",
       "1       0.0988          0.000161    0.1700    0.540   98.078       209755   \n",
       "2       0.0559          0.000000    0.7900    0.642  116.971       196653   \n",
       "\n",
       "               genre  \n",
       "0           R&B/Soul  \n",
       "1  Alternative/Indie  \n",
       "2        Hip-Hop/Rap  "
      ]
     },
     "execution_count": 81,
     "metadata": {},
     "output_type": "execute_result"
    }
   ],
   "source": [
    "df.head(3)"
   ]
  },
  {
   "cell_type": "markdown",
   "id": "a652bc6f",
   "metadata": {},
   "source": [
    "<span style='color: blue;'>What kind of data is stored in each column?</span>"
   ]
  },
  {
   "cell_type": "code",
   "execution_count": 82,
   "id": "e72d12da",
   "metadata": {},
   "outputs": [
    {
     "data": {
      "text/plain": [
       "artist               object\n",
       "album                object\n",
       "track_name           object\n",
       "track_id             object\n",
       "energy              float64\n",
       "danceability        float64\n",
       "key                   int64\n",
       "loudness            float64\n",
       "acousticness        float64\n",
       "speechiness         float64\n",
       "instrumentalness    float64\n",
       "liveness            float64\n",
       "valence             float64\n",
       "tempo               float64\n",
       "duration_ms           int64\n",
       "genre                object\n",
       "dtype: object"
      ]
     },
     "execution_count": 82,
     "metadata": {},
     "output_type": "execute_result"
    }
   ],
   "source": [
    "df.dtypes"
   ]
  },
  {
   "cell_type": "markdown",
   "id": "68dcf368",
   "metadata": {},
   "source": [
    "<span style='color: blue;'>What are categorical features and how many unique entries are there in each of them?</span>"
   ]
  },
  {
   "cell_type": "code",
   "execution_count": 83,
   "id": "f9ba0305",
   "metadata": {},
   "outputs": [
    {
     "name": "stdout",
     "output_type": "stream",
     "text": [
      "Categorical features: artist        40\n",
      "album         45\n",
      "track_name    50\n",
      "track_id      50\n",
      "genre         16\n",
      "dtype: int64\n"
     ]
    }
   ],
   "source": [
    "print(\"Categorical features:\", df.select_dtypes(include='object').nunique())"
   ]
  },
  {
   "cell_type": "markdown",
   "id": "de5fd1fb",
   "metadata": {},
   "source": [
    "<span style='color: blue;'>What are numerical features?</span>"
   ]
  },
  {
   "cell_type": "code",
   "execution_count": 84,
   "id": "d268353f",
   "metadata": {},
   "outputs": [
    {
     "name": "stdout",
     "output_type": "stream",
     "text": [
      "Numerical features: ['energy', 'danceability', 'key', 'loudness', 'acousticness', 'speechiness', 'instrumentalness', 'liveness', 'valence', 'tempo', 'duration_ms']\n"
     ]
    }
   ],
   "source": [
    "print(\"Numerical features:\", df.select_dtypes(include = 'number').columns.tolist())"
   ]
  },
  {
   "cell_type": "markdown",
   "id": "324bbd95",
   "metadata": {},
   "source": [
    "<span style='color: blue;'>Is there any missing data?</span>"
   ]
  },
  {
   "cell_type": "code",
   "execution_count": 156,
   "id": "81f6db0a",
   "metadata": {},
   "outputs": [
    {
     "name": "stdout",
     "output_type": "stream",
     "text": [
      " There is no missing data\n"
     ]
    }
   ],
   "source": [
    "if np.count_nonzero(df.isna()) == 0:\n",
    "    print(\" There is no missing data\")\n",
    "else:\n",
    "    x = np.count_nonzero(df.isna())\n",
    "    print(f'There are {x} missing data cases')"
   ]
  },
  {
   "cell_type": "markdown",
   "id": "ff402bc4",
   "metadata": {},
   "source": [
    "<span style='color: blue;'>Are there any duplicates? </span> <br>In this case, track name and/or track ID should be checked. "
   ]
  },
  {
   "cell_type": "code",
   "execution_count": 158,
   "id": "3be2f2d5",
   "metadata": {},
   "outputs": [
    {
     "data": {
      "text/plain": [
       "0"
      ]
     },
     "execution_count": 158,
     "metadata": {},
     "output_type": "execute_result"
    }
   ],
   "source": [
    "df.duplicated(subset=['track_name','track_id']).sum()"
   ]
  },
  {
   "cell_type": "markdown",
   "id": "35b720c8",
   "metadata": {},
   "source": [
    "There are none but I already knew that from counting unique categorical feature entries"
   ]
  },
  {
   "cell_type": "markdown",
   "id": "3dee7794",
   "metadata": {},
   "source": [
    "<span style='color: blue;'>Are there any outliers?</span> <br> My preffered way to check is boxplots. That works just fine if dataframe doesn't have too many features. If it was big, would probably go for interquartile range"
   ]
  },
  {
   "cell_type": "code",
   "execution_count": 133,
   "id": "f21e699f",
   "metadata": {},
   "outputs": [],
   "source": [
    "import plotly.express as px"
   ]
  },
  {
   "cell_type": "code",
   "execution_count": 142,
   "id": "b7ef233c",
   "metadata": {},
   "outputs": [],
   "source": [
    "numerical_df = df.select_dtypes(include='number')"
   ]
  },
  {
   "cell_type": "code",
   "execution_count": 143,
   "id": "54e450a2",
   "metadata": {},
   "outputs": [
    {
     "data": {
      "application/vnd.plotly.v1+json": {
       "config": {
        "plotlyServerURL": "https://plot.ly"
       },
       "data": [
        {
         "alignmentgroup": "True",
         "hovertemplate": "variable=%{x}<br>value=%{y}<extra></extra>",
         "legendgroup": "",
         "marker": {
          "color": "#636efa"
         },
         "name": "",
         "notched": false,
         "offsetgroup": "",
         "orientation": "v",
         "showlegend": false,
         "type": "box",
         "x": [
          "energy",
          "energy",
          "energy",
          "energy",
          "energy",
          "energy",
          "energy",
          "energy",
          "energy",
          "energy",
          "energy",
          "energy",
          "energy",
          "energy",
          "energy",
          "energy",
          "energy",
          "energy",
          "energy",
          "energy",
          "energy",
          "energy",
          "energy",
          "energy",
          "energy",
          "energy",
          "energy",
          "energy",
          "energy",
          "energy",
          "energy",
          "energy",
          "energy",
          "energy",
          "energy",
          "energy",
          "energy",
          "energy",
          "energy",
          "energy",
          "energy",
          "energy",
          "energy",
          "energy",
          "energy",
          "energy",
          "energy",
          "energy",
          "energy",
          "energy",
          "danceability",
          "danceability",
          "danceability",
          "danceability",
          "danceability",
          "danceability",
          "danceability",
          "danceability",
          "danceability",
          "danceability",
          "danceability",
          "danceability",
          "danceability",
          "danceability",
          "danceability",
          "danceability",
          "danceability",
          "danceability",
          "danceability",
          "danceability",
          "danceability",
          "danceability",
          "danceability",
          "danceability",
          "danceability",
          "danceability",
          "danceability",
          "danceability",
          "danceability",
          "danceability",
          "danceability",
          "danceability",
          "danceability",
          "danceability",
          "danceability",
          "danceability",
          "danceability",
          "danceability",
          "danceability",
          "danceability",
          "danceability",
          "danceability",
          "danceability",
          "danceability",
          "danceability",
          "danceability",
          "danceability",
          "danceability",
          "danceability",
          "danceability",
          "key",
          "key",
          "key",
          "key",
          "key",
          "key",
          "key",
          "key",
          "key",
          "key",
          "key",
          "key",
          "key",
          "key",
          "key",
          "key",
          "key",
          "key",
          "key",
          "key",
          "key",
          "key",
          "key",
          "key",
          "key",
          "key",
          "key",
          "key",
          "key",
          "key",
          "key",
          "key",
          "key",
          "key",
          "key",
          "key",
          "key",
          "key",
          "key",
          "key",
          "key",
          "key",
          "key",
          "key",
          "key",
          "key",
          "key",
          "key",
          "key",
          "key",
          "loudness",
          "loudness",
          "loudness",
          "loudness",
          "loudness",
          "loudness",
          "loudness",
          "loudness",
          "loudness",
          "loudness",
          "loudness",
          "loudness",
          "loudness",
          "loudness",
          "loudness",
          "loudness",
          "loudness",
          "loudness",
          "loudness",
          "loudness",
          "loudness",
          "loudness",
          "loudness",
          "loudness",
          "loudness",
          "loudness",
          "loudness",
          "loudness",
          "loudness",
          "loudness",
          "loudness",
          "loudness",
          "loudness",
          "loudness",
          "loudness",
          "loudness",
          "loudness",
          "loudness",
          "loudness",
          "loudness",
          "loudness",
          "loudness",
          "loudness",
          "loudness",
          "loudness",
          "loudness",
          "loudness",
          "loudness",
          "loudness",
          "loudness",
          "acousticness",
          "acousticness",
          "acousticness",
          "acousticness",
          "acousticness",
          "acousticness",
          "acousticness",
          "acousticness",
          "acousticness",
          "acousticness",
          "acousticness",
          "acousticness",
          "acousticness",
          "acousticness",
          "acousticness",
          "acousticness",
          "acousticness",
          "acousticness",
          "acousticness",
          "acousticness",
          "acousticness",
          "acousticness",
          "acousticness",
          "acousticness",
          "acousticness",
          "acousticness",
          "acousticness",
          "acousticness",
          "acousticness",
          "acousticness",
          "acousticness",
          "acousticness",
          "acousticness",
          "acousticness",
          "acousticness",
          "acousticness",
          "acousticness",
          "acousticness",
          "acousticness",
          "acousticness",
          "acousticness",
          "acousticness",
          "acousticness",
          "acousticness",
          "acousticness",
          "acousticness",
          "acousticness",
          "acousticness",
          "acousticness",
          "acousticness",
          "speechiness",
          "speechiness",
          "speechiness",
          "speechiness",
          "speechiness",
          "speechiness",
          "speechiness",
          "speechiness",
          "speechiness",
          "speechiness",
          "speechiness",
          "speechiness",
          "speechiness",
          "speechiness",
          "speechiness",
          "speechiness",
          "speechiness",
          "speechiness",
          "speechiness",
          "speechiness",
          "speechiness",
          "speechiness",
          "speechiness",
          "speechiness",
          "speechiness",
          "speechiness",
          "speechiness",
          "speechiness",
          "speechiness",
          "speechiness",
          "speechiness",
          "speechiness",
          "speechiness",
          "speechiness",
          "speechiness",
          "speechiness",
          "speechiness",
          "speechiness",
          "speechiness",
          "speechiness",
          "speechiness",
          "speechiness",
          "speechiness",
          "speechiness",
          "speechiness",
          "speechiness",
          "speechiness",
          "speechiness",
          "speechiness",
          "speechiness",
          "instrumentalness",
          "instrumentalness",
          "instrumentalness",
          "instrumentalness",
          "instrumentalness",
          "instrumentalness",
          "instrumentalness",
          "instrumentalness",
          "instrumentalness",
          "instrumentalness",
          "instrumentalness",
          "instrumentalness",
          "instrumentalness",
          "instrumentalness",
          "instrumentalness",
          "instrumentalness",
          "instrumentalness",
          "instrumentalness",
          "instrumentalness",
          "instrumentalness",
          "instrumentalness",
          "instrumentalness",
          "instrumentalness",
          "instrumentalness",
          "instrumentalness",
          "instrumentalness",
          "instrumentalness",
          "instrumentalness",
          "instrumentalness",
          "instrumentalness",
          "instrumentalness",
          "instrumentalness",
          "instrumentalness",
          "instrumentalness",
          "instrumentalness",
          "instrumentalness",
          "instrumentalness",
          "instrumentalness",
          "instrumentalness",
          "instrumentalness",
          "instrumentalness",
          "instrumentalness",
          "instrumentalness",
          "instrumentalness",
          "instrumentalness",
          "instrumentalness",
          "instrumentalness",
          "instrumentalness",
          "instrumentalness",
          "instrumentalness",
          "liveness",
          "liveness",
          "liveness",
          "liveness",
          "liveness",
          "liveness",
          "liveness",
          "liveness",
          "liveness",
          "liveness",
          "liveness",
          "liveness",
          "liveness",
          "liveness",
          "liveness",
          "liveness",
          "liveness",
          "liveness",
          "liveness",
          "liveness",
          "liveness",
          "liveness",
          "liveness",
          "liveness",
          "liveness",
          "liveness",
          "liveness",
          "liveness",
          "liveness",
          "liveness",
          "liveness",
          "liveness",
          "liveness",
          "liveness",
          "liveness",
          "liveness",
          "liveness",
          "liveness",
          "liveness",
          "liveness",
          "liveness",
          "liveness",
          "liveness",
          "liveness",
          "liveness",
          "liveness",
          "liveness",
          "liveness",
          "liveness",
          "liveness",
          "valence",
          "valence",
          "valence",
          "valence",
          "valence",
          "valence",
          "valence",
          "valence",
          "valence",
          "valence",
          "valence",
          "valence",
          "valence",
          "valence",
          "valence",
          "valence",
          "valence",
          "valence",
          "valence",
          "valence",
          "valence",
          "valence",
          "valence",
          "valence",
          "valence",
          "valence",
          "valence",
          "valence",
          "valence",
          "valence",
          "valence",
          "valence",
          "valence",
          "valence",
          "valence",
          "valence",
          "valence",
          "valence",
          "valence",
          "valence",
          "valence",
          "valence",
          "valence",
          "valence",
          "valence",
          "valence",
          "valence",
          "valence",
          "valence",
          "valence",
          "tempo",
          "tempo",
          "tempo",
          "tempo",
          "tempo",
          "tempo",
          "tempo",
          "tempo",
          "tempo",
          "tempo",
          "tempo",
          "tempo",
          "tempo",
          "tempo",
          "tempo",
          "tempo",
          "tempo",
          "tempo",
          "tempo",
          "tempo",
          "tempo",
          "tempo",
          "tempo",
          "tempo",
          "tempo",
          "tempo",
          "tempo",
          "tempo",
          "tempo",
          "tempo",
          "tempo",
          "tempo",
          "tempo",
          "tempo",
          "tempo",
          "tempo",
          "tempo",
          "tempo",
          "tempo",
          "tempo",
          "tempo",
          "tempo",
          "tempo",
          "tempo",
          "tempo",
          "tempo",
          "tempo",
          "tempo",
          "tempo",
          "tempo",
          "duration_ms",
          "duration_ms",
          "duration_ms",
          "duration_ms",
          "duration_ms",
          "duration_ms",
          "duration_ms",
          "duration_ms",
          "duration_ms",
          "duration_ms",
          "duration_ms",
          "duration_ms",
          "duration_ms",
          "duration_ms",
          "duration_ms",
          "duration_ms",
          "duration_ms",
          "duration_ms",
          "duration_ms",
          "duration_ms",
          "duration_ms",
          "duration_ms",
          "duration_ms",
          "duration_ms",
          "duration_ms",
          "duration_ms",
          "duration_ms",
          "duration_ms",
          "duration_ms",
          "duration_ms",
          "duration_ms",
          "duration_ms",
          "duration_ms",
          "duration_ms",
          "duration_ms",
          "duration_ms",
          "duration_ms",
          "duration_ms",
          "duration_ms",
          "duration_ms",
          "duration_ms",
          "duration_ms",
          "duration_ms",
          "duration_ms",
          "duration_ms",
          "duration_ms",
          "duration_ms",
          "duration_ms",
          "duration_ms",
          "duration_ms"
         ],
         "x0": " ",
         "xaxis": "x",
         "y": [
          0.73,
          0.593,
          0.586,
          0.721,
          0.793,
          0.69,
          0.816,
          0.431,
          0.43,
          0.405,
          0.715,
          0.601,
          0.762,
          0.554,
          0.546,
          0.49,
          0.575,
          0.673,
          0.32,
          0.574,
          0.481,
          0.771,
          0.72,
          0.722,
          0.225,
          0.548,
          0.425,
          0.454,
          0.525,
          0.745,
          0.506,
          0.729,
          0.765,
          0.631,
          0.774,
          0.855,
          0.427,
          0.522,
          0.727,
          0.751,
          0.728,
          0.704,
          0.537,
          0.829,
          0.296,
          0.566,
          0.45,
          0.473,
          0.844,
          0.73,
          0.514,
          0.825,
          0.896,
          0.785,
          0.793,
          0.746,
          0.548,
          0.726,
          0.784,
          0.501,
          0.803,
          0.621,
          0.695,
          0.774,
          0.806,
          0.83,
          0.459,
          0.787,
          0.764,
          0.795,
          0.767,
          0.676,
          0.789,
          0.7,
          0.704,
          0.759,
          0.701,
          0.935,
          0.878,
          0.808,
          0.676,
          0.73,
          0.746,
          0.862,
          0.674,
          0.672,
          0.598,
          0.755,
          0.783,
          0.88,
          0.841,
          0.723,
          0.716,
          0.607,
          0.351,
          0.511,
          0.597,
          0.464,
          0.647,
          0.834,
          1,
          6,
          10,
          8,
          11,
          11,
          0,
          8,
          10,
          1,
          2,
          6,
          0,
          0,
          9,
          1,
          3,
          11,
          11,
          2,
          0,
          8,
          8,
          7,
          6,
          9,
          7,
          1,
          5,
          10,
          9,
          4,
          6,
          7,
          11,
          9,
          7,
          2,
          6,
          7,
          7,
          10,
          0,
          2,
          4,
          6,
          8,
          1,
          0,
          8,
          -5.934,
          -6.401,
          -6.687,
          -5.457,
          -4.521,
          -7.956,
          -4.209,
          -8.765,
          -8.756,
          -5.679,
          -3.28,
          -5.616,
          -3.497,
          -7.909,
          -6.637,
          -8.82,
          -4.858,
          -4.577,
          -7.209,
          -6.903,
          -8.52,
          -3.675,
          -5.652,
          -3.558,
          -14.454,
          -6.049,
          -10.965,
          -7.509,
          -6.832,
          -5.26,
          -6.652,
          -3.434,
          -4.41,
          -4.746,
          -7.567,
          -3.764,
          -8.764,
          -4.368,
          -3.454,
          -4.258,
          -3.37,
          -7.088,
          -7.648,
          -4.074,
          -10.109,
          -7.23,
          -6.658,
          -10.086,
          -3.756,
          -3.714,
          0.00146,
          0.688,
          0.104,
          0.0149,
          0.0123,
          0.247,
          0.122,
          0.731,
          0.123,
          0.751,
          0.295,
          0.0522,
          0.192,
          0.207,
          0.3,
          0.289,
          0.604,
          0.256,
          0.837,
          0.067,
          0.234,
          0.0237,
          0.223,
          0.221,
          0.902,
          0.0392,
          0.328,
          0.0194,
          0.183,
          0.145,
          0.345,
          0.167,
          0.0112,
          0.291,
          0.0686,
          0.021,
          0.0546,
          0.533,
          0.185,
          0.177,
          0.0847,
          0.0259,
          0.233,
          0.0103,
          0.934,
          0.349,
          0.223,
          0.866,
          0.0137,
          0.00513,
          0.0598,
          0.0988,
          0.0559,
          0.0506,
          0.083,
          0.164,
          0.0465,
          0.135,
          0.0364,
          0.0319,
          0.298,
          0.148,
          0.0395,
          0.0383,
          0.0575,
          0.209,
          0.0573,
          0.158,
          0.0546,
          0.487,
          0.0803,
          0.0483,
          0.218,
          0.0369,
          0.0994,
          0.029,
          0.375,
          0.375,
          0.0578,
          0.342,
          0.0958,
          0.0883,
          0.0993,
          0.0515,
          0.0892,
          0.0397,
          0.0317,
          0.0575,
          0.389,
          0.0874,
          0.0484,
          0.0571,
          0.0514,
          0.379,
          0.0333,
          0.2,
          0.0418,
          0.129,
          0.0457,
          0.222,
          9.54e-05,
          0.000161,
          0,
          0.00432,
          0,
          0,
          0,
          0,
          0,
          0,
          0.000134,
          0,
          0.00244,
          0,
          0,
          3.04e-06,
          0,
          3.57e-06,
          0,
          0,
          0,
          7e-06,
          0,
          0,
          0.657,
          0,
          0.13,
          0,
          0,
          0,
          0,
          1.39e-06,
          0,
          0.000209,
          0.00188,
          0,
          5.83e-06,
          0,
          2.46e-05,
          6.43e-05,
          0,
          0.00109,
          0,
          0,
          0,
          0,
          0,
          0,
          0.000658,
          0,
          0.0897,
          0.17,
          0.79,
          0.285,
          0.0951,
          0.101,
          0.335,
          0.696,
          0.0887,
          0.105,
          0.0574,
          0.46,
          0.0863,
          0.132,
          0.102,
          0.113,
          0.0885,
          0.0904,
          0.0822,
          0.15,
          0.269,
          0.102,
          0.129,
          0.272,
          0.106,
          0.0828,
          0.1,
          0.0824,
          0.0714,
          0.292,
          0.118,
          0.349,
          0.0936,
          0.123,
          0.393,
          0.323,
          0.21,
          0.0685,
          0.0626,
          0.106,
          0.149,
          0.792,
          0.157,
          0.107,
          0.095,
          0.34,
          0.382,
          0.109,
          0.102,
          0.124,
          0.334,
          0.54,
          0.642,
          0.894,
          0.679,
          0.497,
          0.557,
          0.348,
          0.236,
          0.446,
          0.574,
          0.457,
          0.553,
          0.349,
          0.874,
          0.845,
          0.183,
          0.786,
          0.575,
          0.537,
          0.761,
          0.569,
          0.664,
          0.756,
          0.243,
          0.749,
          0.562,
          0.357,
          0.694,
          0.829,
          0.497,
          0.467,
          0.737,
          0.841,
          0.33,
          0.646,
          0.0605,
          0.925,
          0.558,
          0.884,
          0.43,
          0.684,
          0.28,
          0.685,
          0.12,
          0.218,
          0.537,
          0.604,
          0.746,
          0.446,
          171.005,
          98.078,
          116.971,
          121.962,
          123.95,
          89.977,
          95.39,
          144.026,
          127.087,
          109.891,
          101.085,
          116.735,
          120.042,
          99.034,
          147.986,
          81.604,
          111.881,
          110.962,
          91.019,
          142.053,
          150.076,
          99.048,
          122.031,
          90.989,
          120.006,
          116.967,
          135.128,
          133.073,
          112.022,
          165.995,
          145.842,
          113.013,
          114.044,
          128.978,
          112.05,
          123.056,
          76.469,
          89.96,
          180.067,
          117.948,
          130.049,
          105.095,
          129.979,
          96.172,
          115.284,
          83.903,
          178.765,
          75.801,
          146.967,
          155.008,
          200040,
          209755,
          196653,
          176219,
          183290,
          181733,
          174000,
          173333,
          159382,
          182161,
          200960,
          163636,
          215280,
          162547,
          212867,
          247059,
          215107,
          237893,
          189486,
          237918,
          171375,
          207133,
          166794,
          140526,
          245426,
          190800,
          194088,
          187541,
          158571,
          210800,
          208520,
          221820,
          199054,
          223488,
          176547,
          182200,
          175721,
          157560,
          199112,
          157606,
          243837,
          214935,
          165978,
          295177,
          200186,
          239836,
          228482,
          208687,
          193829,
          312820
         ],
         "y0": " ",
         "yaxis": "y"
        }
       ],
       "layout": {
        "boxmode": "group",
        "legend": {
         "tracegroupgap": 0
        },
        "template": {
         "data": {
          "bar": [
           {
            "error_x": {
             "color": "#2a3f5f"
            },
            "error_y": {
             "color": "#2a3f5f"
            },
            "marker": {
             "line": {
              "color": "#E5ECF6",
              "width": 0.5
             },
             "pattern": {
              "fillmode": "overlay",
              "size": 10,
              "solidity": 0.2
             }
            },
            "type": "bar"
           }
          ],
          "barpolar": [
           {
            "marker": {
             "line": {
              "color": "#E5ECF6",
              "width": 0.5
             },
             "pattern": {
              "fillmode": "overlay",
              "size": 10,
              "solidity": 0.2
             }
            },
            "type": "barpolar"
           }
          ],
          "carpet": [
           {
            "aaxis": {
             "endlinecolor": "#2a3f5f",
             "gridcolor": "white",
             "linecolor": "white",
             "minorgridcolor": "white",
             "startlinecolor": "#2a3f5f"
            },
            "baxis": {
             "endlinecolor": "#2a3f5f",
             "gridcolor": "white",
             "linecolor": "white",
             "minorgridcolor": "white",
             "startlinecolor": "#2a3f5f"
            },
            "type": "carpet"
           }
          ],
          "choropleth": [
           {
            "colorbar": {
             "outlinewidth": 0,
             "ticks": ""
            },
            "type": "choropleth"
           }
          ],
          "contour": [
           {
            "colorbar": {
             "outlinewidth": 0,
             "ticks": ""
            },
            "colorscale": [
             [
              0,
              "#0d0887"
             ],
             [
              0.1111111111111111,
              "#46039f"
             ],
             [
              0.2222222222222222,
              "#7201a8"
             ],
             [
              0.3333333333333333,
              "#9c179e"
             ],
             [
              0.4444444444444444,
              "#bd3786"
             ],
             [
              0.5555555555555556,
              "#d8576b"
             ],
             [
              0.6666666666666666,
              "#ed7953"
             ],
             [
              0.7777777777777778,
              "#fb9f3a"
             ],
             [
              0.8888888888888888,
              "#fdca26"
             ],
             [
              1,
              "#f0f921"
             ]
            ],
            "type": "contour"
           }
          ],
          "contourcarpet": [
           {
            "colorbar": {
             "outlinewidth": 0,
             "ticks": ""
            },
            "type": "contourcarpet"
           }
          ],
          "heatmap": [
           {
            "colorbar": {
             "outlinewidth": 0,
             "ticks": ""
            },
            "colorscale": [
             [
              0,
              "#0d0887"
             ],
             [
              0.1111111111111111,
              "#46039f"
             ],
             [
              0.2222222222222222,
              "#7201a8"
             ],
             [
              0.3333333333333333,
              "#9c179e"
             ],
             [
              0.4444444444444444,
              "#bd3786"
             ],
             [
              0.5555555555555556,
              "#d8576b"
             ],
             [
              0.6666666666666666,
              "#ed7953"
             ],
             [
              0.7777777777777778,
              "#fb9f3a"
             ],
             [
              0.8888888888888888,
              "#fdca26"
             ],
             [
              1,
              "#f0f921"
             ]
            ],
            "type": "heatmap"
           }
          ],
          "heatmapgl": [
           {
            "colorbar": {
             "outlinewidth": 0,
             "ticks": ""
            },
            "colorscale": [
             [
              0,
              "#0d0887"
             ],
             [
              0.1111111111111111,
              "#46039f"
             ],
             [
              0.2222222222222222,
              "#7201a8"
             ],
             [
              0.3333333333333333,
              "#9c179e"
             ],
             [
              0.4444444444444444,
              "#bd3786"
             ],
             [
              0.5555555555555556,
              "#d8576b"
             ],
             [
              0.6666666666666666,
              "#ed7953"
             ],
             [
              0.7777777777777778,
              "#fb9f3a"
             ],
             [
              0.8888888888888888,
              "#fdca26"
             ],
             [
              1,
              "#f0f921"
             ]
            ],
            "type": "heatmapgl"
           }
          ],
          "histogram": [
           {
            "marker": {
             "pattern": {
              "fillmode": "overlay",
              "size": 10,
              "solidity": 0.2
             }
            },
            "type": "histogram"
           }
          ],
          "histogram2d": [
           {
            "colorbar": {
             "outlinewidth": 0,
             "ticks": ""
            },
            "colorscale": [
             [
              0,
              "#0d0887"
             ],
             [
              0.1111111111111111,
              "#46039f"
             ],
             [
              0.2222222222222222,
              "#7201a8"
             ],
             [
              0.3333333333333333,
              "#9c179e"
             ],
             [
              0.4444444444444444,
              "#bd3786"
             ],
             [
              0.5555555555555556,
              "#d8576b"
             ],
             [
              0.6666666666666666,
              "#ed7953"
             ],
             [
              0.7777777777777778,
              "#fb9f3a"
             ],
             [
              0.8888888888888888,
              "#fdca26"
             ],
             [
              1,
              "#f0f921"
             ]
            ],
            "type": "histogram2d"
           }
          ],
          "histogram2dcontour": [
           {
            "colorbar": {
             "outlinewidth": 0,
             "ticks": ""
            },
            "colorscale": [
             [
              0,
              "#0d0887"
             ],
             [
              0.1111111111111111,
              "#46039f"
             ],
             [
              0.2222222222222222,
              "#7201a8"
             ],
             [
              0.3333333333333333,
              "#9c179e"
             ],
             [
              0.4444444444444444,
              "#bd3786"
             ],
             [
              0.5555555555555556,
              "#d8576b"
             ],
             [
              0.6666666666666666,
              "#ed7953"
             ],
             [
              0.7777777777777778,
              "#fb9f3a"
             ],
             [
              0.8888888888888888,
              "#fdca26"
             ],
             [
              1,
              "#f0f921"
             ]
            ],
            "type": "histogram2dcontour"
           }
          ],
          "mesh3d": [
           {
            "colorbar": {
             "outlinewidth": 0,
             "ticks": ""
            },
            "type": "mesh3d"
           }
          ],
          "parcoords": [
           {
            "line": {
             "colorbar": {
              "outlinewidth": 0,
              "ticks": ""
             }
            },
            "type": "parcoords"
           }
          ],
          "pie": [
           {
            "automargin": true,
            "type": "pie"
           }
          ],
          "scatter": [
           {
            "fillpattern": {
             "fillmode": "overlay",
             "size": 10,
             "solidity": 0.2
            },
            "type": "scatter"
           }
          ],
          "scatter3d": [
           {
            "line": {
             "colorbar": {
              "outlinewidth": 0,
              "ticks": ""
             }
            },
            "marker": {
             "colorbar": {
              "outlinewidth": 0,
              "ticks": ""
             }
            },
            "type": "scatter3d"
           }
          ],
          "scattercarpet": [
           {
            "marker": {
             "colorbar": {
              "outlinewidth": 0,
              "ticks": ""
             }
            },
            "type": "scattercarpet"
           }
          ],
          "scattergeo": [
           {
            "marker": {
             "colorbar": {
              "outlinewidth": 0,
              "ticks": ""
             }
            },
            "type": "scattergeo"
           }
          ],
          "scattergl": [
           {
            "marker": {
             "colorbar": {
              "outlinewidth": 0,
              "ticks": ""
             }
            },
            "type": "scattergl"
           }
          ],
          "scattermapbox": [
           {
            "marker": {
             "colorbar": {
              "outlinewidth": 0,
              "ticks": ""
             }
            },
            "type": "scattermapbox"
           }
          ],
          "scatterpolar": [
           {
            "marker": {
             "colorbar": {
              "outlinewidth": 0,
              "ticks": ""
             }
            },
            "type": "scatterpolar"
           }
          ],
          "scatterpolargl": [
           {
            "marker": {
             "colorbar": {
              "outlinewidth": 0,
              "ticks": ""
             }
            },
            "type": "scatterpolargl"
           }
          ],
          "scatterternary": [
           {
            "marker": {
             "colorbar": {
              "outlinewidth": 0,
              "ticks": ""
             }
            },
            "type": "scatterternary"
           }
          ],
          "surface": [
           {
            "colorbar": {
             "outlinewidth": 0,
             "ticks": ""
            },
            "colorscale": [
             [
              0,
              "#0d0887"
             ],
             [
              0.1111111111111111,
              "#46039f"
             ],
             [
              0.2222222222222222,
              "#7201a8"
             ],
             [
              0.3333333333333333,
              "#9c179e"
             ],
             [
              0.4444444444444444,
              "#bd3786"
             ],
             [
              0.5555555555555556,
              "#d8576b"
             ],
             [
              0.6666666666666666,
              "#ed7953"
             ],
             [
              0.7777777777777778,
              "#fb9f3a"
             ],
             [
              0.8888888888888888,
              "#fdca26"
             ],
             [
              1,
              "#f0f921"
             ]
            ],
            "type": "surface"
           }
          ],
          "table": [
           {
            "cells": {
             "fill": {
              "color": "#EBF0F8"
             },
             "line": {
              "color": "white"
             }
            },
            "header": {
             "fill": {
              "color": "#C8D4E3"
             },
             "line": {
              "color": "white"
             }
            },
            "type": "table"
           }
          ]
         },
         "layout": {
          "annotationdefaults": {
           "arrowcolor": "#2a3f5f",
           "arrowhead": 0,
           "arrowwidth": 1
          },
          "autotypenumbers": "strict",
          "coloraxis": {
           "colorbar": {
            "outlinewidth": 0,
            "ticks": ""
           }
          },
          "colorscale": {
           "diverging": [
            [
             0,
             "#8e0152"
            ],
            [
             0.1,
             "#c51b7d"
            ],
            [
             0.2,
             "#de77ae"
            ],
            [
             0.3,
             "#f1b6da"
            ],
            [
             0.4,
             "#fde0ef"
            ],
            [
             0.5,
             "#f7f7f7"
            ],
            [
             0.6,
             "#e6f5d0"
            ],
            [
             0.7,
             "#b8e186"
            ],
            [
             0.8,
             "#7fbc41"
            ],
            [
             0.9,
             "#4d9221"
            ],
            [
             1,
             "#276419"
            ]
           ],
           "sequential": [
            [
             0,
             "#0d0887"
            ],
            [
             0.1111111111111111,
             "#46039f"
            ],
            [
             0.2222222222222222,
             "#7201a8"
            ],
            [
             0.3333333333333333,
             "#9c179e"
            ],
            [
             0.4444444444444444,
             "#bd3786"
            ],
            [
             0.5555555555555556,
             "#d8576b"
            ],
            [
             0.6666666666666666,
             "#ed7953"
            ],
            [
             0.7777777777777778,
             "#fb9f3a"
            ],
            [
             0.8888888888888888,
             "#fdca26"
            ],
            [
             1,
             "#f0f921"
            ]
           ],
           "sequentialminus": [
            [
             0,
             "#0d0887"
            ],
            [
             0.1111111111111111,
             "#46039f"
            ],
            [
             0.2222222222222222,
             "#7201a8"
            ],
            [
             0.3333333333333333,
             "#9c179e"
            ],
            [
             0.4444444444444444,
             "#bd3786"
            ],
            [
             0.5555555555555556,
             "#d8576b"
            ],
            [
             0.6666666666666666,
             "#ed7953"
            ],
            [
             0.7777777777777778,
             "#fb9f3a"
            ],
            [
             0.8888888888888888,
             "#fdca26"
            ],
            [
             1,
             "#f0f921"
            ]
           ]
          },
          "colorway": [
           "#636efa",
           "#EF553B",
           "#00cc96",
           "#ab63fa",
           "#FFA15A",
           "#19d3f3",
           "#FF6692",
           "#B6E880",
           "#FF97FF",
           "#FECB52"
          ],
          "font": {
           "color": "#2a3f5f"
          },
          "geo": {
           "bgcolor": "white",
           "lakecolor": "white",
           "landcolor": "#E5ECF6",
           "showlakes": true,
           "showland": true,
           "subunitcolor": "white"
          },
          "hoverlabel": {
           "align": "left"
          },
          "hovermode": "closest",
          "mapbox": {
           "style": "light"
          },
          "paper_bgcolor": "white",
          "plot_bgcolor": "#E5ECF6",
          "polar": {
           "angularaxis": {
            "gridcolor": "white",
            "linecolor": "white",
            "ticks": ""
           },
           "bgcolor": "#E5ECF6",
           "radialaxis": {
            "gridcolor": "white",
            "linecolor": "white",
            "ticks": ""
           }
          },
          "scene": {
           "xaxis": {
            "backgroundcolor": "#E5ECF6",
            "gridcolor": "white",
            "gridwidth": 2,
            "linecolor": "white",
            "showbackground": true,
            "ticks": "",
            "zerolinecolor": "white"
           },
           "yaxis": {
            "backgroundcolor": "#E5ECF6",
            "gridcolor": "white",
            "gridwidth": 2,
            "linecolor": "white",
            "showbackground": true,
            "ticks": "",
            "zerolinecolor": "white"
           },
           "zaxis": {
            "backgroundcolor": "#E5ECF6",
            "gridcolor": "white",
            "gridwidth": 2,
            "linecolor": "white",
            "showbackground": true,
            "ticks": "",
            "zerolinecolor": "white"
           }
          },
          "shapedefaults": {
           "line": {
            "color": "#2a3f5f"
           }
          },
          "ternary": {
           "aaxis": {
            "gridcolor": "white",
            "linecolor": "white",
            "ticks": ""
           },
           "baxis": {
            "gridcolor": "white",
            "linecolor": "white",
            "ticks": ""
           },
           "bgcolor": "#E5ECF6",
           "caxis": {
            "gridcolor": "white",
            "linecolor": "white",
            "ticks": ""
           }
          },
          "title": {
           "x": 0.05
          },
          "xaxis": {
           "automargin": true,
           "gridcolor": "white",
           "linecolor": "white",
           "ticks": "",
           "title": {
            "standoff": 15
           },
           "zerolinecolor": "white",
           "zerolinewidth": 2
          },
          "yaxis": {
           "automargin": true,
           "gridcolor": "white",
           "linecolor": "white",
           "ticks": "",
           "title": {
            "standoff": 15
           },
           "zerolinecolor": "white",
           "zerolinewidth": 2
          }
         }
        },
        "title": {
         "text": "Box Plots for Numerical Columns"
        },
        "xaxis": {
         "anchor": "y",
         "domain": [
          0,
          1
         ],
         "title": {
          "text": "variable"
         }
        },
        "yaxis": {
         "anchor": "x",
         "domain": [
          0,
          1
         ],
         "title": {
          "text": "value"
         }
        }
       }
      },
      "text/html": [
       "<div>                            <div id=\"5bd1952b-108e-48fd-a636-90991a423898\" class=\"plotly-graph-div\" style=\"height:525px; width:100%;\"></div>            <script type=\"text/javascript\">                require([\"plotly\"], function(Plotly) {                    window.PLOTLYENV=window.PLOTLYENV || {};                                    if (document.getElementById(\"5bd1952b-108e-48fd-a636-90991a423898\")) {                    Plotly.newPlot(                        \"5bd1952b-108e-48fd-a636-90991a423898\",                        [{\"alignmentgroup\":\"True\",\"hovertemplate\":\"variable=%{x}<br>value=%{y}<extra></extra>\",\"legendgroup\":\"\",\"marker\":{\"color\":\"#636efa\"},\"name\":\"\",\"notched\":false,\"offsetgroup\":\"\",\"orientation\":\"v\",\"showlegend\":false,\"x\":[\"energy\",\"energy\",\"energy\",\"energy\",\"energy\",\"energy\",\"energy\",\"energy\",\"energy\",\"energy\",\"energy\",\"energy\",\"energy\",\"energy\",\"energy\",\"energy\",\"energy\",\"energy\",\"energy\",\"energy\",\"energy\",\"energy\",\"energy\",\"energy\",\"energy\",\"energy\",\"energy\",\"energy\",\"energy\",\"energy\",\"energy\",\"energy\",\"energy\",\"energy\",\"energy\",\"energy\",\"energy\",\"energy\",\"energy\",\"energy\",\"energy\",\"energy\",\"energy\",\"energy\",\"energy\",\"energy\",\"energy\",\"energy\",\"energy\",\"energy\",\"danceability\",\"danceability\",\"danceability\",\"danceability\",\"danceability\",\"danceability\",\"danceability\",\"danceability\",\"danceability\",\"danceability\",\"danceability\",\"danceability\",\"danceability\",\"danceability\",\"danceability\",\"danceability\",\"danceability\",\"danceability\",\"danceability\",\"danceability\",\"danceability\",\"danceability\",\"danceability\",\"danceability\",\"danceability\",\"danceability\",\"danceability\",\"danceability\",\"danceability\",\"danceability\",\"danceability\",\"danceability\",\"danceability\",\"danceability\",\"danceability\",\"danceability\",\"danceability\",\"danceability\",\"danceability\",\"danceability\",\"danceability\",\"danceability\",\"danceability\",\"danceability\",\"danceability\",\"danceability\",\"danceability\",\"danceability\",\"danceability\",\"danceability\",\"key\",\"key\",\"key\",\"key\",\"key\",\"key\",\"key\",\"key\",\"key\",\"key\",\"key\",\"key\",\"key\",\"key\",\"key\",\"key\",\"key\",\"key\",\"key\",\"key\",\"key\",\"key\",\"key\",\"key\",\"key\",\"key\",\"key\",\"key\",\"key\",\"key\",\"key\",\"key\",\"key\",\"key\",\"key\",\"key\",\"key\",\"key\",\"key\",\"key\",\"key\",\"key\",\"key\",\"key\",\"key\",\"key\",\"key\",\"key\",\"key\",\"key\",\"loudness\",\"loudness\",\"loudness\",\"loudness\",\"loudness\",\"loudness\",\"loudness\",\"loudness\",\"loudness\",\"loudness\",\"loudness\",\"loudness\",\"loudness\",\"loudness\",\"loudness\",\"loudness\",\"loudness\",\"loudness\",\"loudness\",\"loudness\",\"loudness\",\"loudness\",\"loudness\",\"loudness\",\"loudness\",\"loudness\",\"loudness\",\"loudness\",\"loudness\",\"loudness\",\"loudness\",\"loudness\",\"loudness\",\"loudness\",\"loudness\",\"loudness\",\"loudness\",\"loudness\",\"loudness\",\"loudness\",\"loudness\",\"loudness\",\"loudness\",\"loudness\",\"loudness\",\"loudness\",\"loudness\",\"loudness\",\"loudness\",\"loudness\",\"acousticness\",\"acousticness\",\"acousticness\",\"acousticness\",\"acousticness\",\"acousticness\",\"acousticness\",\"acousticness\",\"acousticness\",\"acousticness\",\"acousticness\",\"acousticness\",\"acousticness\",\"acousticness\",\"acousticness\",\"acousticness\",\"acousticness\",\"acousticness\",\"acousticness\",\"acousticness\",\"acousticness\",\"acousticness\",\"acousticness\",\"acousticness\",\"acousticness\",\"acousticness\",\"acousticness\",\"acousticness\",\"acousticness\",\"acousticness\",\"acousticness\",\"acousticness\",\"acousticness\",\"acousticness\",\"acousticness\",\"acousticness\",\"acousticness\",\"acousticness\",\"acousticness\",\"acousticness\",\"acousticness\",\"acousticness\",\"acousticness\",\"acousticness\",\"acousticness\",\"acousticness\",\"acousticness\",\"acousticness\",\"acousticness\",\"acousticness\",\"speechiness\",\"speechiness\",\"speechiness\",\"speechiness\",\"speechiness\",\"speechiness\",\"speechiness\",\"speechiness\",\"speechiness\",\"speechiness\",\"speechiness\",\"speechiness\",\"speechiness\",\"speechiness\",\"speechiness\",\"speechiness\",\"speechiness\",\"speechiness\",\"speechiness\",\"speechiness\",\"speechiness\",\"speechiness\",\"speechiness\",\"speechiness\",\"speechiness\",\"speechiness\",\"speechiness\",\"speechiness\",\"speechiness\",\"speechiness\",\"speechiness\",\"speechiness\",\"speechiness\",\"speechiness\",\"speechiness\",\"speechiness\",\"speechiness\",\"speechiness\",\"speechiness\",\"speechiness\",\"speechiness\",\"speechiness\",\"speechiness\",\"speechiness\",\"speechiness\",\"speechiness\",\"speechiness\",\"speechiness\",\"speechiness\",\"speechiness\",\"instrumentalness\",\"instrumentalness\",\"instrumentalness\",\"instrumentalness\",\"instrumentalness\",\"instrumentalness\",\"instrumentalness\",\"instrumentalness\",\"instrumentalness\",\"instrumentalness\",\"instrumentalness\",\"instrumentalness\",\"instrumentalness\",\"instrumentalness\",\"instrumentalness\",\"instrumentalness\",\"instrumentalness\",\"instrumentalness\",\"instrumentalness\",\"instrumentalness\",\"instrumentalness\",\"instrumentalness\",\"instrumentalness\",\"instrumentalness\",\"instrumentalness\",\"instrumentalness\",\"instrumentalness\",\"instrumentalness\",\"instrumentalness\",\"instrumentalness\",\"instrumentalness\",\"instrumentalness\",\"instrumentalness\",\"instrumentalness\",\"instrumentalness\",\"instrumentalness\",\"instrumentalness\",\"instrumentalness\",\"instrumentalness\",\"instrumentalness\",\"instrumentalness\",\"instrumentalness\",\"instrumentalness\",\"instrumentalness\",\"instrumentalness\",\"instrumentalness\",\"instrumentalness\",\"instrumentalness\",\"instrumentalness\",\"instrumentalness\",\"liveness\",\"liveness\",\"liveness\",\"liveness\",\"liveness\",\"liveness\",\"liveness\",\"liveness\",\"liveness\",\"liveness\",\"liveness\",\"liveness\",\"liveness\",\"liveness\",\"liveness\",\"liveness\",\"liveness\",\"liveness\",\"liveness\",\"liveness\",\"liveness\",\"liveness\",\"liveness\",\"liveness\",\"liveness\",\"liveness\",\"liveness\",\"liveness\",\"liveness\",\"liveness\",\"liveness\",\"liveness\",\"liveness\",\"liveness\",\"liveness\",\"liveness\",\"liveness\",\"liveness\",\"liveness\",\"liveness\",\"liveness\",\"liveness\",\"liveness\",\"liveness\",\"liveness\",\"liveness\",\"liveness\",\"liveness\",\"liveness\",\"liveness\",\"valence\",\"valence\",\"valence\",\"valence\",\"valence\",\"valence\",\"valence\",\"valence\",\"valence\",\"valence\",\"valence\",\"valence\",\"valence\",\"valence\",\"valence\",\"valence\",\"valence\",\"valence\",\"valence\",\"valence\",\"valence\",\"valence\",\"valence\",\"valence\",\"valence\",\"valence\",\"valence\",\"valence\",\"valence\",\"valence\",\"valence\",\"valence\",\"valence\",\"valence\",\"valence\",\"valence\",\"valence\",\"valence\",\"valence\",\"valence\",\"valence\",\"valence\",\"valence\",\"valence\",\"valence\",\"valence\",\"valence\",\"valence\",\"valence\",\"valence\",\"tempo\",\"tempo\",\"tempo\",\"tempo\",\"tempo\",\"tempo\",\"tempo\",\"tempo\",\"tempo\",\"tempo\",\"tempo\",\"tempo\",\"tempo\",\"tempo\",\"tempo\",\"tempo\",\"tempo\",\"tempo\",\"tempo\",\"tempo\",\"tempo\",\"tempo\",\"tempo\",\"tempo\",\"tempo\",\"tempo\",\"tempo\",\"tempo\",\"tempo\",\"tempo\",\"tempo\",\"tempo\",\"tempo\",\"tempo\",\"tempo\",\"tempo\",\"tempo\",\"tempo\",\"tempo\",\"tempo\",\"tempo\",\"tempo\",\"tempo\",\"tempo\",\"tempo\",\"tempo\",\"tempo\",\"tempo\",\"tempo\",\"tempo\",\"duration_ms\",\"duration_ms\",\"duration_ms\",\"duration_ms\",\"duration_ms\",\"duration_ms\",\"duration_ms\",\"duration_ms\",\"duration_ms\",\"duration_ms\",\"duration_ms\",\"duration_ms\",\"duration_ms\",\"duration_ms\",\"duration_ms\",\"duration_ms\",\"duration_ms\",\"duration_ms\",\"duration_ms\",\"duration_ms\",\"duration_ms\",\"duration_ms\",\"duration_ms\",\"duration_ms\",\"duration_ms\",\"duration_ms\",\"duration_ms\",\"duration_ms\",\"duration_ms\",\"duration_ms\",\"duration_ms\",\"duration_ms\",\"duration_ms\",\"duration_ms\",\"duration_ms\",\"duration_ms\",\"duration_ms\",\"duration_ms\",\"duration_ms\",\"duration_ms\",\"duration_ms\",\"duration_ms\",\"duration_ms\",\"duration_ms\",\"duration_ms\",\"duration_ms\",\"duration_ms\",\"duration_ms\",\"duration_ms\",\"duration_ms\"],\"x0\":\" \",\"xaxis\":\"x\",\"y\":[0.73,0.593,0.586,0.721,0.793,0.69,0.816,0.431,0.43,0.405,0.715,0.601,0.762,0.554,0.546,0.49,0.575,0.673,0.32,0.574,0.481,0.771,0.72,0.722,0.225,0.548,0.425,0.454,0.525,0.745,0.506,0.729,0.765,0.631,0.774,0.855,0.427,0.522,0.727,0.751,0.728,0.704,0.537,0.829,0.296,0.566,0.45,0.473,0.844,0.73,0.514,0.825,0.896,0.785,0.793,0.746,0.548,0.726,0.784,0.501,0.803,0.621,0.695,0.774,0.806,0.83,0.459,0.787,0.764,0.795,0.767,0.676,0.789,0.7,0.704,0.759,0.701,0.935,0.878,0.808,0.676,0.73,0.746,0.862,0.674,0.672,0.598,0.755,0.783,0.88,0.841,0.723,0.716,0.607,0.351,0.511,0.597,0.464,0.647,0.834,1.0,6.0,10.0,8.0,11.0,11.0,0.0,8.0,10.0,1.0,2.0,6.0,0.0,0.0,9.0,1.0,3.0,11.0,11.0,2.0,0.0,8.0,8.0,7.0,6.0,9.0,7.0,1.0,5.0,10.0,9.0,4.0,6.0,7.0,11.0,9.0,7.0,2.0,6.0,7.0,7.0,10.0,0.0,2.0,4.0,6.0,8.0,1.0,0.0,8.0,-5.934,-6.401,-6.687,-5.457,-4.521,-7.956,-4.209,-8.765,-8.756,-5.679,-3.28,-5.616,-3.497,-7.909,-6.637,-8.82,-4.858,-4.577,-7.209,-6.903,-8.52,-3.675,-5.652,-3.558,-14.454,-6.049,-10.965,-7.509,-6.832,-5.26,-6.652,-3.434,-4.41,-4.746,-7.567,-3.764,-8.764,-4.368,-3.454,-4.258,-3.37,-7.088,-7.648,-4.074,-10.109,-7.23,-6.658,-10.086,-3.756,-3.714,0.00146,0.688,0.104,0.0149,0.0123,0.247,0.122,0.731,0.123,0.751,0.295,0.0522,0.192,0.207,0.3,0.289,0.604,0.256,0.837,0.067,0.234,0.0237,0.223,0.221,0.902,0.0392,0.328,0.0194,0.183,0.145,0.345,0.167,0.0112,0.291,0.0686,0.021,0.0546,0.533,0.185,0.177,0.0847,0.0259,0.233,0.0103,0.934,0.349,0.223,0.866,0.0137,0.00513,0.0598,0.0988,0.0559,0.0506,0.083,0.164,0.0465,0.135,0.0364,0.0319,0.298,0.148,0.0395,0.0383,0.0575,0.209,0.0573,0.158,0.0546,0.487,0.0803,0.0483,0.218,0.0369,0.0994,0.029,0.375,0.375,0.0578,0.342,0.0958,0.0883,0.0993,0.0515,0.0892,0.0397,0.0317,0.0575,0.389,0.0874,0.0484,0.0571,0.0514,0.379,0.0333,0.2,0.0418,0.129,0.0457,0.222,9.54e-05,0.000161,0.0,0.00432,0.0,0.0,0.0,0.0,0.0,0.0,0.000134,0.0,0.00244,0.0,0.0,3.04e-06,0.0,3.57e-06,0.0,0.0,0.0,7e-06,0.0,0.0,0.657,0.0,0.13,0.0,0.0,0.0,0.0,1.39e-06,0.0,0.000209,0.00188,0.0,5.83e-06,0.0,2.46e-05,6.43e-05,0.0,0.00109,0.0,0.0,0.0,0.0,0.0,0.0,0.000658,0.0,0.0897,0.17,0.79,0.285,0.0951,0.101,0.335,0.696,0.0887,0.105,0.0574,0.46,0.0863,0.132,0.102,0.113,0.0885,0.0904,0.0822,0.15,0.269,0.102,0.129,0.272,0.106,0.0828,0.1,0.0824,0.0714,0.292,0.118,0.349,0.0936,0.123,0.393,0.323,0.21,0.0685,0.0626,0.106,0.149,0.792,0.157,0.107,0.095,0.34,0.382,0.109,0.102,0.124,0.334,0.54,0.642,0.894,0.679,0.497,0.557,0.348,0.236,0.446,0.574,0.457,0.553,0.349,0.874,0.845,0.183,0.786,0.575,0.537,0.761,0.569,0.664,0.756,0.243,0.749,0.562,0.357,0.694,0.829,0.497,0.467,0.737,0.841,0.33,0.646,0.0605,0.925,0.558,0.884,0.43,0.684,0.28,0.685,0.12,0.218,0.537,0.604,0.746,0.446,171.005,98.078,116.971,121.962,123.95,89.977,95.39,144.026,127.087,109.891,101.085,116.735,120.042,99.034,147.986,81.604,111.881,110.962,91.019,142.053,150.076,99.048,122.031,90.989,120.006,116.967,135.128,133.073,112.022,165.995,145.842,113.013,114.044,128.978,112.05,123.056,76.469,89.96,180.067,117.948,130.049,105.095,129.979,96.172,115.284,83.903,178.765,75.801,146.967,155.008,200040.0,209755.0,196653.0,176219.0,183290.0,181733.0,174000.0,173333.0,159382.0,182161.0,200960.0,163636.0,215280.0,162547.0,212867.0,247059.0,215107.0,237893.0,189486.0,237918.0,171375.0,207133.0,166794.0,140526.0,245426.0,190800.0,194088.0,187541.0,158571.0,210800.0,208520.0,221820.0,199054.0,223488.0,176547.0,182200.0,175721.0,157560.0,199112.0,157606.0,243837.0,214935.0,165978.0,295177.0,200186.0,239836.0,228482.0,208687.0,193829.0,312820.0],\"y0\":\" \",\"yaxis\":\"y\",\"type\":\"box\"}],                        {\"template\":{\"data\":{\"histogram2dcontour\":[{\"type\":\"histogram2dcontour\",\"colorbar\":{\"outlinewidth\":0,\"ticks\":\"\"},\"colorscale\":[[0.0,\"#0d0887\"],[0.1111111111111111,\"#46039f\"],[0.2222222222222222,\"#7201a8\"],[0.3333333333333333,\"#9c179e\"],[0.4444444444444444,\"#bd3786\"],[0.5555555555555556,\"#d8576b\"],[0.6666666666666666,\"#ed7953\"],[0.7777777777777778,\"#fb9f3a\"],[0.8888888888888888,\"#fdca26\"],[1.0,\"#f0f921\"]]}],\"choropleth\":[{\"type\":\"choropleth\",\"colorbar\":{\"outlinewidth\":0,\"ticks\":\"\"}}],\"histogram2d\":[{\"type\":\"histogram2d\",\"colorbar\":{\"outlinewidth\":0,\"ticks\":\"\"},\"colorscale\":[[0.0,\"#0d0887\"],[0.1111111111111111,\"#46039f\"],[0.2222222222222222,\"#7201a8\"],[0.3333333333333333,\"#9c179e\"],[0.4444444444444444,\"#bd3786\"],[0.5555555555555556,\"#d8576b\"],[0.6666666666666666,\"#ed7953\"],[0.7777777777777778,\"#fb9f3a\"],[0.8888888888888888,\"#fdca26\"],[1.0,\"#f0f921\"]]}],\"heatmap\":[{\"type\":\"heatmap\",\"colorbar\":{\"outlinewidth\":0,\"ticks\":\"\"},\"colorscale\":[[0.0,\"#0d0887\"],[0.1111111111111111,\"#46039f\"],[0.2222222222222222,\"#7201a8\"],[0.3333333333333333,\"#9c179e\"],[0.4444444444444444,\"#bd3786\"],[0.5555555555555556,\"#d8576b\"],[0.6666666666666666,\"#ed7953\"],[0.7777777777777778,\"#fb9f3a\"],[0.8888888888888888,\"#fdca26\"],[1.0,\"#f0f921\"]]}],\"heatmapgl\":[{\"type\":\"heatmapgl\",\"colorbar\":{\"outlinewidth\":0,\"ticks\":\"\"},\"colorscale\":[[0.0,\"#0d0887\"],[0.1111111111111111,\"#46039f\"],[0.2222222222222222,\"#7201a8\"],[0.3333333333333333,\"#9c179e\"],[0.4444444444444444,\"#bd3786\"],[0.5555555555555556,\"#d8576b\"],[0.6666666666666666,\"#ed7953\"],[0.7777777777777778,\"#fb9f3a\"],[0.8888888888888888,\"#fdca26\"],[1.0,\"#f0f921\"]]}],\"contourcarpet\":[{\"type\":\"contourcarpet\",\"colorbar\":{\"outlinewidth\":0,\"ticks\":\"\"}}],\"contour\":[{\"type\":\"contour\",\"colorbar\":{\"outlinewidth\":0,\"ticks\":\"\"},\"colorscale\":[[0.0,\"#0d0887\"],[0.1111111111111111,\"#46039f\"],[0.2222222222222222,\"#7201a8\"],[0.3333333333333333,\"#9c179e\"],[0.4444444444444444,\"#bd3786\"],[0.5555555555555556,\"#d8576b\"],[0.6666666666666666,\"#ed7953\"],[0.7777777777777778,\"#fb9f3a\"],[0.8888888888888888,\"#fdca26\"],[1.0,\"#f0f921\"]]}],\"surface\":[{\"type\":\"surface\",\"colorbar\":{\"outlinewidth\":0,\"ticks\":\"\"},\"colorscale\":[[0.0,\"#0d0887\"],[0.1111111111111111,\"#46039f\"],[0.2222222222222222,\"#7201a8\"],[0.3333333333333333,\"#9c179e\"],[0.4444444444444444,\"#bd3786\"],[0.5555555555555556,\"#d8576b\"],[0.6666666666666666,\"#ed7953\"],[0.7777777777777778,\"#fb9f3a\"],[0.8888888888888888,\"#fdca26\"],[1.0,\"#f0f921\"]]}],\"mesh3d\":[{\"type\":\"mesh3d\",\"colorbar\":{\"outlinewidth\":0,\"ticks\":\"\"}}],\"scatter\":[{\"fillpattern\":{\"fillmode\":\"overlay\",\"size\":10,\"solidity\":0.2},\"type\":\"scatter\"}],\"parcoords\":[{\"type\":\"parcoords\",\"line\":{\"colorbar\":{\"outlinewidth\":0,\"ticks\":\"\"}}}],\"scatterpolargl\":[{\"type\":\"scatterpolargl\",\"marker\":{\"colorbar\":{\"outlinewidth\":0,\"ticks\":\"\"}}}],\"bar\":[{\"error_x\":{\"color\":\"#2a3f5f\"},\"error_y\":{\"color\":\"#2a3f5f\"},\"marker\":{\"line\":{\"color\":\"#E5ECF6\",\"width\":0.5},\"pattern\":{\"fillmode\":\"overlay\",\"size\":10,\"solidity\":0.2}},\"type\":\"bar\"}],\"scattergeo\":[{\"type\":\"scattergeo\",\"marker\":{\"colorbar\":{\"outlinewidth\":0,\"ticks\":\"\"}}}],\"scatterpolar\":[{\"type\":\"scatterpolar\",\"marker\":{\"colorbar\":{\"outlinewidth\":0,\"ticks\":\"\"}}}],\"histogram\":[{\"marker\":{\"pattern\":{\"fillmode\":\"overlay\",\"size\":10,\"solidity\":0.2}},\"type\":\"histogram\"}],\"scattergl\":[{\"type\":\"scattergl\",\"marker\":{\"colorbar\":{\"outlinewidth\":0,\"ticks\":\"\"}}}],\"scatter3d\":[{\"type\":\"scatter3d\",\"line\":{\"colorbar\":{\"outlinewidth\":0,\"ticks\":\"\"}},\"marker\":{\"colorbar\":{\"outlinewidth\":0,\"ticks\":\"\"}}}],\"scattermapbox\":[{\"type\":\"scattermapbox\",\"marker\":{\"colorbar\":{\"outlinewidth\":0,\"ticks\":\"\"}}}],\"scatterternary\":[{\"type\":\"scatterternary\",\"marker\":{\"colorbar\":{\"outlinewidth\":0,\"ticks\":\"\"}}}],\"scattercarpet\":[{\"type\":\"scattercarpet\",\"marker\":{\"colorbar\":{\"outlinewidth\":0,\"ticks\":\"\"}}}],\"carpet\":[{\"aaxis\":{\"endlinecolor\":\"#2a3f5f\",\"gridcolor\":\"white\",\"linecolor\":\"white\",\"minorgridcolor\":\"white\",\"startlinecolor\":\"#2a3f5f\"},\"baxis\":{\"endlinecolor\":\"#2a3f5f\",\"gridcolor\":\"white\",\"linecolor\":\"white\",\"minorgridcolor\":\"white\",\"startlinecolor\":\"#2a3f5f\"},\"type\":\"carpet\"}],\"table\":[{\"cells\":{\"fill\":{\"color\":\"#EBF0F8\"},\"line\":{\"color\":\"white\"}},\"header\":{\"fill\":{\"color\":\"#C8D4E3\"},\"line\":{\"color\":\"white\"}},\"type\":\"table\"}],\"barpolar\":[{\"marker\":{\"line\":{\"color\":\"#E5ECF6\",\"width\":0.5},\"pattern\":{\"fillmode\":\"overlay\",\"size\":10,\"solidity\":0.2}},\"type\":\"barpolar\"}],\"pie\":[{\"automargin\":true,\"type\":\"pie\"}]},\"layout\":{\"autotypenumbers\":\"strict\",\"colorway\":[\"#636efa\",\"#EF553B\",\"#00cc96\",\"#ab63fa\",\"#FFA15A\",\"#19d3f3\",\"#FF6692\",\"#B6E880\",\"#FF97FF\",\"#FECB52\"],\"font\":{\"color\":\"#2a3f5f\"},\"hovermode\":\"closest\",\"hoverlabel\":{\"align\":\"left\"},\"paper_bgcolor\":\"white\",\"plot_bgcolor\":\"#E5ECF6\",\"polar\":{\"bgcolor\":\"#E5ECF6\",\"angularaxis\":{\"gridcolor\":\"white\",\"linecolor\":\"white\",\"ticks\":\"\"},\"radialaxis\":{\"gridcolor\":\"white\",\"linecolor\":\"white\",\"ticks\":\"\"}},\"ternary\":{\"bgcolor\":\"#E5ECF6\",\"aaxis\":{\"gridcolor\":\"white\",\"linecolor\":\"white\",\"ticks\":\"\"},\"baxis\":{\"gridcolor\":\"white\",\"linecolor\":\"white\",\"ticks\":\"\"},\"caxis\":{\"gridcolor\":\"white\",\"linecolor\":\"white\",\"ticks\":\"\"}},\"coloraxis\":{\"colorbar\":{\"outlinewidth\":0,\"ticks\":\"\"}},\"colorscale\":{\"sequential\":[[0.0,\"#0d0887\"],[0.1111111111111111,\"#46039f\"],[0.2222222222222222,\"#7201a8\"],[0.3333333333333333,\"#9c179e\"],[0.4444444444444444,\"#bd3786\"],[0.5555555555555556,\"#d8576b\"],[0.6666666666666666,\"#ed7953\"],[0.7777777777777778,\"#fb9f3a\"],[0.8888888888888888,\"#fdca26\"],[1.0,\"#f0f921\"]],\"sequentialminus\":[[0.0,\"#0d0887\"],[0.1111111111111111,\"#46039f\"],[0.2222222222222222,\"#7201a8\"],[0.3333333333333333,\"#9c179e\"],[0.4444444444444444,\"#bd3786\"],[0.5555555555555556,\"#d8576b\"],[0.6666666666666666,\"#ed7953\"],[0.7777777777777778,\"#fb9f3a\"],[0.8888888888888888,\"#fdca26\"],[1.0,\"#f0f921\"]],\"diverging\":[[0,\"#8e0152\"],[0.1,\"#c51b7d\"],[0.2,\"#de77ae\"],[0.3,\"#f1b6da\"],[0.4,\"#fde0ef\"],[0.5,\"#f7f7f7\"],[0.6,\"#e6f5d0\"],[0.7,\"#b8e186\"],[0.8,\"#7fbc41\"],[0.9,\"#4d9221\"],[1,\"#276419\"]]},\"xaxis\":{\"gridcolor\":\"white\",\"linecolor\":\"white\",\"ticks\":\"\",\"title\":{\"standoff\":15},\"zerolinecolor\":\"white\",\"automargin\":true,\"zerolinewidth\":2},\"yaxis\":{\"gridcolor\":\"white\",\"linecolor\":\"white\",\"ticks\":\"\",\"title\":{\"standoff\":15},\"zerolinecolor\":\"white\",\"automargin\":true,\"zerolinewidth\":2},\"scene\":{\"xaxis\":{\"backgroundcolor\":\"#E5ECF6\",\"gridcolor\":\"white\",\"linecolor\":\"white\",\"showbackground\":true,\"ticks\":\"\",\"zerolinecolor\":\"white\",\"gridwidth\":2},\"yaxis\":{\"backgroundcolor\":\"#E5ECF6\",\"gridcolor\":\"white\",\"linecolor\":\"white\",\"showbackground\":true,\"ticks\":\"\",\"zerolinecolor\":\"white\",\"gridwidth\":2},\"zaxis\":{\"backgroundcolor\":\"#E5ECF6\",\"gridcolor\":\"white\",\"linecolor\":\"white\",\"showbackground\":true,\"ticks\":\"\",\"zerolinecolor\":\"white\",\"gridwidth\":2}},\"shapedefaults\":{\"line\":{\"color\":\"#2a3f5f\"}},\"annotationdefaults\":{\"arrowcolor\":\"#2a3f5f\",\"arrowhead\":0,\"arrowwidth\":1},\"geo\":{\"bgcolor\":\"white\",\"landcolor\":\"#E5ECF6\",\"subunitcolor\":\"white\",\"showland\":true,\"showlakes\":true,\"lakecolor\":\"white\"},\"title\":{\"x\":0.05},\"mapbox\":{\"style\":\"light\"}}},\"xaxis\":{\"anchor\":\"y\",\"domain\":[0.0,1.0],\"title\":{\"text\":\"variable\"}},\"yaxis\":{\"anchor\":\"x\",\"domain\":[0.0,1.0],\"title\":{\"text\":\"value\"}},\"legend\":{\"tracegroupgap\":0},\"title\":{\"text\":\"Box Plots for Numerical Columns\"},\"boxmode\":\"group\"},                        {\"responsive\": true}                    ).then(function(){\n",
       "                            \n",
       "var gd = document.getElementById('5bd1952b-108e-48fd-a636-90991a423898');\n",
       "var x = new MutationObserver(function (mutations, observer) {{\n",
       "        var display = window.getComputedStyle(gd).display;\n",
       "        if (!display || display === 'none') {{\n",
       "            console.log([gd, 'removed!']);\n",
       "            Plotly.purge(gd);\n",
       "            observer.disconnect();\n",
       "        }}\n",
       "}});\n",
       "\n",
       "// Listen for the removal of the full notebook cells\n",
       "var notebookContainer = gd.closest('#notebook-container');\n",
       "if (notebookContainer) {{\n",
       "    x.observe(notebookContainer, {childList: true});\n",
       "}}\n",
       "\n",
       "// Listen for the clearing of the current output cell\n",
       "var outputEl = gd.closest('.output');\n",
       "if (outputEl) {{\n",
       "    x.observe(outputEl, {childList: true});\n",
       "}}\n",
       "\n",
       "                        })                };                });            </script>        </div>"
      ]
     },
     "metadata": {},
     "output_type": "display_data"
    }
   ],
   "source": [
    "px.box(numerical_df, title=\"Box Plots for Numerical Columns\")"
   ]
  },
  {
   "cell_type": "markdown",
   "id": "db3e1fb8",
   "metadata": {},
   "source": [
    "This is not very clear. Need to make subplots"
   ]
  },
  {
   "cell_type": "code",
   "execution_count": 144,
   "id": "944333de",
   "metadata": {},
   "outputs": [],
   "source": [
    "from plotly.subplots import make_subplots"
   ]
  },
  {
   "cell_type": "code",
   "execution_count": 145,
   "id": "1fe4ffce",
   "metadata": {},
   "outputs": [],
   "source": [
    "fig = make_subplots(rows = len(numerical_df), cols = 1)"
   ]
  },
  {
   "cell_type": "code",
   "execution_count": 146,
   "id": "6aff4494",
   "metadata": {},
   "outputs": [],
   "source": [
    "for i, col in enumerate(numerical_df, start=1):\n",
    "    fig.add_trace(px.box(numerical_df, y=col).data[0], row=i, col=1)\n",
    "    fig.update_yaxes(title_text=col, row=i, col=1)"
   ]
  },
  {
   "cell_type": "code",
   "execution_count": 152,
   "id": "479f9b5c",
   "metadata": {},
   "outputs": [
    {
     "data": {
      "application/vnd.plotly.v1+json": {
       "config": {
        "plotlyServerURL": "https://plot.ly"
       },
       "data": [
        {
         "alignmentgroup": "True",
         "hovertemplate": "energy=%{y}<extra></extra>",
         "legendgroup": "",
         "marker": {
          "color": "#636efa"
         },
         "name": "",
         "notched": false,
         "offsetgroup": "",
         "orientation": "v",
         "showlegend": false,
         "type": "box",
         "x0": " ",
         "xaxis": "x",
         "y": [
          0.73,
          0.593,
          0.586,
          0.721,
          0.793,
          0.69,
          0.816,
          0.431,
          0.43,
          0.405,
          0.715,
          0.601,
          0.762,
          0.554,
          0.546,
          0.49,
          0.575,
          0.673,
          0.32,
          0.574,
          0.481,
          0.771,
          0.72,
          0.722,
          0.225,
          0.548,
          0.425,
          0.454,
          0.525,
          0.745,
          0.506,
          0.729,
          0.765,
          0.631,
          0.774,
          0.855,
          0.427,
          0.522,
          0.727,
          0.751,
          0.728,
          0.704,
          0.537,
          0.829,
          0.296,
          0.566,
          0.45,
          0.473,
          0.844,
          0.73
         ],
         "y0": " ",
         "yaxis": "y"
        },
        {
         "alignmentgroup": "True",
         "hovertemplate": "danceability=%{y}<extra></extra>",
         "legendgroup": "",
         "marker": {
          "color": "#636efa"
         },
         "name": "",
         "notched": false,
         "offsetgroup": "",
         "orientation": "v",
         "showlegend": false,
         "type": "box",
         "x0": " ",
         "xaxis": "x2",
         "y": [
          0.514,
          0.825,
          0.896,
          0.785,
          0.793,
          0.746,
          0.548,
          0.726,
          0.784,
          0.501,
          0.803,
          0.621,
          0.695,
          0.774,
          0.806,
          0.83,
          0.459,
          0.787,
          0.764,
          0.795,
          0.767,
          0.676,
          0.789,
          0.7,
          0.704,
          0.759,
          0.701,
          0.935,
          0.878,
          0.808,
          0.676,
          0.73,
          0.746,
          0.862,
          0.674,
          0.672,
          0.598,
          0.755,
          0.783,
          0.88,
          0.841,
          0.723,
          0.716,
          0.607,
          0.351,
          0.511,
          0.597,
          0.464,
          0.647,
          0.834
         ],
         "y0": " ",
         "yaxis": "y2"
        },
        {
         "alignmentgroup": "True",
         "hovertemplate": "key=%{y}<extra></extra>",
         "legendgroup": "",
         "marker": {
          "color": "#636efa"
         },
         "name": "",
         "notched": false,
         "offsetgroup": "",
         "orientation": "v",
         "showlegend": false,
         "type": "box",
         "x0": " ",
         "xaxis": "x3",
         "y": [
          1,
          6,
          10,
          8,
          11,
          11,
          0,
          8,
          10,
          1,
          2,
          6,
          0,
          0,
          9,
          1,
          3,
          11,
          11,
          2,
          0,
          8,
          8,
          7,
          6,
          9,
          7,
          1,
          5,
          10,
          9,
          4,
          6,
          7,
          11,
          9,
          7,
          2,
          6,
          7,
          7,
          10,
          0,
          2,
          4,
          6,
          8,
          1,
          0,
          8
         ],
         "y0": " ",
         "yaxis": "y3"
        },
        {
         "alignmentgroup": "True",
         "hovertemplate": "loudness=%{y}<extra></extra>",
         "legendgroup": "",
         "marker": {
          "color": "#636efa"
         },
         "name": "",
         "notched": false,
         "offsetgroup": "",
         "orientation": "v",
         "showlegend": false,
         "type": "box",
         "x0": " ",
         "xaxis": "x4",
         "y": [
          -5.934,
          -6.401,
          -6.687,
          -5.457,
          -4.521,
          -7.956,
          -4.209,
          -8.765,
          -8.756,
          -5.679,
          -3.28,
          -5.616,
          -3.497,
          -7.909,
          -6.637,
          -8.82,
          -4.858,
          -4.577,
          -7.209,
          -6.903,
          -8.52,
          -3.675,
          -5.652,
          -3.558,
          -14.454,
          -6.049,
          -10.965,
          -7.509,
          -6.832,
          -5.26,
          -6.652,
          -3.434,
          -4.41,
          -4.746,
          -7.567,
          -3.764,
          -8.764,
          -4.368,
          -3.454,
          -4.258,
          -3.37,
          -7.088,
          -7.648,
          -4.074,
          -10.109,
          -7.23,
          -6.658,
          -10.086,
          -3.756,
          -3.714
         ],
         "y0": " ",
         "yaxis": "y4"
        },
        {
         "alignmentgroup": "True",
         "hovertemplate": "acousticness=%{y}<extra></extra>",
         "legendgroup": "",
         "marker": {
          "color": "#636efa"
         },
         "name": "",
         "notched": false,
         "offsetgroup": "",
         "orientation": "v",
         "showlegend": false,
         "type": "box",
         "x0": " ",
         "xaxis": "x5",
         "y": [
          0.00146,
          0.688,
          0.104,
          0.0149,
          0.0123,
          0.247,
          0.122,
          0.731,
          0.123,
          0.751,
          0.295,
          0.0522,
          0.192,
          0.207,
          0.3,
          0.289,
          0.604,
          0.256,
          0.837,
          0.067,
          0.234,
          0.0237,
          0.223,
          0.221,
          0.902,
          0.0392,
          0.328,
          0.0194,
          0.183,
          0.145,
          0.345,
          0.167,
          0.0112,
          0.291,
          0.0686,
          0.021,
          0.0546,
          0.533,
          0.185,
          0.177,
          0.0847,
          0.0259,
          0.233,
          0.0103,
          0.934,
          0.349,
          0.223,
          0.866,
          0.0137,
          0.00513
         ],
         "y0": " ",
         "yaxis": "y5"
        },
        {
         "alignmentgroup": "True",
         "hovertemplate": "speechiness=%{y}<extra></extra>",
         "legendgroup": "",
         "marker": {
          "color": "#636efa"
         },
         "name": "",
         "notched": false,
         "offsetgroup": "",
         "orientation": "v",
         "showlegend": false,
         "type": "box",
         "x0": " ",
         "xaxis": "x6",
         "y": [
          0.0598,
          0.0988,
          0.0559,
          0.0506,
          0.083,
          0.164,
          0.0465,
          0.135,
          0.0364,
          0.0319,
          0.298,
          0.148,
          0.0395,
          0.0383,
          0.0575,
          0.209,
          0.0573,
          0.158,
          0.0546,
          0.487,
          0.0803,
          0.0483,
          0.218,
          0.0369,
          0.0994,
          0.029,
          0.375,
          0.375,
          0.0578,
          0.342,
          0.0958,
          0.0883,
          0.0993,
          0.0515,
          0.0892,
          0.0397,
          0.0317,
          0.0575,
          0.389,
          0.0874,
          0.0484,
          0.0571,
          0.0514,
          0.379,
          0.0333,
          0.2,
          0.0418,
          0.129,
          0.0457,
          0.222
         ],
         "y0": " ",
         "yaxis": "y6"
        },
        {
         "alignmentgroup": "True",
         "hovertemplate": "instrumentalness=%{y}<extra></extra>",
         "legendgroup": "",
         "marker": {
          "color": "#636efa"
         },
         "name": "",
         "notched": false,
         "offsetgroup": "",
         "orientation": "v",
         "showlegend": false,
         "type": "box",
         "x0": " ",
         "xaxis": "x7",
         "y": [
          9.54e-05,
          0.000161,
          0,
          0.00432,
          0,
          0,
          0,
          0,
          0,
          0,
          0.000134,
          0,
          0.00244,
          0,
          0,
          3.04e-06,
          0,
          3.57e-06,
          0,
          0,
          0,
          7e-06,
          0,
          0,
          0.657,
          0,
          0.13,
          0,
          0,
          0,
          0,
          1.39e-06,
          0,
          0.000209,
          0.00188,
          0,
          5.83e-06,
          0,
          2.46e-05,
          6.43e-05,
          0,
          0.00109,
          0,
          0,
          0,
          0,
          0,
          0,
          0.000658,
          0
         ],
         "y0": " ",
         "yaxis": "y7"
        },
        {
         "alignmentgroup": "True",
         "hovertemplate": "liveness=%{y}<extra></extra>",
         "legendgroup": "",
         "marker": {
          "color": "#636efa"
         },
         "name": "",
         "notched": false,
         "offsetgroup": "",
         "orientation": "v",
         "showlegend": false,
         "type": "box",
         "x0": " ",
         "xaxis": "x8",
         "y": [
          0.0897,
          0.17,
          0.79,
          0.285,
          0.0951,
          0.101,
          0.335,
          0.696,
          0.0887,
          0.105,
          0.0574,
          0.46,
          0.0863,
          0.132,
          0.102,
          0.113,
          0.0885,
          0.0904,
          0.0822,
          0.15,
          0.269,
          0.102,
          0.129,
          0.272,
          0.106,
          0.0828,
          0.1,
          0.0824,
          0.0714,
          0.292,
          0.118,
          0.349,
          0.0936,
          0.123,
          0.393,
          0.323,
          0.21,
          0.0685,
          0.0626,
          0.106,
          0.149,
          0.792,
          0.157,
          0.107,
          0.095,
          0.34,
          0.382,
          0.109,
          0.102,
          0.124
         ],
         "y0": " ",
         "yaxis": "y8"
        },
        {
         "alignmentgroup": "True",
         "hovertemplate": "valence=%{y}<extra></extra>",
         "legendgroup": "",
         "marker": {
          "color": "#636efa"
         },
         "name": "",
         "notched": false,
         "offsetgroup": "",
         "orientation": "v",
         "showlegend": false,
         "type": "box",
         "x0": " ",
         "xaxis": "x9",
         "y": [
          0.334,
          0.54,
          0.642,
          0.894,
          0.679,
          0.497,
          0.557,
          0.348,
          0.236,
          0.446,
          0.574,
          0.457,
          0.553,
          0.349,
          0.874,
          0.845,
          0.183,
          0.786,
          0.575,
          0.537,
          0.761,
          0.569,
          0.664,
          0.756,
          0.243,
          0.749,
          0.562,
          0.357,
          0.694,
          0.829,
          0.497,
          0.467,
          0.737,
          0.841,
          0.33,
          0.646,
          0.0605,
          0.925,
          0.558,
          0.884,
          0.43,
          0.684,
          0.28,
          0.685,
          0.12,
          0.218,
          0.537,
          0.604,
          0.746,
          0.446
         ],
         "y0": " ",
         "yaxis": "y9"
        },
        {
         "alignmentgroup": "True",
         "hovertemplate": "tempo=%{y}<extra></extra>",
         "legendgroup": "",
         "marker": {
          "color": "#636efa"
         },
         "name": "",
         "notched": false,
         "offsetgroup": "",
         "orientation": "v",
         "showlegend": false,
         "type": "box",
         "x0": " ",
         "xaxis": "x10",
         "y": [
          171.005,
          98.078,
          116.971,
          121.962,
          123.95,
          89.977,
          95.39,
          144.026,
          127.087,
          109.891,
          101.085,
          116.735,
          120.042,
          99.034,
          147.986,
          81.604,
          111.881,
          110.962,
          91.019,
          142.053,
          150.076,
          99.048,
          122.031,
          90.989,
          120.006,
          116.967,
          135.128,
          133.073,
          112.022,
          165.995,
          145.842,
          113.013,
          114.044,
          128.978,
          112.05,
          123.056,
          76.469,
          89.96,
          180.067,
          117.948,
          130.049,
          105.095,
          129.979,
          96.172,
          115.284,
          83.903,
          178.765,
          75.801,
          146.967,
          155.008
         ],
         "y0": " ",
         "yaxis": "y10"
        },
        {
         "alignmentgroup": "True",
         "hovertemplate": "duration_ms=%{y}<extra></extra>",
         "legendgroup": "",
         "marker": {
          "color": "#636efa"
         },
         "name": "",
         "notched": false,
         "offsetgroup": "",
         "orientation": "v",
         "showlegend": false,
         "type": "box",
         "x0": " ",
         "xaxis": "x11",
         "y": [
          200040,
          209755,
          196653,
          176219,
          183290,
          181733,
          174000,
          173333,
          159382,
          182161,
          200960,
          163636,
          215280,
          162547,
          212867,
          247059,
          215107,
          237893,
          189486,
          237918,
          171375,
          207133,
          166794,
          140526,
          245426,
          190800,
          194088,
          187541,
          158571,
          210800,
          208520,
          221820,
          199054,
          223488,
          176547,
          182200,
          175721,
          157560,
          199112,
          157606,
          243837,
          214935,
          165978,
          295177,
          200186,
          239836,
          228482,
          208687,
          193829,
          312820
         ],
         "y0": " ",
         "yaxis": "y11"
        }
       ],
       "layout": {
        "height": 20000,
        "showlegend": false,
        "template": {
         "data": {
          "bar": [
           {
            "error_x": {
             "color": "#2a3f5f"
            },
            "error_y": {
             "color": "#2a3f5f"
            },
            "marker": {
             "line": {
              "color": "#E5ECF6",
              "width": 0.5
             },
             "pattern": {
              "fillmode": "overlay",
              "size": 10,
              "solidity": 0.2
             }
            },
            "type": "bar"
           }
          ],
          "barpolar": [
           {
            "marker": {
             "line": {
              "color": "#E5ECF6",
              "width": 0.5
             },
             "pattern": {
              "fillmode": "overlay",
              "size": 10,
              "solidity": 0.2
             }
            },
            "type": "barpolar"
           }
          ],
          "carpet": [
           {
            "aaxis": {
             "endlinecolor": "#2a3f5f",
             "gridcolor": "white",
             "linecolor": "white",
             "minorgridcolor": "white",
             "startlinecolor": "#2a3f5f"
            },
            "baxis": {
             "endlinecolor": "#2a3f5f",
             "gridcolor": "white",
             "linecolor": "white",
             "minorgridcolor": "white",
             "startlinecolor": "#2a3f5f"
            },
            "type": "carpet"
           }
          ],
          "choropleth": [
           {
            "colorbar": {
             "outlinewidth": 0,
             "ticks": ""
            },
            "type": "choropleth"
           }
          ],
          "contour": [
           {
            "colorbar": {
             "outlinewidth": 0,
             "ticks": ""
            },
            "colorscale": [
             [
              0,
              "#0d0887"
             ],
             [
              0.1111111111111111,
              "#46039f"
             ],
             [
              0.2222222222222222,
              "#7201a8"
             ],
             [
              0.3333333333333333,
              "#9c179e"
             ],
             [
              0.4444444444444444,
              "#bd3786"
             ],
             [
              0.5555555555555556,
              "#d8576b"
             ],
             [
              0.6666666666666666,
              "#ed7953"
             ],
             [
              0.7777777777777778,
              "#fb9f3a"
             ],
             [
              0.8888888888888888,
              "#fdca26"
             ],
             [
              1,
              "#f0f921"
             ]
            ],
            "type": "contour"
           }
          ],
          "contourcarpet": [
           {
            "colorbar": {
             "outlinewidth": 0,
             "ticks": ""
            },
            "type": "contourcarpet"
           }
          ],
          "heatmap": [
           {
            "colorbar": {
             "outlinewidth": 0,
             "ticks": ""
            },
            "colorscale": [
             [
              0,
              "#0d0887"
             ],
             [
              0.1111111111111111,
              "#46039f"
             ],
             [
              0.2222222222222222,
              "#7201a8"
             ],
             [
              0.3333333333333333,
              "#9c179e"
             ],
             [
              0.4444444444444444,
              "#bd3786"
             ],
             [
              0.5555555555555556,
              "#d8576b"
             ],
             [
              0.6666666666666666,
              "#ed7953"
             ],
             [
              0.7777777777777778,
              "#fb9f3a"
             ],
             [
              0.8888888888888888,
              "#fdca26"
             ],
             [
              1,
              "#f0f921"
             ]
            ],
            "type": "heatmap"
           }
          ],
          "heatmapgl": [
           {
            "colorbar": {
             "outlinewidth": 0,
             "ticks": ""
            },
            "colorscale": [
             [
              0,
              "#0d0887"
             ],
             [
              0.1111111111111111,
              "#46039f"
             ],
             [
              0.2222222222222222,
              "#7201a8"
             ],
             [
              0.3333333333333333,
              "#9c179e"
             ],
             [
              0.4444444444444444,
              "#bd3786"
             ],
             [
              0.5555555555555556,
              "#d8576b"
             ],
             [
              0.6666666666666666,
              "#ed7953"
             ],
             [
              0.7777777777777778,
              "#fb9f3a"
             ],
             [
              0.8888888888888888,
              "#fdca26"
             ],
             [
              1,
              "#f0f921"
             ]
            ],
            "type": "heatmapgl"
           }
          ],
          "histogram": [
           {
            "marker": {
             "pattern": {
              "fillmode": "overlay",
              "size": 10,
              "solidity": 0.2
             }
            },
            "type": "histogram"
           }
          ],
          "histogram2d": [
           {
            "colorbar": {
             "outlinewidth": 0,
             "ticks": ""
            },
            "colorscale": [
             [
              0,
              "#0d0887"
             ],
             [
              0.1111111111111111,
              "#46039f"
             ],
             [
              0.2222222222222222,
              "#7201a8"
             ],
             [
              0.3333333333333333,
              "#9c179e"
             ],
             [
              0.4444444444444444,
              "#bd3786"
             ],
             [
              0.5555555555555556,
              "#d8576b"
             ],
             [
              0.6666666666666666,
              "#ed7953"
             ],
             [
              0.7777777777777778,
              "#fb9f3a"
             ],
             [
              0.8888888888888888,
              "#fdca26"
             ],
             [
              1,
              "#f0f921"
             ]
            ],
            "type": "histogram2d"
           }
          ],
          "histogram2dcontour": [
           {
            "colorbar": {
             "outlinewidth": 0,
             "ticks": ""
            },
            "colorscale": [
             [
              0,
              "#0d0887"
             ],
             [
              0.1111111111111111,
              "#46039f"
             ],
             [
              0.2222222222222222,
              "#7201a8"
             ],
             [
              0.3333333333333333,
              "#9c179e"
             ],
             [
              0.4444444444444444,
              "#bd3786"
             ],
             [
              0.5555555555555556,
              "#d8576b"
             ],
             [
              0.6666666666666666,
              "#ed7953"
             ],
             [
              0.7777777777777778,
              "#fb9f3a"
             ],
             [
              0.8888888888888888,
              "#fdca26"
             ],
             [
              1,
              "#f0f921"
             ]
            ],
            "type": "histogram2dcontour"
           }
          ],
          "mesh3d": [
           {
            "colorbar": {
             "outlinewidth": 0,
             "ticks": ""
            },
            "type": "mesh3d"
           }
          ],
          "parcoords": [
           {
            "line": {
             "colorbar": {
              "outlinewidth": 0,
              "ticks": ""
             }
            },
            "type": "parcoords"
           }
          ],
          "pie": [
           {
            "automargin": true,
            "type": "pie"
           }
          ],
          "scatter": [
           {
            "fillpattern": {
             "fillmode": "overlay",
             "size": 10,
             "solidity": 0.2
            },
            "type": "scatter"
           }
          ],
          "scatter3d": [
           {
            "line": {
             "colorbar": {
              "outlinewidth": 0,
              "ticks": ""
             }
            },
            "marker": {
             "colorbar": {
              "outlinewidth": 0,
              "ticks": ""
             }
            },
            "type": "scatter3d"
           }
          ],
          "scattercarpet": [
           {
            "marker": {
             "colorbar": {
              "outlinewidth": 0,
              "ticks": ""
             }
            },
            "type": "scattercarpet"
           }
          ],
          "scattergeo": [
           {
            "marker": {
             "colorbar": {
              "outlinewidth": 0,
              "ticks": ""
             }
            },
            "type": "scattergeo"
           }
          ],
          "scattergl": [
           {
            "marker": {
             "colorbar": {
              "outlinewidth": 0,
              "ticks": ""
             }
            },
            "type": "scattergl"
           }
          ],
          "scattermapbox": [
           {
            "marker": {
             "colorbar": {
              "outlinewidth": 0,
              "ticks": ""
             }
            },
            "type": "scattermapbox"
           }
          ],
          "scatterpolar": [
           {
            "marker": {
             "colorbar": {
              "outlinewidth": 0,
              "ticks": ""
             }
            },
            "type": "scatterpolar"
           }
          ],
          "scatterpolargl": [
           {
            "marker": {
             "colorbar": {
              "outlinewidth": 0,
              "ticks": ""
             }
            },
            "type": "scatterpolargl"
           }
          ],
          "scatterternary": [
           {
            "marker": {
             "colorbar": {
              "outlinewidth": 0,
              "ticks": ""
             }
            },
            "type": "scatterternary"
           }
          ],
          "surface": [
           {
            "colorbar": {
             "outlinewidth": 0,
             "ticks": ""
            },
            "colorscale": [
             [
              0,
              "#0d0887"
             ],
             [
              0.1111111111111111,
              "#46039f"
             ],
             [
              0.2222222222222222,
              "#7201a8"
             ],
             [
              0.3333333333333333,
              "#9c179e"
             ],
             [
              0.4444444444444444,
              "#bd3786"
             ],
             [
              0.5555555555555556,
              "#d8576b"
             ],
             [
              0.6666666666666666,
              "#ed7953"
             ],
             [
              0.7777777777777778,
              "#fb9f3a"
             ],
             [
              0.8888888888888888,
              "#fdca26"
             ],
             [
              1,
              "#f0f921"
             ]
            ],
            "type": "surface"
           }
          ],
          "table": [
           {
            "cells": {
             "fill": {
              "color": "#EBF0F8"
             },
             "line": {
              "color": "white"
             }
            },
            "header": {
             "fill": {
              "color": "#C8D4E3"
             },
             "line": {
              "color": "white"
             }
            },
            "type": "table"
           }
          ]
         },
         "layout": {
          "annotationdefaults": {
           "arrowcolor": "#2a3f5f",
           "arrowhead": 0,
           "arrowwidth": 1
          },
          "autotypenumbers": "strict",
          "coloraxis": {
           "colorbar": {
            "outlinewidth": 0,
            "ticks": ""
           }
          },
          "colorscale": {
           "diverging": [
            [
             0,
             "#8e0152"
            ],
            [
             0.1,
             "#c51b7d"
            ],
            [
             0.2,
             "#de77ae"
            ],
            [
             0.3,
             "#f1b6da"
            ],
            [
             0.4,
             "#fde0ef"
            ],
            [
             0.5,
             "#f7f7f7"
            ],
            [
             0.6,
             "#e6f5d0"
            ],
            [
             0.7,
             "#b8e186"
            ],
            [
             0.8,
             "#7fbc41"
            ],
            [
             0.9,
             "#4d9221"
            ],
            [
             1,
             "#276419"
            ]
           ],
           "sequential": [
            [
             0,
             "#0d0887"
            ],
            [
             0.1111111111111111,
             "#46039f"
            ],
            [
             0.2222222222222222,
             "#7201a8"
            ],
            [
             0.3333333333333333,
             "#9c179e"
            ],
            [
             0.4444444444444444,
             "#bd3786"
            ],
            [
             0.5555555555555556,
             "#d8576b"
            ],
            [
             0.6666666666666666,
             "#ed7953"
            ],
            [
             0.7777777777777778,
             "#fb9f3a"
            ],
            [
             0.8888888888888888,
             "#fdca26"
            ],
            [
             1,
             "#f0f921"
            ]
           ],
           "sequentialminus": [
            [
             0,
             "#0d0887"
            ],
            [
             0.1111111111111111,
             "#46039f"
            ],
            [
             0.2222222222222222,
             "#7201a8"
            ],
            [
             0.3333333333333333,
             "#9c179e"
            ],
            [
             0.4444444444444444,
             "#bd3786"
            ],
            [
             0.5555555555555556,
             "#d8576b"
            ],
            [
             0.6666666666666666,
             "#ed7953"
            ],
            [
             0.7777777777777778,
             "#fb9f3a"
            ],
            [
             0.8888888888888888,
             "#fdca26"
            ],
            [
             1,
             "#f0f921"
            ]
           ]
          },
          "colorway": [
           "#636efa",
           "#EF553B",
           "#00cc96",
           "#ab63fa",
           "#FFA15A",
           "#19d3f3",
           "#FF6692",
           "#B6E880",
           "#FF97FF",
           "#FECB52"
          ],
          "font": {
           "color": "#2a3f5f"
          },
          "geo": {
           "bgcolor": "white",
           "lakecolor": "white",
           "landcolor": "#E5ECF6",
           "showlakes": true,
           "showland": true,
           "subunitcolor": "white"
          },
          "hoverlabel": {
           "align": "left"
          },
          "hovermode": "closest",
          "mapbox": {
           "style": "light"
          },
          "paper_bgcolor": "white",
          "plot_bgcolor": "#E5ECF6",
          "polar": {
           "angularaxis": {
            "gridcolor": "white",
            "linecolor": "white",
            "ticks": ""
           },
           "bgcolor": "#E5ECF6",
           "radialaxis": {
            "gridcolor": "white",
            "linecolor": "white",
            "ticks": ""
           }
          },
          "scene": {
           "xaxis": {
            "backgroundcolor": "#E5ECF6",
            "gridcolor": "white",
            "gridwidth": 2,
            "linecolor": "white",
            "showbackground": true,
            "ticks": "",
            "zerolinecolor": "white"
           },
           "yaxis": {
            "backgroundcolor": "#E5ECF6",
            "gridcolor": "white",
            "gridwidth": 2,
            "linecolor": "white",
            "showbackground": true,
            "ticks": "",
            "zerolinecolor": "white"
           },
           "zaxis": {
            "backgroundcolor": "#E5ECF6",
            "gridcolor": "white",
            "gridwidth": 2,
            "linecolor": "white",
            "showbackground": true,
            "ticks": "",
            "zerolinecolor": "white"
           }
          },
          "shapedefaults": {
           "line": {
            "color": "#2a3f5f"
           }
          },
          "ternary": {
           "aaxis": {
            "gridcolor": "white",
            "linecolor": "white",
            "ticks": ""
           },
           "baxis": {
            "gridcolor": "white",
            "linecolor": "white",
            "ticks": ""
           },
           "bgcolor": "#E5ECF6",
           "caxis": {
            "gridcolor": "white",
            "linecolor": "white",
            "ticks": ""
           }
          },
          "title": {
           "x": 0.05
          },
          "xaxis": {
           "automargin": true,
           "gridcolor": "white",
           "linecolor": "white",
           "ticks": "",
           "title": {
            "standoff": 15
           },
           "zerolinecolor": "white",
           "zerolinewidth": 2
          },
          "yaxis": {
           "automargin": true,
           "gridcolor": "white",
           "linecolor": "white",
           "ticks": "",
           "title": {
            "standoff": 15
           },
           "zerolinecolor": "white",
           "zerolinewidth": 2
          }
         }
        },
        "title": {
         "text": "Box Plots for Numerical Columns"
        },
        "xaxis": {
         "anchor": "y",
         "domain": [
          0,
          1
         ]
        },
        "xaxis10": {
         "anchor": "y10",
         "domain": [
          0,
          1
         ]
        },
        "xaxis11": {
         "anchor": "y11",
         "domain": [
          0,
          1
         ]
        },
        "xaxis12": {
         "anchor": "y12",
         "domain": [
          0,
          1
         ]
        },
        "xaxis13": {
         "anchor": "y13",
         "domain": [
          0,
          1
         ]
        },
        "xaxis14": {
         "anchor": "y14",
         "domain": [
          0,
          1
         ]
        },
        "xaxis15": {
         "anchor": "y15",
         "domain": [
          0,
          1
         ]
        },
        "xaxis16": {
         "anchor": "y16",
         "domain": [
          0,
          1
         ]
        },
        "xaxis17": {
         "anchor": "y17",
         "domain": [
          0,
          1
         ]
        },
        "xaxis18": {
         "anchor": "y18",
         "domain": [
          0,
          1
         ]
        },
        "xaxis19": {
         "anchor": "y19",
         "domain": [
          0,
          1
         ]
        },
        "xaxis2": {
         "anchor": "y2",
         "domain": [
          0,
          1
         ]
        },
        "xaxis20": {
         "anchor": "y20",
         "domain": [
          0,
          1
         ]
        },
        "xaxis21": {
         "anchor": "y21",
         "domain": [
          0,
          1
         ]
        },
        "xaxis22": {
         "anchor": "y22",
         "domain": [
          0,
          1
         ]
        },
        "xaxis23": {
         "anchor": "y23",
         "domain": [
          0,
          1
         ]
        },
        "xaxis24": {
         "anchor": "y24",
         "domain": [
          0,
          1
         ]
        },
        "xaxis25": {
         "anchor": "y25",
         "domain": [
          0,
          1
         ]
        },
        "xaxis26": {
         "anchor": "y26",
         "domain": [
          0,
          1
         ]
        },
        "xaxis27": {
         "anchor": "y27",
         "domain": [
          0,
          1
         ]
        },
        "xaxis28": {
         "anchor": "y28",
         "domain": [
          0,
          1
         ]
        },
        "xaxis29": {
         "anchor": "y29",
         "domain": [
          0,
          1
         ]
        },
        "xaxis3": {
         "anchor": "y3",
         "domain": [
          0,
          1
         ]
        },
        "xaxis30": {
         "anchor": "y30",
         "domain": [
          0,
          1
         ]
        },
        "xaxis31": {
         "anchor": "y31",
         "domain": [
          0,
          1
         ]
        },
        "xaxis32": {
         "anchor": "y32",
         "domain": [
          0,
          1
         ]
        },
        "xaxis33": {
         "anchor": "y33",
         "domain": [
          0,
          1
         ]
        },
        "xaxis34": {
         "anchor": "y34",
         "domain": [
          0,
          1
         ]
        },
        "xaxis35": {
         "anchor": "y35",
         "domain": [
          0,
          1
         ]
        },
        "xaxis36": {
         "anchor": "y36",
         "domain": [
          0,
          1
         ]
        },
        "xaxis37": {
         "anchor": "y37",
         "domain": [
          0,
          1
         ]
        },
        "xaxis38": {
         "anchor": "y38",
         "domain": [
          0,
          1
         ]
        },
        "xaxis39": {
         "anchor": "y39",
         "domain": [
          0,
          1
         ]
        },
        "xaxis4": {
         "anchor": "y4",
         "domain": [
          0,
          1
         ]
        },
        "xaxis40": {
         "anchor": "y40",
         "domain": [
          0,
          1
         ]
        },
        "xaxis41": {
         "anchor": "y41",
         "domain": [
          0,
          1
         ]
        },
        "xaxis42": {
         "anchor": "y42",
         "domain": [
          0,
          1
         ]
        },
        "xaxis43": {
         "anchor": "y43",
         "domain": [
          0,
          1
         ]
        },
        "xaxis44": {
         "anchor": "y44",
         "domain": [
          0,
          1
         ]
        },
        "xaxis45": {
         "anchor": "y45",
         "domain": [
          0,
          1
         ]
        },
        "xaxis46": {
         "anchor": "y46",
         "domain": [
          0,
          1
         ]
        },
        "xaxis47": {
         "anchor": "y47",
         "domain": [
          0,
          1
         ]
        },
        "xaxis48": {
         "anchor": "y48",
         "domain": [
          0,
          1
         ]
        },
        "xaxis49": {
         "anchor": "y49",
         "domain": [
          0,
          1
         ]
        },
        "xaxis5": {
         "anchor": "y5",
         "domain": [
          0,
          1
         ]
        },
        "xaxis50": {
         "anchor": "y50",
         "domain": [
          0,
          1
         ]
        },
        "xaxis6": {
         "anchor": "y6",
         "domain": [
          0,
          1
         ]
        },
        "xaxis7": {
         "anchor": "y7",
         "domain": [
          0,
          1
         ]
        },
        "xaxis8": {
         "anchor": "y8",
         "domain": [
          0,
          1
         ]
        },
        "xaxis9": {
         "anchor": "y9",
         "domain": [
          0,
          1
         ]
        },
        "yaxis": {
         "anchor": "x",
         "domain": [
          0.9858800000000005,
          1
         ],
         "title": {
          "text": "energy"
         }
        },
        "yaxis10": {
         "anchor": "x10",
         "domain": [
          0.8048000000000004,
          0.8189200000000004
         ],
         "title": {
          "text": "tempo"
         }
        },
        "yaxis11": {
         "anchor": "x11",
         "domain": [
          0.7846800000000004,
          0.7988000000000004
         ],
         "title": {
          "text": "duration_ms"
         }
        },
        "yaxis12": {
         "anchor": "x12",
         "domain": [
          0.7645600000000004,
          0.7786800000000004
         ]
        },
        "yaxis13": {
         "anchor": "x13",
         "domain": [
          0.7444400000000003,
          0.7585600000000003
         ]
        },
        "yaxis14": {
         "anchor": "x14",
         "domain": [
          0.7243200000000003,
          0.7384400000000003
         ]
        },
        "yaxis15": {
         "anchor": "x15",
         "domain": [
          0.7042000000000003,
          0.7183200000000003
         ]
        },
        "yaxis16": {
         "anchor": "x16",
         "domain": [
          0.6840800000000002,
          0.6982000000000003
         ]
        },
        "yaxis17": {
         "anchor": "x17",
         "domain": [
          0.6639600000000003,
          0.6780800000000003
         ]
        },
        "yaxis18": {
         "anchor": "x18",
         "domain": [
          0.6438400000000002,
          0.6579600000000002
         ]
        },
        "yaxis19": {
         "anchor": "x19",
         "domain": [
          0.6237200000000003,
          0.6378400000000003
         ]
        },
        "yaxis2": {
         "anchor": "x2",
         "domain": [
          0.9657600000000006,
          0.9798800000000006
         ],
         "title": {
          "text": "danceability"
         }
        },
        "yaxis20": {
         "anchor": "x20",
         "domain": [
          0.6036000000000001,
          0.6177200000000002
         ]
        },
        "yaxis21": {
         "anchor": "x21",
         "domain": [
          0.5834800000000002,
          0.5976000000000002
         ]
        },
        "yaxis22": {
         "anchor": "x22",
         "domain": [
          0.5633600000000002,
          0.5774800000000002
         ]
        },
        "yaxis23": {
         "anchor": "x23",
         "domain": [
          0.5432400000000002,
          0.5573600000000002
         ]
        },
        "yaxis24": {
         "anchor": "x24",
         "domain": [
          0.5231200000000001,
          0.5372400000000002
         ]
        },
        "yaxis25": {
         "anchor": "x25",
         "domain": [
          0.5030000000000001,
          0.5171200000000001
         ]
        },
        "yaxis26": {
         "anchor": "x26",
         "domain": [
          0.4828800000000001,
          0.4970000000000001
         ]
        },
        "yaxis27": {
         "anchor": "x27",
         "domain": [
          0.46276000000000006,
          0.4768800000000001
         ]
        },
        "yaxis28": {
         "anchor": "x28",
         "domain": [
          0.44264000000000003,
          0.45676000000000005
         ]
        },
        "yaxis29": {
         "anchor": "x29",
         "domain": [
          0.42252,
          0.43664000000000003
         ]
        },
        "yaxis3": {
         "anchor": "x3",
         "domain": [
          0.9456400000000006,
          0.9597600000000006
         ],
         "title": {
          "text": "key"
         }
        },
        "yaxis30": {
         "anchor": "x30",
         "domain": [
          0.4024,
          0.41652
         ]
        },
        "yaxis31": {
         "anchor": "x31",
         "domain": [
          0.38227999999999995,
          0.3964
         ]
        },
        "yaxis32": {
         "anchor": "x32",
         "domain": [
          0.3621599999999999,
          0.37627999999999995
         ]
        },
        "yaxis33": {
         "anchor": "x33",
         "domain": [
          0.3420399999999999,
          0.3561599999999999
         ]
        },
        "yaxis34": {
         "anchor": "x34",
         "domain": [
          0.32191999999999993,
          0.33603999999999995
         ]
        },
        "yaxis35": {
         "anchor": "x35",
         "domain": [
          0.30179999999999996,
          0.31592
         ]
        },
        "yaxis36": {
         "anchor": "x36",
         "domain": [
          0.28167999999999993,
          0.29579999999999995
         ]
        },
        "yaxis37": {
         "anchor": "x37",
         "domain": [
          0.26155999999999996,
          0.27568
         ]
        },
        "yaxis38": {
         "anchor": "x38",
         "domain": [
          0.24143999999999996,
          0.25555999999999995
         ]
        },
        "yaxis39": {
         "anchor": "x39",
         "domain": [
          0.22131999999999996,
          0.23543999999999995
         ]
        },
        "yaxis4": {
         "anchor": "x4",
         "domain": [
          0.9255200000000006,
          0.9396400000000006
         ],
         "title": {
          "text": "loudness"
         }
        },
        "yaxis40": {
         "anchor": "x40",
         "domain": [
          0.20119999999999996,
          0.21531999999999996
         ]
        },
        "yaxis41": {
         "anchor": "x41",
         "domain": [
          0.18107999999999996,
          0.19519999999999996
         ]
        },
        "yaxis42": {
         "anchor": "x42",
         "domain": [
          0.16096,
          0.17507999999999999
         ]
        },
        "yaxis43": {
         "anchor": "x43",
         "domain": [
          0.14084,
          0.15496
         ]
        },
        "yaxis44": {
         "anchor": "x44",
         "domain": [
          0.12072,
          0.13484
         ]
        },
        "yaxis45": {
         "anchor": "x45",
         "domain": [
          0.1006,
          0.11471999999999999
         ]
        },
        "yaxis46": {
         "anchor": "x46",
         "domain": [
          0.08048,
          0.09459999999999999
         ]
        },
        "yaxis47": {
         "anchor": "x47",
         "domain": [
          0.06036,
          0.07447999999999999
         ]
        },
        "yaxis48": {
         "anchor": "x48",
         "domain": [
          0.04024,
          0.05436
         ]
        },
        "yaxis49": {
         "anchor": "x49",
         "domain": [
          0.02012,
          0.03424
         ]
        },
        "yaxis5": {
         "anchor": "x5",
         "domain": [
          0.9054000000000005,
          0.9195200000000006
         ],
         "title": {
          "text": "acousticness"
         }
        },
        "yaxis50": {
         "anchor": "x50",
         "domain": [
          0,
          0.014119999999999999
         ]
        },
        "yaxis6": {
         "anchor": "x6",
         "domain": [
          0.8852800000000005,
          0.8994000000000005
         ],
         "title": {
          "text": "speechiness"
         }
        },
        "yaxis7": {
         "anchor": "x7",
         "domain": [
          0.8651600000000005,
          0.8792800000000005
         ],
         "title": {
          "text": "instrumentalness"
         }
        },
        "yaxis8": {
         "anchor": "x8",
         "domain": [
          0.8450400000000005,
          0.8591600000000005
         ],
         "title": {
          "text": "liveness"
         }
        },
        "yaxis9": {
         "anchor": "x9",
         "domain": [
          0.8249200000000004,
          0.8390400000000005
         ],
         "title": {
          "text": "valence"
         }
        }
       }
      },
      "text/html": [
       "<div>                            <div id=\"ebf8a7f6-1020-4bb5-b282-b20372bd5bfb\" class=\"plotly-graph-div\" style=\"height:20000px; width:100%;\"></div>            <script type=\"text/javascript\">                require([\"plotly\"], function(Plotly) {                    window.PLOTLYENV=window.PLOTLYENV || {};                                    if (document.getElementById(\"ebf8a7f6-1020-4bb5-b282-b20372bd5bfb\")) {                    Plotly.newPlot(                        \"ebf8a7f6-1020-4bb5-b282-b20372bd5bfb\",                        [{\"alignmentgroup\":\"True\",\"hovertemplate\":\"energy=%{y}<extra></extra>\",\"legendgroup\":\"\",\"marker\":{\"color\":\"#636efa\"},\"name\":\"\",\"notched\":false,\"offsetgroup\":\"\",\"orientation\":\"v\",\"showlegend\":false,\"x0\":\" \",\"xaxis\":\"x\",\"y\":[0.73,0.593,0.586,0.721,0.793,0.69,0.816,0.431,0.43,0.405,0.715,0.601,0.762,0.554,0.546,0.49,0.575,0.673,0.32,0.574,0.481,0.771,0.72,0.722,0.225,0.548,0.425,0.454,0.525,0.745,0.506,0.729,0.765,0.631,0.774,0.855,0.427,0.522,0.727,0.751,0.728,0.704,0.537,0.829,0.296,0.566,0.45,0.473,0.844,0.73],\"y0\":\" \",\"yaxis\":\"y\",\"type\":\"box\"},{\"alignmentgroup\":\"True\",\"hovertemplate\":\"danceability=%{y}<extra></extra>\",\"legendgroup\":\"\",\"marker\":{\"color\":\"#636efa\"},\"name\":\"\",\"notched\":false,\"offsetgroup\":\"\",\"orientation\":\"v\",\"showlegend\":false,\"x0\":\" \",\"xaxis\":\"x2\",\"y\":[0.514,0.825,0.896,0.785,0.793,0.746,0.548,0.726,0.784,0.501,0.803,0.621,0.695,0.774,0.806,0.83,0.459,0.787,0.764,0.795,0.767,0.676,0.789,0.7,0.704,0.759,0.701,0.935,0.878,0.808,0.676,0.73,0.746,0.862,0.674,0.672,0.598,0.755,0.783,0.88,0.841,0.723,0.716,0.607,0.351,0.511,0.597,0.464,0.647,0.834],\"y0\":\" \",\"yaxis\":\"y2\",\"type\":\"box\"},{\"alignmentgroup\":\"True\",\"hovertemplate\":\"key=%{y}<extra></extra>\",\"legendgroup\":\"\",\"marker\":{\"color\":\"#636efa\"},\"name\":\"\",\"notched\":false,\"offsetgroup\":\"\",\"orientation\":\"v\",\"showlegend\":false,\"x0\":\" \",\"xaxis\":\"x3\",\"y\":[1,6,10,8,11,11,0,8,10,1,2,6,0,0,9,1,3,11,11,2,0,8,8,7,6,9,7,1,5,10,9,4,6,7,11,9,7,2,6,7,7,10,0,2,4,6,8,1,0,8],\"y0\":\" \",\"yaxis\":\"y3\",\"type\":\"box\"},{\"alignmentgroup\":\"True\",\"hovertemplate\":\"loudness=%{y}<extra></extra>\",\"legendgroup\":\"\",\"marker\":{\"color\":\"#636efa\"},\"name\":\"\",\"notched\":false,\"offsetgroup\":\"\",\"orientation\":\"v\",\"showlegend\":false,\"x0\":\" \",\"xaxis\":\"x4\",\"y\":[-5.934,-6.401,-6.687,-5.457,-4.521,-7.956,-4.209,-8.765,-8.756,-5.679,-3.28,-5.616,-3.497,-7.909,-6.637,-8.82,-4.858,-4.577,-7.209,-6.903,-8.52,-3.675,-5.652,-3.558,-14.454,-6.049,-10.965,-7.509,-6.832,-5.26,-6.652,-3.434,-4.41,-4.746,-7.567,-3.764,-8.764,-4.368,-3.454,-4.258,-3.37,-7.088,-7.648,-4.074,-10.109,-7.23,-6.658,-10.086,-3.756,-3.714],\"y0\":\" \",\"yaxis\":\"y4\",\"type\":\"box\"},{\"alignmentgroup\":\"True\",\"hovertemplate\":\"acousticness=%{y}<extra></extra>\",\"legendgroup\":\"\",\"marker\":{\"color\":\"#636efa\"},\"name\":\"\",\"notched\":false,\"offsetgroup\":\"\",\"orientation\":\"v\",\"showlegend\":false,\"x0\":\" \",\"xaxis\":\"x5\",\"y\":[0.00146,0.688,0.104,0.0149,0.0123,0.247,0.122,0.731,0.123,0.751,0.295,0.0522,0.192,0.207,0.3,0.289,0.604,0.256,0.837,0.067,0.234,0.0237,0.223,0.221,0.902,0.0392,0.328,0.0194,0.183,0.145,0.345,0.167,0.0112,0.291,0.0686,0.021,0.0546,0.533,0.185,0.177,0.0847,0.0259,0.233,0.0103,0.934,0.349,0.223,0.866,0.0137,0.00513],\"y0\":\" \",\"yaxis\":\"y5\",\"type\":\"box\"},{\"alignmentgroup\":\"True\",\"hovertemplate\":\"speechiness=%{y}<extra></extra>\",\"legendgroup\":\"\",\"marker\":{\"color\":\"#636efa\"},\"name\":\"\",\"notched\":false,\"offsetgroup\":\"\",\"orientation\":\"v\",\"showlegend\":false,\"x0\":\" \",\"xaxis\":\"x6\",\"y\":[0.0598,0.0988,0.0559,0.0506,0.083,0.164,0.0465,0.135,0.0364,0.0319,0.298,0.148,0.0395,0.0383,0.0575,0.209,0.0573,0.158,0.0546,0.487,0.0803,0.0483,0.218,0.0369,0.0994,0.029,0.375,0.375,0.0578,0.342,0.0958,0.0883,0.0993,0.0515,0.0892,0.0397,0.0317,0.0575,0.389,0.0874,0.0484,0.0571,0.0514,0.379,0.0333,0.2,0.0418,0.129,0.0457,0.222],\"y0\":\" \",\"yaxis\":\"y6\",\"type\":\"box\"},{\"alignmentgroup\":\"True\",\"hovertemplate\":\"instrumentalness=%{y}<extra></extra>\",\"legendgroup\":\"\",\"marker\":{\"color\":\"#636efa\"},\"name\":\"\",\"notched\":false,\"offsetgroup\":\"\",\"orientation\":\"v\",\"showlegend\":false,\"x0\":\" \",\"xaxis\":\"x7\",\"y\":[9.54e-05,0.000161,0.0,0.00432,0.0,0.0,0.0,0.0,0.0,0.0,0.000134,0.0,0.00244,0.0,0.0,3.04e-06,0.0,3.57e-06,0.0,0.0,0.0,7e-06,0.0,0.0,0.657,0.0,0.13,0.0,0.0,0.0,0.0,1.39e-06,0.0,0.000209,0.00188,0.0,5.83e-06,0.0,2.46e-05,6.43e-05,0.0,0.00109,0.0,0.0,0.0,0.0,0.0,0.0,0.000658,0.0],\"y0\":\" \",\"yaxis\":\"y7\",\"type\":\"box\"},{\"alignmentgroup\":\"True\",\"hovertemplate\":\"liveness=%{y}<extra></extra>\",\"legendgroup\":\"\",\"marker\":{\"color\":\"#636efa\"},\"name\":\"\",\"notched\":false,\"offsetgroup\":\"\",\"orientation\":\"v\",\"showlegend\":false,\"x0\":\" \",\"xaxis\":\"x8\",\"y\":[0.0897,0.17,0.79,0.285,0.0951,0.101,0.335,0.696,0.0887,0.105,0.0574,0.46,0.0863,0.132,0.102,0.113,0.0885,0.0904,0.0822,0.15,0.269,0.102,0.129,0.272,0.106,0.0828,0.1,0.0824,0.0714,0.292,0.118,0.349,0.0936,0.123,0.393,0.323,0.21,0.0685,0.0626,0.106,0.149,0.792,0.157,0.107,0.095,0.34,0.382,0.109,0.102,0.124],\"y0\":\" \",\"yaxis\":\"y8\",\"type\":\"box\"},{\"alignmentgroup\":\"True\",\"hovertemplate\":\"valence=%{y}<extra></extra>\",\"legendgroup\":\"\",\"marker\":{\"color\":\"#636efa\"},\"name\":\"\",\"notched\":false,\"offsetgroup\":\"\",\"orientation\":\"v\",\"showlegend\":false,\"x0\":\" \",\"xaxis\":\"x9\",\"y\":[0.334,0.54,0.642,0.894,0.679,0.497,0.557,0.348,0.236,0.446,0.574,0.457,0.553,0.349,0.874,0.845,0.183,0.786,0.575,0.537,0.761,0.569,0.664,0.756,0.243,0.749,0.562,0.357,0.694,0.829,0.497,0.467,0.737,0.841,0.33,0.646,0.0605,0.925,0.558,0.884,0.43,0.684,0.28,0.685,0.12,0.218,0.537,0.604,0.746,0.446],\"y0\":\" \",\"yaxis\":\"y9\",\"type\":\"box\"},{\"alignmentgroup\":\"True\",\"hovertemplate\":\"tempo=%{y}<extra></extra>\",\"legendgroup\":\"\",\"marker\":{\"color\":\"#636efa\"},\"name\":\"\",\"notched\":false,\"offsetgroup\":\"\",\"orientation\":\"v\",\"showlegend\":false,\"x0\":\" \",\"xaxis\":\"x10\",\"y\":[171.005,98.078,116.971,121.962,123.95,89.977,95.39,144.026,127.087,109.891,101.085,116.735,120.042,99.034,147.986,81.604,111.881,110.962,91.019,142.053,150.076,99.048,122.031,90.989,120.006,116.967,135.128,133.073,112.022,165.995,145.842,113.013,114.044,128.978,112.05,123.056,76.469,89.96,180.067,117.948,130.049,105.095,129.979,96.172,115.284,83.903,178.765,75.801,146.967,155.008],\"y0\":\" \",\"yaxis\":\"y10\",\"type\":\"box\"},{\"alignmentgroup\":\"True\",\"hovertemplate\":\"duration_ms=%{y}<extra></extra>\",\"legendgroup\":\"\",\"marker\":{\"color\":\"#636efa\"},\"name\":\"\",\"notched\":false,\"offsetgroup\":\"\",\"orientation\":\"v\",\"showlegend\":false,\"x0\":\" \",\"xaxis\":\"x11\",\"y\":[200040,209755,196653,176219,183290,181733,174000,173333,159382,182161,200960,163636,215280,162547,212867,247059,215107,237893,189486,237918,171375,207133,166794,140526,245426,190800,194088,187541,158571,210800,208520,221820,199054,223488,176547,182200,175721,157560,199112,157606,243837,214935,165978,295177,200186,239836,228482,208687,193829,312820],\"y0\":\" \",\"yaxis\":\"y11\",\"type\":\"box\"}],                        {\"template\":{\"data\":{\"histogram2dcontour\":[{\"type\":\"histogram2dcontour\",\"colorbar\":{\"outlinewidth\":0,\"ticks\":\"\"},\"colorscale\":[[0.0,\"#0d0887\"],[0.1111111111111111,\"#46039f\"],[0.2222222222222222,\"#7201a8\"],[0.3333333333333333,\"#9c179e\"],[0.4444444444444444,\"#bd3786\"],[0.5555555555555556,\"#d8576b\"],[0.6666666666666666,\"#ed7953\"],[0.7777777777777778,\"#fb9f3a\"],[0.8888888888888888,\"#fdca26\"],[1.0,\"#f0f921\"]]}],\"choropleth\":[{\"type\":\"choropleth\",\"colorbar\":{\"outlinewidth\":0,\"ticks\":\"\"}}],\"histogram2d\":[{\"type\":\"histogram2d\",\"colorbar\":{\"outlinewidth\":0,\"ticks\":\"\"},\"colorscale\":[[0.0,\"#0d0887\"],[0.1111111111111111,\"#46039f\"],[0.2222222222222222,\"#7201a8\"],[0.3333333333333333,\"#9c179e\"],[0.4444444444444444,\"#bd3786\"],[0.5555555555555556,\"#d8576b\"],[0.6666666666666666,\"#ed7953\"],[0.7777777777777778,\"#fb9f3a\"],[0.8888888888888888,\"#fdca26\"],[1.0,\"#f0f921\"]]}],\"heatmap\":[{\"type\":\"heatmap\",\"colorbar\":{\"outlinewidth\":0,\"ticks\":\"\"},\"colorscale\":[[0.0,\"#0d0887\"],[0.1111111111111111,\"#46039f\"],[0.2222222222222222,\"#7201a8\"],[0.3333333333333333,\"#9c179e\"],[0.4444444444444444,\"#bd3786\"],[0.5555555555555556,\"#d8576b\"],[0.6666666666666666,\"#ed7953\"],[0.7777777777777778,\"#fb9f3a\"],[0.8888888888888888,\"#fdca26\"],[1.0,\"#f0f921\"]]}],\"heatmapgl\":[{\"type\":\"heatmapgl\",\"colorbar\":{\"outlinewidth\":0,\"ticks\":\"\"},\"colorscale\":[[0.0,\"#0d0887\"],[0.1111111111111111,\"#46039f\"],[0.2222222222222222,\"#7201a8\"],[0.3333333333333333,\"#9c179e\"],[0.4444444444444444,\"#bd3786\"],[0.5555555555555556,\"#d8576b\"],[0.6666666666666666,\"#ed7953\"],[0.7777777777777778,\"#fb9f3a\"],[0.8888888888888888,\"#fdca26\"],[1.0,\"#f0f921\"]]}],\"contourcarpet\":[{\"type\":\"contourcarpet\",\"colorbar\":{\"outlinewidth\":0,\"ticks\":\"\"}}],\"contour\":[{\"type\":\"contour\",\"colorbar\":{\"outlinewidth\":0,\"ticks\":\"\"},\"colorscale\":[[0.0,\"#0d0887\"],[0.1111111111111111,\"#46039f\"],[0.2222222222222222,\"#7201a8\"],[0.3333333333333333,\"#9c179e\"],[0.4444444444444444,\"#bd3786\"],[0.5555555555555556,\"#d8576b\"],[0.6666666666666666,\"#ed7953\"],[0.7777777777777778,\"#fb9f3a\"],[0.8888888888888888,\"#fdca26\"],[1.0,\"#f0f921\"]]}],\"surface\":[{\"type\":\"surface\",\"colorbar\":{\"outlinewidth\":0,\"ticks\":\"\"},\"colorscale\":[[0.0,\"#0d0887\"],[0.1111111111111111,\"#46039f\"],[0.2222222222222222,\"#7201a8\"],[0.3333333333333333,\"#9c179e\"],[0.4444444444444444,\"#bd3786\"],[0.5555555555555556,\"#d8576b\"],[0.6666666666666666,\"#ed7953\"],[0.7777777777777778,\"#fb9f3a\"],[0.8888888888888888,\"#fdca26\"],[1.0,\"#f0f921\"]]}],\"mesh3d\":[{\"type\":\"mesh3d\",\"colorbar\":{\"outlinewidth\":0,\"ticks\":\"\"}}],\"scatter\":[{\"fillpattern\":{\"fillmode\":\"overlay\",\"size\":10,\"solidity\":0.2},\"type\":\"scatter\"}],\"parcoords\":[{\"type\":\"parcoords\",\"line\":{\"colorbar\":{\"outlinewidth\":0,\"ticks\":\"\"}}}],\"scatterpolargl\":[{\"type\":\"scatterpolargl\",\"marker\":{\"colorbar\":{\"outlinewidth\":0,\"ticks\":\"\"}}}],\"bar\":[{\"error_x\":{\"color\":\"#2a3f5f\"},\"error_y\":{\"color\":\"#2a3f5f\"},\"marker\":{\"line\":{\"color\":\"#E5ECF6\",\"width\":0.5},\"pattern\":{\"fillmode\":\"overlay\",\"size\":10,\"solidity\":0.2}},\"type\":\"bar\"}],\"scattergeo\":[{\"type\":\"scattergeo\",\"marker\":{\"colorbar\":{\"outlinewidth\":0,\"ticks\":\"\"}}}],\"scatterpolar\":[{\"type\":\"scatterpolar\",\"marker\":{\"colorbar\":{\"outlinewidth\":0,\"ticks\":\"\"}}}],\"histogram\":[{\"marker\":{\"pattern\":{\"fillmode\":\"overlay\",\"size\":10,\"solidity\":0.2}},\"type\":\"histogram\"}],\"scattergl\":[{\"type\":\"scattergl\",\"marker\":{\"colorbar\":{\"outlinewidth\":0,\"ticks\":\"\"}}}],\"scatter3d\":[{\"type\":\"scatter3d\",\"line\":{\"colorbar\":{\"outlinewidth\":0,\"ticks\":\"\"}},\"marker\":{\"colorbar\":{\"outlinewidth\":0,\"ticks\":\"\"}}}],\"scattermapbox\":[{\"type\":\"scattermapbox\",\"marker\":{\"colorbar\":{\"outlinewidth\":0,\"ticks\":\"\"}}}],\"scatterternary\":[{\"type\":\"scatterternary\",\"marker\":{\"colorbar\":{\"outlinewidth\":0,\"ticks\":\"\"}}}],\"scattercarpet\":[{\"type\":\"scattercarpet\",\"marker\":{\"colorbar\":{\"outlinewidth\":0,\"ticks\":\"\"}}}],\"carpet\":[{\"aaxis\":{\"endlinecolor\":\"#2a3f5f\",\"gridcolor\":\"white\",\"linecolor\":\"white\",\"minorgridcolor\":\"white\",\"startlinecolor\":\"#2a3f5f\"},\"baxis\":{\"endlinecolor\":\"#2a3f5f\",\"gridcolor\":\"white\",\"linecolor\":\"white\",\"minorgridcolor\":\"white\",\"startlinecolor\":\"#2a3f5f\"},\"type\":\"carpet\"}],\"table\":[{\"cells\":{\"fill\":{\"color\":\"#EBF0F8\"},\"line\":{\"color\":\"white\"}},\"header\":{\"fill\":{\"color\":\"#C8D4E3\"},\"line\":{\"color\":\"white\"}},\"type\":\"table\"}],\"barpolar\":[{\"marker\":{\"line\":{\"color\":\"#E5ECF6\",\"width\":0.5},\"pattern\":{\"fillmode\":\"overlay\",\"size\":10,\"solidity\":0.2}},\"type\":\"barpolar\"}],\"pie\":[{\"automargin\":true,\"type\":\"pie\"}]},\"layout\":{\"autotypenumbers\":\"strict\",\"colorway\":[\"#636efa\",\"#EF553B\",\"#00cc96\",\"#ab63fa\",\"#FFA15A\",\"#19d3f3\",\"#FF6692\",\"#B6E880\",\"#FF97FF\",\"#FECB52\"],\"font\":{\"color\":\"#2a3f5f\"},\"hovermode\":\"closest\",\"hoverlabel\":{\"align\":\"left\"},\"paper_bgcolor\":\"white\",\"plot_bgcolor\":\"#E5ECF6\",\"polar\":{\"bgcolor\":\"#E5ECF6\",\"angularaxis\":{\"gridcolor\":\"white\",\"linecolor\":\"white\",\"ticks\":\"\"},\"radialaxis\":{\"gridcolor\":\"white\",\"linecolor\":\"white\",\"ticks\":\"\"}},\"ternary\":{\"bgcolor\":\"#E5ECF6\",\"aaxis\":{\"gridcolor\":\"white\",\"linecolor\":\"white\",\"ticks\":\"\"},\"baxis\":{\"gridcolor\":\"white\",\"linecolor\":\"white\",\"ticks\":\"\"},\"caxis\":{\"gridcolor\":\"white\",\"linecolor\":\"white\",\"ticks\":\"\"}},\"coloraxis\":{\"colorbar\":{\"outlinewidth\":0,\"ticks\":\"\"}},\"colorscale\":{\"sequential\":[[0.0,\"#0d0887\"],[0.1111111111111111,\"#46039f\"],[0.2222222222222222,\"#7201a8\"],[0.3333333333333333,\"#9c179e\"],[0.4444444444444444,\"#bd3786\"],[0.5555555555555556,\"#d8576b\"],[0.6666666666666666,\"#ed7953\"],[0.7777777777777778,\"#fb9f3a\"],[0.8888888888888888,\"#fdca26\"],[1.0,\"#f0f921\"]],\"sequentialminus\":[[0.0,\"#0d0887\"],[0.1111111111111111,\"#46039f\"],[0.2222222222222222,\"#7201a8\"],[0.3333333333333333,\"#9c179e\"],[0.4444444444444444,\"#bd3786\"],[0.5555555555555556,\"#d8576b\"],[0.6666666666666666,\"#ed7953\"],[0.7777777777777778,\"#fb9f3a\"],[0.8888888888888888,\"#fdca26\"],[1.0,\"#f0f921\"]],\"diverging\":[[0,\"#8e0152\"],[0.1,\"#c51b7d\"],[0.2,\"#de77ae\"],[0.3,\"#f1b6da\"],[0.4,\"#fde0ef\"],[0.5,\"#f7f7f7\"],[0.6,\"#e6f5d0\"],[0.7,\"#b8e186\"],[0.8,\"#7fbc41\"],[0.9,\"#4d9221\"],[1,\"#276419\"]]},\"xaxis\":{\"gridcolor\":\"white\",\"linecolor\":\"white\",\"ticks\":\"\",\"title\":{\"standoff\":15},\"zerolinecolor\":\"white\",\"automargin\":true,\"zerolinewidth\":2},\"yaxis\":{\"gridcolor\":\"white\",\"linecolor\":\"white\",\"ticks\":\"\",\"title\":{\"standoff\":15},\"zerolinecolor\":\"white\",\"automargin\":true,\"zerolinewidth\":2},\"scene\":{\"xaxis\":{\"backgroundcolor\":\"#E5ECF6\",\"gridcolor\":\"white\",\"linecolor\":\"white\",\"showbackground\":true,\"ticks\":\"\",\"zerolinecolor\":\"white\",\"gridwidth\":2},\"yaxis\":{\"backgroundcolor\":\"#E5ECF6\",\"gridcolor\":\"white\",\"linecolor\":\"white\",\"showbackground\":true,\"ticks\":\"\",\"zerolinecolor\":\"white\",\"gridwidth\":2},\"zaxis\":{\"backgroundcolor\":\"#E5ECF6\",\"gridcolor\":\"white\",\"linecolor\":\"white\",\"showbackground\":true,\"ticks\":\"\",\"zerolinecolor\":\"white\",\"gridwidth\":2}},\"shapedefaults\":{\"line\":{\"color\":\"#2a3f5f\"}},\"annotationdefaults\":{\"arrowcolor\":\"#2a3f5f\",\"arrowhead\":0,\"arrowwidth\":1},\"geo\":{\"bgcolor\":\"white\",\"landcolor\":\"#E5ECF6\",\"subunitcolor\":\"white\",\"showland\":true,\"showlakes\":true,\"lakecolor\":\"white\"},\"title\":{\"x\":0.05},\"mapbox\":{\"style\":\"light\"}}},\"xaxis\":{\"anchor\":\"y\",\"domain\":[0.0,1.0]},\"yaxis\":{\"anchor\":\"x\",\"domain\":[0.9858800000000005,1.0],\"title\":{\"text\":\"energy\"}},\"xaxis2\":{\"anchor\":\"y2\",\"domain\":[0.0,1.0]},\"yaxis2\":{\"anchor\":\"x2\",\"domain\":[0.9657600000000006,0.9798800000000006],\"title\":{\"text\":\"danceability\"}},\"xaxis3\":{\"anchor\":\"y3\",\"domain\":[0.0,1.0]},\"yaxis3\":{\"anchor\":\"x3\",\"domain\":[0.9456400000000006,0.9597600000000006],\"title\":{\"text\":\"key\"}},\"xaxis4\":{\"anchor\":\"y4\",\"domain\":[0.0,1.0]},\"yaxis4\":{\"anchor\":\"x4\",\"domain\":[0.9255200000000006,0.9396400000000006],\"title\":{\"text\":\"loudness\"}},\"xaxis5\":{\"anchor\":\"y5\",\"domain\":[0.0,1.0]},\"yaxis5\":{\"anchor\":\"x5\",\"domain\":[0.9054000000000005,0.9195200000000006],\"title\":{\"text\":\"acousticness\"}},\"xaxis6\":{\"anchor\":\"y6\",\"domain\":[0.0,1.0]},\"yaxis6\":{\"anchor\":\"x6\",\"domain\":[0.8852800000000005,0.8994000000000005],\"title\":{\"text\":\"speechiness\"}},\"xaxis7\":{\"anchor\":\"y7\",\"domain\":[0.0,1.0]},\"yaxis7\":{\"anchor\":\"x7\",\"domain\":[0.8651600000000005,0.8792800000000005],\"title\":{\"text\":\"instrumentalness\"}},\"xaxis8\":{\"anchor\":\"y8\",\"domain\":[0.0,1.0]},\"yaxis8\":{\"anchor\":\"x8\",\"domain\":[0.8450400000000005,0.8591600000000005],\"title\":{\"text\":\"liveness\"}},\"xaxis9\":{\"anchor\":\"y9\",\"domain\":[0.0,1.0]},\"yaxis9\":{\"anchor\":\"x9\",\"domain\":[0.8249200000000004,0.8390400000000005],\"title\":{\"text\":\"valence\"}},\"xaxis10\":{\"anchor\":\"y10\",\"domain\":[0.0,1.0]},\"yaxis10\":{\"anchor\":\"x10\",\"domain\":[0.8048000000000004,0.8189200000000004],\"title\":{\"text\":\"tempo\"}},\"xaxis11\":{\"anchor\":\"y11\",\"domain\":[0.0,1.0]},\"yaxis11\":{\"anchor\":\"x11\",\"domain\":[0.7846800000000004,0.7988000000000004],\"title\":{\"text\":\"duration_ms\"}},\"xaxis12\":{\"anchor\":\"y12\",\"domain\":[0.0,1.0]},\"yaxis12\":{\"anchor\":\"x12\",\"domain\":[0.7645600000000004,0.7786800000000004]},\"xaxis13\":{\"anchor\":\"y13\",\"domain\":[0.0,1.0]},\"yaxis13\":{\"anchor\":\"x13\",\"domain\":[0.7444400000000003,0.7585600000000003]},\"xaxis14\":{\"anchor\":\"y14\",\"domain\":[0.0,1.0]},\"yaxis14\":{\"anchor\":\"x14\",\"domain\":[0.7243200000000003,0.7384400000000003]},\"xaxis15\":{\"anchor\":\"y15\",\"domain\":[0.0,1.0]},\"yaxis15\":{\"anchor\":\"x15\",\"domain\":[0.7042000000000003,0.7183200000000003]},\"xaxis16\":{\"anchor\":\"y16\",\"domain\":[0.0,1.0]},\"yaxis16\":{\"anchor\":\"x16\",\"domain\":[0.6840800000000002,0.6982000000000003]},\"xaxis17\":{\"anchor\":\"y17\",\"domain\":[0.0,1.0]},\"yaxis17\":{\"anchor\":\"x17\",\"domain\":[0.6639600000000003,0.6780800000000003]},\"xaxis18\":{\"anchor\":\"y18\",\"domain\":[0.0,1.0]},\"yaxis18\":{\"anchor\":\"x18\",\"domain\":[0.6438400000000002,0.6579600000000002]},\"xaxis19\":{\"anchor\":\"y19\",\"domain\":[0.0,1.0]},\"yaxis19\":{\"anchor\":\"x19\",\"domain\":[0.6237200000000003,0.6378400000000003]},\"xaxis20\":{\"anchor\":\"y20\",\"domain\":[0.0,1.0]},\"yaxis20\":{\"anchor\":\"x20\",\"domain\":[0.6036000000000001,0.6177200000000002]},\"xaxis21\":{\"anchor\":\"y21\",\"domain\":[0.0,1.0]},\"yaxis21\":{\"anchor\":\"x21\",\"domain\":[0.5834800000000002,0.5976000000000002]},\"xaxis22\":{\"anchor\":\"y22\",\"domain\":[0.0,1.0]},\"yaxis22\":{\"anchor\":\"x22\",\"domain\":[0.5633600000000002,0.5774800000000002]},\"xaxis23\":{\"anchor\":\"y23\",\"domain\":[0.0,1.0]},\"yaxis23\":{\"anchor\":\"x23\",\"domain\":[0.5432400000000002,0.5573600000000002]},\"xaxis24\":{\"anchor\":\"y24\",\"domain\":[0.0,1.0]},\"yaxis24\":{\"anchor\":\"x24\",\"domain\":[0.5231200000000001,0.5372400000000002]},\"xaxis25\":{\"anchor\":\"y25\",\"domain\":[0.0,1.0]},\"yaxis25\":{\"anchor\":\"x25\",\"domain\":[0.5030000000000001,0.5171200000000001]},\"xaxis26\":{\"anchor\":\"y26\",\"domain\":[0.0,1.0]},\"yaxis26\":{\"anchor\":\"x26\",\"domain\":[0.4828800000000001,0.4970000000000001]},\"xaxis27\":{\"anchor\":\"y27\",\"domain\":[0.0,1.0]},\"yaxis27\":{\"anchor\":\"x27\",\"domain\":[0.46276000000000006,0.4768800000000001]},\"xaxis28\":{\"anchor\":\"y28\",\"domain\":[0.0,1.0]},\"yaxis28\":{\"anchor\":\"x28\",\"domain\":[0.44264000000000003,0.45676000000000005]},\"xaxis29\":{\"anchor\":\"y29\",\"domain\":[0.0,1.0]},\"yaxis29\":{\"anchor\":\"x29\",\"domain\":[0.42252,0.43664000000000003]},\"xaxis30\":{\"anchor\":\"y30\",\"domain\":[0.0,1.0]},\"yaxis30\":{\"anchor\":\"x30\",\"domain\":[0.4024,0.41652]},\"xaxis31\":{\"anchor\":\"y31\",\"domain\":[0.0,1.0]},\"yaxis31\":{\"anchor\":\"x31\",\"domain\":[0.38227999999999995,0.3964]},\"xaxis32\":{\"anchor\":\"y32\",\"domain\":[0.0,1.0]},\"yaxis32\":{\"anchor\":\"x32\",\"domain\":[0.3621599999999999,0.37627999999999995]},\"xaxis33\":{\"anchor\":\"y33\",\"domain\":[0.0,1.0]},\"yaxis33\":{\"anchor\":\"x33\",\"domain\":[0.3420399999999999,0.3561599999999999]},\"xaxis34\":{\"anchor\":\"y34\",\"domain\":[0.0,1.0]},\"yaxis34\":{\"anchor\":\"x34\",\"domain\":[0.32191999999999993,0.33603999999999995]},\"xaxis35\":{\"anchor\":\"y35\",\"domain\":[0.0,1.0]},\"yaxis35\":{\"anchor\":\"x35\",\"domain\":[0.30179999999999996,0.31592]},\"xaxis36\":{\"anchor\":\"y36\",\"domain\":[0.0,1.0]},\"yaxis36\":{\"anchor\":\"x36\",\"domain\":[0.28167999999999993,0.29579999999999995]},\"xaxis37\":{\"anchor\":\"y37\",\"domain\":[0.0,1.0]},\"yaxis37\":{\"anchor\":\"x37\",\"domain\":[0.26155999999999996,0.27568]},\"xaxis38\":{\"anchor\":\"y38\",\"domain\":[0.0,1.0]},\"yaxis38\":{\"anchor\":\"x38\",\"domain\":[0.24143999999999996,0.25555999999999995]},\"xaxis39\":{\"anchor\":\"y39\",\"domain\":[0.0,1.0]},\"yaxis39\":{\"anchor\":\"x39\",\"domain\":[0.22131999999999996,0.23543999999999995]},\"xaxis40\":{\"anchor\":\"y40\",\"domain\":[0.0,1.0]},\"yaxis40\":{\"anchor\":\"x40\",\"domain\":[0.20119999999999996,0.21531999999999996]},\"xaxis41\":{\"anchor\":\"y41\",\"domain\":[0.0,1.0]},\"yaxis41\":{\"anchor\":\"x41\",\"domain\":[0.18107999999999996,0.19519999999999996]},\"xaxis42\":{\"anchor\":\"y42\",\"domain\":[0.0,1.0]},\"yaxis42\":{\"anchor\":\"x42\",\"domain\":[0.16096,0.17507999999999999]},\"xaxis43\":{\"anchor\":\"y43\",\"domain\":[0.0,1.0]},\"yaxis43\":{\"anchor\":\"x43\",\"domain\":[0.14084,0.15496]},\"xaxis44\":{\"anchor\":\"y44\",\"domain\":[0.0,1.0]},\"yaxis44\":{\"anchor\":\"x44\",\"domain\":[0.12072,0.13484]},\"xaxis45\":{\"anchor\":\"y45\",\"domain\":[0.0,1.0]},\"yaxis45\":{\"anchor\":\"x45\",\"domain\":[0.1006,0.11471999999999999]},\"xaxis46\":{\"anchor\":\"y46\",\"domain\":[0.0,1.0]},\"yaxis46\":{\"anchor\":\"x46\",\"domain\":[0.08048,0.09459999999999999]},\"xaxis47\":{\"anchor\":\"y47\",\"domain\":[0.0,1.0]},\"yaxis47\":{\"anchor\":\"x47\",\"domain\":[0.06036,0.07447999999999999]},\"xaxis48\":{\"anchor\":\"y48\",\"domain\":[0.0,1.0]},\"yaxis48\":{\"anchor\":\"x48\",\"domain\":[0.04024,0.05436]},\"xaxis49\":{\"anchor\":\"y49\",\"domain\":[0.0,1.0]},\"yaxis49\":{\"anchor\":\"x49\",\"domain\":[0.02012,0.03424]},\"xaxis50\":{\"anchor\":\"y50\",\"domain\":[0.0,1.0]},\"yaxis50\":{\"anchor\":\"x50\",\"domain\":[0.0,0.014119999999999999]},\"title\":{\"text\":\"Box Plots for Numerical Columns\"},\"showlegend\":false,\"height\":20000},                        {\"responsive\": true}                    ).then(function(){\n",
       "                            \n",
       "var gd = document.getElementById('ebf8a7f6-1020-4bb5-b282-b20372bd5bfb');\n",
       "var x = new MutationObserver(function (mutations, observer) {{\n",
       "        var display = window.getComputedStyle(gd).display;\n",
       "        if (!display || display === 'none') {{\n",
       "            console.log([gd, 'removed!']);\n",
       "            Plotly.purge(gd);\n",
       "            observer.disconnect();\n",
       "        }}\n",
       "}});\n",
       "\n",
       "// Listen for the removal of the full notebook cells\n",
       "var notebookContainer = gd.closest('#notebook-container');\n",
       "if (notebookContainer) {{\n",
       "    x.observe(notebookContainer, {childList: true});\n",
       "}}\n",
       "\n",
       "// Listen for the clearing of the current output cell\n",
       "var outputEl = gd.closest('.output');\n",
       "if (outputEl) {{\n",
       "    x.observe(outputEl, {childList: true});\n",
       "}}\n",
       "\n",
       "                        })                };                });            </script>        </div>"
      ]
     },
     "metadata": {},
     "output_type": "display_data"
    }
   ],
   "source": [
    "fig.update_layout(\n",
    "    title=\"Box Plots for Numerical Columns\",\n",
    "    showlegend=False,\n",
    "    height=400 * len(numerical_df))"
   ]
  },
  {
   "cell_type": "markdown",
   "id": "6ca6d51e",
   "metadata": {},
   "source": [
    "OK there's a bunch of outliers. Are they \"real\" though? Could be just a consequence of different genres, not mistakes. Honestly, in real life situation I would leave those untouched unless there was something crazy like duration 100 miliseconds"
   ]
  },
  {
   "cell_type": "code",
   "execution_count": 159,
   "id": "cf997f97",
   "metadata": {},
   "outputs": [
    {
     "data": {
      "text/html": [
       "<div>\n",
       "<style scoped>\n",
       "    .dataframe tbody tr th:only-of-type {\n",
       "        vertical-align: middle;\n",
       "    }\n",
       "\n",
       "    .dataframe tbody tr th {\n",
       "        vertical-align: top;\n",
       "    }\n",
       "\n",
       "    .dataframe thead th {\n",
       "        text-align: right;\n",
       "    }\n",
       "</style>\n",
       "<table border=\"1\" class=\"dataframe\">\n",
       "  <thead>\n",
       "    <tr style=\"text-align: right;\">\n",
       "      <th></th>\n",
       "      <th>artist</th>\n",
       "      <th>album</th>\n",
       "      <th>track_name</th>\n",
       "      <th>track_id</th>\n",
       "      <th>energy</th>\n",
       "      <th>danceability</th>\n",
       "      <th>key</th>\n",
       "      <th>loudness</th>\n",
       "      <th>acousticness</th>\n",
       "      <th>speechiness</th>\n",
       "      <th>instrumentalness</th>\n",
       "      <th>liveness</th>\n",
       "      <th>valence</th>\n",
       "      <th>tempo</th>\n",
       "      <th>duration_ms</th>\n",
       "      <th>genre</th>\n",
       "    </tr>\n",
       "  </thead>\n",
       "  <tbody>\n",
       "    <tr>\n",
       "      <th>0</th>\n",
       "      <td>The Weeknd</td>\n",
       "      <td>After Hours</td>\n",
       "      <td>Blinding Lights</td>\n",
       "      <td>0VjIjW4GlUZAMYd2vXMi3b</td>\n",
       "      <td>0.730</td>\n",
       "      <td>0.514</td>\n",
       "      <td>1</td>\n",
       "      <td>-5.934</td>\n",
       "      <td>0.00146</td>\n",
       "      <td>0.0598</td>\n",
       "      <td>0.000095</td>\n",
       "      <td>0.0897</td>\n",
       "      <td>0.334</td>\n",
       "      <td>171.005</td>\n",
       "      <td>200040</td>\n",
       "      <td>R&amp;B/Soul</td>\n",
       "    </tr>\n",
       "    <tr>\n",
       "      <th>1</th>\n",
       "      <td>Tones And I</td>\n",
       "      <td>Dance Monkey</td>\n",
       "      <td>Dance Monkey</td>\n",
       "      <td>1rgnBhdG2JDFTbYkYRZAku</td>\n",
       "      <td>0.593</td>\n",
       "      <td>0.825</td>\n",
       "      <td>6</td>\n",
       "      <td>-6.401</td>\n",
       "      <td>0.68800</td>\n",
       "      <td>0.0988</td>\n",
       "      <td>0.000161</td>\n",
       "      <td>0.1700</td>\n",
       "      <td>0.540</td>\n",
       "      <td>98.078</td>\n",
       "      <td>209755</td>\n",
       "      <td>Alternative/Indie</td>\n",
       "    </tr>\n",
       "    <tr>\n",
       "      <th>2</th>\n",
       "      <td>Roddy Ricch</td>\n",
       "      <td>Please Excuse Me For Being Antisocial</td>\n",
       "      <td>The Box</td>\n",
       "      <td>0nbXyq5TXYPCO7pr3N8S4I</td>\n",
       "      <td>0.586</td>\n",
       "      <td>0.896</td>\n",
       "      <td>10</td>\n",
       "      <td>-6.687</td>\n",
       "      <td>0.10400</td>\n",
       "      <td>0.0559</td>\n",
       "      <td>0.000000</td>\n",
       "      <td>0.7900</td>\n",
       "      <td>0.642</td>\n",
       "      <td>116.971</td>\n",
       "      <td>196653</td>\n",
       "      <td>Hip-Hop/Rap</td>\n",
       "    </tr>\n",
       "    <tr>\n",
       "      <th>3</th>\n",
       "      <td>SAINt JHN</td>\n",
       "      <td>Roses (Imanbek Remix)</td>\n",
       "      <td>Roses - Imanbek Remix</td>\n",
       "      <td>2Wo6QQD1KMDWeFkkjLqwx5</td>\n",
       "      <td>0.721</td>\n",
       "      <td>0.785</td>\n",
       "      <td>8</td>\n",
       "      <td>-5.457</td>\n",
       "      <td>0.01490</td>\n",
       "      <td>0.0506</td>\n",
       "      <td>0.004320</td>\n",
       "      <td>0.2850</td>\n",
       "      <td>0.894</td>\n",
       "      <td>121.962</td>\n",
       "      <td>176219</td>\n",
       "      <td>Dance/Electronic</td>\n",
       "    </tr>\n",
       "    <tr>\n",
       "      <th>4</th>\n",
       "      <td>Dua Lipa</td>\n",
       "      <td>Future Nostalgia</td>\n",
       "      <td>Don't Start Now</td>\n",
       "      <td>3PfIrDoz19wz7qK7tYeu62</td>\n",
       "      <td>0.793</td>\n",
       "      <td>0.793</td>\n",
       "      <td>11</td>\n",
       "      <td>-4.521</td>\n",
       "      <td>0.01230</td>\n",
       "      <td>0.0830</td>\n",
       "      <td>0.000000</td>\n",
       "      <td>0.0951</td>\n",
       "      <td>0.679</td>\n",
       "      <td>123.950</td>\n",
       "      <td>183290</td>\n",
       "      <td>Nu-disco</td>\n",
       "    </tr>\n",
       "  </tbody>\n",
       "</table>\n",
       "</div>"
      ],
      "text/plain": [
       "        artist                                  album             track_name  \\\n",
       "0   The Weeknd                            After Hours        Blinding Lights   \n",
       "1  Tones And I                           Dance Monkey           Dance Monkey   \n",
       "2  Roddy Ricch  Please Excuse Me For Being Antisocial                The Box   \n",
       "3    SAINt JHN                  Roses (Imanbek Remix)  Roses - Imanbek Remix   \n",
       "4     Dua Lipa                       Future Nostalgia        Don't Start Now   \n",
       "\n",
       "                 track_id  energy  danceability  key  loudness  acousticness  \\\n",
       "0  0VjIjW4GlUZAMYd2vXMi3b   0.730         0.514    1    -5.934       0.00146   \n",
       "1  1rgnBhdG2JDFTbYkYRZAku   0.593         0.825    6    -6.401       0.68800   \n",
       "2  0nbXyq5TXYPCO7pr3N8S4I   0.586         0.896   10    -6.687       0.10400   \n",
       "3  2Wo6QQD1KMDWeFkkjLqwx5   0.721         0.785    8    -5.457       0.01490   \n",
       "4  3PfIrDoz19wz7qK7tYeu62   0.793         0.793   11    -4.521       0.01230   \n",
       "\n",
       "   speechiness  instrumentalness  liveness  valence    tempo  duration_ms  \\\n",
       "0       0.0598          0.000095    0.0897    0.334  171.005       200040   \n",
       "1       0.0988          0.000161    0.1700    0.540   98.078       209755   \n",
       "2       0.0559          0.000000    0.7900    0.642  116.971       196653   \n",
       "3       0.0506          0.004320    0.2850    0.894  121.962       176219   \n",
       "4       0.0830          0.000000    0.0951    0.679  123.950       183290   \n",
       "\n",
       "               genre  \n",
       "0           R&B/Soul  \n",
       "1  Alternative/Indie  \n",
       "2        Hip-Hop/Rap  \n",
       "3   Dance/Electronic  \n",
       "4           Nu-disco  "
      ]
     },
     "execution_count": 159,
     "metadata": {},
     "output_type": "execute_result"
    }
   ],
   "source": [
    "df.head()"
   ]
  },
  {
   "cell_type": "code",
   "execution_count": 169,
   "id": "2a051de7",
   "metadata": {},
   "outputs": [
    {
     "data": {
      "text/plain": [
       "13"
      ]
     },
     "execution_count": 169,
     "metadata": {},
     "output_type": "execute_result"
    }
   ],
   "source": [
    "np.count_nonzero(df['genre'] == 'Hip-Hop/Rap')#tik patikrinti kaip teisingai pasirinkti"
   ]
  },
  {
   "cell_type": "code",
   "execution_count": 170,
   "id": "304036c6",
   "metadata": {},
   "outputs": [
    {
     "name": "stdout",
     "output_type": "stream",
     "text": [
      "There are 13 Hip-Hop/Rap songs in TOP50\n"
     ]
    }
   ],
   "source": [
    "print(f\"There are {np.count_nonzero(df['genre'] == 'Hip-Hop/Rap')} Hip-Hop/Rap songs in TOP50\")"
   ]
  },
  {
   "cell_type": "code",
   "execution_count": null,
   "id": "11e5ad1c",
   "metadata": {},
   "outputs": [],
   "source": []
  },
  {
   "cell_type": "code",
   "execution_count": null,
   "id": "6be9a4d5",
   "metadata": {},
   "outputs": [],
   "source": []
  },
  {
   "cell_type": "code",
   "execution_count": null,
   "id": "b5a2c61b",
   "metadata": {},
   "outputs": [],
   "source": []
  },
  {
   "cell_type": "code",
   "execution_count": null,
   "id": "f7b70f5b",
   "metadata": {},
   "outputs": [],
   "source": []
  },
  {
   "cell_type": "code",
   "execution_count": null,
   "id": "8d4194ca",
   "metadata": {},
   "outputs": [],
   "source": []
  },
  {
   "cell_type": "code",
   "execution_count": null,
   "id": "fc2d9279",
   "metadata": {},
   "outputs": [],
   "source": []
  },
  {
   "cell_type": "code",
   "execution_count": null,
   "id": "17f017aa",
   "metadata": {},
   "outputs": [],
   "source": []
  },
  {
   "cell_type": "code",
   "execution_count": null,
   "id": "add2982c",
   "metadata": {},
   "outputs": [],
   "source": []
  },
  {
   "cell_type": "markdown",
   "id": "671c7250",
   "metadata": {},
   "source": [
    "kaip patikrinti kiek laiko trunka skaiciavimas"
   ]
  },
  {
   "cell_type": "code",
   "execution_count": 160,
   "id": "1e467c9a",
   "metadata": {},
   "outputs": [],
   "source": [
    "numbers = pd.Series(np.random.randint(0, 1000, 10000))"
   ]
  },
  {
   "cell_type": "code",
   "execution_count": 161,
   "id": "467e381f",
   "metadata": {},
   "outputs": [
    {
     "name": "stdout",
     "output_type": "stream",
     "text": [
      "711 µs ± 12.2 µs per loop (mean ± std. dev. of 7 runs, 100 loops each)\n"
     ]
    }
   ],
   "source": [
    "%%timeit -n 100\n",
    "total = 0\n",
    "for number in numbers:\n",
    "    total+=number\n",
    "total/len(numbers)"
   ]
  },
  {
   "cell_type": "code",
   "execution_count": 162,
   "id": "c80daaf4",
   "metadata": {},
   "outputs": [
    {
     "name": "stdout",
     "output_type": "stream",
     "text": [
      "42.1 µs ± 16.4 µs per loop (mean ± std. dev. of 7 runs, 100 loops each)\n"
     ]
    }
   ],
   "source": [
    "%%timeit -n 100\n",
    "total = np.sum(numbers)\n",
    "total/len(numbers)"
   ]
  },
  {
   "cell_type": "code",
   "execution_count": null,
   "id": "52b18b98",
   "metadata": {},
   "outputs": [],
   "source": []
  }
 ],
 "metadata": {
  "kernelspec": {
   "display_name": "Python 3 (ipykernel)",
   "language": "python",
   "name": "python3"
  },
  "language_info": {
   "codemirror_mode": {
    "name": "ipython",
    "version": 3
   },
   "file_extension": ".py",
   "mimetype": "text/x-python",
   "name": "python",
   "nbconvert_exporter": "python",
   "pygments_lexer": "ipython3",
   "version": "3.11.3"
  }
 },
 "nbformat": 4,
 "nbformat_minor": 5
}
