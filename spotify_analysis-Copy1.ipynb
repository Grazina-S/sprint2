{
 "cells": [
  {
   "cell_type": "markdown",
   "id": "56df14a2",
   "metadata": {},
   "source": [
    "### Top 50 Spotify Tracks of 2020\n",
    "The goal of this project is to analyse Spotify TOP 50 songs of 2020"
   ]
  },
  {
   "cell_type": "markdown",
   "id": "45bd0a43",
   "metadata": {},
   "source": [
    "*Importing and reading the data*"
   ]
  },
  {
   "cell_type": "code",
   "execution_count": 1,
   "id": "7e5eb2da",
   "metadata": {},
   "outputs": [],
   "source": [
    "import pandas as pd\n",
    "import numpy as np"
   ]
  },
  {
   "cell_type": "code",
   "execution_count": 2,
   "id": "fdf97688",
   "metadata": {},
   "outputs": [],
   "source": [
    "df = pd.read_csv(r\"Spottify_data\\spotifytoptracks.csv\", index_col=0)"
   ]
  },
  {
   "cell_type": "markdown",
   "id": "68ee494d",
   "metadata": {},
   "source": [
    "*Ispecting the data*"
   ]
  },
  {
   "cell_type": "markdown",
   "id": "348fa63b",
   "metadata": {},
   "source": [
    "<span style='color: blue;'>What is the size of the table? i.e. how many observations and features</span>"
   ]
  },
  {
   "cell_type": "code",
   "execution_count": 3,
   "id": "afc60f33",
   "metadata": {},
   "outputs": [
    {
     "name": "stdout",
     "output_type": "stream",
     "text": [
      "There are 50 observations and 16 features\n"
     ]
    }
   ],
   "source": [
    "print(f\"There are {df.shape[0]} observations and {df.shape[1]} features\")"
   ]
  },
  {
   "cell_type": "markdown",
   "id": "09f4d94f",
   "metadata": {},
   "source": [
    "<span style='color: blue;'>What are the names of the columns?</span>"
   ]
  },
  {
   "cell_type": "code",
   "execution_count": 4,
   "id": "48ec1c3b",
   "metadata": {},
   "outputs": [
    {
     "data": {
      "text/plain": [
       "Index(['artist', 'album', 'track_name', 'track_id', 'energy', 'danceability',\n",
       "       'key', 'loudness', 'acousticness', 'speechiness', 'instrumentalness',\n",
       "       'liveness', 'valence', 'tempo', 'duration_ms', 'genre'],\n",
       "      dtype='object')"
      ]
     },
     "execution_count": 4,
     "metadata": {},
     "output_type": "execute_result"
    }
   ],
   "source": [
    "df.columns"
   ]
  },
  {
   "cell_type": "markdown",
   "id": "28fec40e",
   "metadata": {},
   "source": [
    "<span style='color: blue;'>Get a glimpse of what it looks like</span>"
   ]
  },
  {
   "cell_type": "code",
   "execution_count": 5,
   "id": "9f6bd441",
   "metadata": {},
   "outputs": [
    {
     "data": {
      "text/html": [
       "<div>\n",
       "<style scoped>\n",
       "    .dataframe tbody tr th:only-of-type {\n",
       "        vertical-align: middle;\n",
       "    }\n",
       "\n",
       "    .dataframe tbody tr th {\n",
       "        vertical-align: top;\n",
       "    }\n",
       "\n",
       "    .dataframe thead th {\n",
       "        text-align: right;\n",
       "    }\n",
       "</style>\n",
       "<table border=\"1\" class=\"dataframe\">\n",
       "  <thead>\n",
       "    <tr style=\"text-align: right;\">\n",
       "      <th></th>\n",
       "      <th>artist</th>\n",
       "      <th>album</th>\n",
       "      <th>track_name</th>\n",
       "      <th>track_id</th>\n",
       "      <th>energy</th>\n",
       "      <th>danceability</th>\n",
       "      <th>key</th>\n",
       "      <th>loudness</th>\n",
       "      <th>acousticness</th>\n",
       "      <th>speechiness</th>\n",
       "      <th>instrumentalness</th>\n",
       "      <th>liveness</th>\n",
       "      <th>valence</th>\n",
       "      <th>tempo</th>\n",
       "      <th>duration_ms</th>\n",
       "      <th>genre</th>\n",
       "    </tr>\n",
       "  </thead>\n",
       "  <tbody>\n",
       "    <tr>\n",
       "      <th>0</th>\n",
       "      <td>The Weeknd</td>\n",
       "      <td>After Hours</td>\n",
       "      <td>Blinding Lights</td>\n",
       "      <td>0VjIjW4GlUZAMYd2vXMi3b</td>\n",
       "      <td>0.730</td>\n",
       "      <td>0.514</td>\n",
       "      <td>1</td>\n",
       "      <td>-5.934</td>\n",
       "      <td>0.00146</td>\n",
       "      <td>0.0598</td>\n",
       "      <td>0.000095</td>\n",
       "      <td>0.0897</td>\n",
       "      <td>0.334</td>\n",
       "      <td>171.005</td>\n",
       "      <td>200040</td>\n",
       "      <td>R&amp;B/Soul</td>\n",
       "    </tr>\n",
       "    <tr>\n",
       "      <th>1</th>\n",
       "      <td>Tones And I</td>\n",
       "      <td>Dance Monkey</td>\n",
       "      <td>Dance Monkey</td>\n",
       "      <td>1rgnBhdG2JDFTbYkYRZAku</td>\n",
       "      <td>0.593</td>\n",
       "      <td>0.825</td>\n",
       "      <td>6</td>\n",
       "      <td>-6.401</td>\n",
       "      <td>0.68800</td>\n",
       "      <td>0.0988</td>\n",
       "      <td>0.000161</td>\n",
       "      <td>0.1700</td>\n",
       "      <td>0.540</td>\n",
       "      <td>98.078</td>\n",
       "      <td>209755</td>\n",
       "      <td>Alternative/Indie</td>\n",
       "    </tr>\n",
       "    <tr>\n",
       "      <th>2</th>\n",
       "      <td>Roddy Ricch</td>\n",
       "      <td>Please Excuse Me For Being Antisocial</td>\n",
       "      <td>The Box</td>\n",
       "      <td>0nbXyq5TXYPCO7pr3N8S4I</td>\n",
       "      <td>0.586</td>\n",
       "      <td>0.896</td>\n",
       "      <td>10</td>\n",
       "      <td>-6.687</td>\n",
       "      <td>0.10400</td>\n",
       "      <td>0.0559</td>\n",
       "      <td>0.000000</td>\n",
       "      <td>0.7900</td>\n",
       "      <td>0.642</td>\n",
       "      <td>116.971</td>\n",
       "      <td>196653</td>\n",
       "      <td>Hip-Hop/Rap</td>\n",
       "    </tr>\n",
       "  </tbody>\n",
       "</table>\n",
       "</div>"
      ],
      "text/plain": [
       "        artist                                  album       track_name  \\\n",
       "0   The Weeknd                            After Hours  Blinding Lights   \n",
       "1  Tones And I                           Dance Monkey     Dance Monkey   \n",
       "2  Roddy Ricch  Please Excuse Me For Being Antisocial          The Box   \n",
       "\n",
       "                 track_id  energy  danceability  key  loudness  acousticness  \\\n",
       "0  0VjIjW4GlUZAMYd2vXMi3b   0.730         0.514    1    -5.934       0.00146   \n",
       "1  1rgnBhdG2JDFTbYkYRZAku   0.593         0.825    6    -6.401       0.68800   \n",
       "2  0nbXyq5TXYPCO7pr3N8S4I   0.586         0.896   10    -6.687       0.10400   \n",
       "\n",
       "   speechiness  instrumentalness  liveness  valence    tempo  duration_ms  \\\n",
       "0       0.0598          0.000095    0.0897    0.334  171.005       200040   \n",
       "1       0.0988          0.000161    0.1700    0.540   98.078       209755   \n",
       "2       0.0559          0.000000    0.7900    0.642  116.971       196653   \n",
       "\n",
       "               genre  \n",
       "0           R&B/Soul  \n",
       "1  Alternative/Indie  \n",
       "2        Hip-Hop/Rap  "
      ]
     },
     "execution_count": 5,
     "metadata": {},
     "output_type": "execute_result"
    }
   ],
   "source": [
    "df.head(3)"
   ]
  },
  {
   "cell_type": "markdown",
   "id": "a652bc6f",
   "metadata": {},
   "source": [
    "<span style='color: blue;'>What kind of data is stored in each column?</span>"
   ]
  },
  {
   "cell_type": "code",
   "execution_count": 6,
   "id": "e72d12da",
   "metadata": {},
   "outputs": [
    {
     "data": {
      "text/plain": [
       "artist               object\n",
       "album                object\n",
       "track_name           object\n",
       "track_id             object\n",
       "energy              float64\n",
       "danceability        float64\n",
       "key                   int64\n",
       "loudness            float64\n",
       "acousticness        float64\n",
       "speechiness         float64\n",
       "instrumentalness    float64\n",
       "liveness            float64\n",
       "valence             float64\n",
       "tempo               float64\n",
       "duration_ms           int64\n",
       "genre                object\n",
       "dtype: object"
      ]
     },
     "execution_count": 6,
     "metadata": {},
     "output_type": "execute_result"
    }
   ],
   "source": [
    "df.dtypes"
   ]
  },
  {
   "cell_type": "markdown",
   "id": "68dcf368",
   "metadata": {},
   "source": [
    "<span style='color: blue;'>What are categorical features and how many unique entries are there in each of them?</span>"
   ]
  },
  {
   "cell_type": "code",
   "execution_count": 7,
   "id": "f9ba0305",
   "metadata": {},
   "outputs": [
    {
     "name": "stdout",
     "output_type": "stream",
     "text": [
      "Categorical features:\n",
      " artist        40\n",
      "album         45\n",
      "track_name    50\n",
      "track_id      50\n",
      "genre         16\n",
      "dtype: int64\n"
     ]
    }
   ],
   "source": [
    "print(\"Categorical features:\\n\", df.select_dtypes(include=\"object\").nunique())"
   ]
  },
  {
   "cell_type": "markdown",
   "id": "de5fd1fb",
   "metadata": {},
   "source": [
    "<span style='color: blue;'>What are numerical features?</span>"
   ]
  },
  {
   "cell_type": "code",
   "execution_count": 8,
   "id": "d268353f",
   "metadata": {},
   "outputs": [
    {
     "name": "stdout",
     "output_type": "stream",
     "text": [
      "Numerical features:\n",
      "energy\n",
      "danceability\n",
      "key\n",
      "loudness\n",
      "acousticness\n",
      "speechiness\n",
      "instrumentalness\n",
      "liveness\n",
      "valence\n",
      "tempo\n",
      "duration_ms\n"
     ]
    }
   ],
   "source": [
    "print(\n",
    "    \"Numerical features:\\n\"\n",
    "    + \"\\n\".join(df.select_dtypes(include=\"number\").columns.tolist())\n",
    ")"
   ]
  },
  {
   "cell_type": "markdown",
   "id": "324bbd95",
   "metadata": {},
   "source": [
    "<span style='color: blue;'>Is there any missing data?</span>"
   ]
  },
  {
   "cell_type": "code",
   "execution_count": 9,
   "id": "81f6db0a",
   "metadata": {},
   "outputs": [
    {
     "name": "stdout",
     "output_type": "stream",
     "text": [
      " There is no missing data\n"
     ]
    }
   ],
   "source": [
    "if np.count_nonzero(df.isna()) == 0:\n",
    "    print(\" There is no missing data\")\n",
    "else:\n",
    "    x = np.count_nonzero(df.isna())\n",
    "    print(f\"There are {x} missing data cases\")"
   ]
  },
  {
   "cell_type": "markdown",
   "id": "ff402bc4",
   "metadata": {},
   "source": [
    "<span style='color: blue;'>Are there any duplicates? </span> <br>In this case, track name and/or track ID should be checked. "
   ]
  },
  {
   "cell_type": "code",
   "execution_count": 10,
   "id": "3be2f2d5",
   "metadata": {},
   "outputs": [
    {
     "name": "stdout",
     "output_type": "stream",
     "text": [
      "There are no duplicated entries\n"
     ]
    }
   ],
   "source": [
    "if df.duplicated(subset=[\"track_name\", \"track_id\"]).sum() == 0:\n",
    "    print(\"There are no duplicated entries\")\n",
    "else:\n",
    "    x = df.duplicated(subset=[\"track_name\", \"track_id\"]).sum()\n",
    "    print(f\"There are {x} duplicated entries\")"
   ]
  },
  {
   "cell_type": "markdown",
   "id": "3dee7794",
   "metadata": {},
   "source": [
    "<span style='color: blue;'>Are there any outliers?</span> <br> My preffered way to check is boxplots. That works just fine if dataframe doesn't have too many features. If it was big, would probably go for interquartile range"
   ]
  },
  {
   "cell_type": "code",
   "execution_count": 15,
   "id": "f21e699f",
   "metadata": {},
   "outputs": [],
   "source": [
    "import plotly.express as px\n",
    "\n",
    "from plotly.subplots import make_subplots"
   ]
  },
  {
   "cell_type": "code",
   "execution_count": 12,
   "id": "b7ef233c",
   "metadata": {},
   "outputs": [],
   "source": [
    "numerical_df = df.select_dtypes(include=\"number\")"
   ]
  },
  {
   "cell_type": "code",
   "execution_count": 16,
   "id": "1fe4ffce",
   "metadata": {},
   "outputs": [],
   "source": [
    "fig = make_subplots(rows=len(numerical_df), cols=1)"
   ]
  },
  {
   "cell_type": "code",
   "execution_count": 17,
   "id": "6aff4494",
   "metadata": {},
   "outputs": [],
   "source": [
    "for i, col in enumerate(numerical_df, start=1):\n",
    "    fig.add_trace(px.box(numerical_df, y=col).data[0], row=i, col=1)\n",
    "    fig.update_yaxes(title_text=col, row=i, col=1)"
   ]
  },
  {
   "cell_type": "code",
   "execution_count": 18,
   "id": "479f9b5c",
   "metadata": {},
   "outputs": [
    {
     "data": {
      "application/vnd.plotly.v1+json": {
       "config": {
        "plotlyServerURL": "https://plot.ly"
       },
       "data": [
        {
         "alignmentgroup": "True",
         "hovertemplate": "energy=%{y}<extra></extra>",
         "legendgroup": "",
         "marker": {
          "color": "#636efa"
         },
         "name": "",
         "notched": false,
         "offsetgroup": "",
         "orientation": "v",
         "showlegend": false,
         "type": "box",
         "x0": " ",
         "xaxis": "x",
         "y": [
          0.73,
          0.593,
          0.586,
          0.721,
          0.793,
          0.69,
          0.816,
          0.431,
          0.43,
          0.405,
          0.715,
          0.601,
          0.762,
          0.554,
          0.546,
          0.49,
          0.575,
          0.673,
          0.32,
          0.574,
          0.481,
          0.771,
          0.72,
          0.722,
          0.225,
          0.548,
          0.425,
          0.454,
          0.525,
          0.745,
          0.506,
          0.729,
          0.765,
          0.631,
          0.774,
          0.855,
          0.427,
          0.522,
          0.727,
          0.751,
          0.728,
          0.704,
          0.537,
          0.829,
          0.296,
          0.566,
          0.45,
          0.473,
          0.844,
          0.73
         ],
         "y0": " ",
         "yaxis": "y"
        },
        {
         "alignmentgroup": "True",
         "hovertemplate": "danceability=%{y}<extra></extra>",
         "legendgroup": "",
         "marker": {
          "color": "#636efa"
         },
         "name": "",
         "notched": false,
         "offsetgroup": "",
         "orientation": "v",
         "showlegend": false,
         "type": "box",
         "x0": " ",
         "xaxis": "x2",
         "y": [
          0.514,
          0.825,
          0.896,
          0.785,
          0.793,
          0.746,
          0.548,
          0.726,
          0.784,
          0.501,
          0.803,
          0.621,
          0.695,
          0.774,
          0.806,
          0.83,
          0.459,
          0.787,
          0.764,
          0.795,
          0.767,
          0.676,
          0.789,
          0.7,
          0.704,
          0.759,
          0.701,
          0.935,
          0.878,
          0.808,
          0.676,
          0.73,
          0.746,
          0.862,
          0.674,
          0.672,
          0.598,
          0.755,
          0.783,
          0.88,
          0.841,
          0.723,
          0.716,
          0.607,
          0.351,
          0.511,
          0.597,
          0.464,
          0.647,
          0.834
         ],
         "y0": " ",
         "yaxis": "y2"
        },
        {
         "alignmentgroup": "True",
         "hovertemplate": "key=%{y}<extra></extra>",
         "legendgroup": "",
         "marker": {
          "color": "#636efa"
         },
         "name": "",
         "notched": false,
         "offsetgroup": "",
         "orientation": "v",
         "showlegend": false,
         "type": "box",
         "x0": " ",
         "xaxis": "x3",
         "y": [
          1,
          6,
          10,
          8,
          11,
          11,
          0,
          8,
          10,
          1,
          2,
          6,
          0,
          0,
          9,
          1,
          3,
          11,
          11,
          2,
          0,
          8,
          8,
          7,
          6,
          9,
          7,
          1,
          5,
          10,
          9,
          4,
          6,
          7,
          11,
          9,
          7,
          2,
          6,
          7,
          7,
          10,
          0,
          2,
          4,
          6,
          8,
          1,
          0,
          8
         ],
         "y0": " ",
         "yaxis": "y3"
        },
        {
         "alignmentgroup": "True",
         "hovertemplate": "loudness=%{y}<extra></extra>",
         "legendgroup": "",
         "marker": {
          "color": "#636efa"
         },
         "name": "",
         "notched": false,
         "offsetgroup": "",
         "orientation": "v",
         "showlegend": false,
         "type": "box",
         "x0": " ",
         "xaxis": "x4",
         "y": [
          -5.934,
          -6.401,
          -6.687,
          -5.457,
          -4.521,
          -7.956,
          -4.209,
          -8.765,
          -8.756,
          -5.679,
          -3.28,
          -5.616,
          -3.497,
          -7.909,
          -6.637,
          -8.82,
          -4.858,
          -4.577,
          -7.209,
          -6.903,
          -8.52,
          -3.675,
          -5.652,
          -3.558,
          -14.454,
          -6.049,
          -10.965,
          -7.509,
          -6.832,
          -5.26,
          -6.652,
          -3.434,
          -4.41,
          -4.746,
          -7.567,
          -3.764,
          -8.764,
          -4.368,
          -3.454,
          -4.258,
          -3.37,
          -7.088,
          -7.648,
          -4.074,
          -10.109,
          -7.23,
          -6.658,
          -10.086,
          -3.756,
          -3.714
         ],
         "y0": " ",
         "yaxis": "y4"
        },
        {
         "alignmentgroup": "True",
         "hovertemplate": "acousticness=%{y}<extra></extra>",
         "legendgroup": "",
         "marker": {
          "color": "#636efa"
         },
         "name": "",
         "notched": false,
         "offsetgroup": "",
         "orientation": "v",
         "showlegend": false,
         "type": "box",
         "x0": " ",
         "xaxis": "x5",
         "y": [
          0.00146,
          0.688,
          0.104,
          0.0149,
          0.0123,
          0.247,
          0.122,
          0.731,
          0.123,
          0.751,
          0.295,
          0.0522,
          0.192,
          0.207,
          0.3,
          0.289,
          0.604,
          0.256,
          0.837,
          0.067,
          0.234,
          0.0237,
          0.223,
          0.221,
          0.902,
          0.0392,
          0.328,
          0.0194,
          0.183,
          0.145,
          0.345,
          0.167,
          0.0112,
          0.291,
          0.0686,
          0.021,
          0.0546,
          0.533,
          0.185,
          0.177,
          0.0847,
          0.0259,
          0.233,
          0.0103,
          0.934,
          0.349,
          0.223,
          0.866,
          0.0137,
          0.00513
         ],
         "y0": " ",
         "yaxis": "y5"
        },
        {
         "alignmentgroup": "True",
         "hovertemplate": "speechiness=%{y}<extra></extra>",
         "legendgroup": "",
         "marker": {
          "color": "#636efa"
         },
         "name": "",
         "notched": false,
         "offsetgroup": "",
         "orientation": "v",
         "showlegend": false,
         "type": "box",
         "x0": " ",
         "xaxis": "x6",
         "y": [
          0.0598,
          0.0988,
          0.0559,
          0.0506,
          0.083,
          0.164,
          0.0465,
          0.135,
          0.0364,
          0.0319,
          0.298,
          0.148,
          0.0395,
          0.0383,
          0.0575,
          0.209,
          0.0573,
          0.158,
          0.0546,
          0.487,
          0.0803,
          0.0483,
          0.218,
          0.0369,
          0.0994,
          0.029,
          0.375,
          0.375,
          0.0578,
          0.342,
          0.0958,
          0.0883,
          0.0993,
          0.0515,
          0.0892,
          0.0397,
          0.0317,
          0.0575,
          0.389,
          0.0874,
          0.0484,
          0.0571,
          0.0514,
          0.379,
          0.0333,
          0.2,
          0.0418,
          0.129,
          0.0457,
          0.222
         ],
         "y0": " ",
         "yaxis": "y6"
        },
        {
         "alignmentgroup": "True",
         "hovertemplate": "instrumentalness=%{y}<extra></extra>",
         "legendgroup": "",
         "marker": {
          "color": "#636efa"
         },
         "name": "",
         "notched": false,
         "offsetgroup": "",
         "orientation": "v",
         "showlegend": false,
         "type": "box",
         "x0": " ",
         "xaxis": "x7",
         "y": [
          9.54e-05,
          0.000161,
          0,
          0.00432,
          0,
          0,
          0,
          0,
          0,
          0,
          0.000134,
          0,
          0.00244,
          0,
          0,
          3.04e-06,
          0,
          3.57e-06,
          0,
          0,
          0,
          7e-06,
          0,
          0,
          0.657,
          0,
          0.13,
          0,
          0,
          0,
          0,
          1.39e-06,
          0,
          0.000209,
          0.00188,
          0,
          5.83e-06,
          0,
          2.46e-05,
          6.43e-05,
          0,
          0.00109,
          0,
          0,
          0,
          0,
          0,
          0,
          0.000658,
          0
         ],
         "y0": " ",
         "yaxis": "y7"
        },
        {
         "alignmentgroup": "True",
         "hovertemplate": "liveness=%{y}<extra></extra>",
         "legendgroup": "",
         "marker": {
          "color": "#636efa"
         },
         "name": "",
         "notched": false,
         "offsetgroup": "",
         "orientation": "v",
         "showlegend": false,
         "type": "box",
         "x0": " ",
         "xaxis": "x8",
         "y": [
          0.0897,
          0.17,
          0.79,
          0.285,
          0.0951,
          0.101,
          0.335,
          0.696,
          0.0887,
          0.105,
          0.0574,
          0.46,
          0.0863,
          0.132,
          0.102,
          0.113,
          0.0885,
          0.0904,
          0.0822,
          0.15,
          0.269,
          0.102,
          0.129,
          0.272,
          0.106,
          0.0828,
          0.1,
          0.0824,
          0.0714,
          0.292,
          0.118,
          0.349,
          0.0936,
          0.123,
          0.393,
          0.323,
          0.21,
          0.0685,
          0.0626,
          0.106,
          0.149,
          0.792,
          0.157,
          0.107,
          0.095,
          0.34,
          0.382,
          0.109,
          0.102,
          0.124
         ],
         "y0": " ",
         "yaxis": "y8"
        },
        {
         "alignmentgroup": "True",
         "hovertemplate": "valence=%{y}<extra></extra>",
         "legendgroup": "",
         "marker": {
          "color": "#636efa"
         },
         "name": "",
         "notched": false,
         "offsetgroup": "",
         "orientation": "v",
         "showlegend": false,
         "type": "box",
         "x0": " ",
         "xaxis": "x9",
         "y": [
          0.334,
          0.54,
          0.642,
          0.894,
          0.679,
          0.497,
          0.557,
          0.348,
          0.236,
          0.446,
          0.574,
          0.457,
          0.553,
          0.349,
          0.874,
          0.845,
          0.183,
          0.786,
          0.575,
          0.537,
          0.761,
          0.569,
          0.664,
          0.756,
          0.243,
          0.749,
          0.562,
          0.357,
          0.694,
          0.829,
          0.497,
          0.467,
          0.737,
          0.841,
          0.33,
          0.646,
          0.0605,
          0.925,
          0.558,
          0.884,
          0.43,
          0.684,
          0.28,
          0.685,
          0.12,
          0.218,
          0.537,
          0.604,
          0.746,
          0.446
         ],
         "y0": " ",
         "yaxis": "y9"
        },
        {
         "alignmentgroup": "True",
         "hovertemplate": "tempo=%{y}<extra></extra>",
         "legendgroup": "",
         "marker": {
          "color": "#636efa"
         },
         "name": "",
         "notched": false,
         "offsetgroup": "",
         "orientation": "v",
         "showlegend": false,
         "type": "box",
         "x0": " ",
         "xaxis": "x10",
         "y": [
          171.005,
          98.078,
          116.971,
          121.962,
          123.95,
          89.977,
          95.39,
          144.026,
          127.087,
          109.891,
          101.085,
          116.735,
          120.042,
          99.034,
          147.986,
          81.604,
          111.881,
          110.962,
          91.019,
          142.053,
          150.076,
          99.048,
          122.031,
          90.989,
          120.006,
          116.967,
          135.128,
          133.073,
          112.022,
          165.995,
          145.842,
          113.013,
          114.044,
          128.978,
          112.05,
          123.056,
          76.469,
          89.96,
          180.067,
          117.948,
          130.049,
          105.095,
          129.979,
          96.172,
          115.284,
          83.903,
          178.765,
          75.801,
          146.967,
          155.008
         ],
         "y0": " ",
         "yaxis": "y10"
        },
        {
         "alignmentgroup": "True",
         "hovertemplate": "duration_ms=%{y}<extra></extra>",
         "legendgroup": "",
         "marker": {
          "color": "#636efa"
         },
         "name": "",
         "notched": false,
         "offsetgroup": "",
         "orientation": "v",
         "showlegend": false,
         "type": "box",
         "x0": " ",
         "xaxis": "x11",
         "y": [
          200040,
          209755,
          196653,
          176219,
          183290,
          181733,
          174000,
          173333,
          159382,
          182161,
          200960,
          163636,
          215280,
          162547,
          212867,
          247059,
          215107,
          237893,
          189486,
          237918,
          171375,
          207133,
          166794,
          140526,
          245426,
          190800,
          194088,
          187541,
          158571,
          210800,
          208520,
          221820,
          199054,
          223488,
          176547,
          182200,
          175721,
          157560,
          199112,
          157606,
          243837,
          214935,
          165978,
          295177,
          200186,
          239836,
          228482,
          208687,
          193829,
          312820
         ],
         "y0": " ",
         "yaxis": "y11"
        }
       ],
       "layout": {
        "height": 20000,
        "showlegend": false,
        "template": {
         "data": {
          "bar": [
           {
            "error_x": {
             "color": "#2a3f5f"
            },
            "error_y": {
             "color": "#2a3f5f"
            },
            "marker": {
             "line": {
              "color": "#E5ECF6",
              "width": 0.5
             },
             "pattern": {
              "fillmode": "overlay",
              "size": 10,
              "solidity": 0.2
             }
            },
            "type": "bar"
           }
          ],
          "barpolar": [
           {
            "marker": {
             "line": {
              "color": "#E5ECF6",
              "width": 0.5
             },
             "pattern": {
              "fillmode": "overlay",
              "size": 10,
              "solidity": 0.2
             }
            },
            "type": "barpolar"
           }
          ],
          "carpet": [
           {
            "aaxis": {
             "endlinecolor": "#2a3f5f",
             "gridcolor": "white",
             "linecolor": "white",
             "minorgridcolor": "white",
             "startlinecolor": "#2a3f5f"
            },
            "baxis": {
             "endlinecolor": "#2a3f5f",
             "gridcolor": "white",
             "linecolor": "white",
             "minorgridcolor": "white",
             "startlinecolor": "#2a3f5f"
            },
            "type": "carpet"
           }
          ],
          "choropleth": [
           {
            "colorbar": {
             "outlinewidth": 0,
             "ticks": ""
            },
            "type": "choropleth"
           }
          ],
          "contour": [
           {
            "colorbar": {
             "outlinewidth": 0,
             "ticks": ""
            },
            "colorscale": [
             [
              0,
              "#0d0887"
             ],
             [
              0.1111111111111111,
              "#46039f"
             ],
             [
              0.2222222222222222,
              "#7201a8"
             ],
             [
              0.3333333333333333,
              "#9c179e"
             ],
             [
              0.4444444444444444,
              "#bd3786"
             ],
             [
              0.5555555555555556,
              "#d8576b"
             ],
             [
              0.6666666666666666,
              "#ed7953"
             ],
             [
              0.7777777777777778,
              "#fb9f3a"
             ],
             [
              0.8888888888888888,
              "#fdca26"
             ],
             [
              1,
              "#f0f921"
             ]
            ],
            "type": "contour"
           }
          ],
          "contourcarpet": [
           {
            "colorbar": {
             "outlinewidth": 0,
             "ticks": ""
            },
            "type": "contourcarpet"
           }
          ],
          "heatmap": [
           {
            "colorbar": {
             "outlinewidth": 0,
             "ticks": ""
            },
            "colorscale": [
             [
              0,
              "#0d0887"
             ],
             [
              0.1111111111111111,
              "#46039f"
             ],
             [
              0.2222222222222222,
              "#7201a8"
             ],
             [
              0.3333333333333333,
              "#9c179e"
             ],
             [
              0.4444444444444444,
              "#bd3786"
             ],
             [
              0.5555555555555556,
              "#d8576b"
             ],
             [
              0.6666666666666666,
              "#ed7953"
             ],
             [
              0.7777777777777778,
              "#fb9f3a"
             ],
             [
              0.8888888888888888,
              "#fdca26"
             ],
             [
              1,
              "#f0f921"
             ]
            ],
            "type": "heatmap"
           }
          ],
          "heatmapgl": [
           {
            "colorbar": {
             "outlinewidth": 0,
             "ticks": ""
            },
            "colorscale": [
             [
              0,
              "#0d0887"
             ],
             [
              0.1111111111111111,
              "#46039f"
             ],
             [
              0.2222222222222222,
              "#7201a8"
             ],
             [
              0.3333333333333333,
              "#9c179e"
             ],
             [
              0.4444444444444444,
              "#bd3786"
             ],
             [
              0.5555555555555556,
              "#d8576b"
             ],
             [
              0.6666666666666666,
              "#ed7953"
             ],
             [
              0.7777777777777778,
              "#fb9f3a"
             ],
             [
              0.8888888888888888,
              "#fdca26"
             ],
             [
              1,
              "#f0f921"
             ]
            ],
            "type": "heatmapgl"
           }
          ],
          "histogram": [
           {
            "marker": {
             "pattern": {
              "fillmode": "overlay",
              "size": 10,
              "solidity": 0.2
             }
            },
            "type": "histogram"
           }
          ],
          "histogram2d": [
           {
            "colorbar": {
             "outlinewidth": 0,
             "ticks": ""
            },
            "colorscale": [
             [
              0,
              "#0d0887"
             ],
             [
              0.1111111111111111,
              "#46039f"
             ],
             [
              0.2222222222222222,
              "#7201a8"
             ],
             [
              0.3333333333333333,
              "#9c179e"
             ],
             [
              0.4444444444444444,
              "#bd3786"
             ],
             [
              0.5555555555555556,
              "#d8576b"
             ],
             [
              0.6666666666666666,
              "#ed7953"
             ],
             [
              0.7777777777777778,
              "#fb9f3a"
             ],
             [
              0.8888888888888888,
              "#fdca26"
             ],
             [
              1,
              "#f0f921"
             ]
            ],
            "type": "histogram2d"
           }
          ],
          "histogram2dcontour": [
           {
            "colorbar": {
             "outlinewidth": 0,
             "ticks": ""
            },
            "colorscale": [
             [
              0,
              "#0d0887"
             ],
             [
              0.1111111111111111,
              "#46039f"
             ],
             [
              0.2222222222222222,
              "#7201a8"
             ],
             [
              0.3333333333333333,
              "#9c179e"
             ],
             [
              0.4444444444444444,
              "#bd3786"
             ],
             [
              0.5555555555555556,
              "#d8576b"
             ],
             [
              0.6666666666666666,
              "#ed7953"
             ],
             [
              0.7777777777777778,
              "#fb9f3a"
             ],
             [
              0.8888888888888888,
              "#fdca26"
             ],
             [
              1,
              "#f0f921"
             ]
            ],
            "type": "histogram2dcontour"
           }
          ],
          "mesh3d": [
           {
            "colorbar": {
             "outlinewidth": 0,
             "ticks": ""
            },
            "type": "mesh3d"
           }
          ],
          "parcoords": [
           {
            "line": {
             "colorbar": {
              "outlinewidth": 0,
              "ticks": ""
             }
            },
            "type": "parcoords"
           }
          ],
          "pie": [
           {
            "automargin": true,
            "type": "pie"
           }
          ],
          "scatter": [
           {
            "fillpattern": {
             "fillmode": "overlay",
             "size": 10,
             "solidity": 0.2
            },
            "type": "scatter"
           }
          ],
          "scatter3d": [
           {
            "line": {
             "colorbar": {
              "outlinewidth": 0,
              "ticks": ""
             }
            },
            "marker": {
             "colorbar": {
              "outlinewidth": 0,
              "ticks": ""
             }
            },
            "type": "scatter3d"
           }
          ],
          "scattercarpet": [
           {
            "marker": {
             "colorbar": {
              "outlinewidth": 0,
              "ticks": ""
             }
            },
            "type": "scattercarpet"
           }
          ],
          "scattergeo": [
           {
            "marker": {
             "colorbar": {
              "outlinewidth": 0,
              "ticks": ""
             }
            },
            "type": "scattergeo"
           }
          ],
          "scattergl": [
           {
            "marker": {
             "colorbar": {
              "outlinewidth": 0,
              "ticks": ""
             }
            },
            "type": "scattergl"
           }
          ],
          "scattermapbox": [
           {
            "marker": {
             "colorbar": {
              "outlinewidth": 0,
              "ticks": ""
             }
            },
            "type": "scattermapbox"
           }
          ],
          "scatterpolar": [
           {
            "marker": {
             "colorbar": {
              "outlinewidth": 0,
              "ticks": ""
             }
            },
            "type": "scatterpolar"
           }
          ],
          "scatterpolargl": [
           {
            "marker": {
             "colorbar": {
              "outlinewidth": 0,
              "ticks": ""
             }
            },
            "type": "scatterpolargl"
           }
          ],
          "scatterternary": [
           {
            "marker": {
             "colorbar": {
              "outlinewidth": 0,
              "ticks": ""
             }
            },
            "type": "scatterternary"
           }
          ],
          "surface": [
           {
            "colorbar": {
             "outlinewidth": 0,
             "ticks": ""
            },
            "colorscale": [
             [
              0,
              "#0d0887"
             ],
             [
              0.1111111111111111,
              "#46039f"
             ],
             [
              0.2222222222222222,
              "#7201a8"
             ],
             [
              0.3333333333333333,
              "#9c179e"
             ],
             [
              0.4444444444444444,
              "#bd3786"
             ],
             [
              0.5555555555555556,
              "#d8576b"
             ],
             [
              0.6666666666666666,
              "#ed7953"
             ],
             [
              0.7777777777777778,
              "#fb9f3a"
             ],
             [
              0.8888888888888888,
              "#fdca26"
             ],
             [
              1,
              "#f0f921"
             ]
            ],
            "type": "surface"
           }
          ],
          "table": [
           {
            "cells": {
             "fill": {
              "color": "#EBF0F8"
             },
             "line": {
              "color": "white"
             }
            },
            "header": {
             "fill": {
              "color": "#C8D4E3"
             },
             "line": {
              "color": "white"
             }
            },
            "type": "table"
           }
          ]
         },
         "layout": {
          "annotationdefaults": {
           "arrowcolor": "#2a3f5f",
           "arrowhead": 0,
           "arrowwidth": 1
          },
          "autotypenumbers": "strict",
          "coloraxis": {
           "colorbar": {
            "outlinewidth": 0,
            "ticks": ""
           }
          },
          "colorscale": {
           "diverging": [
            [
             0,
             "#8e0152"
            ],
            [
             0.1,
             "#c51b7d"
            ],
            [
             0.2,
             "#de77ae"
            ],
            [
             0.3,
             "#f1b6da"
            ],
            [
             0.4,
             "#fde0ef"
            ],
            [
             0.5,
             "#f7f7f7"
            ],
            [
             0.6,
             "#e6f5d0"
            ],
            [
             0.7,
             "#b8e186"
            ],
            [
             0.8,
             "#7fbc41"
            ],
            [
             0.9,
             "#4d9221"
            ],
            [
             1,
             "#276419"
            ]
           ],
           "sequential": [
            [
             0,
             "#0d0887"
            ],
            [
             0.1111111111111111,
             "#46039f"
            ],
            [
             0.2222222222222222,
             "#7201a8"
            ],
            [
             0.3333333333333333,
             "#9c179e"
            ],
            [
             0.4444444444444444,
             "#bd3786"
            ],
            [
             0.5555555555555556,
             "#d8576b"
            ],
            [
             0.6666666666666666,
             "#ed7953"
            ],
            [
             0.7777777777777778,
             "#fb9f3a"
            ],
            [
             0.8888888888888888,
             "#fdca26"
            ],
            [
             1,
             "#f0f921"
            ]
           ],
           "sequentialminus": [
            [
             0,
             "#0d0887"
            ],
            [
             0.1111111111111111,
             "#46039f"
            ],
            [
             0.2222222222222222,
             "#7201a8"
            ],
            [
             0.3333333333333333,
             "#9c179e"
            ],
            [
             0.4444444444444444,
             "#bd3786"
            ],
            [
             0.5555555555555556,
             "#d8576b"
            ],
            [
             0.6666666666666666,
             "#ed7953"
            ],
            [
             0.7777777777777778,
             "#fb9f3a"
            ],
            [
             0.8888888888888888,
             "#fdca26"
            ],
            [
             1,
             "#f0f921"
            ]
           ]
          },
          "colorway": [
           "#636efa",
           "#EF553B",
           "#00cc96",
           "#ab63fa",
           "#FFA15A",
           "#19d3f3",
           "#FF6692",
           "#B6E880",
           "#FF97FF",
           "#FECB52"
          ],
          "font": {
           "color": "#2a3f5f"
          },
          "geo": {
           "bgcolor": "white",
           "lakecolor": "white",
           "landcolor": "#E5ECF6",
           "showlakes": true,
           "showland": true,
           "subunitcolor": "white"
          },
          "hoverlabel": {
           "align": "left"
          },
          "hovermode": "closest",
          "mapbox": {
           "style": "light"
          },
          "paper_bgcolor": "white",
          "plot_bgcolor": "#E5ECF6",
          "polar": {
           "angularaxis": {
            "gridcolor": "white",
            "linecolor": "white",
            "ticks": ""
           },
           "bgcolor": "#E5ECF6",
           "radialaxis": {
            "gridcolor": "white",
            "linecolor": "white",
            "ticks": ""
           }
          },
          "scene": {
           "xaxis": {
            "backgroundcolor": "#E5ECF6",
            "gridcolor": "white",
            "gridwidth": 2,
            "linecolor": "white",
            "showbackground": true,
            "ticks": "",
            "zerolinecolor": "white"
           },
           "yaxis": {
            "backgroundcolor": "#E5ECF6",
            "gridcolor": "white",
            "gridwidth": 2,
            "linecolor": "white",
            "showbackground": true,
            "ticks": "",
            "zerolinecolor": "white"
           },
           "zaxis": {
            "backgroundcolor": "#E5ECF6",
            "gridcolor": "white",
            "gridwidth": 2,
            "linecolor": "white",
            "showbackground": true,
            "ticks": "",
            "zerolinecolor": "white"
           }
          },
          "shapedefaults": {
           "line": {
            "color": "#2a3f5f"
           }
          },
          "ternary": {
           "aaxis": {
            "gridcolor": "white",
            "linecolor": "white",
            "ticks": ""
           },
           "baxis": {
            "gridcolor": "white",
            "linecolor": "white",
            "ticks": ""
           },
           "bgcolor": "#E5ECF6",
           "caxis": {
            "gridcolor": "white",
            "linecolor": "white",
            "ticks": ""
           }
          },
          "title": {
           "x": 0.05
          },
          "xaxis": {
           "automargin": true,
           "gridcolor": "white",
           "linecolor": "white",
           "ticks": "",
           "title": {
            "standoff": 15
           },
           "zerolinecolor": "white",
           "zerolinewidth": 2
          },
          "yaxis": {
           "automargin": true,
           "gridcolor": "white",
           "linecolor": "white",
           "ticks": "",
           "title": {
            "standoff": 15
           },
           "zerolinecolor": "white",
           "zerolinewidth": 2
          }
         }
        },
        "title": {
         "text": "Box Plots for Numerical Columns"
        },
        "xaxis": {
         "anchor": "y",
         "domain": [
          0,
          1
         ]
        },
        "xaxis10": {
         "anchor": "y10",
         "domain": [
          0,
          1
         ]
        },
        "xaxis11": {
         "anchor": "y11",
         "domain": [
          0,
          1
         ]
        },
        "xaxis12": {
         "anchor": "y12",
         "domain": [
          0,
          1
         ]
        },
        "xaxis13": {
         "anchor": "y13",
         "domain": [
          0,
          1
         ]
        },
        "xaxis14": {
         "anchor": "y14",
         "domain": [
          0,
          1
         ]
        },
        "xaxis15": {
         "anchor": "y15",
         "domain": [
          0,
          1
         ]
        },
        "xaxis16": {
         "anchor": "y16",
         "domain": [
          0,
          1
         ]
        },
        "xaxis17": {
         "anchor": "y17",
         "domain": [
          0,
          1
         ]
        },
        "xaxis18": {
         "anchor": "y18",
         "domain": [
          0,
          1
         ]
        },
        "xaxis19": {
         "anchor": "y19",
         "domain": [
          0,
          1
         ]
        },
        "xaxis2": {
         "anchor": "y2",
         "domain": [
          0,
          1
         ]
        },
        "xaxis20": {
         "anchor": "y20",
         "domain": [
          0,
          1
         ]
        },
        "xaxis21": {
         "anchor": "y21",
         "domain": [
          0,
          1
         ]
        },
        "xaxis22": {
         "anchor": "y22",
         "domain": [
          0,
          1
         ]
        },
        "xaxis23": {
         "anchor": "y23",
         "domain": [
          0,
          1
         ]
        },
        "xaxis24": {
         "anchor": "y24",
         "domain": [
          0,
          1
         ]
        },
        "xaxis25": {
         "anchor": "y25",
         "domain": [
          0,
          1
         ]
        },
        "xaxis26": {
         "anchor": "y26",
         "domain": [
          0,
          1
         ]
        },
        "xaxis27": {
         "anchor": "y27",
         "domain": [
          0,
          1
         ]
        },
        "xaxis28": {
         "anchor": "y28",
         "domain": [
          0,
          1
         ]
        },
        "xaxis29": {
         "anchor": "y29",
         "domain": [
          0,
          1
         ]
        },
        "xaxis3": {
         "anchor": "y3",
         "domain": [
          0,
          1
         ]
        },
        "xaxis30": {
         "anchor": "y30",
         "domain": [
          0,
          1
         ]
        },
        "xaxis31": {
         "anchor": "y31",
         "domain": [
          0,
          1
         ]
        },
        "xaxis32": {
         "anchor": "y32",
         "domain": [
          0,
          1
         ]
        },
        "xaxis33": {
         "anchor": "y33",
         "domain": [
          0,
          1
         ]
        },
        "xaxis34": {
         "anchor": "y34",
         "domain": [
          0,
          1
         ]
        },
        "xaxis35": {
         "anchor": "y35",
         "domain": [
          0,
          1
         ]
        },
        "xaxis36": {
         "anchor": "y36",
         "domain": [
          0,
          1
         ]
        },
        "xaxis37": {
         "anchor": "y37",
         "domain": [
          0,
          1
         ]
        },
        "xaxis38": {
         "anchor": "y38",
         "domain": [
          0,
          1
         ]
        },
        "xaxis39": {
         "anchor": "y39",
         "domain": [
          0,
          1
         ]
        },
        "xaxis4": {
         "anchor": "y4",
         "domain": [
          0,
          1
         ]
        },
        "xaxis40": {
         "anchor": "y40",
         "domain": [
          0,
          1
         ]
        },
        "xaxis41": {
         "anchor": "y41",
         "domain": [
          0,
          1
         ]
        },
        "xaxis42": {
         "anchor": "y42",
         "domain": [
          0,
          1
         ]
        },
        "xaxis43": {
         "anchor": "y43",
         "domain": [
          0,
          1
         ]
        },
        "xaxis44": {
         "anchor": "y44",
         "domain": [
          0,
          1
         ]
        },
        "xaxis45": {
         "anchor": "y45",
         "domain": [
          0,
          1
         ]
        },
        "xaxis46": {
         "anchor": "y46",
         "domain": [
          0,
          1
         ]
        },
        "xaxis47": {
         "anchor": "y47",
         "domain": [
          0,
          1
         ]
        },
        "xaxis48": {
         "anchor": "y48",
         "domain": [
          0,
          1
         ]
        },
        "xaxis49": {
         "anchor": "y49",
         "domain": [
          0,
          1
         ]
        },
        "xaxis5": {
         "anchor": "y5",
         "domain": [
          0,
          1
         ]
        },
        "xaxis50": {
         "anchor": "y50",
         "domain": [
          0,
          1
         ]
        },
        "xaxis6": {
         "anchor": "y6",
         "domain": [
          0,
          1
         ]
        },
        "xaxis7": {
         "anchor": "y7",
         "domain": [
          0,
          1
         ]
        },
        "xaxis8": {
         "anchor": "y8",
         "domain": [
          0,
          1
         ]
        },
        "xaxis9": {
         "anchor": "y9",
         "domain": [
          0,
          1
         ]
        },
        "yaxis": {
         "anchor": "x",
         "domain": [
          0.9858800000000005,
          1
         ],
         "title": {
          "text": "energy"
         }
        },
        "yaxis10": {
         "anchor": "x10",
         "domain": [
          0.8048000000000004,
          0.8189200000000004
         ],
         "title": {
          "text": "tempo"
         }
        },
        "yaxis11": {
         "anchor": "x11",
         "domain": [
          0.7846800000000004,
          0.7988000000000004
         ],
         "title": {
          "text": "duration_ms"
         }
        },
        "yaxis12": {
         "anchor": "x12",
         "domain": [
          0.7645600000000004,
          0.7786800000000004
         ]
        },
        "yaxis13": {
         "anchor": "x13",
         "domain": [
          0.7444400000000003,
          0.7585600000000003
         ]
        },
        "yaxis14": {
         "anchor": "x14",
         "domain": [
          0.7243200000000003,
          0.7384400000000003
         ]
        },
        "yaxis15": {
         "anchor": "x15",
         "domain": [
          0.7042000000000003,
          0.7183200000000003
         ]
        },
        "yaxis16": {
         "anchor": "x16",
         "domain": [
          0.6840800000000002,
          0.6982000000000003
         ]
        },
        "yaxis17": {
         "anchor": "x17",
         "domain": [
          0.6639600000000003,
          0.6780800000000003
         ]
        },
        "yaxis18": {
         "anchor": "x18",
         "domain": [
          0.6438400000000002,
          0.6579600000000002
         ]
        },
        "yaxis19": {
         "anchor": "x19",
         "domain": [
          0.6237200000000003,
          0.6378400000000003
         ]
        },
        "yaxis2": {
         "anchor": "x2",
         "domain": [
          0.9657600000000006,
          0.9798800000000006
         ],
         "title": {
          "text": "danceability"
         }
        },
        "yaxis20": {
         "anchor": "x20",
         "domain": [
          0.6036000000000001,
          0.6177200000000002
         ]
        },
        "yaxis21": {
         "anchor": "x21",
         "domain": [
          0.5834800000000002,
          0.5976000000000002
         ]
        },
        "yaxis22": {
         "anchor": "x22",
         "domain": [
          0.5633600000000002,
          0.5774800000000002
         ]
        },
        "yaxis23": {
         "anchor": "x23",
         "domain": [
          0.5432400000000002,
          0.5573600000000002
         ]
        },
        "yaxis24": {
         "anchor": "x24",
         "domain": [
          0.5231200000000001,
          0.5372400000000002
         ]
        },
        "yaxis25": {
         "anchor": "x25",
         "domain": [
          0.5030000000000001,
          0.5171200000000001
         ]
        },
        "yaxis26": {
         "anchor": "x26",
         "domain": [
          0.4828800000000001,
          0.4970000000000001
         ]
        },
        "yaxis27": {
         "anchor": "x27",
         "domain": [
          0.46276000000000006,
          0.4768800000000001
         ]
        },
        "yaxis28": {
         "anchor": "x28",
         "domain": [
          0.44264000000000003,
          0.45676000000000005
         ]
        },
        "yaxis29": {
         "anchor": "x29",
         "domain": [
          0.42252,
          0.43664000000000003
         ]
        },
        "yaxis3": {
         "anchor": "x3",
         "domain": [
          0.9456400000000006,
          0.9597600000000006
         ],
         "title": {
          "text": "key"
         }
        },
        "yaxis30": {
         "anchor": "x30",
         "domain": [
          0.4024,
          0.41652
         ]
        },
        "yaxis31": {
         "anchor": "x31",
         "domain": [
          0.38227999999999995,
          0.3964
         ]
        },
        "yaxis32": {
         "anchor": "x32",
         "domain": [
          0.3621599999999999,
          0.37627999999999995
         ]
        },
        "yaxis33": {
         "anchor": "x33",
         "domain": [
          0.3420399999999999,
          0.3561599999999999
         ]
        },
        "yaxis34": {
         "anchor": "x34",
         "domain": [
          0.32191999999999993,
          0.33603999999999995
         ]
        },
        "yaxis35": {
         "anchor": "x35",
         "domain": [
          0.30179999999999996,
          0.31592
         ]
        },
        "yaxis36": {
         "anchor": "x36",
         "domain": [
          0.28167999999999993,
          0.29579999999999995
         ]
        },
        "yaxis37": {
         "anchor": "x37",
         "domain": [
          0.26155999999999996,
          0.27568
         ]
        },
        "yaxis38": {
         "anchor": "x38",
         "domain": [
          0.24143999999999996,
          0.25555999999999995
         ]
        },
        "yaxis39": {
         "anchor": "x39",
         "domain": [
          0.22131999999999996,
          0.23543999999999995
         ]
        },
        "yaxis4": {
         "anchor": "x4",
         "domain": [
          0.9255200000000006,
          0.9396400000000006
         ],
         "title": {
          "text": "loudness"
         }
        },
        "yaxis40": {
         "anchor": "x40",
         "domain": [
          0.20119999999999996,
          0.21531999999999996
         ]
        },
        "yaxis41": {
         "anchor": "x41",
         "domain": [
          0.18107999999999996,
          0.19519999999999996
         ]
        },
        "yaxis42": {
         "anchor": "x42",
         "domain": [
          0.16096,
          0.17507999999999999
         ]
        },
        "yaxis43": {
         "anchor": "x43",
         "domain": [
          0.14084,
          0.15496
         ]
        },
        "yaxis44": {
         "anchor": "x44",
         "domain": [
          0.12072,
          0.13484
         ]
        },
        "yaxis45": {
         "anchor": "x45",
         "domain": [
          0.1006,
          0.11471999999999999
         ]
        },
        "yaxis46": {
         "anchor": "x46",
         "domain": [
          0.08048,
          0.09459999999999999
         ]
        },
        "yaxis47": {
         "anchor": "x47",
         "domain": [
          0.06036,
          0.07447999999999999
         ]
        },
        "yaxis48": {
         "anchor": "x48",
         "domain": [
          0.04024,
          0.05436
         ]
        },
        "yaxis49": {
         "anchor": "x49",
         "domain": [
          0.02012,
          0.03424
         ]
        },
        "yaxis5": {
         "anchor": "x5",
         "domain": [
          0.9054000000000005,
          0.9195200000000006
         ],
         "title": {
          "text": "acousticness"
         }
        },
        "yaxis50": {
         "anchor": "x50",
         "domain": [
          0,
          0.014119999999999999
         ]
        },
        "yaxis6": {
         "anchor": "x6",
         "domain": [
          0.8852800000000005,
          0.8994000000000005
         ],
         "title": {
          "text": "speechiness"
         }
        },
        "yaxis7": {
         "anchor": "x7",
         "domain": [
          0.8651600000000005,
          0.8792800000000005
         ],
         "title": {
          "text": "instrumentalness"
         }
        },
        "yaxis8": {
         "anchor": "x8",
         "domain": [
          0.8450400000000005,
          0.8591600000000005
         ],
         "title": {
          "text": "liveness"
         }
        },
        "yaxis9": {
         "anchor": "x9",
         "domain": [
          0.8249200000000004,
          0.8390400000000005
         ],
         "title": {
          "text": "valence"
         }
        }
       }
      },
      "text/html": [
       "<div>                            <div id=\"81cfe94c-90dc-42e3-8184-475cc6e3bbcf\" class=\"plotly-graph-div\" style=\"height:20000px; width:100%;\"></div>            <script type=\"text/javascript\">                require([\"plotly\"], function(Plotly) {                    window.PLOTLYENV=window.PLOTLYENV || {};                                    if (document.getElementById(\"81cfe94c-90dc-42e3-8184-475cc6e3bbcf\")) {                    Plotly.newPlot(                        \"81cfe94c-90dc-42e3-8184-475cc6e3bbcf\",                        [{\"alignmentgroup\":\"True\",\"hovertemplate\":\"energy=%{y}<extra></extra>\",\"legendgroup\":\"\",\"marker\":{\"color\":\"#636efa\"},\"name\":\"\",\"notched\":false,\"offsetgroup\":\"\",\"orientation\":\"v\",\"showlegend\":false,\"x0\":\" \",\"xaxis\":\"x\",\"y\":[0.73,0.593,0.586,0.721,0.793,0.69,0.816,0.431,0.43,0.405,0.715,0.601,0.762,0.554,0.546,0.49,0.575,0.673,0.32,0.574,0.481,0.771,0.72,0.722,0.225,0.548,0.425,0.454,0.525,0.745,0.506,0.729,0.765,0.631,0.774,0.855,0.427,0.522,0.727,0.751,0.728,0.704,0.537,0.829,0.296,0.566,0.45,0.473,0.844,0.73],\"y0\":\" \",\"yaxis\":\"y\",\"type\":\"box\"},{\"alignmentgroup\":\"True\",\"hovertemplate\":\"danceability=%{y}<extra></extra>\",\"legendgroup\":\"\",\"marker\":{\"color\":\"#636efa\"},\"name\":\"\",\"notched\":false,\"offsetgroup\":\"\",\"orientation\":\"v\",\"showlegend\":false,\"x0\":\" \",\"xaxis\":\"x2\",\"y\":[0.514,0.825,0.896,0.785,0.793,0.746,0.548,0.726,0.784,0.501,0.803,0.621,0.695,0.774,0.806,0.83,0.459,0.787,0.764,0.795,0.767,0.676,0.789,0.7,0.704,0.759,0.701,0.935,0.878,0.808,0.676,0.73,0.746,0.862,0.674,0.672,0.598,0.755,0.783,0.88,0.841,0.723,0.716,0.607,0.351,0.511,0.597,0.464,0.647,0.834],\"y0\":\" \",\"yaxis\":\"y2\",\"type\":\"box\"},{\"alignmentgroup\":\"True\",\"hovertemplate\":\"key=%{y}<extra></extra>\",\"legendgroup\":\"\",\"marker\":{\"color\":\"#636efa\"},\"name\":\"\",\"notched\":false,\"offsetgroup\":\"\",\"orientation\":\"v\",\"showlegend\":false,\"x0\":\" \",\"xaxis\":\"x3\",\"y\":[1,6,10,8,11,11,0,8,10,1,2,6,0,0,9,1,3,11,11,2,0,8,8,7,6,9,7,1,5,10,9,4,6,7,11,9,7,2,6,7,7,10,0,2,4,6,8,1,0,8],\"y0\":\" \",\"yaxis\":\"y3\",\"type\":\"box\"},{\"alignmentgroup\":\"True\",\"hovertemplate\":\"loudness=%{y}<extra></extra>\",\"legendgroup\":\"\",\"marker\":{\"color\":\"#636efa\"},\"name\":\"\",\"notched\":false,\"offsetgroup\":\"\",\"orientation\":\"v\",\"showlegend\":false,\"x0\":\" \",\"xaxis\":\"x4\",\"y\":[-5.934,-6.401,-6.687,-5.457,-4.521,-7.956,-4.209,-8.765,-8.756,-5.679,-3.28,-5.616,-3.497,-7.909,-6.637,-8.82,-4.858,-4.577,-7.209,-6.903,-8.52,-3.675,-5.652,-3.558,-14.454,-6.049,-10.965,-7.509,-6.832,-5.26,-6.652,-3.434,-4.41,-4.746,-7.567,-3.764,-8.764,-4.368,-3.454,-4.258,-3.37,-7.088,-7.648,-4.074,-10.109,-7.23,-6.658,-10.086,-3.756,-3.714],\"y0\":\" \",\"yaxis\":\"y4\",\"type\":\"box\"},{\"alignmentgroup\":\"True\",\"hovertemplate\":\"acousticness=%{y}<extra></extra>\",\"legendgroup\":\"\",\"marker\":{\"color\":\"#636efa\"},\"name\":\"\",\"notched\":false,\"offsetgroup\":\"\",\"orientation\":\"v\",\"showlegend\":false,\"x0\":\" \",\"xaxis\":\"x5\",\"y\":[0.00146,0.688,0.104,0.0149,0.0123,0.247,0.122,0.731,0.123,0.751,0.295,0.0522,0.192,0.207,0.3,0.289,0.604,0.256,0.837,0.067,0.234,0.0237,0.223,0.221,0.902,0.0392,0.328,0.0194,0.183,0.145,0.345,0.167,0.0112,0.291,0.0686,0.021,0.0546,0.533,0.185,0.177,0.0847,0.0259,0.233,0.0103,0.934,0.349,0.223,0.866,0.0137,0.00513],\"y0\":\" \",\"yaxis\":\"y5\",\"type\":\"box\"},{\"alignmentgroup\":\"True\",\"hovertemplate\":\"speechiness=%{y}<extra></extra>\",\"legendgroup\":\"\",\"marker\":{\"color\":\"#636efa\"},\"name\":\"\",\"notched\":false,\"offsetgroup\":\"\",\"orientation\":\"v\",\"showlegend\":false,\"x0\":\" \",\"xaxis\":\"x6\",\"y\":[0.0598,0.0988,0.0559,0.0506,0.083,0.164,0.0465,0.135,0.0364,0.0319,0.298,0.148,0.0395,0.0383,0.0575,0.209,0.0573,0.158,0.0546,0.487,0.0803,0.0483,0.218,0.0369,0.0994,0.029,0.375,0.375,0.0578,0.342,0.0958,0.0883,0.0993,0.0515,0.0892,0.0397,0.0317,0.0575,0.389,0.0874,0.0484,0.0571,0.0514,0.379,0.0333,0.2,0.0418,0.129,0.0457,0.222],\"y0\":\" \",\"yaxis\":\"y6\",\"type\":\"box\"},{\"alignmentgroup\":\"True\",\"hovertemplate\":\"instrumentalness=%{y}<extra></extra>\",\"legendgroup\":\"\",\"marker\":{\"color\":\"#636efa\"},\"name\":\"\",\"notched\":false,\"offsetgroup\":\"\",\"orientation\":\"v\",\"showlegend\":false,\"x0\":\" \",\"xaxis\":\"x7\",\"y\":[9.54e-05,0.000161,0.0,0.00432,0.0,0.0,0.0,0.0,0.0,0.0,0.000134,0.0,0.00244,0.0,0.0,3.04e-06,0.0,3.57e-06,0.0,0.0,0.0,7e-06,0.0,0.0,0.657,0.0,0.13,0.0,0.0,0.0,0.0,1.39e-06,0.0,0.000209,0.00188,0.0,5.83e-06,0.0,2.46e-05,6.43e-05,0.0,0.00109,0.0,0.0,0.0,0.0,0.0,0.0,0.000658,0.0],\"y0\":\" \",\"yaxis\":\"y7\",\"type\":\"box\"},{\"alignmentgroup\":\"True\",\"hovertemplate\":\"liveness=%{y}<extra></extra>\",\"legendgroup\":\"\",\"marker\":{\"color\":\"#636efa\"},\"name\":\"\",\"notched\":false,\"offsetgroup\":\"\",\"orientation\":\"v\",\"showlegend\":false,\"x0\":\" \",\"xaxis\":\"x8\",\"y\":[0.0897,0.17,0.79,0.285,0.0951,0.101,0.335,0.696,0.0887,0.105,0.0574,0.46,0.0863,0.132,0.102,0.113,0.0885,0.0904,0.0822,0.15,0.269,0.102,0.129,0.272,0.106,0.0828,0.1,0.0824,0.0714,0.292,0.118,0.349,0.0936,0.123,0.393,0.323,0.21,0.0685,0.0626,0.106,0.149,0.792,0.157,0.107,0.095,0.34,0.382,0.109,0.102,0.124],\"y0\":\" \",\"yaxis\":\"y8\",\"type\":\"box\"},{\"alignmentgroup\":\"True\",\"hovertemplate\":\"valence=%{y}<extra></extra>\",\"legendgroup\":\"\",\"marker\":{\"color\":\"#636efa\"},\"name\":\"\",\"notched\":false,\"offsetgroup\":\"\",\"orientation\":\"v\",\"showlegend\":false,\"x0\":\" \",\"xaxis\":\"x9\",\"y\":[0.334,0.54,0.642,0.894,0.679,0.497,0.557,0.348,0.236,0.446,0.574,0.457,0.553,0.349,0.874,0.845,0.183,0.786,0.575,0.537,0.761,0.569,0.664,0.756,0.243,0.749,0.562,0.357,0.694,0.829,0.497,0.467,0.737,0.841,0.33,0.646,0.0605,0.925,0.558,0.884,0.43,0.684,0.28,0.685,0.12,0.218,0.537,0.604,0.746,0.446],\"y0\":\" \",\"yaxis\":\"y9\",\"type\":\"box\"},{\"alignmentgroup\":\"True\",\"hovertemplate\":\"tempo=%{y}<extra></extra>\",\"legendgroup\":\"\",\"marker\":{\"color\":\"#636efa\"},\"name\":\"\",\"notched\":false,\"offsetgroup\":\"\",\"orientation\":\"v\",\"showlegend\":false,\"x0\":\" \",\"xaxis\":\"x10\",\"y\":[171.005,98.078,116.971,121.962,123.95,89.977,95.39,144.026,127.087,109.891,101.085,116.735,120.042,99.034,147.986,81.604,111.881,110.962,91.019,142.053,150.076,99.048,122.031,90.989,120.006,116.967,135.128,133.073,112.022,165.995,145.842,113.013,114.044,128.978,112.05,123.056,76.469,89.96,180.067,117.948,130.049,105.095,129.979,96.172,115.284,83.903,178.765,75.801,146.967,155.008],\"y0\":\" \",\"yaxis\":\"y10\",\"type\":\"box\"},{\"alignmentgroup\":\"True\",\"hovertemplate\":\"duration_ms=%{y}<extra></extra>\",\"legendgroup\":\"\",\"marker\":{\"color\":\"#636efa\"},\"name\":\"\",\"notched\":false,\"offsetgroup\":\"\",\"orientation\":\"v\",\"showlegend\":false,\"x0\":\" \",\"xaxis\":\"x11\",\"y\":[200040,209755,196653,176219,183290,181733,174000,173333,159382,182161,200960,163636,215280,162547,212867,247059,215107,237893,189486,237918,171375,207133,166794,140526,245426,190800,194088,187541,158571,210800,208520,221820,199054,223488,176547,182200,175721,157560,199112,157606,243837,214935,165978,295177,200186,239836,228482,208687,193829,312820],\"y0\":\" \",\"yaxis\":\"y11\",\"type\":\"box\"}],                        {\"template\":{\"data\":{\"histogram2dcontour\":[{\"type\":\"histogram2dcontour\",\"colorbar\":{\"outlinewidth\":0,\"ticks\":\"\"},\"colorscale\":[[0.0,\"#0d0887\"],[0.1111111111111111,\"#46039f\"],[0.2222222222222222,\"#7201a8\"],[0.3333333333333333,\"#9c179e\"],[0.4444444444444444,\"#bd3786\"],[0.5555555555555556,\"#d8576b\"],[0.6666666666666666,\"#ed7953\"],[0.7777777777777778,\"#fb9f3a\"],[0.8888888888888888,\"#fdca26\"],[1.0,\"#f0f921\"]]}],\"choropleth\":[{\"type\":\"choropleth\",\"colorbar\":{\"outlinewidth\":0,\"ticks\":\"\"}}],\"histogram2d\":[{\"type\":\"histogram2d\",\"colorbar\":{\"outlinewidth\":0,\"ticks\":\"\"},\"colorscale\":[[0.0,\"#0d0887\"],[0.1111111111111111,\"#46039f\"],[0.2222222222222222,\"#7201a8\"],[0.3333333333333333,\"#9c179e\"],[0.4444444444444444,\"#bd3786\"],[0.5555555555555556,\"#d8576b\"],[0.6666666666666666,\"#ed7953\"],[0.7777777777777778,\"#fb9f3a\"],[0.8888888888888888,\"#fdca26\"],[1.0,\"#f0f921\"]]}],\"heatmap\":[{\"type\":\"heatmap\",\"colorbar\":{\"outlinewidth\":0,\"ticks\":\"\"},\"colorscale\":[[0.0,\"#0d0887\"],[0.1111111111111111,\"#46039f\"],[0.2222222222222222,\"#7201a8\"],[0.3333333333333333,\"#9c179e\"],[0.4444444444444444,\"#bd3786\"],[0.5555555555555556,\"#d8576b\"],[0.6666666666666666,\"#ed7953\"],[0.7777777777777778,\"#fb9f3a\"],[0.8888888888888888,\"#fdca26\"],[1.0,\"#f0f921\"]]}],\"heatmapgl\":[{\"type\":\"heatmapgl\",\"colorbar\":{\"outlinewidth\":0,\"ticks\":\"\"},\"colorscale\":[[0.0,\"#0d0887\"],[0.1111111111111111,\"#46039f\"],[0.2222222222222222,\"#7201a8\"],[0.3333333333333333,\"#9c179e\"],[0.4444444444444444,\"#bd3786\"],[0.5555555555555556,\"#d8576b\"],[0.6666666666666666,\"#ed7953\"],[0.7777777777777778,\"#fb9f3a\"],[0.8888888888888888,\"#fdca26\"],[1.0,\"#f0f921\"]]}],\"contourcarpet\":[{\"type\":\"contourcarpet\",\"colorbar\":{\"outlinewidth\":0,\"ticks\":\"\"}}],\"contour\":[{\"type\":\"contour\",\"colorbar\":{\"outlinewidth\":0,\"ticks\":\"\"},\"colorscale\":[[0.0,\"#0d0887\"],[0.1111111111111111,\"#46039f\"],[0.2222222222222222,\"#7201a8\"],[0.3333333333333333,\"#9c179e\"],[0.4444444444444444,\"#bd3786\"],[0.5555555555555556,\"#d8576b\"],[0.6666666666666666,\"#ed7953\"],[0.7777777777777778,\"#fb9f3a\"],[0.8888888888888888,\"#fdca26\"],[1.0,\"#f0f921\"]]}],\"surface\":[{\"type\":\"surface\",\"colorbar\":{\"outlinewidth\":0,\"ticks\":\"\"},\"colorscale\":[[0.0,\"#0d0887\"],[0.1111111111111111,\"#46039f\"],[0.2222222222222222,\"#7201a8\"],[0.3333333333333333,\"#9c179e\"],[0.4444444444444444,\"#bd3786\"],[0.5555555555555556,\"#d8576b\"],[0.6666666666666666,\"#ed7953\"],[0.7777777777777778,\"#fb9f3a\"],[0.8888888888888888,\"#fdca26\"],[1.0,\"#f0f921\"]]}],\"mesh3d\":[{\"type\":\"mesh3d\",\"colorbar\":{\"outlinewidth\":0,\"ticks\":\"\"}}],\"scatter\":[{\"fillpattern\":{\"fillmode\":\"overlay\",\"size\":10,\"solidity\":0.2},\"type\":\"scatter\"}],\"parcoords\":[{\"type\":\"parcoords\",\"line\":{\"colorbar\":{\"outlinewidth\":0,\"ticks\":\"\"}}}],\"scatterpolargl\":[{\"type\":\"scatterpolargl\",\"marker\":{\"colorbar\":{\"outlinewidth\":0,\"ticks\":\"\"}}}],\"bar\":[{\"error_x\":{\"color\":\"#2a3f5f\"},\"error_y\":{\"color\":\"#2a3f5f\"},\"marker\":{\"line\":{\"color\":\"#E5ECF6\",\"width\":0.5},\"pattern\":{\"fillmode\":\"overlay\",\"size\":10,\"solidity\":0.2}},\"type\":\"bar\"}],\"scattergeo\":[{\"type\":\"scattergeo\",\"marker\":{\"colorbar\":{\"outlinewidth\":0,\"ticks\":\"\"}}}],\"scatterpolar\":[{\"type\":\"scatterpolar\",\"marker\":{\"colorbar\":{\"outlinewidth\":0,\"ticks\":\"\"}}}],\"histogram\":[{\"marker\":{\"pattern\":{\"fillmode\":\"overlay\",\"size\":10,\"solidity\":0.2}},\"type\":\"histogram\"}],\"scattergl\":[{\"type\":\"scattergl\",\"marker\":{\"colorbar\":{\"outlinewidth\":0,\"ticks\":\"\"}}}],\"scatter3d\":[{\"type\":\"scatter3d\",\"line\":{\"colorbar\":{\"outlinewidth\":0,\"ticks\":\"\"}},\"marker\":{\"colorbar\":{\"outlinewidth\":0,\"ticks\":\"\"}}}],\"scattermapbox\":[{\"type\":\"scattermapbox\",\"marker\":{\"colorbar\":{\"outlinewidth\":0,\"ticks\":\"\"}}}],\"scatterternary\":[{\"type\":\"scatterternary\",\"marker\":{\"colorbar\":{\"outlinewidth\":0,\"ticks\":\"\"}}}],\"scattercarpet\":[{\"type\":\"scattercarpet\",\"marker\":{\"colorbar\":{\"outlinewidth\":0,\"ticks\":\"\"}}}],\"carpet\":[{\"aaxis\":{\"endlinecolor\":\"#2a3f5f\",\"gridcolor\":\"white\",\"linecolor\":\"white\",\"minorgridcolor\":\"white\",\"startlinecolor\":\"#2a3f5f\"},\"baxis\":{\"endlinecolor\":\"#2a3f5f\",\"gridcolor\":\"white\",\"linecolor\":\"white\",\"minorgridcolor\":\"white\",\"startlinecolor\":\"#2a3f5f\"},\"type\":\"carpet\"}],\"table\":[{\"cells\":{\"fill\":{\"color\":\"#EBF0F8\"},\"line\":{\"color\":\"white\"}},\"header\":{\"fill\":{\"color\":\"#C8D4E3\"},\"line\":{\"color\":\"white\"}},\"type\":\"table\"}],\"barpolar\":[{\"marker\":{\"line\":{\"color\":\"#E5ECF6\",\"width\":0.5},\"pattern\":{\"fillmode\":\"overlay\",\"size\":10,\"solidity\":0.2}},\"type\":\"barpolar\"}],\"pie\":[{\"automargin\":true,\"type\":\"pie\"}]},\"layout\":{\"autotypenumbers\":\"strict\",\"colorway\":[\"#636efa\",\"#EF553B\",\"#00cc96\",\"#ab63fa\",\"#FFA15A\",\"#19d3f3\",\"#FF6692\",\"#B6E880\",\"#FF97FF\",\"#FECB52\"],\"font\":{\"color\":\"#2a3f5f\"},\"hovermode\":\"closest\",\"hoverlabel\":{\"align\":\"left\"},\"paper_bgcolor\":\"white\",\"plot_bgcolor\":\"#E5ECF6\",\"polar\":{\"bgcolor\":\"#E5ECF6\",\"angularaxis\":{\"gridcolor\":\"white\",\"linecolor\":\"white\",\"ticks\":\"\"},\"radialaxis\":{\"gridcolor\":\"white\",\"linecolor\":\"white\",\"ticks\":\"\"}},\"ternary\":{\"bgcolor\":\"#E5ECF6\",\"aaxis\":{\"gridcolor\":\"white\",\"linecolor\":\"white\",\"ticks\":\"\"},\"baxis\":{\"gridcolor\":\"white\",\"linecolor\":\"white\",\"ticks\":\"\"},\"caxis\":{\"gridcolor\":\"white\",\"linecolor\":\"white\",\"ticks\":\"\"}},\"coloraxis\":{\"colorbar\":{\"outlinewidth\":0,\"ticks\":\"\"}},\"colorscale\":{\"sequential\":[[0.0,\"#0d0887\"],[0.1111111111111111,\"#46039f\"],[0.2222222222222222,\"#7201a8\"],[0.3333333333333333,\"#9c179e\"],[0.4444444444444444,\"#bd3786\"],[0.5555555555555556,\"#d8576b\"],[0.6666666666666666,\"#ed7953\"],[0.7777777777777778,\"#fb9f3a\"],[0.8888888888888888,\"#fdca26\"],[1.0,\"#f0f921\"]],\"sequentialminus\":[[0.0,\"#0d0887\"],[0.1111111111111111,\"#46039f\"],[0.2222222222222222,\"#7201a8\"],[0.3333333333333333,\"#9c179e\"],[0.4444444444444444,\"#bd3786\"],[0.5555555555555556,\"#d8576b\"],[0.6666666666666666,\"#ed7953\"],[0.7777777777777778,\"#fb9f3a\"],[0.8888888888888888,\"#fdca26\"],[1.0,\"#f0f921\"]],\"diverging\":[[0,\"#8e0152\"],[0.1,\"#c51b7d\"],[0.2,\"#de77ae\"],[0.3,\"#f1b6da\"],[0.4,\"#fde0ef\"],[0.5,\"#f7f7f7\"],[0.6,\"#e6f5d0\"],[0.7,\"#b8e186\"],[0.8,\"#7fbc41\"],[0.9,\"#4d9221\"],[1,\"#276419\"]]},\"xaxis\":{\"gridcolor\":\"white\",\"linecolor\":\"white\",\"ticks\":\"\",\"title\":{\"standoff\":15},\"zerolinecolor\":\"white\",\"automargin\":true,\"zerolinewidth\":2},\"yaxis\":{\"gridcolor\":\"white\",\"linecolor\":\"white\",\"ticks\":\"\",\"title\":{\"standoff\":15},\"zerolinecolor\":\"white\",\"automargin\":true,\"zerolinewidth\":2},\"scene\":{\"xaxis\":{\"backgroundcolor\":\"#E5ECF6\",\"gridcolor\":\"white\",\"linecolor\":\"white\",\"showbackground\":true,\"ticks\":\"\",\"zerolinecolor\":\"white\",\"gridwidth\":2},\"yaxis\":{\"backgroundcolor\":\"#E5ECF6\",\"gridcolor\":\"white\",\"linecolor\":\"white\",\"showbackground\":true,\"ticks\":\"\",\"zerolinecolor\":\"white\",\"gridwidth\":2},\"zaxis\":{\"backgroundcolor\":\"#E5ECF6\",\"gridcolor\":\"white\",\"linecolor\":\"white\",\"showbackground\":true,\"ticks\":\"\",\"zerolinecolor\":\"white\",\"gridwidth\":2}},\"shapedefaults\":{\"line\":{\"color\":\"#2a3f5f\"}},\"annotationdefaults\":{\"arrowcolor\":\"#2a3f5f\",\"arrowhead\":0,\"arrowwidth\":1},\"geo\":{\"bgcolor\":\"white\",\"landcolor\":\"#E5ECF6\",\"subunitcolor\":\"white\",\"showland\":true,\"showlakes\":true,\"lakecolor\":\"white\"},\"title\":{\"x\":0.05},\"mapbox\":{\"style\":\"light\"}}},\"xaxis\":{\"anchor\":\"y\",\"domain\":[0.0,1.0]},\"yaxis\":{\"anchor\":\"x\",\"domain\":[0.9858800000000005,1.0],\"title\":{\"text\":\"energy\"}},\"xaxis2\":{\"anchor\":\"y2\",\"domain\":[0.0,1.0]},\"yaxis2\":{\"anchor\":\"x2\",\"domain\":[0.9657600000000006,0.9798800000000006],\"title\":{\"text\":\"danceability\"}},\"xaxis3\":{\"anchor\":\"y3\",\"domain\":[0.0,1.0]},\"yaxis3\":{\"anchor\":\"x3\",\"domain\":[0.9456400000000006,0.9597600000000006],\"title\":{\"text\":\"key\"}},\"xaxis4\":{\"anchor\":\"y4\",\"domain\":[0.0,1.0]},\"yaxis4\":{\"anchor\":\"x4\",\"domain\":[0.9255200000000006,0.9396400000000006],\"title\":{\"text\":\"loudness\"}},\"xaxis5\":{\"anchor\":\"y5\",\"domain\":[0.0,1.0]},\"yaxis5\":{\"anchor\":\"x5\",\"domain\":[0.9054000000000005,0.9195200000000006],\"title\":{\"text\":\"acousticness\"}},\"xaxis6\":{\"anchor\":\"y6\",\"domain\":[0.0,1.0]},\"yaxis6\":{\"anchor\":\"x6\",\"domain\":[0.8852800000000005,0.8994000000000005],\"title\":{\"text\":\"speechiness\"}},\"xaxis7\":{\"anchor\":\"y7\",\"domain\":[0.0,1.0]},\"yaxis7\":{\"anchor\":\"x7\",\"domain\":[0.8651600000000005,0.8792800000000005],\"title\":{\"text\":\"instrumentalness\"}},\"xaxis8\":{\"anchor\":\"y8\",\"domain\":[0.0,1.0]},\"yaxis8\":{\"anchor\":\"x8\",\"domain\":[0.8450400000000005,0.8591600000000005],\"title\":{\"text\":\"liveness\"}},\"xaxis9\":{\"anchor\":\"y9\",\"domain\":[0.0,1.0]},\"yaxis9\":{\"anchor\":\"x9\",\"domain\":[0.8249200000000004,0.8390400000000005],\"title\":{\"text\":\"valence\"}},\"xaxis10\":{\"anchor\":\"y10\",\"domain\":[0.0,1.0]},\"yaxis10\":{\"anchor\":\"x10\",\"domain\":[0.8048000000000004,0.8189200000000004],\"title\":{\"text\":\"tempo\"}},\"xaxis11\":{\"anchor\":\"y11\",\"domain\":[0.0,1.0]},\"yaxis11\":{\"anchor\":\"x11\",\"domain\":[0.7846800000000004,0.7988000000000004],\"title\":{\"text\":\"duration_ms\"}},\"xaxis12\":{\"anchor\":\"y12\",\"domain\":[0.0,1.0]},\"yaxis12\":{\"anchor\":\"x12\",\"domain\":[0.7645600000000004,0.7786800000000004]},\"xaxis13\":{\"anchor\":\"y13\",\"domain\":[0.0,1.0]},\"yaxis13\":{\"anchor\":\"x13\",\"domain\":[0.7444400000000003,0.7585600000000003]},\"xaxis14\":{\"anchor\":\"y14\",\"domain\":[0.0,1.0]},\"yaxis14\":{\"anchor\":\"x14\",\"domain\":[0.7243200000000003,0.7384400000000003]},\"xaxis15\":{\"anchor\":\"y15\",\"domain\":[0.0,1.0]},\"yaxis15\":{\"anchor\":\"x15\",\"domain\":[0.7042000000000003,0.7183200000000003]},\"xaxis16\":{\"anchor\":\"y16\",\"domain\":[0.0,1.0]},\"yaxis16\":{\"anchor\":\"x16\",\"domain\":[0.6840800000000002,0.6982000000000003]},\"xaxis17\":{\"anchor\":\"y17\",\"domain\":[0.0,1.0]},\"yaxis17\":{\"anchor\":\"x17\",\"domain\":[0.6639600000000003,0.6780800000000003]},\"xaxis18\":{\"anchor\":\"y18\",\"domain\":[0.0,1.0]},\"yaxis18\":{\"anchor\":\"x18\",\"domain\":[0.6438400000000002,0.6579600000000002]},\"xaxis19\":{\"anchor\":\"y19\",\"domain\":[0.0,1.0]},\"yaxis19\":{\"anchor\":\"x19\",\"domain\":[0.6237200000000003,0.6378400000000003]},\"xaxis20\":{\"anchor\":\"y20\",\"domain\":[0.0,1.0]},\"yaxis20\":{\"anchor\":\"x20\",\"domain\":[0.6036000000000001,0.6177200000000002]},\"xaxis21\":{\"anchor\":\"y21\",\"domain\":[0.0,1.0]},\"yaxis21\":{\"anchor\":\"x21\",\"domain\":[0.5834800000000002,0.5976000000000002]},\"xaxis22\":{\"anchor\":\"y22\",\"domain\":[0.0,1.0]},\"yaxis22\":{\"anchor\":\"x22\",\"domain\":[0.5633600000000002,0.5774800000000002]},\"xaxis23\":{\"anchor\":\"y23\",\"domain\":[0.0,1.0]},\"yaxis23\":{\"anchor\":\"x23\",\"domain\":[0.5432400000000002,0.5573600000000002]},\"xaxis24\":{\"anchor\":\"y24\",\"domain\":[0.0,1.0]},\"yaxis24\":{\"anchor\":\"x24\",\"domain\":[0.5231200000000001,0.5372400000000002]},\"xaxis25\":{\"anchor\":\"y25\",\"domain\":[0.0,1.0]},\"yaxis25\":{\"anchor\":\"x25\",\"domain\":[0.5030000000000001,0.5171200000000001]},\"xaxis26\":{\"anchor\":\"y26\",\"domain\":[0.0,1.0]},\"yaxis26\":{\"anchor\":\"x26\",\"domain\":[0.4828800000000001,0.4970000000000001]},\"xaxis27\":{\"anchor\":\"y27\",\"domain\":[0.0,1.0]},\"yaxis27\":{\"anchor\":\"x27\",\"domain\":[0.46276000000000006,0.4768800000000001]},\"xaxis28\":{\"anchor\":\"y28\",\"domain\":[0.0,1.0]},\"yaxis28\":{\"anchor\":\"x28\",\"domain\":[0.44264000000000003,0.45676000000000005]},\"xaxis29\":{\"anchor\":\"y29\",\"domain\":[0.0,1.0]},\"yaxis29\":{\"anchor\":\"x29\",\"domain\":[0.42252,0.43664000000000003]},\"xaxis30\":{\"anchor\":\"y30\",\"domain\":[0.0,1.0]},\"yaxis30\":{\"anchor\":\"x30\",\"domain\":[0.4024,0.41652]},\"xaxis31\":{\"anchor\":\"y31\",\"domain\":[0.0,1.0]},\"yaxis31\":{\"anchor\":\"x31\",\"domain\":[0.38227999999999995,0.3964]},\"xaxis32\":{\"anchor\":\"y32\",\"domain\":[0.0,1.0]},\"yaxis32\":{\"anchor\":\"x32\",\"domain\":[0.3621599999999999,0.37627999999999995]},\"xaxis33\":{\"anchor\":\"y33\",\"domain\":[0.0,1.0]},\"yaxis33\":{\"anchor\":\"x33\",\"domain\":[0.3420399999999999,0.3561599999999999]},\"xaxis34\":{\"anchor\":\"y34\",\"domain\":[0.0,1.0]},\"yaxis34\":{\"anchor\":\"x34\",\"domain\":[0.32191999999999993,0.33603999999999995]},\"xaxis35\":{\"anchor\":\"y35\",\"domain\":[0.0,1.0]},\"yaxis35\":{\"anchor\":\"x35\",\"domain\":[0.30179999999999996,0.31592]},\"xaxis36\":{\"anchor\":\"y36\",\"domain\":[0.0,1.0]},\"yaxis36\":{\"anchor\":\"x36\",\"domain\":[0.28167999999999993,0.29579999999999995]},\"xaxis37\":{\"anchor\":\"y37\",\"domain\":[0.0,1.0]},\"yaxis37\":{\"anchor\":\"x37\",\"domain\":[0.26155999999999996,0.27568]},\"xaxis38\":{\"anchor\":\"y38\",\"domain\":[0.0,1.0]},\"yaxis38\":{\"anchor\":\"x38\",\"domain\":[0.24143999999999996,0.25555999999999995]},\"xaxis39\":{\"anchor\":\"y39\",\"domain\":[0.0,1.0]},\"yaxis39\":{\"anchor\":\"x39\",\"domain\":[0.22131999999999996,0.23543999999999995]},\"xaxis40\":{\"anchor\":\"y40\",\"domain\":[0.0,1.0]},\"yaxis40\":{\"anchor\":\"x40\",\"domain\":[0.20119999999999996,0.21531999999999996]},\"xaxis41\":{\"anchor\":\"y41\",\"domain\":[0.0,1.0]},\"yaxis41\":{\"anchor\":\"x41\",\"domain\":[0.18107999999999996,0.19519999999999996]},\"xaxis42\":{\"anchor\":\"y42\",\"domain\":[0.0,1.0]},\"yaxis42\":{\"anchor\":\"x42\",\"domain\":[0.16096,0.17507999999999999]},\"xaxis43\":{\"anchor\":\"y43\",\"domain\":[0.0,1.0]},\"yaxis43\":{\"anchor\":\"x43\",\"domain\":[0.14084,0.15496]},\"xaxis44\":{\"anchor\":\"y44\",\"domain\":[0.0,1.0]},\"yaxis44\":{\"anchor\":\"x44\",\"domain\":[0.12072,0.13484]},\"xaxis45\":{\"anchor\":\"y45\",\"domain\":[0.0,1.0]},\"yaxis45\":{\"anchor\":\"x45\",\"domain\":[0.1006,0.11471999999999999]},\"xaxis46\":{\"anchor\":\"y46\",\"domain\":[0.0,1.0]},\"yaxis46\":{\"anchor\":\"x46\",\"domain\":[0.08048,0.09459999999999999]},\"xaxis47\":{\"anchor\":\"y47\",\"domain\":[0.0,1.0]},\"yaxis47\":{\"anchor\":\"x47\",\"domain\":[0.06036,0.07447999999999999]},\"xaxis48\":{\"anchor\":\"y48\",\"domain\":[0.0,1.0]},\"yaxis48\":{\"anchor\":\"x48\",\"domain\":[0.04024,0.05436]},\"xaxis49\":{\"anchor\":\"y49\",\"domain\":[0.0,1.0]},\"yaxis49\":{\"anchor\":\"x49\",\"domain\":[0.02012,0.03424]},\"xaxis50\":{\"anchor\":\"y50\",\"domain\":[0.0,1.0]},\"yaxis50\":{\"anchor\":\"x50\",\"domain\":[0.0,0.014119999999999999]},\"title\":{\"text\":\"Box Plots for Numerical Columns\"},\"showlegend\":false,\"height\":20000},                        {\"responsive\": true}                    ).then(function(){\n",
       "                            \n",
       "var gd = document.getElementById('81cfe94c-90dc-42e3-8184-475cc6e3bbcf');\n",
       "var x = new MutationObserver(function (mutations, observer) {{\n",
       "        var display = window.getComputedStyle(gd).display;\n",
       "        if (!display || display === 'none') {{\n",
       "            console.log([gd, 'removed!']);\n",
       "            Plotly.purge(gd);\n",
       "            observer.disconnect();\n",
       "        }}\n",
       "}});\n",
       "\n",
       "// Listen for the removal of the full notebook cells\n",
       "var notebookContainer = gd.closest('#notebook-container');\n",
       "if (notebookContainer) {{\n",
       "    x.observe(notebookContainer, {childList: true});\n",
       "}}\n",
       "\n",
       "// Listen for the clearing of the current output cell\n",
       "var outputEl = gd.closest('.output');\n",
       "if (outputEl) {{\n",
       "    x.observe(outputEl, {childList: true});\n",
       "}}\n",
       "\n",
       "                        })                };                });            </script>        </div>"
      ]
     },
     "metadata": {},
     "output_type": "display_data"
    }
   ],
   "source": [
    "fig.update_layout(\n",
    "    title=\"Box Plots for Numerical Columns\",\n",
    "    showlegend=False,\n",
    "    height=400 * len(numerical_df),\n",
    ")"
   ]
  },
  {
   "cell_type": "markdown",
   "id": "01e83327",
   "metadata": {},
   "source": [
    "**There are some outliers. however, based on the source of this data, outliers can be just a consequence of different genres, not input mistakes.**"
   ]
  },
  {
   "cell_type": "markdown",
   "id": "eaa3b1e6",
   "metadata": {},
   "source": [
    "<span style='color: blue;'>Are there any artists that have more than 1 popular track? If yes, which and how many?</span>"
   ]
  },
  {
   "cell_type": "code",
   "execution_count": 19,
   "id": "89bd2c1a",
   "metadata": {},
   "outputs": [
    {
     "name": "stdout",
     "output_type": "stream",
     "text": [
      "These are the artists with more than one song in TOP50:\n",
      "Billie Eilish    3\n",
      "Dua Lipa         3\n",
      "Travis Scott     3\n",
      "Justin Bieber    2\n",
      "Harry Styles     2\n",
      "Lewis Capaldi    2\n",
      "Post Malone      2\n",
      "Name: artist, dtype: int64\n"
     ]
    }
   ],
   "source": [
    "pop_artist = df[\"artist\"].value_counts()\n",
    "print(\n",
    "    f\"These are the artists with more than one song in TOP50:\\n{pop_artist[pop_artist > 1]}\"\n",
    ")"
   ]
  },
  {
   "cell_type": "markdown",
   "id": "1ea1525f",
   "metadata": {},
   "source": [
    "<span style='color: blue;'>Who was the most popular artist?</span>"
   ]
  },
  {
   "cell_type": "code",
   "execution_count": 20,
   "id": "ddac6a42",
   "metadata": {},
   "outputs": [
    {
     "name": "stdout",
     "output_type": "stream",
     "text": [
      "These are the most popular Spotify Top 50 2020 artists:\n",
      "Billie Eilish    3\n",
      "Dua Lipa         3\n",
      "Travis Scott     3\n",
      "Name: artist, dtype: int64\n"
     ]
    }
   ],
   "source": [
    "print(\n",
    "    f\"These are the most popular Spotify Top 50 2020 artists:\\n{pop_artist[pop_artist == pop_artist.max()]}\"\n",
    ")"
   ]
  },
  {
   "cell_type": "markdown",
   "id": "f0c87b60",
   "metadata": {},
   "source": [
    "<span style='color: blue;'>How many artists in total have their songs in the top 50?</span>"
   ]
  },
  {
   "cell_type": "code",
   "execution_count": 21,
   "id": "016068cf",
   "metadata": {},
   "outputs": [
    {
     "name": "stdout",
     "output_type": "stream",
     "text": [
      "40 artists have their songs in the TOP 50\n"
     ]
    }
   ],
   "source": [
    "print(f'{df[\"artist\"].nunique()} artists have their songs in the TOP 50')"
   ]
  },
  {
   "cell_type": "markdown",
   "id": "20386567",
   "metadata": {},
   "source": [
    "<span style='color: blue;'>Are there any albums that have more than 1 popular track? If yes, which and how many?</span>"
   ]
  },
  {
   "cell_type": "code",
   "execution_count": 22,
   "id": "cf90bcb3",
   "metadata": {},
   "outputs": [
    {
     "name": "stdout",
     "output_type": "stream",
     "text": [
      "The albums with more than one song in TOP50:\n",
      "Future Nostalgia        3\n",
      "Hollywood's Bleeding    2\n",
      "Fine Line               2\n",
      "Changes                 2\n",
      "Name: album, dtype: int64\n"
     ]
    }
   ],
   "source": [
    "pop_albums = df[\"album\"].value_counts()\n",
    "print(f\"The albums with more than one song in TOP50:\\n{pop_albums[pop_albums > 1]}\")"
   ]
  },
  {
   "cell_type": "markdown",
   "id": "3f26d775",
   "metadata": {},
   "source": [
    "<span style='color: blue;'> How many albums in total have their songs in the top 50?</span>"
   ]
  },
  {
   "cell_type": "code",
   "execution_count": 23,
   "id": "4565f160",
   "metadata": {},
   "outputs": [
    {
     "name": "stdout",
     "output_type": "stream",
     "text": [
      "There are 45 albums in TOP 50\n"
     ]
    }
   ],
   "source": [
    "print(f'There are {df[\"album\"].nunique()} albums in TOP 50')"
   ]
  },
  {
   "cell_type": "markdown",
   "id": "9f9a2ae8",
   "metadata": {},
   "source": [
    "<span style='color: blue;'> Which tracks have a danceability score above 0.7?</span>"
   ]
  },
  {
   "cell_type": "code",
   "execution_count": 24,
   "id": "12208308",
   "metadata": {},
   "outputs": [
    {
     "name": "stdout",
     "output_type": "stream",
     "text": [
      "These songs are realy good for dancing:\n",
      "              artist                                     track_name\n",
      "1       Tones And I                                   Dance Monkey\n",
      "2       Roddy Ricch                                        The Box\n",
      "3         SAINt JHN                          Roses - Imanbek Remix\n",
      "4          Dua Lipa                                Don't Start Now\n",
      "5            DaBaby                   ROCKSTAR (feat. Roddy Ricch)\n",
      "7             Powfu               death bed (coffee for your head)\n",
      "8     Trevor Daniel                                        Falling\n",
      "10          KAROL G                                           Tusa\n",
      "13        Lil Mosey                                Blueberry Faygo\n",
      "14    Justin Bieber                       Intentions (feat. Quavo)\n",
      "15            Drake                                   Toosie Slide\n",
      "17         Doja Cat                                         Say So\n",
      "18         Maroon 5                                       Memories\n",
      "19           Future                     Life Is Good (feat. Drake)\n",
      "20        Jawsh 685               Savage Love (Laxed - Siren Beat)\n",
      "22            Topic                                    Breaking Me\n",
      "24    Billie Eilish                            everything i wanted\n",
      "25     Shawn Mendes                                       Señorita\n",
      "26    Billie Eilish                                        bad guy\n",
      "27          Cardi B                WAP (feat. Megan Thee Stallion)\n",
      "28         Surfaces                                    Sunday Best\n",
      "29           Eminem                    Godzilla (feat. Juice WRLD)\n",
      "31         Dua Lipa                                 Break My Heart\n",
      "32              BTS                                       Dynamite\n",
      "33            BENEE               Supalonely (feat. Gus Dapperton)\n",
      "37      Post Malone  Sunflower - Spider-Man: Into the Spider-Verse\n",
      "38           Maluma                                          Hawái\n",
      "39           Regard                                        Ride It\n",
      "40     Travis Scott                                     goosebumps\n",
      "41  Black Eyed Peas                      RITMO (Bad Boys For Life)\n",
      "42       THE SCOTTS                                     THE SCOTTS\n",
      "49     Travis Scott                                     SICKO MODE\n"
     ]
    }
   ],
   "source": [
    "dance_mask = df[\"danceability\"].gt(0.7)\n",
    "print(\n",
    "    f'These songs are realy good for dancing:\\n {df[dance_mask][[\"artist\",\"track_name\"]]}'\n",
    ")"
   ]
  },
  {
   "cell_type": "markdown",
   "id": "bc6e53a0",
   "metadata": {},
   "source": [
    "<span style='color: blue;'> Which tracks have a danceability score below 0.4?</span>"
   ]
  },
  {
   "cell_type": "code",
   "execution_count": 25,
   "id": "4d948517",
   "metadata": {},
   "outputs": [
    {
     "name": "stdout",
     "output_type": "stream",
     "text": [
      "These songs are nice but not for dancing:\n",
      "           artist            track_name\n",
      "44  Billie Eilish  lovely (with Khalid)\n"
     ]
    }
   ],
   "source": [
    "nodance_mask = df[\"danceability\"].lt(0.4)\n",
    "print(\n",
    "    f'These songs are nice but not for dancing:\\n{df[nodance_mask][[\"artist\", \"track_name\"]]}'\n",
    ")"
   ]
  },
  {
   "cell_type": "markdown",
   "id": "1f1b5f75",
   "metadata": {},
   "source": [
    "<span style='color: blue;'> Which tracks have their loudness above -5?</span>"
   ]
  },
  {
   "cell_type": "code",
   "execution_count": 26,
   "id": "89662ce1",
   "metadata": {},
   "outputs": [
    {
     "name": "stdout",
     "output_type": "stream",
     "text": [
      "These songs are loud:\n",
      "            artist                                     track_name\n",
      "4        Dua Lipa                                Don't Start Now\n",
      "6    Harry Styles                               Watermelon Sugar\n",
      "10        KAROL G                                           Tusa\n",
      "12    Post Malone                                        Circles\n",
      "16  Lewis Capaldi                                  Before You Go\n",
      "17       Doja Cat                                         Say So\n",
      "21   Harry Styles                                      Adore You\n",
      "23       24kGoldn                         Mood (feat. iann dior)\n",
      "31       Dua Lipa                                 Break My Heart\n",
      "32            BTS                                       Dynamite\n",
      "33          BENEE               Supalonely (feat. Gus Dapperton)\n",
      "35      Lady Gaga                Rain On Me (with Ariana Grande)\n",
      "37    Post Malone  Sunflower - Spider-Man: Into the Spider-Verse\n",
      "38         Maluma                                          Hawái\n",
      "39         Regard                                        Ride It\n",
      "40   Travis Scott                                     goosebumps\n",
      "43      Bad Bunny                                        Safaera\n",
      "48       Dua Lipa                                       Physical\n",
      "49   Travis Scott                                     SICKO MODE\n"
     ]
    }
   ],
   "source": [
    "loud_mask = df[\"loudness\"].gt(-5)\n",
    "print(f'These songs are loud:\\n {df[loud_mask][[\"artist\", \"track_name\"]]}')"
   ]
  },
  {
   "cell_type": "markdown",
   "id": "a9197287",
   "metadata": {},
   "source": [
    "<span style='color: blue;'> Which tracks have their loudness below -8?</span>"
   ]
  },
  {
   "cell_type": "code",
   "execution_count": 27,
   "id": "365acf02",
   "metadata": {},
   "outputs": [
    {
     "name": "stdout",
     "output_type": "stream",
     "text": [
      "These songs are quiet:\n",
      "            artist                                      track_name\n",
      "7           Powfu                death bed (coffee for your head)\n",
      "8   Trevor Daniel                                         Falling\n",
      "15          Drake                                    Toosie Slide\n",
      "20      Jawsh 685                Savage Love (Laxed - Siren Beat)\n",
      "24  Billie Eilish                             everything i wanted\n",
      "26  Billie Eilish                                         bad guy\n",
      "36   Travis Scott                             HIGHEST IN THE ROOM\n",
      "44  Billie Eilish                            lovely (with Khalid)\n",
      "47        JP Saxe  If the World Was Ending - feat. Julia Michaels\n"
     ]
    }
   ],
   "source": [
    "quiet_mask = df[\"loudness\"].lt(-8)\n",
    "print(f'These songs are quiet:\\n {df[quiet_mask][[\"artist\", \"track_name\"]]}')"
   ]
  },
  {
   "cell_type": "markdown",
   "id": "f5508fc1",
   "metadata": {},
   "source": [
    "<span style='color: blue;'> Which track is the longest?<span>"
   ]
  },
  {
   "cell_type": "code",
   "execution_count": 28,
   "id": "672ccf34",
   "metadata": {},
   "outputs": [
    {
     "name": "stdout",
     "output_type": "stream",
     "text": [
      "This is the longest song in TOP 50:\n",
      "          artist  track_name\n",
      "49  Travis Scott  SICKO MODE\n"
     ]
    }
   ],
   "source": [
    "longest = df[\"duration_ms\"].idxmax()\n",
    "print(\n",
    "    f'This is the longest song in TOP 50:\\n{df.loc[[longest], [\"artist\", \"track_name\"]]}'\n",
    ")"
   ]
  },
  {
   "cell_type": "markdown",
   "id": "4b2e2f77",
   "metadata": {},
   "source": [
    "<span style='color: blue;'>Which track is the shortest?"
   ]
  },
  {
   "cell_type": "code",
   "execution_count": 29,
   "id": "057ea223",
   "metadata": {},
   "outputs": [
    {
     "name": "stdout",
     "output_type": "stream",
     "text": [
      "This is the shortest song in TOP 50:\n",
      "      artist              track_name\n",
      "23  24kGoldn  Mood (feat. iann dior)\n"
     ]
    }
   ],
   "source": [
    "shortest = df[\"duration_ms\"].idxmin()\n",
    "print(\n",
    "    f'This is the shortest song in TOP 50:\\n{df.loc[[shortest], [\"artist\", \"track_name\"]]}'\n",
    ")"
   ]
  },
  {
   "cell_type": "markdown",
   "id": "2a19736d",
   "metadata": {},
   "source": [
    "<span style='color: blue;'>Which genre is the most popular?"
   ]
  },
  {
   "cell_type": "code",
   "execution_count": 30,
   "id": "9db6ba67",
   "metadata": {},
   "outputs": [
    {
     "name": "stdout",
     "output_type": "stream",
     "text": [
      "Pop is the most popular genre in TOP 50\n"
     ]
    }
   ],
   "source": [
    "print(f'{df[\"genre\"].value_counts().idxmax()} is the most popular genre in TOP 50')"
   ]
  },
  {
   "cell_type": "markdown",
   "id": "4e170cff",
   "metadata": {},
   "source": [
    "<span style='color:blue;'>Which genres have just one song on the top 50?"
   ]
  },
  {
   "cell_type": "code",
   "execution_count": 31,
   "id": "3c8ee1a0",
   "metadata": {},
   "outputs": [
    {
     "name": "stdout",
     "output_type": "stream",
     "text": [
      "These genres have only 1 song in TOP 50:\n",
      "Nu-disco\n",
      "R&B/Hip-Hop alternative\n",
      "Pop/Soft Rock\n",
      "Pop rap\n",
      "Hip-Hop/Trap\n",
      "Dance-pop/Disco\n",
      "Disco-pop\n",
      "Dreampop/Hip-Hop/R&B\n",
      "Alternative/reggaeton/experimental\n",
      "Chamber pop\n"
     ]
    }
   ],
   "source": [
    "genre_count = df[\"genre\"].value_counts()\n",
    "print(\n",
    "    \"These genres have only 1 song in TOP 50:\\n\"\n",
    "    + \"\\n\".join(genre_count[genre_count == 1].index.tolist())\n",
    ")"
   ]
  },
  {
   "cell_type": "markdown",
   "id": "e71c8099",
   "metadata": {},
   "source": [
    "<span style='color:blue;'>How many genres in total are represented in the top 50?"
   ]
  },
  {
   "cell_type": "code",
   "execution_count": 32,
   "id": "c5d67c76",
   "metadata": {},
   "outputs": [
    {
     "name": "stdout",
     "output_type": "stream",
     "text": [
      "16 genres are represented in TOP 50\n"
     ]
    }
   ],
   "source": [
    "print(f'{df[\"genre\"].nunique()} genres are represented in TOP 50')"
   ]
  },
  {
   "cell_type": "markdown",
   "id": "cfc1fca3",
   "metadata": {},
   "source": [
    "<span style='color:blue;'>Which features are strongly positively correlated?</span><br> Basically that means finding not signifficant "
   ]
  },
  {
   "cell_type": "code",
   "execution_count": 33,
   "id": "8e6661a4",
   "metadata": {},
   "outputs": [
    {
     "data": {
      "text/plain": [
       "energy    loudness    0.79\n",
       "loudness  energy      0.79\n",
       "dtype: float64"
      ]
     },
     "execution_count": 33,
     "metadata": {},
     "output_type": "execute_result"
    }
   ],
   "source": [
    "cor_matrix = round(numerical_df.corr(), 2)\n",
    "mask = (cor_matrix > 0.5) & (cor_matrix < 1)\n",
    "cor_matrix[mask].stack()"
   ]
  },
  {
   "cell_type": "markdown",
   "id": "57e2b481",
   "metadata": {},
   "source": [
    "*The p value should be checked to make sure energy and loudness a truly correlated*"
   ]
  },
  {
   "cell_type": "code",
   "execution_count": 34,
   "id": "ca508f7a",
   "metadata": {},
   "outputs": [
    {
     "data": {
      "text/plain": [
       "PearsonRResult(statistic=0.7916395653045618, pvalue=7.674982027015801e-12)"
      ]
     },
     "execution_count": 34,
     "metadata": {},
     "output_type": "execute_result"
    }
   ],
   "source": [
    "import scipy.stats\n",
    "\n",
    "scipy.stats.pearsonr(numerical_df[\"energy\"], numerical_df[\"loudness\"])"
   ]
  },
  {
   "cell_type": "markdown",
   "id": "1c5f1cc3",
   "metadata": {},
   "source": [
    "**There is a strong positive correlation between song loudness and energy (p < 0.001), meaning that the bigger loudness feature, the greater song energy**"
   ]
  },
  {
   "cell_type": "markdown",
   "id": "6129b331",
   "metadata": {},
   "source": [
    "<span style='color:blue;'>Which features are strongly negatively correlated?"
   ]
  },
  {
   "cell_type": "code",
   "execution_count": 35,
   "id": "7970af33",
   "metadata": {},
   "outputs": [
    {
     "data": {
      "text/plain": [
       "energy            acousticness       -0.68\n",
       "loudness          instrumentalness   -0.55\n",
       "acousticness      energy             -0.68\n",
       "instrumentalness  loudness           -0.55\n",
       "dtype: float64"
      ]
     },
     "execution_count": 35,
     "metadata": {},
     "output_type": "execute_result"
    }
   ],
   "source": [
    "mask_negative = cor_matrix.lt(-0.5)\n",
    "cor_matrix[mask_negative].stack()"
   ]
  },
  {
   "cell_type": "code",
   "execution_count": 36,
   "id": "6978b324",
   "metadata": {},
   "outputs": [
    {
     "name": "stdout",
     "output_type": "stream",
     "text": [
      "PearsonRResult(statistic=-0.682478520324153, pvalue=4.795622803271117e-08)\n",
      "PearsonRResult(statistic=-0.5537348090851062, pvalue=3.0280913330404932e-05)\n"
     ]
    }
   ],
   "source": [
    "print(scipy.stats.pearsonr(numerical_df[\"energy\"], numerical_df[\"acousticness\"]))\n",
    "print(scipy.stats.pearsonr(numerical_df[\"loudness\"], numerical_df[\"instrumentalness\"]))"
   ]
  },
  {
   "cell_type": "markdown",
   "id": "25d0538b",
   "metadata": {},
   "source": [
    "**There is a strong negative correlation (p < 0.001) between song energy and acousticness and between loudness and instrumentalness, meaning that loud, fast songs(i.e. high in energy) are low in acoustics, and loud song are low in instrumentalness**"
   ]
  },
  {
   "cell_type": "markdown",
   "id": "0e727c48",
   "metadata": {},
   "source": [
    "<span style='color:blue;'>Which features are not correlated?</span> <br>\n",
    "    Basically that means finding all not significant p values"
   ]
  },
  {
   "cell_type": "code",
   "execution_count": 37,
   "id": "cc477d3e",
   "metadata": {},
   "outputs": [],
   "source": [
    "from itertools import combinations\n",
    "\n",
    "column_names = numerical_df.columns.tolist()\n",
    "# Create a list of numerical features\n",
    "column_pairs = list(combinations(column_names, 2))\n",
    "# Create a list of tuples containing feature pairs\n",
    "\n",
    "\n",
    "def p_notsignif(df=numerical_df, between=column_pairs):\n",
    "    \"\"\"Create a dictionary containing features that do not correlate\"\"\"\n",
    "    p_value_dict = {}\n",
    "    for pair in between:\n",
    "        col1, col2 = pair\n",
    "        correlation, p_value = scipy.stats.pearsonr(df[col1], df[col2])\n",
    "        if p_value > 0.05:\n",
    "            if col1 in p_value_dict:\n",
    "                p_value_dict[col1].append(col2)\n",
    "            else:\n",
    "                p_value_dict[col1] = [col2]\n",
    "            if col2 in p_value_dict:\n",
    "                p_value_dict[col2].append(col1)\n",
    "            else:\n",
    "                p_value_dict[col2] = [col1]\n",
    "    return p_value_dict"
   ]
  },
  {
   "cell_type": "code",
   "execution_count": 39,
   "id": "b36fad5f",
   "metadata": {},
   "outputs": [
    {
     "data": {
      "text/plain": [
       "{'energy': ['danceability',\n",
       "  'key',\n",
       "  'speechiness',\n",
       "  'liveness',\n",
       "  'tempo',\n",
       "  'duration_ms'],\n",
       " 'danceability': ['energy',\n",
       "  'loudness',\n",
       "  'speechiness',\n",
       "  'instrumentalness',\n",
       "  'liveness',\n",
       "  'tempo',\n",
       "  'duration_ms'],\n",
       " 'key': ['energy',\n",
       "  'loudness',\n",
       "  'acousticness',\n",
       "  'speechiness',\n",
       "  'instrumentalness',\n",
       "  'liveness',\n",
       "  'valence',\n",
       "  'tempo',\n",
       "  'duration_ms'],\n",
       " 'speechiness': ['energy',\n",
       "  'danceability',\n",
       "  'key',\n",
       "  'loudness',\n",
       "  'acousticness',\n",
       "  'instrumentalness',\n",
       "  'liveness',\n",
       "  'valence',\n",
       "  'tempo'],\n",
       " 'liveness': ['energy',\n",
       "  'danceability',\n",
       "  'key',\n",
       "  'loudness',\n",
       "  'acousticness',\n",
       "  'speechiness',\n",
       "  'instrumentalness',\n",
       "  'valence',\n",
       "  'tempo',\n",
       "  'duration_ms'],\n",
       " 'tempo': ['energy',\n",
       "  'danceability',\n",
       "  'key',\n",
       "  'loudness',\n",
       "  'acousticness',\n",
       "  'speechiness',\n",
       "  'instrumentalness',\n",
       "  'liveness',\n",
       "  'valence',\n",
       "  'duration_ms'],\n",
       " 'duration_ms': ['energy',\n",
       "  'danceability',\n",
       "  'key',\n",
       "  'loudness',\n",
       "  'acousticness',\n",
       "  'instrumentalness',\n",
       "  'liveness',\n",
       "  'valence',\n",
       "  'tempo'],\n",
       " 'loudness': ['danceability',\n",
       "  'key',\n",
       "  'speechiness',\n",
       "  'liveness',\n",
       "  'tempo',\n",
       "  'duration_ms'],\n",
       " 'instrumentalness': ['danceability',\n",
       "  'key',\n",
       "  'speechiness',\n",
       "  'liveness',\n",
       "  'valence',\n",
       "  'tempo',\n",
       "  'duration_ms'],\n",
       " 'acousticness': ['key',\n",
       "  'speechiness',\n",
       "  'liveness',\n",
       "  'valence',\n",
       "  'tempo',\n",
       "  'duration_ms'],\n",
       " 'valence': ['key',\n",
       "  'acousticness',\n",
       "  'speechiness',\n",
       "  'instrumentalness',\n",
       "  'liveness',\n",
       "  'tempo',\n",
       "  'duration_ms']}"
      ]
     },
     "execution_count": 39,
     "metadata": {},
     "output_type": "execute_result"
    }
   ],
   "source": [
    "p_notsignif()"
   ]
  },
  {
   "cell_type": "markdown",
   "id": "d949fbb8",
   "metadata": {},
   "source": [
    "**In this dictionary we can see which features do not correlate**"
   ]
  },
  {
   "cell_type": "markdown",
   "id": "76914693",
   "metadata": {},
   "source": [
    "<span style='color:blue;'>How does the danceability score compare between Pop, Hip-Hop/Rap, Dance/Electronic, and Alternative/Indie genres?"
   ]
  },
  {
   "cell_type": "code",
   "execution_count": 40,
   "id": "8ff71e93",
   "metadata": {},
   "outputs": [
    {
     "data": {
      "text/plain": [
       "genre\n",
       "Hip-Hop/Rap          0.766\n",
       "Dance/Electronic     0.755\n",
       "Pop                  0.678\n",
       "Alternative/Indie    0.662\n",
       "Name: danceability, dtype: float64"
      ]
     },
     "execution_count": 40,
     "metadata": {},
     "output_type": "execute_result"
    }
   ],
   "source": [
    "genre_filter = [\"Pop\", \"Hip-Hop/Rap\", \"Dance/Electronic\", \"Alternative/Indie\"]\n",
    "compare_dance = df[df[\"genre\"].isin(genre_filter)].filter(\n",
    "    items=[\"danceability\", \"genre\"]\n",
    ")\n",
    "compare_dance.groupby(\"genre\")[\"danceability\"].mean().round(3).sort_values(\n",
    "    ascending=False\n",
    ")"
   ]
  },
  {
   "cell_type": "markdown",
   "id": "a5dc2791",
   "metadata": {},
   "source": [
    "**Hip-Hop/Rap has the highest mean danceability, closely followed by Dance/Electronics** It might be nicer to see the differences between these genres in a figure"
   ]
  },
  {
   "cell_type": "code",
   "execution_count": 41,
   "id": "56167fae",
   "metadata": {},
   "outputs": [
    {
     "data": {
      "application/vnd.plotly.v1+json": {
       "config": {
        "plotlyServerURL": "https://plot.ly"
       },
       "data": [
        {
         "alignmentgroup": "True",
         "hovertemplate": "genre=%{x}<br>danceability=%{y}<extra></extra>",
         "legendgroup": "",
         "marker": {
          "color": "#636efa"
         },
         "name": "",
         "notched": false,
         "offsetgroup": "",
         "orientation": "v",
         "showlegend": false,
         "type": "box",
         "x": [
          "Alternative/Indie",
          "Hip-Hop/Rap",
          "Dance/Electronic",
          "Hip-Hop/Rap",
          "Pop",
          "Hip-Hop/Rap",
          "Alternative/Indie",
          "Pop",
          "Hip-Hop/Rap",
          "Hip-Hop/Rap",
          "Pop",
          "Hip-Hop/Rap",
          "Alternative/Indie",
          "Pop",
          "Hip-Hop/Rap",
          "Hip-Hop/Rap",
          "Pop",
          "Dance/Electronic",
          "Pop",
          "Pop",
          "Hip-Hop/Rap",
          "Pop",
          "Alternative/Indie",
          "Dance/Electronic",
          "Pop",
          "Hip-Hop/Rap",
          "Pop",
          "Dance/Electronic",
          "Hip-Hop/Rap",
          "Pop",
          "Hip-Hop/Rap",
          "Pop",
          "Pop",
          "Pop",
          "Dance/Electronic",
          "Hip-Hop/Rap"
         ],
         "x0": " ",
         "xaxis": "x",
         "y": [
          0.825,
          0.896,
          0.785,
          0.746,
          0.548,
          0.726,
          0.501,
          0.803,
          0.621,
          0.774,
          0.806,
          0.83,
          0.459,
          0.764,
          0.795,
          0.767,
          0.676,
          0.789,
          0.704,
          0.759,
          0.808,
          0.676,
          0.862,
          0.674,
          0.672,
          0.598,
          0.783,
          0.88,
          0.841,
          0.723,
          0.716,
          0.511,
          0.597,
          0.464,
          0.647,
          0.834
         ],
         "y0": " ",
         "yaxis": "y"
        }
       ],
       "layout": {
        "boxmode": "group",
        "legend": {
         "tracegroupgap": 0
        },
        "template": {
         "data": {
          "bar": [
           {
            "error_x": {
             "color": "#2a3f5f"
            },
            "error_y": {
             "color": "#2a3f5f"
            },
            "marker": {
             "line": {
              "color": "#E5ECF6",
              "width": 0.5
             },
             "pattern": {
              "fillmode": "overlay",
              "size": 10,
              "solidity": 0.2
             }
            },
            "type": "bar"
           }
          ],
          "barpolar": [
           {
            "marker": {
             "line": {
              "color": "#E5ECF6",
              "width": 0.5
             },
             "pattern": {
              "fillmode": "overlay",
              "size": 10,
              "solidity": 0.2
             }
            },
            "type": "barpolar"
           }
          ],
          "carpet": [
           {
            "aaxis": {
             "endlinecolor": "#2a3f5f",
             "gridcolor": "white",
             "linecolor": "white",
             "minorgridcolor": "white",
             "startlinecolor": "#2a3f5f"
            },
            "baxis": {
             "endlinecolor": "#2a3f5f",
             "gridcolor": "white",
             "linecolor": "white",
             "minorgridcolor": "white",
             "startlinecolor": "#2a3f5f"
            },
            "type": "carpet"
           }
          ],
          "choropleth": [
           {
            "colorbar": {
             "outlinewidth": 0,
             "ticks": ""
            },
            "type": "choropleth"
           }
          ],
          "contour": [
           {
            "colorbar": {
             "outlinewidth": 0,
             "ticks": ""
            },
            "colorscale": [
             [
              0,
              "#0d0887"
             ],
             [
              0.1111111111111111,
              "#46039f"
             ],
             [
              0.2222222222222222,
              "#7201a8"
             ],
             [
              0.3333333333333333,
              "#9c179e"
             ],
             [
              0.4444444444444444,
              "#bd3786"
             ],
             [
              0.5555555555555556,
              "#d8576b"
             ],
             [
              0.6666666666666666,
              "#ed7953"
             ],
             [
              0.7777777777777778,
              "#fb9f3a"
             ],
             [
              0.8888888888888888,
              "#fdca26"
             ],
             [
              1,
              "#f0f921"
             ]
            ],
            "type": "contour"
           }
          ],
          "contourcarpet": [
           {
            "colorbar": {
             "outlinewidth": 0,
             "ticks": ""
            },
            "type": "contourcarpet"
           }
          ],
          "heatmap": [
           {
            "colorbar": {
             "outlinewidth": 0,
             "ticks": ""
            },
            "colorscale": [
             [
              0,
              "#0d0887"
             ],
             [
              0.1111111111111111,
              "#46039f"
             ],
             [
              0.2222222222222222,
              "#7201a8"
             ],
             [
              0.3333333333333333,
              "#9c179e"
             ],
             [
              0.4444444444444444,
              "#bd3786"
             ],
             [
              0.5555555555555556,
              "#d8576b"
             ],
             [
              0.6666666666666666,
              "#ed7953"
             ],
             [
              0.7777777777777778,
              "#fb9f3a"
             ],
             [
              0.8888888888888888,
              "#fdca26"
             ],
             [
              1,
              "#f0f921"
             ]
            ],
            "type": "heatmap"
           }
          ],
          "heatmapgl": [
           {
            "colorbar": {
             "outlinewidth": 0,
             "ticks": ""
            },
            "colorscale": [
             [
              0,
              "#0d0887"
             ],
             [
              0.1111111111111111,
              "#46039f"
             ],
             [
              0.2222222222222222,
              "#7201a8"
             ],
             [
              0.3333333333333333,
              "#9c179e"
             ],
             [
              0.4444444444444444,
              "#bd3786"
             ],
             [
              0.5555555555555556,
              "#d8576b"
             ],
             [
              0.6666666666666666,
              "#ed7953"
             ],
             [
              0.7777777777777778,
              "#fb9f3a"
             ],
             [
              0.8888888888888888,
              "#fdca26"
             ],
             [
              1,
              "#f0f921"
             ]
            ],
            "type": "heatmapgl"
           }
          ],
          "histogram": [
           {
            "marker": {
             "pattern": {
              "fillmode": "overlay",
              "size": 10,
              "solidity": 0.2
             }
            },
            "type": "histogram"
           }
          ],
          "histogram2d": [
           {
            "colorbar": {
             "outlinewidth": 0,
             "ticks": ""
            },
            "colorscale": [
             [
              0,
              "#0d0887"
             ],
             [
              0.1111111111111111,
              "#46039f"
             ],
             [
              0.2222222222222222,
              "#7201a8"
             ],
             [
              0.3333333333333333,
              "#9c179e"
             ],
             [
              0.4444444444444444,
              "#bd3786"
             ],
             [
              0.5555555555555556,
              "#d8576b"
             ],
             [
              0.6666666666666666,
              "#ed7953"
             ],
             [
              0.7777777777777778,
              "#fb9f3a"
             ],
             [
              0.8888888888888888,
              "#fdca26"
             ],
             [
              1,
              "#f0f921"
             ]
            ],
            "type": "histogram2d"
           }
          ],
          "histogram2dcontour": [
           {
            "colorbar": {
             "outlinewidth": 0,
             "ticks": ""
            },
            "colorscale": [
             [
              0,
              "#0d0887"
             ],
             [
              0.1111111111111111,
              "#46039f"
             ],
             [
              0.2222222222222222,
              "#7201a8"
             ],
             [
              0.3333333333333333,
              "#9c179e"
             ],
             [
              0.4444444444444444,
              "#bd3786"
             ],
             [
              0.5555555555555556,
              "#d8576b"
             ],
             [
              0.6666666666666666,
              "#ed7953"
             ],
             [
              0.7777777777777778,
              "#fb9f3a"
             ],
             [
              0.8888888888888888,
              "#fdca26"
             ],
             [
              1,
              "#f0f921"
             ]
            ],
            "type": "histogram2dcontour"
           }
          ],
          "mesh3d": [
           {
            "colorbar": {
             "outlinewidth": 0,
             "ticks": ""
            },
            "type": "mesh3d"
           }
          ],
          "parcoords": [
           {
            "line": {
             "colorbar": {
              "outlinewidth": 0,
              "ticks": ""
             }
            },
            "type": "parcoords"
           }
          ],
          "pie": [
           {
            "automargin": true,
            "type": "pie"
           }
          ],
          "scatter": [
           {
            "fillpattern": {
             "fillmode": "overlay",
             "size": 10,
             "solidity": 0.2
            },
            "type": "scatter"
           }
          ],
          "scatter3d": [
           {
            "line": {
             "colorbar": {
              "outlinewidth": 0,
              "ticks": ""
             }
            },
            "marker": {
             "colorbar": {
              "outlinewidth": 0,
              "ticks": ""
             }
            },
            "type": "scatter3d"
           }
          ],
          "scattercarpet": [
           {
            "marker": {
             "colorbar": {
              "outlinewidth": 0,
              "ticks": ""
             }
            },
            "type": "scattercarpet"
           }
          ],
          "scattergeo": [
           {
            "marker": {
             "colorbar": {
              "outlinewidth": 0,
              "ticks": ""
             }
            },
            "type": "scattergeo"
           }
          ],
          "scattergl": [
           {
            "marker": {
             "colorbar": {
              "outlinewidth": 0,
              "ticks": ""
             }
            },
            "type": "scattergl"
           }
          ],
          "scattermapbox": [
           {
            "marker": {
             "colorbar": {
              "outlinewidth": 0,
              "ticks": ""
             }
            },
            "type": "scattermapbox"
           }
          ],
          "scatterpolar": [
           {
            "marker": {
             "colorbar": {
              "outlinewidth": 0,
              "ticks": ""
             }
            },
            "type": "scatterpolar"
           }
          ],
          "scatterpolargl": [
           {
            "marker": {
             "colorbar": {
              "outlinewidth": 0,
              "ticks": ""
             }
            },
            "type": "scatterpolargl"
           }
          ],
          "scatterternary": [
           {
            "marker": {
             "colorbar": {
              "outlinewidth": 0,
              "ticks": ""
             }
            },
            "type": "scatterternary"
           }
          ],
          "surface": [
           {
            "colorbar": {
             "outlinewidth": 0,
             "ticks": ""
            },
            "colorscale": [
             [
              0,
              "#0d0887"
             ],
             [
              0.1111111111111111,
              "#46039f"
             ],
             [
              0.2222222222222222,
              "#7201a8"
             ],
             [
              0.3333333333333333,
              "#9c179e"
             ],
             [
              0.4444444444444444,
              "#bd3786"
             ],
             [
              0.5555555555555556,
              "#d8576b"
             ],
             [
              0.6666666666666666,
              "#ed7953"
             ],
             [
              0.7777777777777778,
              "#fb9f3a"
             ],
             [
              0.8888888888888888,
              "#fdca26"
             ],
             [
              1,
              "#f0f921"
             ]
            ],
            "type": "surface"
           }
          ],
          "table": [
           {
            "cells": {
             "fill": {
              "color": "#EBF0F8"
             },
             "line": {
              "color": "white"
             }
            },
            "header": {
             "fill": {
              "color": "#C8D4E3"
             },
             "line": {
              "color": "white"
             }
            },
            "type": "table"
           }
          ]
         },
         "layout": {
          "annotationdefaults": {
           "arrowcolor": "#2a3f5f",
           "arrowhead": 0,
           "arrowwidth": 1
          },
          "autotypenumbers": "strict",
          "coloraxis": {
           "colorbar": {
            "outlinewidth": 0,
            "ticks": ""
           }
          },
          "colorscale": {
           "diverging": [
            [
             0,
             "#8e0152"
            ],
            [
             0.1,
             "#c51b7d"
            ],
            [
             0.2,
             "#de77ae"
            ],
            [
             0.3,
             "#f1b6da"
            ],
            [
             0.4,
             "#fde0ef"
            ],
            [
             0.5,
             "#f7f7f7"
            ],
            [
             0.6,
             "#e6f5d0"
            ],
            [
             0.7,
             "#b8e186"
            ],
            [
             0.8,
             "#7fbc41"
            ],
            [
             0.9,
             "#4d9221"
            ],
            [
             1,
             "#276419"
            ]
           ],
           "sequential": [
            [
             0,
             "#0d0887"
            ],
            [
             0.1111111111111111,
             "#46039f"
            ],
            [
             0.2222222222222222,
             "#7201a8"
            ],
            [
             0.3333333333333333,
             "#9c179e"
            ],
            [
             0.4444444444444444,
             "#bd3786"
            ],
            [
             0.5555555555555556,
             "#d8576b"
            ],
            [
             0.6666666666666666,
             "#ed7953"
            ],
            [
             0.7777777777777778,
             "#fb9f3a"
            ],
            [
             0.8888888888888888,
             "#fdca26"
            ],
            [
             1,
             "#f0f921"
            ]
           ],
           "sequentialminus": [
            [
             0,
             "#0d0887"
            ],
            [
             0.1111111111111111,
             "#46039f"
            ],
            [
             0.2222222222222222,
             "#7201a8"
            ],
            [
             0.3333333333333333,
             "#9c179e"
            ],
            [
             0.4444444444444444,
             "#bd3786"
            ],
            [
             0.5555555555555556,
             "#d8576b"
            ],
            [
             0.6666666666666666,
             "#ed7953"
            ],
            [
             0.7777777777777778,
             "#fb9f3a"
            ],
            [
             0.8888888888888888,
             "#fdca26"
            ],
            [
             1,
             "#f0f921"
            ]
           ]
          },
          "colorway": [
           "#636efa",
           "#EF553B",
           "#00cc96",
           "#ab63fa",
           "#FFA15A",
           "#19d3f3",
           "#FF6692",
           "#B6E880",
           "#FF97FF",
           "#FECB52"
          ],
          "font": {
           "color": "#2a3f5f"
          },
          "geo": {
           "bgcolor": "white",
           "lakecolor": "white",
           "landcolor": "#E5ECF6",
           "showlakes": true,
           "showland": true,
           "subunitcolor": "white"
          },
          "hoverlabel": {
           "align": "left"
          },
          "hovermode": "closest",
          "mapbox": {
           "style": "light"
          },
          "paper_bgcolor": "white",
          "plot_bgcolor": "#E5ECF6",
          "polar": {
           "angularaxis": {
            "gridcolor": "white",
            "linecolor": "white",
            "ticks": ""
           },
           "bgcolor": "#E5ECF6",
           "radialaxis": {
            "gridcolor": "white",
            "linecolor": "white",
            "ticks": ""
           }
          },
          "scene": {
           "xaxis": {
            "backgroundcolor": "#E5ECF6",
            "gridcolor": "white",
            "gridwidth": 2,
            "linecolor": "white",
            "showbackground": true,
            "ticks": "",
            "zerolinecolor": "white"
           },
           "yaxis": {
            "backgroundcolor": "#E5ECF6",
            "gridcolor": "white",
            "gridwidth": 2,
            "linecolor": "white",
            "showbackground": true,
            "ticks": "",
            "zerolinecolor": "white"
           },
           "zaxis": {
            "backgroundcolor": "#E5ECF6",
            "gridcolor": "white",
            "gridwidth": 2,
            "linecolor": "white",
            "showbackground": true,
            "ticks": "",
            "zerolinecolor": "white"
           }
          },
          "shapedefaults": {
           "line": {
            "color": "#2a3f5f"
           }
          },
          "ternary": {
           "aaxis": {
            "gridcolor": "white",
            "linecolor": "white",
            "ticks": ""
           },
           "baxis": {
            "gridcolor": "white",
            "linecolor": "white",
            "ticks": ""
           },
           "bgcolor": "#E5ECF6",
           "caxis": {
            "gridcolor": "white",
            "linecolor": "white",
            "ticks": ""
           }
          },
          "title": {
           "x": 0.05
          },
          "xaxis": {
           "automargin": true,
           "gridcolor": "white",
           "linecolor": "white",
           "ticks": "",
           "title": {
            "standoff": 15
           },
           "zerolinecolor": "white",
           "zerolinewidth": 2
          },
          "yaxis": {
           "automargin": true,
           "gridcolor": "white",
           "linecolor": "white",
           "ticks": "",
           "title": {
            "standoff": 15
           },
           "zerolinecolor": "white",
           "zerolinewidth": 2
          }
         }
        },
        "title": {
         "text": "Comparison of danceability"
        },
        "xaxis": {
         "anchor": "y",
         "domain": [
          0,
          1
         ],
         "title": {
          "text": "genre"
         }
        },
        "yaxis": {
         "anchor": "x",
         "domain": [
          0,
          1
         ],
         "title": {
          "text": "danceability"
         }
        }
       }
      },
      "text/html": [
       "<div>                            <div id=\"dcaede54-9f1a-466a-9ffe-23fbdaa24d98\" class=\"plotly-graph-div\" style=\"height:525px; width:100%;\"></div>            <script type=\"text/javascript\">                require([\"plotly\"], function(Plotly) {                    window.PLOTLYENV=window.PLOTLYENV || {};                                    if (document.getElementById(\"dcaede54-9f1a-466a-9ffe-23fbdaa24d98\")) {                    Plotly.newPlot(                        \"dcaede54-9f1a-466a-9ffe-23fbdaa24d98\",                        [{\"alignmentgroup\":\"True\",\"hovertemplate\":\"genre=%{x}<br>danceability=%{y}<extra></extra>\",\"legendgroup\":\"\",\"marker\":{\"color\":\"#636efa\"},\"name\":\"\",\"notched\":false,\"offsetgroup\":\"\",\"orientation\":\"v\",\"showlegend\":false,\"x\":[\"Alternative/Indie\",\"Hip-Hop/Rap\",\"Dance/Electronic\",\"Hip-Hop/Rap\",\"Pop\",\"Hip-Hop/Rap\",\"Alternative/Indie\",\"Pop\",\"Hip-Hop/Rap\",\"Hip-Hop/Rap\",\"Pop\",\"Hip-Hop/Rap\",\"Alternative/Indie\",\"Pop\",\"Hip-Hop/Rap\",\"Hip-Hop/Rap\",\"Pop\",\"Dance/Electronic\",\"Pop\",\"Pop\",\"Hip-Hop/Rap\",\"Pop\",\"Alternative/Indie\",\"Dance/Electronic\",\"Pop\",\"Hip-Hop/Rap\",\"Pop\",\"Dance/Electronic\",\"Hip-Hop/Rap\",\"Pop\",\"Hip-Hop/Rap\",\"Pop\",\"Pop\",\"Pop\",\"Dance/Electronic\",\"Hip-Hop/Rap\"],\"x0\":\" \",\"xaxis\":\"x\",\"y\":[0.825,0.896,0.785,0.746,0.548,0.726,0.501,0.803,0.621,0.774,0.806,0.83,0.459,0.764,0.795,0.767,0.676,0.789,0.704,0.759,0.808,0.676,0.862,0.674,0.672,0.598,0.783,0.88,0.841,0.723,0.716,0.511,0.597,0.464,0.647,0.834],\"y0\":\" \",\"yaxis\":\"y\",\"type\":\"box\"}],                        {\"template\":{\"data\":{\"histogram2dcontour\":[{\"type\":\"histogram2dcontour\",\"colorbar\":{\"outlinewidth\":0,\"ticks\":\"\"},\"colorscale\":[[0.0,\"#0d0887\"],[0.1111111111111111,\"#46039f\"],[0.2222222222222222,\"#7201a8\"],[0.3333333333333333,\"#9c179e\"],[0.4444444444444444,\"#bd3786\"],[0.5555555555555556,\"#d8576b\"],[0.6666666666666666,\"#ed7953\"],[0.7777777777777778,\"#fb9f3a\"],[0.8888888888888888,\"#fdca26\"],[1.0,\"#f0f921\"]]}],\"choropleth\":[{\"type\":\"choropleth\",\"colorbar\":{\"outlinewidth\":0,\"ticks\":\"\"}}],\"histogram2d\":[{\"type\":\"histogram2d\",\"colorbar\":{\"outlinewidth\":0,\"ticks\":\"\"},\"colorscale\":[[0.0,\"#0d0887\"],[0.1111111111111111,\"#46039f\"],[0.2222222222222222,\"#7201a8\"],[0.3333333333333333,\"#9c179e\"],[0.4444444444444444,\"#bd3786\"],[0.5555555555555556,\"#d8576b\"],[0.6666666666666666,\"#ed7953\"],[0.7777777777777778,\"#fb9f3a\"],[0.8888888888888888,\"#fdca26\"],[1.0,\"#f0f921\"]]}],\"heatmap\":[{\"type\":\"heatmap\",\"colorbar\":{\"outlinewidth\":0,\"ticks\":\"\"},\"colorscale\":[[0.0,\"#0d0887\"],[0.1111111111111111,\"#46039f\"],[0.2222222222222222,\"#7201a8\"],[0.3333333333333333,\"#9c179e\"],[0.4444444444444444,\"#bd3786\"],[0.5555555555555556,\"#d8576b\"],[0.6666666666666666,\"#ed7953\"],[0.7777777777777778,\"#fb9f3a\"],[0.8888888888888888,\"#fdca26\"],[1.0,\"#f0f921\"]]}],\"heatmapgl\":[{\"type\":\"heatmapgl\",\"colorbar\":{\"outlinewidth\":0,\"ticks\":\"\"},\"colorscale\":[[0.0,\"#0d0887\"],[0.1111111111111111,\"#46039f\"],[0.2222222222222222,\"#7201a8\"],[0.3333333333333333,\"#9c179e\"],[0.4444444444444444,\"#bd3786\"],[0.5555555555555556,\"#d8576b\"],[0.6666666666666666,\"#ed7953\"],[0.7777777777777778,\"#fb9f3a\"],[0.8888888888888888,\"#fdca26\"],[1.0,\"#f0f921\"]]}],\"contourcarpet\":[{\"type\":\"contourcarpet\",\"colorbar\":{\"outlinewidth\":0,\"ticks\":\"\"}}],\"contour\":[{\"type\":\"contour\",\"colorbar\":{\"outlinewidth\":0,\"ticks\":\"\"},\"colorscale\":[[0.0,\"#0d0887\"],[0.1111111111111111,\"#46039f\"],[0.2222222222222222,\"#7201a8\"],[0.3333333333333333,\"#9c179e\"],[0.4444444444444444,\"#bd3786\"],[0.5555555555555556,\"#d8576b\"],[0.6666666666666666,\"#ed7953\"],[0.7777777777777778,\"#fb9f3a\"],[0.8888888888888888,\"#fdca26\"],[1.0,\"#f0f921\"]]}],\"surface\":[{\"type\":\"surface\",\"colorbar\":{\"outlinewidth\":0,\"ticks\":\"\"},\"colorscale\":[[0.0,\"#0d0887\"],[0.1111111111111111,\"#46039f\"],[0.2222222222222222,\"#7201a8\"],[0.3333333333333333,\"#9c179e\"],[0.4444444444444444,\"#bd3786\"],[0.5555555555555556,\"#d8576b\"],[0.6666666666666666,\"#ed7953\"],[0.7777777777777778,\"#fb9f3a\"],[0.8888888888888888,\"#fdca26\"],[1.0,\"#f0f921\"]]}],\"mesh3d\":[{\"type\":\"mesh3d\",\"colorbar\":{\"outlinewidth\":0,\"ticks\":\"\"}}],\"scatter\":[{\"fillpattern\":{\"fillmode\":\"overlay\",\"size\":10,\"solidity\":0.2},\"type\":\"scatter\"}],\"parcoords\":[{\"type\":\"parcoords\",\"line\":{\"colorbar\":{\"outlinewidth\":0,\"ticks\":\"\"}}}],\"scatterpolargl\":[{\"type\":\"scatterpolargl\",\"marker\":{\"colorbar\":{\"outlinewidth\":0,\"ticks\":\"\"}}}],\"bar\":[{\"error_x\":{\"color\":\"#2a3f5f\"},\"error_y\":{\"color\":\"#2a3f5f\"},\"marker\":{\"line\":{\"color\":\"#E5ECF6\",\"width\":0.5},\"pattern\":{\"fillmode\":\"overlay\",\"size\":10,\"solidity\":0.2}},\"type\":\"bar\"}],\"scattergeo\":[{\"type\":\"scattergeo\",\"marker\":{\"colorbar\":{\"outlinewidth\":0,\"ticks\":\"\"}}}],\"scatterpolar\":[{\"type\":\"scatterpolar\",\"marker\":{\"colorbar\":{\"outlinewidth\":0,\"ticks\":\"\"}}}],\"histogram\":[{\"marker\":{\"pattern\":{\"fillmode\":\"overlay\",\"size\":10,\"solidity\":0.2}},\"type\":\"histogram\"}],\"scattergl\":[{\"type\":\"scattergl\",\"marker\":{\"colorbar\":{\"outlinewidth\":0,\"ticks\":\"\"}}}],\"scatter3d\":[{\"type\":\"scatter3d\",\"line\":{\"colorbar\":{\"outlinewidth\":0,\"ticks\":\"\"}},\"marker\":{\"colorbar\":{\"outlinewidth\":0,\"ticks\":\"\"}}}],\"scattermapbox\":[{\"type\":\"scattermapbox\",\"marker\":{\"colorbar\":{\"outlinewidth\":0,\"ticks\":\"\"}}}],\"scatterternary\":[{\"type\":\"scatterternary\",\"marker\":{\"colorbar\":{\"outlinewidth\":0,\"ticks\":\"\"}}}],\"scattercarpet\":[{\"type\":\"scattercarpet\",\"marker\":{\"colorbar\":{\"outlinewidth\":0,\"ticks\":\"\"}}}],\"carpet\":[{\"aaxis\":{\"endlinecolor\":\"#2a3f5f\",\"gridcolor\":\"white\",\"linecolor\":\"white\",\"minorgridcolor\":\"white\",\"startlinecolor\":\"#2a3f5f\"},\"baxis\":{\"endlinecolor\":\"#2a3f5f\",\"gridcolor\":\"white\",\"linecolor\":\"white\",\"minorgridcolor\":\"white\",\"startlinecolor\":\"#2a3f5f\"},\"type\":\"carpet\"}],\"table\":[{\"cells\":{\"fill\":{\"color\":\"#EBF0F8\"},\"line\":{\"color\":\"white\"}},\"header\":{\"fill\":{\"color\":\"#C8D4E3\"},\"line\":{\"color\":\"white\"}},\"type\":\"table\"}],\"barpolar\":[{\"marker\":{\"line\":{\"color\":\"#E5ECF6\",\"width\":0.5},\"pattern\":{\"fillmode\":\"overlay\",\"size\":10,\"solidity\":0.2}},\"type\":\"barpolar\"}],\"pie\":[{\"automargin\":true,\"type\":\"pie\"}]},\"layout\":{\"autotypenumbers\":\"strict\",\"colorway\":[\"#636efa\",\"#EF553B\",\"#00cc96\",\"#ab63fa\",\"#FFA15A\",\"#19d3f3\",\"#FF6692\",\"#B6E880\",\"#FF97FF\",\"#FECB52\"],\"font\":{\"color\":\"#2a3f5f\"},\"hovermode\":\"closest\",\"hoverlabel\":{\"align\":\"left\"},\"paper_bgcolor\":\"white\",\"plot_bgcolor\":\"#E5ECF6\",\"polar\":{\"bgcolor\":\"#E5ECF6\",\"angularaxis\":{\"gridcolor\":\"white\",\"linecolor\":\"white\",\"ticks\":\"\"},\"radialaxis\":{\"gridcolor\":\"white\",\"linecolor\":\"white\",\"ticks\":\"\"}},\"ternary\":{\"bgcolor\":\"#E5ECF6\",\"aaxis\":{\"gridcolor\":\"white\",\"linecolor\":\"white\",\"ticks\":\"\"},\"baxis\":{\"gridcolor\":\"white\",\"linecolor\":\"white\",\"ticks\":\"\"},\"caxis\":{\"gridcolor\":\"white\",\"linecolor\":\"white\",\"ticks\":\"\"}},\"coloraxis\":{\"colorbar\":{\"outlinewidth\":0,\"ticks\":\"\"}},\"colorscale\":{\"sequential\":[[0.0,\"#0d0887\"],[0.1111111111111111,\"#46039f\"],[0.2222222222222222,\"#7201a8\"],[0.3333333333333333,\"#9c179e\"],[0.4444444444444444,\"#bd3786\"],[0.5555555555555556,\"#d8576b\"],[0.6666666666666666,\"#ed7953\"],[0.7777777777777778,\"#fb9f3a\"],[0.8888888888888888,\"#fdca26\"],[1.0,\"#f0f921\"]],\"sequentialminus\":[[0.0,\"#0d0887\"],[0.1111111111111111,\"#46039f\"],[0.2222222222222222,\"#7201a8\"],[0.3333333333333333,\"#9c179e\"],[0.4444444444444444,\"#bd3786\"],[0.5555555555555556,\"#d8576b\"],[0.6666666666666666,\"#ed7953\"],[0.7777777777777778,\"#fb9f3a\"],[0.8888888888888888,\"#fdca26\"],[1.0,\"#f0f921\"]],\"diverging\":[[0,\"#8e0152\"],[0.1,\"#c51b7d\"],[0.2,\"#de77ae\"],[0.3,\"#f1b6da\"],[0.4,\"#fde0ef\"],[0.5,\"#f7f7f7\"],[0.6,\"#e6f5d0\"],[0.7,\"#b8e186\"],[0.8,\"#7fbc41\"],[0.9,\"#4d9221\"],[1,\"#276419\"]]},\"xaxis\":{\"gridcolor\":\"white\",\"linecolor\":\"white\",\"ticks\":\"\",\"title\":{\"standoff\":15},\"zerolinecolor\":\"white\",\"automargin\":true,\"zerolinewidth\":2},\"yaxis\":{\"gridcolor\":\"white\",\"linecolor\":\"white\",\"ticks\":\"\",\"title\":{\"standoff\":15},\"zerolinecolor\":\"white\",\"automargin\":true,\"zerolinewidth\":2},\"scene\":{\"xaxis\":{\"backgroundcolor\":\"#E5ECF6\",\"gridcolor\":\"white\",\"linecolor\":\"white\",\"showbackground\":true,\"ticks\":\"\",\"zerolinecolor\":\"white\",\"gridwidth\":2},\"yaxis\":{\"backgroundcolor\":\"#E5ECF6\",\"gridcolor\":\"white\",\"linecolor\":\"white\",\"showbackground\":true,\"ticks\":\"\",\"zerolinecolor\":\"white\",\"gridwidth\":2},\"zaxis\":{\"backgroundcolor\":\"#E5ECF6\",\"gridcolor\":\"white\",\"linecolor\":\"white\",\"showbackground\":true,\"ticks\":\"\",\"zerolinecolor\":\"white\",\"gridwidth\":2}},\"shapedefaults\":{\"line\":{\"color\":\"#2a3f5f\"}},\"annotationdefaults\":{\"arrowcolor\":\"#2a3f5f\",\"arrowhead\":0,\"arrowwidth\":1},\"geo\":{\"bgcolor\":\"white\",\"landcolor\":\"#E5ECF6\",\"subunitcolor\":\"white\",\"showland\":true,\"showlakes\":true,\"lakecolor\":\"white\"},\"title\":{\"x\":0.05},\"mapbox\":{\"style\":\"light\"}}},\"xaxis\":{\"anchor\":\"y\",\"domain\":[0.0,1.0],\"title\":{\"text\":\"genre\"}},\"yaxis\":{\"anchor\":\"x\",\"domain\":[0.0,1.0],\"title\":{\"text\":\"danceability\"}},\"legend\":{\"tracegroupgap\":0},\"title\":{\"text\":\"Comparison of danceability\"},\"boxmode\":\"group\"},                        {\"responsive\": true}                    ).then(function(){\n",
       "                            \n",
       "var gd = document.getElementById('dcaede54-9f1a-466a-9ffe-23fbdaa24d98');\n",
       "var x = new MutationObserver(function (mutations, observer) {{\n",
       "        var display = window.getComputedStyle(gd).display;\n",
       "        if (!display || display === 'none') {{\n",
       "            console.log([gd, 'removed!']);\n",
       "            Plotly.purge(gd);\n",
       "            observer.disconnect();\n",
       "        }}\n",
       "}});\n",
       "\n",
       "// Listen for the removal of the full notebook cells\n",
       "var notebookContainer = gd.closest('#notebook-container');\n",
       "if (notebookContainer) {{\n",
       "    x.observe(notebookContainer, {childList: true});\n",
       "}}\n",
       "\n",
       "// Listen for the clearing of the current output cell\n",
       "var outputEl = gd.closest('.output');\n",
       "if (outputEl) {{\n",
       "    x.observe(outputEl, {childList: true});\n",
       "}}\n",
       "\n",
       "                        })                };                });            </script>        </div>"
      ]
     },
     "metadata": {},
     "output_type": "display_data"
    }
   ],
   "source": [
    "px.box(compare_dance, x=\"genre\", y=\"danceability\", title=\"Comparison of danceability\")"
   ]
  },
  {
   "cell_type": "markdown",
   "id": "747d4560",
   "metadata": {},
   "source": [
    "**We can see that Dance/Electronics has higher danceability median and lower variation than Hip-Hop/Rap, making this genre more 'dancy' than the rest. Both mean and median danceability of Alternative/Indie is the lowest, however based on the boxplot we can see that there's 25% chance to come across realy 'dancy' Alternative/Indie song. Pop is scored slightly higher in danceability than Alternative/Indie overall**"
   ]
  },
  {
   "cell_type": "markdown",
   "id": "740f86f4",
   "metadata": {},
   "source": [
    "<span style='color:blue;'>How does the loudness score compare between Pop, Hip-Hop/Rap, Dance/Electronic, and Alternative/Indie genres?"
   ]
  },
  {
   "cell_type": "code",
   "execution_count": 42,
   "id": "8bfc20ec",
   "metadata": {},
   "outputs": [
    {
     "data": {
      "text/plain": [
       "genre\n",
       "Dance/Electronic    -5.34\n",
       "Alternative/Indie   -5.42\n",
       "Pop                 -6.46\n",
       "Hip-Hop/Rap         -6.92\n",
       "Name: loudness, dtype: float64"
      ]
     },
     "execution_count": 42,
     "metadata": {},
     "output_type": "execute_result"
    }
   ],
   "source": [
    "compare_loud = df[df[\"genre\"].isin(genre_filter)].filter(items=[\"loudness\", \"genre\"])\n",
    "compare_loud.groupby(\"genre\")[\"loudness\"].mean().round(2).sort_values(ascending=False)"
   ]
  },
  {
   "cell_type": "code",
   "execution_count": 43,
   "id": "1657afde",
   "metadata": {},
   "outputs": [
    {
     "data": {
      "application/vnd.plotly.v1+json": {
       "config": {
        "plotlyServerURL": "https://plot.ly"
       },
       "data": [
        {
         "alignmentgroup": "True",
         "hovertemplate": "genre=%{x}<br>loudness=%{y}<extra></extra>",
         "legendgroup": "",
         "marker": {
          "color": "#636efa"
         },
         "name": "",
         "notched": false,
         "offsetgroup": "",
         "orientation": "v",
         "showlegend": false,
         "type": "box",
         "x": [
          "Alternative/Indie",
          "Hip-Hop/Rap",
          "Dance/Electronic",
          "Hip-Hop/Rap",
          "Pop",
          "Hip-Hop/Rap",
          "Alternative/Indie",
          "Pop",
          "Hip-Hop/Rap",
          "Hip-Hop/Rap",
          "Pop",
          "Hip-Hop/Rap",
          "Alternative/Indie",
          "Pop",
          "Hip-Hop/Rap",
          "Hip-Hop/Rap",
          "Pop",
          "Dance/Electronic",
          "Pop",
          "Pop",
          "Hip-Hop/Rap",
          "Pop",
          "Alternative/Indie",
          "Dance/Electronic",
          "Pop",
          "Hip-Hop/Rap",
          "Pop",
          "Dance/Electronic",
          "Hip-Hop/Rap",
          "Pop",
          "Hip-Hop/Rap",
          "Pop",
          "Pop",
          "Pop",
          "Dance/Electronic",
          "Hip-Hop/Rap"
         ],
         "x0": " ",
         "xaxis": "x",
         "y": [
          -6.401,
          -6.687,
          -5.457,
          -7.956,
          -4.209,
          -8.765,
          -5.679,
          -3.28,
          -5.616,
          -7.909,
          -6.637,
          -8.82,
          -4.858,
          -7.209,
          -6.903,
          -8.52,
          -3.675,
          -5.652,
          -14.454,
          -6.049,
          -5.26,
          -6.652,
          -4.746,
          -7.567,
          -3.764,
          -8.764,
          -3.454,
          -4.258,
          -3.37,
          -7.088,
          -7.648,
          -7.23,
          -6.658,
          -10.086,
          -3.756,
          -3.714
         ],
         "y0": " ",
         "yaxis": "y"
        }
       ],
       "layout": {
        "boxmode": "group",
        "legend": {
         "tracegroupgap": 0
        },
        "template": {
         "data": {
          "bar": [
           {
            "error_x": {
             "color": "#2a3f5f"
            },
            "error_y": {
             "color": "#2a3f5f"
            },
            "marker": {
             "line": {
              "color": "#E5ECF6",
              "width": 0.5
             },
             "pattern": {
              "fillmode": "overlay",
              "size": 10,
              "solidity": 0.2
             }
            },
            "type": "bar"
           }
          ],
          "barpolar": [
           {
            "marker": {
             "line": {
              "color": "#E5ECF6",
              "width": 0.5
             },
             "pattern": {
              "fillmode": "overlay",
              "size": 10,
              "solidity": 0.2
             }
            },
            "type": "barpolar"
           }
          ],
          "carpet": [
           {
            "aaxis": {
             "endlinecolor": "#2a3f5f",
             "gridcolor": "white",
             "linecolor": "white",
             "minorgridcolor": "white",
             "startlinecolor": "#2a3f5f"
            },
            "baxis": {
             "endlinecolor": "#2a3f5f",
             "gridcolor": "white",
             "linecolor": "white",
             "minorgridcolor": "white",
             "startlinecolor": "#2a3f5f"
            },
            "type": "carpet"
           }
          ],
          "choropleth": [
           {
            "colorbar": {
             "outlinewidth": 0,
             "ticks": ""
            },
            "type": "choropleth"
           }
          ],
          "contour": [
           {
            "colorbar": {
             "outlinewidth": 0,
             "ticks": ""
            },
            "colorscale": [
             [
              0,
              "#0d0887"
             ],
             [
              0.1111111111111111,
              "#46039f"
             ],
             [
              0.2222222222222222,
              "#7201a8"
             ],
             [
              0.3333333333333333,
              "#9c179e"
             ],
             [
              0.4444444444444444,
              "#bd3786"
             ],
             [
              0.5555555555555556,
              "#d8576b"
             ],
             [
              0.6666666666666666,
              "#ed7953"
             ],
             [
              0.7777777777777778,
              "#fb9f3a"
             ],
             [
              0.8888888888888888,
              "#fdca26"
             ],
             [
              1,
              "#f0f921"
             ]
            ],
            "type": "contour"
           }
          ],
          "contourcarpet": [
           {
            "colorbar": {
             "outlinewidth": 0,
             "ticks": ""
            },
            "type": "contourcarpet"
           }
          ],
          "heatmap": [
           {
            "colorbar": {
             "outlinewidth": 0,
             "ticks": ""
            },
            "colorscale": [
             [
              0,
              "#0d0887"
             ],
             [
              0.1111111111111111,
              "#46039f"
             ],
             [
              0.2222222222222222,
              "#7201a8"
             ],
             [
              0.3333333333333333,
              "#9c179e"
             ],
             [
              0.4444444444444444,
              "#bd3786"
             ],
             [
              0.5555555555555556,
              "#d8576b"
             ],
             [
              0.6666666666666666,
              "#ed7953"
             ],
             [
              0.7777777777777778,
              "#fb9f3a"
             ],
             [
              0.8888888888888888,
              "#fdca26"
             ],
             [
              1,
              "#f0f921"
             ]
            ],
            "type": "heatmap"
           }
          ],
          "heatmapgl": [
           {
            "colorbar": {
             "outlinewidth": 0,
             "ticks": ""
            },
            "colorscale": [
             [
              0,
              "#0d0887"
             ],
             [
              0.1111111111111111,
              "#46039f"
             ],
             [
              0.2222222222222222,
              "#7201a8"
             ],
             [
              0.3333333333333333,
              "#9c179e"
             ],
             [
              0.4444444444444444,
              "#bd3786"
             ],
             [
              0.5555555555555556,
              "#d8576b"
             ],
             [
              0.6666666666666666,
              "#ed7953"
             ],
             [
              0.7777777777777778,
              "#fb9f3a"
             ],
             [
              0.8888888888888888,
              "#fdca26"
             ],
             [
              1,
              "#f0f921"
             ]
            ],
            "type": "heatmapgl"
           }
          ],
          "histogram": [
           {
            "marker": {
             "pattern": {
              "fillmode": "overlay",
              "size": 10,
              "solidity": 0.2
             }
            },
            "type": "histogram"
           }
          ],
          "histogram2d": [
           {
            "colorbar": {
             "outlinewidth": 0,
             "ticks": ""
            },
            "colorscale": [
             [
              0,
              "#0d0887"
             ],
             [
              0.1111111111111111,
              "#46039f"
             ],
             [
              0.2222222222222222,
              "#7201a8"
             ],
             [
              0.3333333333333333,
              "#9c179e"
             ],
             [
              0.4444444444444444,
              "#bd3786"
             ],
             [
              0.5555555555555556,
              "#d8576b"
             ],
             [
              0.6666666666666666,
              "#ed7953"
             ],
             [
              0.7777777777777778,
              "#fb9f3a"
             ],
             [
              0.8888888888888888,
              "#fdca26"
             ],
             [
              1,
              "#f0f921"
             ]
            ],
            "type": "histogram2d"
           }
          ],
          "histogram2dcontour": [
           {
            "colorbar": {
             "outlinewidth": 0,
             "ticks": ""
            },
            "colorscale": [
             [
              0,
              "#0d0887"
             ],
             [
              0.1111111111111111,
              "#46039f"
             ],
             [
              0.2222222222222222,
              "#7201a8"
             ],
             [
              0.3333333333333333,
              "#9c179e"
             ],
             [
              0.4444444444444444,
              "#bd3786"
             ],
             [
              0.5555555555555556,
              "#d8576b"
             ],
             [
              0.6666666666666666,
              "#ed7953"
             ],
             [
              0.7777777777777778,
              "#fb9f3a"
             ],
             [
              0.8888888888888888,
              "#fdca26"
             ],
             [
              1,
              "#f0f921"
             ]
            ],
            "type": "histogram2dcontour"
           }
          ],
          "mesh3d": [
           {
            "colorbar": {
             "outlinewidth": 0,
             "ticks": ""
            },
            "type": "mesh3d"
           }
          ],
          "parcoords": [
           {
            "line": {
             "colorbar": {
              "outlinewidth": 0,
              "ticks": ""
             }
            },
            "type": "parcoords"
           }
          ],
          "pie": [
           {
            "automargin": true,
            "type": "pie"
           }
          ],
          "scatter": [
           {
            "fillpattern": {
             "fillmode": "overlay",
             "size": 10,
             "solidity": 0.2
            },
            "type": "scatter"
           }
          ],
          "scatter3d": [
           {
            "line": {
             "colorbar": {
              "outlinewidth": 0,
              "ticks": ""
             }
            },
            "marker": {
             "colorbar": {
              "outlinewidth": 0,
              "ticks": ""
             }
            },
            "type": "scatter3d"
           }
          ],
          "scattercarpet": [
           {
            "marker": {
             "colorbar": {
              "outlinewidth": 0,
              "ticks": ""
             }
            },
            "type": "scattercarpet"
           }
          ],
          "scattergeo": [
           {
            "marker": {
             "colorbar": {
              "outlinewidth": 0,
              "ticks": ""
             }
            },
            "type": "scattergeo"
           }
          ],
          "scattergl": [
           {
            "marker": {
             "colorbar": {
              "outlinewidth": 0,
              "ticks": ""
             }
            },
            "type": "scattergl"
           }
          ],
          "scattermapbox": [
           {
            "marker": {
             "colorbar": {
              "outlinewidth": 0,
              "ticks": ""
             }
            },
            "type": "scattermapbox"
           }
          ],
          "scatterpolar": [
           {
            "marker": {
             "colorbar": {
              "outlinewidth": 0,
              "ticks": ""
             }
            },
            "type": "scatterpolar"
           }
          ],
          "scatterpolargl": [
           {
            "marker": {
             "colorbar": {
              "outlinewidth": 0,
              "ticks": ""
             }
            },
            "type": "scatterpolargl"
           }
          ],
          "scatterternary": [
           {
            "marker": {
             "colorbar": {
              "outlinewidth": 0,
              "ticks": ""
             }
            },
            "type": "scatterternary"
           }
          ],
          "surface": [
           {
            "colorbar": {
             "outlinewidth": 0,
             "ticks": ""
            },
            "colorscale": [
             [
              0,
              "#0d0887"
             ],
             [
              0.1111111111111111,
              "#46039f"
             ],
             [
              0.2222222222222222,
              "#7201a8"
             ],
             [
              0.3333333333333333,
              "#9c179e"
             ],
             [
              0.4444444444444444,
              "#bd3786"
             ],
             [
              0.5555555555555556,
              "#d8576b"
             ],
             [
              0.6666666666666666,
              "#ed7953"
             ],
             [
              0.7777777777777778,
              "#fb9f3a"
             ],
             [
              0.8888888888888888,
              "#fdca26"
             ],
             [
              1,
              "#f0f921"
             ]
            ],
            "type": "surface"
           }
          ],
          "table": [
           {
            "cells": {
             "fill": {
              "color": "#EBF0F8"
             },
             "line": {
              "color": "white"
             }
            },
            "header": {
             "fill": {
              "color": "#C8D4E3"
             },
             "line": {
              "color": "white"
             }
            },
            "type": "table"
           }
          ]
         },
         "layout": {
          "annotationdefaults": {
           "arrowcolor": "#2a3f5f",
           "arrowhead": 0,
           "arrowwidth": 1
          },
          "autotypenumbers": "strict",
          "coloraxis": {
           "colorbar": {
            "outlinewidth": 0,
            "ticks": ""
           }
          },
          "colorscale": {
           "diverging": [
            [
             0,
             "#8e0152"
            ],
            [
             0.1,
             "#c51b7d"
            ],
            [
             0.2,
             "#de77ae"
            ],
            [
             0.3,
             "#f1b6da"
            ],
            [
             0.4,
             "#fde0ef"
            ],
            [
             0.5,
             "#f7f7f7"
            ],
            [
             0.6,
             "#e6f5d0"
            ],
            [
             0.7,
             "#b8e186"
            ],
            [
             0.8,
             "#7fbc41"
            ],
            [
             0.9,
             "#4d9221"
            ],
            [
             1,
             "#276419"
            ]
           ],
           "sequential": [
            [
             0,
             "#0d0887"
            ],
            [
             0.1111111111111111,
             "#46039f"
            ],
            [
             0.2222222222222222,
             "#7201a8"
            ],
            [
             0.3333333333333333,
             "#9c179e"
            ],
            [
             0.4444444444444444,
             "#bd3786"
            ],
            [
             0.5555555555555556,
             "#d8576b"
            ],
            [
             0.6666666666666666,
             "#ed7953"
            ],
            [
             0.7777777777777778,
             "#fb9f3a"
            ],
            [
             0.8888888888888888,
             "#fdca26"
            ],
            [
             1,
             "#f0f921"
            ]
           ],
           "sequentialminus": [
            [
             0,
             "#0d0887"
            ],
            [
             0.1111111111111111,
             "#46039f"
            ],
            [
             0.2222222222222222,
             "#7201a8"
            ],
            [
             0.3333333333333333,
             "#9c179e"
            ],
            [
             0.4444444444444444,
             "#bd3786"
            ],
            [
             0.5555555555555556,
             "#d8576b"
            ],
            [
             0.6666666666666666,
             "#ed7953"
            ],
            [
             0.7777777777777778,
             "#fb9f3a"
            ],
            [
             0.8888888888888888,
             "#fdca26"
            ],
            [
             1,
             "#f0f921"
            ]
           ]
          },
          "colorway": [
           "#636efa",
           "#EF553B",
           "#00cc96",
           "#ab63fa",
           "#FFA15A",
           "#19d3f3",
           "#FF6692",
           "#B6E880",
           "#FF97FF",
           "#FECB52"
          ],
          "font": {
           "color": "#2a3f5f"
          },
          "geo": {
           "bgcolor": "white",
           "lakecolor": "white",
           "landcolor": "#E5ECF6",
           "showlakes": true,
           "showland": true,
           "subunitcolor": "white"
          },
          "hoverlabel": {
           "align": "left"
          },
          "hovermode": "closest",
          "mapbox": {
           "style": "light"
          },
          "paper_bgcolor": "white",
          "plot_bgcolor": "#E5ECF6",
          "polar": {
           "angularaxis": {
            "gridcolor": "white",
            "linecolor": "white",
            "ticks": ""
           },
           "bgcolor": "#E5ECF6",
           "radialaxis": {
            "gridcolor": "white",
            "linecolor": "white",
            "ticks": ""
           }
          },
          "scene": {
           "xaxis": {
            "backgroundcolor": "#E5ECF6",
            "gridcolor": "white",
            "gridwidth": 2,
            "linecolor": "white",
            "showbackground": true,
            "ticks": "",
            "zerolinecolor": "white"
           },
           "yaxis": {
            "backgroundcolor": "#E5ECF6",
            "gridcolor": "white",
            "gridwidth": 2,
            "linecolor": "white",
            "showbackground": true,
            "ticks": "",
            "zerolinecolor": "white"
           },
           "zaxis": {
            "backgroundcolor": "#E5ECF6",
            "gridcolor": "white",
            "gridwidth": 2,
            "linecolor": "white",
            "showbackground": true,
            "ticks": "",
            "zerolinecolor": "white"
           }
          },
          "shapedefaults": {
           "line": {
            "color": "#2a3f5f"
           }
          },
          "ternary": {
           "aaxis": {
            "gridcolor": "white",
            "linecolor": "white",
            "ticks": ""
           },
           "baxis": {
            "gridcolor": "white",
            "linecolor": "white",
            "ticks": ""
           },
           "bgcolor": "#E5ECF6",
           "caxis": {
            "gridcolor": "white",
            "linecolor": "white",
            "ticks": ""
           }
          },
          "title": {
           "x": 0.05
          },
          "xaxis": {
           "automargin": true,
           "gridcolor": "white",
           "linecolor": "white",
           "ticks": "",
           "title": {
            "standoff": 15
           },
           "zerolinecolor": "white",
           "zerolinewidth": 2
          },
          "yaxis": {
           "automargin": true,
           "gridcolor": "white",
           "linecolor": "white",
           "ticks": "",
           "title": {
            "standoff": 15
           },
           "zerolinecolor": "white",
           "zerolinewidth": 2
          }
         }
        },
        "title": {
         "text": "Comparison of loudness"
        },
        "xaxis": {
         "anchor": "y",
         "domain": [
          0,
          1
         ],
         "title": {
          "text": "genre"
         }
        },
        "yaxis": {
         "anchor": "x",
         "domain": [
          0,
          1
         ],
         "title": {
          "text": "loudness"
         }
        }
       }
      },
      "text/html": [
       "<div>                            <div id=\"91894cc5-b6ea-4331-b197-d7b005f536a6\" class=\"plotly-graph-div\" style=\"height:525px; width:100%;\"></div>            <script type=\"text/javascript\">                require([\"plotly\"], function(Plotly) {                    window.PLOTLYENV=window.PLOTLYENV || {};                                    if (document.getElementById(\"91894cc5-b6ea-4331-b197-d7b005f536a6\")) {                    Plotly.newPlot(                        \"91894cc5-b6ea-4331-b197-d7b005f536a6\",                        [{\"alignmentgroup\":\"True\",\"hovertemplate\":\"genre=%{x}<br>loudness=%{y}<extra></extra>\",\"legendgroup\":\"\",\"marker\":{\"color\":\"#636efa\"},\"name\":\"\",\"notched\":false,\"offsetgroup\":\"\",\"orientation\":\"v\",\"showlegend\":false,\"x\":[\"Alternative/Indie\",\"Hip-Hop/Rap\",\"Dance/Electronic\",\"Hip-Hop/Rap\",\"Pop\",\"Hip-Hop/Rap\",\"Alternative/Indie\",\"Pop\",\"Hip-Hop/Rap\",\"Hip-Hop/Rap\",\"Pop\",\"Hip-Hop/Rap\",\"Alternative/Indie\",\"Pop\",\"Hip-Hop/Rap\",\"Hip-Hop/Rap\",\"Pop\",\"Dance/Electronic\",\"Pop\",\"Pop\",\"Hip-Hop/Rap\",\"Pop\",\"Alternative/Indie\",\"Dance/Electronic\",\"Pop\",\"Hip-Hop/Rap\",\"Pop\",\"Dance/Electronic\",\"Hip-Hop/Rap\",\"Pop\",\"Hip-Hop/Rap\",\"Pop\",\"Pop\",\"Pop\",\"Dance/Electronic\",\"Hip-Hop/Rap\"],\"x0\":\" \",\"xaxis\":\"x\",\"y\":[-6.401,-6.687,-5.457,-7.956,-4.209,-8.765,-5.679,-3.28,-5.616,-7.909,-6.637,-8.82,-4.858,-7.209,-6.903,-8.52,-3.675,-5.652,-14.454,-6.049,-5.26,-6.652,-4.746,-7.567,-3.764,-8.764,-3.454,-4.258,-3.37,-7.088,-7.648,-7.23,-6.658,-10.086,-3.756,-3.714],\"y0\":\" \",\"yaxis\":\"y\",\"type\":\"box\"}],                        {\"template\":{\"data\":{\"histogram2dcontour\":[{\"type\":\"histogram2dcontour\",\"colorbar\":{\"outlinewidth\":0,\"ticks\":\"\"},\"colorscale\":[[0.0,\"#0d0887\"],[0.1111111111111111,\"#46039f\"],[0.2222222222222222,\"#7201a8\"],[0.3333333333333333,\"#9c179e\"],[0.4444444444444444,\"#bd3786\"],[0.5555555555555556,\"#d8576b\"],[0.6666666666666666,\"#ed7953\"],[0.7777777777777778,\"#fb9f3a\"],[0.8888888888888888,\"#fdca26\"],[1.0,\"#f0f921\"]]}],\"choropleth\":[{\"type\":\"choropleth\",\"colorbar\":{\"outlinewidth\":0,\"ticks\":\"\"}}],\"histogram2d\":[{\"type\":\"histogram2d\",\"colorbar\":{\"outlinewidth\":0,\"ticks\":\"\"},\"colorscale\":[[0.0,\"#0d0887\"],[0.1111111111111111,\"#46039f\"],[0.2222222222222222,\"#7201a8\"],[0.3333333333333333,\"#9c179e\"],[0.4444444444444444,\"#bd3786\"],[0.5555555555555556,\"#d8576b\"],[0.6666666666666666,\"#ed7953\"],[0.7777777777777778,\"#fb9f3a\"],[0.8888888888888888,\"#fdca26\"],[1.0,\"#f0f921\"]]}],\"heatmap\":[{\"type\":\"heatmap\",\"colorbar\":{\"outlinewidth\":0,\"ticks\":\"\"},\"colorscale\":[[0.0,\"#0d0887\"],[0.1111111111111111,\"#46039f\"],[0.2222222222222222,\"#7201a8\"],[0.3333333333333333,\"#9c179e\"],[0.4444444444444444,\"#bd3786\"],[0.5555555555555556,\"#d8576b\"],[0.6666666666666666,\"#ed7953\"],[0.7777777777777778,\"#fb9f3a\"],[0.8888888888888888,\"#fdca26\"],[1.0,\"#f0f921\"]]}],\"heatmapgl\":[{\"type\":\"heatmapgl\",\"colorbar\":{\"outlinewidth\":0,\"ticks\":\"\"},\"colorscale\":[[0.0,\"#0d0887\"],[0.1111111111111111,\"#46039f\"],[0.2222222222222222,\"#7201a8\"],[0.3333333333333333,\"#9c179e\"],[0.4444444444444444,\"#bd3786\"],[0.5555555555555556,\"#d8576b\"],[0.6666666666666666,\"#ed7953\"],[0.7777777777777778,\"#fb9f3a\"],[0.8888888888888888,\"#fdca26\"],[1.0,\"#f0f921\"]]}],\"contourcarpet\":[{\"type\":\"contourcarpet\",\"colorbar\":{\"outlinewidth\":0,\"ticks\":\"\"}}],\"contour\":[{\"type\":\"contour\",\"colorbar\":{\"outlinewidth\":0,\"ticks\":\"\"},\"colorscale\":[[0.0,\"#0d0887\"],[0.1111111111111111,\"#46039f\"],[0.2222222222222222,\"#7201a8\"],[0.3333333333333333,\"#9c179e\"],[0.4444444444444444,\"#bd3786\"],[0.5555555555555556,\"#d8576b\"],[0.6666666666666666,\"#ed7953\"],[0.7777777777777778,\"#fb9f3a\"],[0.8888888888888888,\"#fdca26\"],[1.0,\"#f0f921\"]]}],\"surface\":[{\"type\":\"surface\",\"colorbar\":{\"outlinewidth\":0,\"ticks\":\"\"},\"colorscale\":[[0.0,\"#0d0887\"],[0.1111111111111111,\"#46039f\"],[0.2222222222222222,\"#7201a8\"],[0.3333333333333333,\"#9c179e\"],[0.4444444444444444,\"#bd3786\"],[0.5555555555555556,\"#d8576b\"],[0.6666666666666666,\"#ed7953\"],[0.7777777777777778,\"#fb9f3a\"],[0.8888888888888888,\"#fdca26\"],[1.0,\"#f0f921\"]]}],\"mesh3d\":[{\"type\":\"mesh3d\",\"colorbar\":{\"outlinewidth\":0,\"ticks\":\"\"}}],\"scatter\":[{\"fillpattern\":{\"fillmode\":\"overlay\",\"size\":10,\"solidity\":0.2},\"type\":\"scatter\"}],\"parcoords\":[{\"type\":\"parcoords\",\"line\":{\"colorbar\":{\"outlinewidth\":0,\"ticks\":\"\"}}}],\"scatterpolargl\":[{\"type\":\"scatterpolargl\",\"marker\":{\"colorbar\":{\"outlinewidth\":0,\"ticks\":\"\"}}}],\"bar\":[{\"error_x\":{\"color\":\"#2a3f5f\"},\"error_y\":{\"color\":\"#2a3f5f\"},\"marker\":{\"line\":{\"color\":\"#E5ECF6\",\"width\":0.5},\"pattern\":{\"fillmode\":\"overlay\",\"size\":10,\"solidity\":0.2}},\"type\":\"bar\"}],\"scattergeo\":[{\"type\":\"scattergeo\",\"marker\":{\"colorbar\":{\"outlinewidth\":0,\"ticks\":\"\"}}}],\"scatterpolar\":[{\"type\":\"scatterpolar\",\"marker\":{\"colorbar\":{\"outlinewidth\":0,\"ticks\":\"\"}}}],\"histogram\":[{\"marker\":{\"pattern\":{\"fillmode\":\"overlay\",\"size\":10,\"solidity\":0.2}},\"type\":\"histogram\"}],\"scattergl\":[{\"type\":\"scattergl\",\"marker\":{\"colorbar\":{\"outlinewidth\":0,\"ticks\":\"\"}}}],\"scatter3d\":[{\"type\":\"scatter3d\",\"line\":{\"colorbar\":{\"outlinewidth\":0,\"ticks\":\"\"}},\"marker\":{\"colorbar\":{\"outlinewidth\":0,\"ticks\":\"\"}}}],\"scattermapbox\":[{\"type\":\"scattermapbox\",\"marker\":{\"colorbar\":{\"outlinewidth\":0,\"ticks\":\"\"}}}],\"scatterternary\":[{\"type\":\"scatterternary\",\"marker\":{\"colorbar\":{\"outlinewidth\":0,\"ticks\":\"\"}}}],\"scattercarpet\":[{\"type\":\"scattercarpet\",\"marker\":{\"colorbar\":{\"outlinewidth\":0,\"ticks\":\"\"}}}],\"carpet\":[{\"aaxis\":{\"endlinecolor\":\"#2a3f5f\",\"gridcolor\":\"white\",\"linecolor\":\"white\",\"minorgridcolor\":\"white\",\"startlinecolor\":\"#2a3f5f\"},\"baxis\":{\"endlinecolor\":\"#2a3f5f\",\"gridcolor\":\"white\",\"linecolor\":\"white\",\"minorgridcolor\":\"white\",\"startlinecolor\":\"#2a3f5f\"},\"type\":\"carpet\"}],\"table\":[{\"cells\":{\"fill\":{\"color\":\"#EBF0F8\"},\"line\":{\"color\":\"white\"}},\"header\":{\"fill\":{\"color\":\"#C8D4E3\"},\"line\":{\"color\":\"white\"}},\"type\":\"table\"}],\"barpolar\":[{\"marker\":{\"line\":{\"color\":\"#E5ECF6\",\"width\":0.5},\"pattern\":{\"fillmode\":\"overlay\",\"size\":10,\"solidity\":0.2}},\"type\":\"barpolar\"}],\"pie\":[{\"automargin\":true,\"type\":\"pie\"}]},\"layout\":{\"autotypenumbers\":\"strict\",\"colorway\":[\"#636efa\",\"#EF553B\",\"#00cc96\",\"#ab63fa\",\"#FFA15A\",\"#19d3f3\",\"#FF6692\",\"#B6E880\",\"#FF97FF\",\"#FECB52\"],\"font\":{\"color\":\"#2a3f5f\"},\"hovermode\":\"closest\",\"hoverlabel\":{\"align\":\"left\"},\"paper_bgcolor\":\"white\",\"plot_bgcolor\":\"#E5ECF6\",\"polar\":{\"bgcolor\":\"#E5ECF6\",\"angularaxis\":{\"gridcolor\":\"white\",\"linecolor\":\"white\",\"ticks\":\"\"},\"radialaxis\":{\"gridcolor\":\"white\",\"linecolor\":\"white\",\"ticks\":\"\"}},\"ternary\":{\"bgcolor\":\"#E5ECF6\",\"aaxis\":{\"gridcolor\":\"white\",\"linecolor\":\"white\",\"ticks\":\"\"},\"baxis\":{\"gridcolor\":\"white\",\"linecolor\":\"white\",\"ticks\":\"\"},\"caxis\":{\"gridcolor\":\"white\",\"linecolor\":\"white\",\"ticks\":\"\"}},\"coloraxis\":{\"colorbar\":{\"outlinewidth\":0,\"ticks\":\"\"}},\"colorscale\":{\"sequential\":[[0.0,\"#0d0887\"],[0.1111111111111111,\"#46039f\"],[0.2222222222222222,\"#7201a8\"],[0.3333333333333333,\"#9c179e\"],[0.4444444444444444,\"#bd3786\"],[0.5555555555555556,\"#d8576b\"],[0.6666666666666666,\"#ed7953\"],[0.7777777777777778,\"#fb9f3a\"],[0.8888888888888888,\"#fdca26\"],[1.0,\"#f0f921\"]],\"sequentialminus\":[[0.0,\"#0d0887\"],[0.1111111111111111,\"#46039f\"],[0.2222222222222222,\"#7201a8\"],[0.3333333333333333,\"#9c179e\"],[0.4444444444444444,\"#bd3786\"],[0.5555555555555556,\"#d8576b\"],[0.6666666666666666,\"#ed7953\"],[0.7777777777777778,\"#fb9f3a\"],[0.8888888888888888,\"#fdca26\"],[1.0,\"#f0f921\"]],\"diverging\":[[0,\"#8e0152\"],[0.1,\"#c51b7d\"],[0.2,\"#de77ae\"],[0.3,\"#f1b6da\"],[0.4,\"#fde0ef\"],[0.5,\"#f7f7f7\"],[0.6,\"#e6f5d0\"],[0.7,\"#b8e186\"],[0.8,\"#7fbc41\"],[0.9,\"#4d9221\"],[1,\"#276419\"]]},\"xaxis\":{\"gridcolor\":\"white\",\"linecolor\":\"white\",\"ticks\":\"\",\"title\":{\"standoff\":15},\"zerolinecolor\":\"white\",\"automargin\":true,\"zerolinewidth\":2},\"yaxis\":{\"gridcolor\":\"white\",\"linecolor\":\"white\",\"ticks\":\"\",\"title\":{\"standoff\":15},\"zerolinecolor\":\"white\",\"automargin\":true,\"zerolinewidth\":2},\"scene\":{\"xaxis\":{\"backgroundcolor\":\"#E5ECF6\",\"gridcolor\":\"white\",\"linecolor\":\"white\",\"showbackground\":true,\"ticks\":\"\",\"zerolinecolor\":\"white\",\"gridwidth\":2},\"yaxis\":{\"backgroundcolor\":\"#E5ECF6\",\"gridcolor\":\"white\",\"linecolor\":\"white\",\"showbackground\":true,\"ticks\":\"\",\"zerolinecolor\":\"white\",\"gridwidth\":2},\"zaxis\":{\"backgroundcolor\":\"#E5ECF6\",\"gridcolor\":\"white\",\"linecolor\":\"white\",\"showbackground\":true,\"ticks\":\"\",\"zerolinecolor\":\"white\",\"gridwidth\":2}},\"shapedefaults\":{\"line\":{\"color\":\"#2a3f5f\"}},\"annotationdefaults\":{\"arrowcolor\":\"#2a3f5f\",\"arrowhead\":0,\"arrowwidth\":1},\"geo\":{\"bgcolor\":\"white\",\"landcolor\":\"#E5ECF6\",\"subunitcolor\":\"white\",\"showland\":true,\"showlakes\":true,\"lakecolor\":\"white\"},\"title\":{\"x\":0.05},\"mapbox\":{\"style\":\"light\"}}},\"xaxis\":{\"anchor\":\"y\",\"domain\":[0.0,1.0],\"title\":{\"text\":\"genre\"}},\"yaxis\":{\"anchor\":\"x\",\"domain\":[0.0,1.0],\"title\":{\"text\":\"loudness\"}},\"legend\":{\"tracegroupgap\":0},\"title\":{\"text\":\"Comparison of loudness\"},\"boxmode\":\"group\"},                        {\"responsive\": true}                    ).then(function(){\n",
       "                            \n",
       "var gd = document.getElementById('91894cc5-b6ea-4331-b197-d7b005f536a6');\n",
       "var x = new MutationObserver(function (mutations, observer) {{\n",
       "        var display = window.getComputedStyle(gd).display;\n",
       "        if (!display || display === 'none') {{\n",
       "            console.log([gd, 'removed!']);\n",
       "            Plotly.purge(gd);\n",
       "            observer.disconnect();\n",
       "        }}\n",
       "}});\n",
       "\n",
       "// Listen for the removal of the full notebook cells\n",
       "var notebookContainer = gd.closest('#notebook-container');\n",
       "if (notebookContainer) {{\n",
       "    x.observe(notebookContainer, {childList: true});\n",
       "}}\n",
       "\n",
       "// Listen for the clearing of the current output cell\n",
       "var outputEl = gd.closest('.output');\n",
       "if (outputEl) {{\n",
       "    x.observe(outputEl, {childList: true});\n",
       "}}\n",
       "\n",
       "                        })                };                });            </script>        </div>"
      ]
     },
     "metadata": {},
     "output_type": "display_data"
    }
   ],
   "source": [
    "px.box(compare_loud, x=\"genre\", y=\"loudness\", title=\"Comparison of loudness\")"
   ]
  },
  {
   "cell_type": "code",
   "execution_count": 44,
   "id": "00e87757",
   "metadata": {},
   "outputs": [
    {
     "data": {
      "text/html": [
       "<div>\n",
       "<style scoped>\n",
       "    .dataframe tbody tr th:only-of-type {\n",
       "        vertical-align: middle;\n",
       "    }\n",
       "\n",
       "    .dataframe tbody tr th {\n",
       "        vertical-align: top;\n",
       "    }\n",
       "\n",
       "    .dataframe thead th {\n",
       "        text-align: right;\n",
       "    }\n",
       "</style>\n",
       "<table border=\"1\" class=\"dataframe\">\n",
       "  <thead>\n",
       "    <tr style=\"text-align: right;\">\n",
       "      <th></th>\n",
       "      <th>artist</th>\n",
       "      <th>album</th>\n",
       "      <th>track_name</th>\n",
       "      <th>track_id</th>\n",
       "      <th>energy</th>\n",
       "      <th>danceability</th>\n",
       "      <th>key</th>\n",
       "      <th>loudness</th>\n",
       "      <th>acousticness</th>\n",
       "      <th>speechiness</th>\n",
       "      <th>instrumentalness</th>\n",
       "      <th>liveness</th>\n",
       "      <th>valence</th>\n",
       "      <th>tempo</th>\n",
       "      <th>duration_ms</th>\n",
       "      <th>genre</th>\n",
       "    </tr>\n",
       "  </thead>\n",
       "  <tbody>\n",
       "    <tr>\n",
       "      <th>24</th>\n",
       "      <td>Billie Eilish</td>\n",
       "      <td>everything i wanted</td>\n",
       "      <td>everything i wanted</td>\n",
       "      <td>3ZCTVFBt2Brf31RLEnCkWJ</td>\n",
       "      <td>0.225</td>\n",
       "      <td>0.704</td>\n",
       "      <td>6</td>\n",
       "      <td>-14.454</td>\n",
       "      <td>0.902</td>\n",
       "      <td>0.0994</td>\n",
       "      <td>0.657</td>\n",
       "      <td>0.106</td>\n",
       "      <td>0.243</td>\n",
       "      <td>120.006</td>\n",
       "      <td>245426</td>\n",
       "      <td>Pop</td>\n",
       "    </tr>\n",
       "  </tbody>\n",
       "</table>\n",
       "</div>"
      ],
      "text/plain": [
       "           artist                album           track_name  \\\n",
       "24  Billie Eilish  everything i wanted  everything i wanted   \n",
       "\n",
       "                  track_id  energy  danceability  key  loudness  acousticness  \\\n",
       "24  3ZCTVFBt2Brf31RLEnCkWJ   0.225         0.704    6   -14.454         0.902   \n",
       "\n",
       "    speechiness  instrumentalness  liveness  valence    tempo  duration_ms  \\\n",
       "24       0.0994             0.657     0.106    0.243  120.006       245426   \n",
       "\n",
       "   genre  \n",
       "24   Pop  "
      ]
     },
     "execution_count": 44,
     "metadata": {},
     "output_type": "execute_result"
    }
   ],
   "source": [
    "df.loc[df[\"loudness\"] == min(compare_loud[\"loudness\"])]"
   ]
  },
  {
   "cell_type": "markdown",
   "id": "3fddc0db",
   "metadata": {},
   "source": [
    "**Hip-Hop/Rap has the lowest mean and median loudness score, and Dance/Electronics is the loudest. One song, \"Everything I wanted\" By Billie Eilish stands out as particulary quiet. After having a closer look at it we can see that it is also highly instrumental, and we saw from correlation analysis that loudness and instrumentalness are highly negatively correlated. Therefore the low loudness score is most likely not some mistake but a true feature of this song**"
   ]
  },
  {
   "cell_type": "markdown",
   "id": "cae3bac5",
   "metadata": {},
   "source": [
    "<span style='color:blue;'>How does the acousticness score compare between Pop, Hip-Hop/Rap, Dance/Electronic, and Alternative/Indie genres?"
   ]
  },
  {
   "cell_type": "code",
   "execution_count": 45,
   "id": "52f3b6e8",
   "metadata": {},
   "outputs": [
    {
     "data": {
      "text/plain": [
       "genre\n",
       "Alternative/Indie    0.584\n",
       "Pop                  0.324\n",
       "Hip-Hop/Rap          0.189\n",
       "Dance/Electronic     0.099\n",
       "Name: acousticness, dtype: float64"
      ]
     },
     "execution_count": 45,
     "metadata": {},
     "output_type": "execute_result"
    }
   ],
   "source": [
    "compare_acoustic = df[df[\"genre\"].isin(genre_filter)].filter(\n",
    "    items=[\"acousticness\", \"genre\"]\n",
    ")\n",
    "compare_acoustic.groupby(\"genre\")[\"acousticness\"].mean().round(3).sort_values(\n",
    "    ascending=False\n",
    ")"
   ]
  },
  {
   "cell_type": "code",
   "execution_count": 46,
   "id": "99cb435c",
   "metadata": {},
   "outputs": [
    {
     "data": {
      "application/vnd.plotly.v1+json": {
       "config": {
        "plotlyServerURL": "https://plot.ly"
       },
       "data": [
        {
         "alignmentgroup": "True",
         "hovertemplate": "genre=%{x}<br>acousticness=%{y}<extra></extra>",
         "legendgroup": "",
         "marker": {
          "color": "#636efa"
         },
         "name": "",
         "notched": false,
         "offsetgroup": "",
         "orientation": "v",
         "showlegend": false,
         "type": "box",
         "x": [
          "Alternative/Indie",
          "Hip-Hop/Rap",
          "Dance/Electronic",
          "Hip-Hop/Rap",
          "Pop",
          "Hip-Hop/Rap",
          "Alternative/Indie",
          "Pop",
          "Hip-Hop/Rap",
          "Hip-Hop/Rap",
          "Pop",
          "Hip-Hop/Rap",
          "Alternative/Indie",
          "Pop",
          "Hip-Hop/Rap",
          "Hip-Hop/Rap",
          "Pop",
          "Dance/Electronic",
          "Pop",
          "Pop",
          "Hip-Hop/Rap",
          "Pop",
          "Alternative/Indie",
          "Dance/Electronic",
          "Pop",
          "Hip-Hop/Rap",
          "Pop",
          "Dance/Electronic",
          "Hip-Hop/Rap",
          "Pop",
          "Hip-Hop/Rap",
          "Pop",
          "Pop",
          "Pop",
          "Dance/Electronic",
          "Hip-Hop/Rap"
         ],
         "x0": " ",
         "xaxis": "x",
         "y": [
          0.688,
          0.104,
          0.0149,
          0.247,
          0.122,
          0.731,
          0.751,
          0.295,
          0.0522,
          0.207,
          0.3,
          0.289,
          0.604,
          0.837,
          0.067,
          0.234,
          0.0237,
          0.223,
          0.902,
          0.0392,
          0.145,
          0.345,
          0.291,
          0.0686,
          0.021,
          0.0546,
          0.185,
          0.177,
          0.0847,
          0.0259,
          0.233,
          0.349,
          0.223,
          0.866,
          0.0137,
          0.00513
         ],
         "y0": " ",
         "yaxis": "y"
        }
       ],
       "layout": {
        "boxmode": "group",
        "legend": {
         "tracegroupgap": 0
        },
        "template": {
         "data": {
          "bar": [
           {
            "error_x": {
             "color": "#2a3f5f"
            },
            "error_y": {
             "color": "#2a3f5f"
            },
            "marker": {
             "line": {
              "color": "#E5ECF6",
              "width": 0.5
             },
             "pattern": {
              "fillmode": "overlay",
              "size": 10,
              "solidity": 0.2
             }
            },
            "type": "bar"
           }
          ],
          "barpolar": [
           {
            "marker": {
             "line": {
              "color": "#E5ECF6",
              "width": 0.5
             },
             "pattern": {
              "fillmode": "overlay",
              "size": 10,
              "solidity": 0.2
             }
            },
            "type": "barpolar"
           }
          ],
          "carpet": [
           {
            "aaxis": {
             "endlinecolor": "#2a3f5f",
             "gridcolor": "white",
             "linecolor": "white",
             "minorgridcolor": "white",
             "startlinecolor": "#2a3f5f"
            },
            "baxis": {
             "endlinecolor": "#2a3f5f",
             "gridcolor": "white",
             "linecolor": "white",
             "minorgridcolor": "white",
             "startlinecolor": "#2a3f5f"
            },
            "type": "carpet"
           }
          ],
          "choropleth": [
           {
            "colorbar": {
             "outlinewidth": 0,
             "ticks": ""
            },
            "type": "choropleth"
           }
          ],
          "contour": [
           {
            "colorbar": {
             "outlinewidth": 0,
             "ticks": ""
            },
            "colorscale": [
             [
              0,
              "#0d0887"
             ],
             [
              0.1111111111111111,
              "#46039f"
             ],
             [
              0.2222222222222222,
              "#7201a8"
             ],
             [
              0.3333333333333333,
              "#9c179e"
             ],
             [
              0.4444444444444444,
              "#bd3786"
             ],
             [
              0.5555555555555556,
              "#d8576b"
             ],
             [
              0.6666666666666666,
              "#ed7953"
             ],
             [
              0.7777777777777778,
              "#fb9f3a"
             ],
             [
              0.8888888888888888,
              "#fdca26"
             ],
             [
              1,
              "#f0f921"
             ]
            ],
            "type": "contour"
           }
          ],
          "contourcarpet": [
           {
            "colorbar": {
             "outlinewidth": 0,
             "ticks": ""
            },
            "type": "contourcarpet"
           }
          ],
          "heatmap": [
           {
            "colorbar": {
             "outlinewidth": 0,
             "ticks": ""
            },
            "colorscale": [
             [
              0,
              "#0d0887"
             ],
             [
              0.1111111111111111,
              "#46039f"
             ],
             [
              0.2222222222222222,
              "#7201a8"
             ],
             [
              0.3333333333333333,
              "#9c179e"
             ],
             [
              0.4444444444444444,
              "#bd3786"
             ],
             [
              0.5555555555555556,
              "#d8576b"
             ],
             [
              0.6666666666666666,
              "#ed7953"
             ],
             [
              0.7777777777777778,
              "#fb9f3a"
             ],
             [
              0.8888888888888888,
              "#fdca26"
             ],
             [
              1,
              "#f0f921"
             ]
            ],
            "type": "heatmap"
           }
          ],
          "heatmapgl": [
           {
            "colorbar": {
             "outlinewidth": 0,
             "ticks": ""
            },
            "colorscale": [
             [
              0,
              "#0d0887"
             ],
             [
              0.1111111111111111,
              "#46039f"
             ],
             [
              0.2222222222222222,
              "#7201a8"
             ],
             [
              0.3333333333333333,
              "#9c179e"
             ],
             [
              0.4444444444444444,
              "#bd3786"
             ],
             [
              0.5555555555555556,
              "#d8576b"
             ],
             [
              0.6666666666666666,
              "#ed7953"
             ],
             [
              0.7777777777777778,
              "#fb9f3a"
             ],
             [
              0.8888888888888888,
              "#fdca26"
             ],
             [
              1,
              "#f0f921"
             ]
            ],
            "type": "heatmapgl"
           }
          ],
          "histogram": [
           {
            "marker": {
             "pattern": {
              "fillmode": "overlay",
              "size": 10,
              "solidity": 0.2
             }
            },
            "type": "histogram"
           }
          ],
          "histogram2d": [
           {
            "colorbar": {
             "outlinewidth": 0,
             "ticks": ""
            },
            "colorscale": [
             [
              0,
              "#0d0887"
             ],
             [
              0.1111111111111111,
              "#46039f"
             ],
             [
              0.2222222222222222,
              "#7201a8"
             ],
             [
              0.3333333333333333,
              "#9c179e"
             ],
             [
              0.4444444444444444,
              "#bd3786"
             ],
             [
              0.5555555555555556,
              "#d8576b"
             ],
             [
              0.6666666666666666,
              "#ed7953"
             ],
             [
              0.7777777777777778,
              "#fb9f3a"
             ],
             [
              0.8888888888888888,
              "#fdca26"
             ],
             [
              1,
              "#f0f921"
             ]
            ],
            "type": "histogram2d"
           }
          ],
          "histogram2dcontour": [
           {
            "colorbar": {
             "outlinewidth": 0,
             "ticks": ""
            },
            "colorscale": [
             [
              0,
              "#0d0887"
             ],
             [
              0.1111111111111111,
              "#46039f"
             ],
             [
              0.2222222222222222,
              "#7201a8"
             ],
             [
              0.3333333333333333,
              "#9c179e"
             ],
             [
              0.4444444444444444,
              "#bd3786"
             ],
             [
              0.5555555555555556,
              "#d8576b"
             ],
             [
              0.6666666666666666,
              "#ed7953"
             ],
             [
              0.7777777777777778,
              "#fb9f3a"
             ],
             [
              0.8888888888888888,
              "#fdca26"
             ],
             [
              1,
              "#f0f921"
             ]
            ],
            "type": "histogram2dcontour"
           }
          ],
          "mesh3d": [
           {
            "colorbar": {
             "outlinewidth": 0,
             "ticks": ""
            },
            "type": "mesh3d"
           }
          ],
          "parcoords": [
           {
            "line": {
             "colorbar": {
              "outlinewidth": 0,
              "ticks": ""
             }
            },
            "type": "parcoords"
           }
          ],
          "pie": [
           {
            "automargin": true,
            "type": "pie"
           }
          ],
          "scatter": [
           {
            "fillpattern": {
             "fillmode": "overlay",
             "size": 10,
             "solidity": 0.2
            },
            "type": "scatter"
           }
          ],
          "scatter3d": [
           {
            "line": {
             "colorbar": {
              "outlinewidth": 0,
              "ticks": ""
             }
            },
            "marker": {
             "colorbar": {
              "outlinewidth": 0,
              "ticks": ""
             }
            },
            "type": "scatter3d"
           }
          ],
          "scattercarpet": [
           {
            "marker": {
             "colorbar": {
              "outlinewidth": 0,
              "ticks": ""
             }
            },
            "type": "scattercarpet"
           }
          ],
          "scattergeo": [
           {
            "marker": {
             "colorbar": {
              "outlinewidth": 0,
              "ticks": ""
             }
            },
            "type": "scattergeo"
           }
          ],
          "scattergl": [
           {
            "marker": {
             "colorbar": {
              "outlinewidth": 0,
              "ticks": ""
             }
            },
            "type": "scattergl"
           }
          ],
          "scattermapbox": [
           {
            "marker": {
             "colorbar": {
              "outlinewidth": 0,
              "ticks": ""
             }
            },
            "type": "scattermapbox"
           }
          ],
          "scatterpolar": [
           {
            "marker": {
             "colorbar": {
              "outlinewidth": 0,
              "ticks": ""
             }
            },
            "type": "scatterpolar"
           }
          ],
          "scatterpolargl": [
           {
            "marker": {
             "colorbar": {
              "outlinewidth": 0,
              "ticks": ""
             }
            },
            "type": "scatterpolargl"
           }
          ],
          "scatterternary": [
           {
            "marker": {
             "colorbar": {
              "outlinewidth": 0,
              "ticks": ""
             }
            },
            "type": "scatterternary"
           }
          ],
          "surface": [
           {
            "colorbar": {
             "outlinewidth": 0,
             "ticks": ""
            },
            "colorscale": [
             [
              0,
              "#0d0887"
             ],
             [
              0.1111111111111111,
              "#46039f"
             ],
             [
              0.2222222222222222,
              "#7201a8"
             ],
             [
              0.3333333333333333,
              "#9c179e"
             ],
             [
              0.4444444444444444,
              "#bd3786"
             ],
             [
              0.5555555555555556,
              "#d8576b"
             ],
             [
              0.6666666666666666,
              "#ed7953"
             ],
             [
              0.7777777777777778,
              "#fb9f3a"
             ],
             [
              0.8888888888888888,
              "#fdca26"
             ],
             [
              1,
              "#f0f921"
             ]
            ],
            "type": "surface"
           }
          ],
          "table": [
           {
            "cells": {
             "fill": {
              "color": "#EBF0F8"
             },
             "line": {
              "color": "white"
             }
            },
            "header": {
             "fill": {
              "color": "#C8D4E3"
             },
             "line": {
              "color": "white"
             }
            },
            "type": "table"
           }
          ]
         },
         "layout": {
          "annotationdefaults": {
           "arrowcolor": "#2a3f5f",
           "arrowhead": 0,
           "arrowwidth": 1
          },
          "autotypenumbers": "strict",
          "coloraxis": {
           "colorbar": {
            "outlinewidth": 0,
            "ticks": ""
           }
          },
          "colorscale": {
           "diverging": [
            [
             0,
             "#8e0152"
            ],
            [
             0.1,
             "#c51b7d"
            ],
            [
             0.2,
             "#de77ae"
            ],
            [
             0.3,
             "#f1b6da"
            ],
            [
             0.4,
             "#fde0ef"
            ],
            [
             0.5,
             "#f7f7f7"
            ],
            [
             0.6,
             "#e6f5d0"
            ],
            [
             0.7,
             "#b8e186"
            ],
            [
             0.8,
             "#7fbc41"
            ],
            [
             0.9,
             "#4d9221"
            ],
            [
             1,
             "#276419"
            ]
           ],
           "sequential": [
            [
             0,
             "#0d0887"
            ],
            [
             0.1111111111111111,
             "#46039f"
            ],
            [
             0.2222222222222222,
             "#7201a8"
            ],
            [
             0.3333333333333333,
             "#9c179e"
            ],
            [
             0.4444444444444444,
             "#bd3786"
            ],
            [
             0.5555555555555556,
             "#d8576b"
            ],
            [
             0.6666666666666666,
             "#ed7953"
            ],
            [
             0.7777777777777778,
             "#fb9f3a"
            ],
            [
             0.8888888888888888,
             "#fdca26"
            ],
            [
             1,
             "#f0f921"
            ]
           ],
           "sequentialminus": [
            [
             0,
             "#0d0887"
            ],
            [
             0.1111111111111111,
             "#46039f"
            ],
            [
             0.2222222222222222,
             "#7201a8"
            ],
            [
             0.3333333333333333,
             "#9c179e"
            ],
            [
             0.4444444444444444,
             "#bd3786"
            ],
            [
             0.5555555555555556,
             "#d8576b"
            ],
            [
             0.6666666666666666,
             "#ed7953"
            ],
            [
             0.7777777777777778,
             "#fb9f3a"
            ],
            [
             0.8888888888888888,
             "#fdca26"
            ],
            [
             1,
             "#f0f921"
            ]
           ]
          },
          "colorway": [
           "#636efa",
           "#EF553B",
           "#00cc96",
           "#ab63fa",
           "#FFA15A",
           "#19d3f3",
           "#FF6692",
           "#B6E880",
           "#FF97FF",
           "#FECB52"
          ],
          "font": {
           "color": "#2a3f5f"
          },
          "geo": {
           "bgcolor": "white",
           "lakecolor": "white",
           "landcolor": "#E5ECF6",
           "showlakes": true,
           "showland": true,
           "subunitcolor": "white"
          },
          "hoverlabel": {
           "align": "left"
          },
          "hovermode": "closest",
          "mapbox": {
           "style": "light"
          },
          "paper_bgcolor": "white",
          "plot_bgcolor": "#E5ECF6",
          "polar": {
           "angularaxis": {
            "gridcolor": "white",
            "linecolor": "white",
            "ticks": ""
           },
           "bgcolor": "#E5ECF6",
           "radialaxis": {
            "gridcolor": "white",
            "linecolor": "white",
            "ticks": ""
           }
          },
          "scene": {
           "xaxis": {
            "backgroundcolor": "#E5ECF6",
            "gridcolor": "white",
            "gridwidth": 2,
            "linecolor": "white",
            "showbackground": true,
            "ticks": "",
            "zerolinecolor": "white"
           },
           "yaxis": {
            "backgroundcolor": "#E5ECF6",
            "gridcolor": "white",
            "gridwidth": 2,
            "linecolor": "white",
            "showbackground": true,
            "ticks": "",
            "zerolinecolor": "white"
           },
           "zaxis": {
            "backgroundcolor": "#E5ECF6",
            "gridcolor": "white",
            "gridwidth": 2,
            "linecolor": "white",
            "showbackground": true,
            "ticks": "",
            "zerolinecolor": "white"
           }
          },
          "shapedefaults": {
           "line": {
            "color": "#2a3f5f"
           }
          },
          "ternary": {
           "aaxis": {
            "gridcolor": "white",
            "linecolor": "white",
            "ticks": ""
           },
           "baxis": {
            "gridcolor": "white",
            "linecolor": "white",
            "ticks": ""
           },
           "bgcolor": "#E5ECF6",
           "caxis": {
            "gridcolor": "white",
            "linecolor": "white",
            "ticks": ""
           }
          },
          "title": {
           "x": 0.05
          },
          "xaxis": {
           "automargin": true,
           "gridcolor": "white",
           "linecolor": "white",
           "ticks": "",
           "title": {
            "standoff": 15
           },
           "zerolinecolor": "white",
           "zerolinewidth": 2
          },
          "yaxis": {
           "automargin": true,
           "gridcolor": "white",
           "linecolor": "white",
           "ticks": "",
           "title": {
            "standoff": 15
           },
           "zerolinecolor": "white",
           "zerolinewidth": 2
          }
         }
        },
        "title": {
         "text": "Comparison of acousticness"
        },
        "xaxis": {
         "anchor": "y",
         "domain": [
          0,
          1
         ],
         "title": {
          "text": "genre"
         }
        },
        "yaxis": {
         "anchor": "x",
         "domain": [
          0,
          1
         ],
         "title": {
          "text": "acousticness"
         }
        }
       }
      },
      "text/html": [
       "<div>                            <div id=\"eef16e06-7463-4f57-a67d-b676bc59a974\" class=\"plotly-graph-div\" style=\"height:525px; width:100%;\"></div>            <script type=\"text/javascript\">                require([\"plotly\"], function(Plotly) {                    window.PLOTLYENV=window.PLOTLYENV || {};                                    if (document.getElementById(\"eef16e06-7463-4f57-a67d-b676bc59a974\")) {                    Plotly.newPlot(                        \"eef16e06-7463-4f57-a67d-b676bc59a974\",                        [{\"alignmentgroup\":\"True\",\"hovertemplate\":\"genre=%{x}<br>acousticness=%{y}<extra></extra>\",\"legendgroup\":\"\",\"marker\":{\"color\":\"#636efa\"},\"name\":\"\",\"notched\":false,\"offsetgroup\":\"\",\"orientation\":\"v\",\"showlegend\":false,\"x\":[\"Alternative/Indie\",\"Hip-Hop/Rap\",\"Dance/Electronic\",\"Hip-Hop/Rap\",\"Pop\",\"Hip-Hop/Rap\",\"Alternative/Indie\",\"Pop\",\"Hip-Hop/Rap\",\"Hip-Hop/Rap\",\"Pop\",\"Hip-Hop/Rap\",\"Alternative/Indie\",\"Pop\",\"Hip-Hop/Rap\",\"Hip-Hop/Rap\",\"Pop\",\"Dance/Electronic\",\"Pop\",\"Pop\",\"Hip-Hop/Rap\",\"Pop\",\"Alternative/Indie\",\"Dance/Electronic\",\"Pop\",\"Hip-Hop/Rap\",\"Pop\",\"Dance/Electronic\",\"Hip-Hop/Rap\",\"Pop\",\"Hip-Hop/Rap\",\"Pop\",\"Pop\",\"Pop\",\"Dance/Electronic\",\"Hip-Hop/Rap\"],\"x0\":\" \",\"xaxis\":\"x\",\"y\":[0.688,0.104,0.0149,0.247,0.122,0.731,0.751,0.295,0.0522,0.207,0.3,0.289,0.604,0.837,0.067,0.234,0.0237,0.223,0.902,0.0392,0.145,0.345,0.291,0.0686,0.021,0.0546,0.185,0.177,0.0847,0.0259,0.233,0.349,0.223,0.866,0.0137,0.00513],\"y0\":\" \",\"yaxis\":\"y\",\"type\":\"box\"}],                        {\"template\":{\"data\":{\"histogram2dcontour\":[{\"type\":\"histogram2dcontour\",\"colorbar\":{\"outlinewidth\":0,\"ticks\":\"\"},\"colorscale\":[[0.0,\"#0d0887\"],[0.1111111111111111,\"#46039f\"],[0.2222222222222222,\"#7201a8\"],[0.3333333333333333,\"#9c179e\"],[0.4444444444444444,\"#bd3786\"],[0.5555555555555556,\"#d8576b\"],[0.6666666666666666,\"#ed7953\"],[0.7777777777777778,\"#fb9f3a\"],[0.8888888888888888,\"#fdca26\"],[1.0,\"#f0f921\"]]}],\"choropleth\":[{\"type\":\"choropleth\",\"colorbar\":{\"outlinewidth\":0,\"ticks\":\"\"}}],\"histogram2d\":[{\"type\":\"histogram2d\",\"colorbar\":{\"outlinewidth\":0,\"ticks\":\"\"},\"colorscale\":[[0.0,\"#0d0887\"],[0.1111111111111111,\"#46039f\"],[0.2222222222222222,\"#7201a8\"],[0.3333333333333333,\"#9c179e\"],[0.4444444444444444,\"#bd3786\"],[0.5555555555555556,\"#d8576b\"],[0.6666666666666666,\"#ed7953\"],[0.7777777777777778,\"#fb9f3a\"],[0.8888888888888888,\"#fdca26\"],[1.0,\"#f0f921\"]]}],\"heatmap\":[{\"type\":\"heatmap\",\"colorbar\":{\"outlinewidth\":0,\"ticks\":\"\"},\"colorscale\":[[0.0,\"#0d0887\"],[0.1111111111111111,\"#46039f\"],[0.2222222222222222,\"#7201a8\"],[0.3333333333333333,\"#9c179e\"],[0.4444444444444444,\"#bd3786\"],[0.5555555555555556,\"#d8576b\"],[0.6666666666666666,\"#ed7953\"],[0.7777777777777778,\"#fb9f3a\"],[0.8888888888888888,\"#fdca26\"],[1.0,\"#f0f921\"]]}],\"heatmapgl\":[{\"type\":\"heatmapgl\",\"colorbar\":{\"outlinewidth\":0,\"ticks\":\"\"},\"colorscale\":[[0.0,\"#0d0887\"],[0.1111111111111111,\"#46039f\"],[0.2222222222222222,\"#7201a8\"],[0.3333333333333333,\"#9c179e\"],[0.4444444444444444,\"#bd3786\"],[0.5555555555555556,\"#d8576b\"],[0.6666666666666666,\"#ed7953\"],[0.7777777777777778,\"#fb9f3a\"],[0.8888888888888888,\"#fdca26\"],[1.0,\"#f0f921\"]]}],\"contourcarpet\":[{\"type\":\"contourcarpet\",\"colorbar\":{\"outlinewidth\":0,\"ticks\":\"\"}}],\"contour\":[{\"type\":\"contour\",\"colorbar\":{\"outlinewidth\":0,\"ticks\":\"\"},\"colorscale\":[[0.0,\"#0d0887\"],[0.1111111111111111,\"#46039f\"],[0.2222222222222222,\"#7201a8\"],[0.3333333333333333,\"#9c179e\"],[0.4444444444444444,\"#bd3786\"],[0.5555555555555556,\"#d8576b\"],[0.6666666666666666,\"#ed7953\"],[0.7777777777777778,\"#fb9f3a\"],[0.8888888888888888,\"#fdca26\"],[1.0,\"#f0f921\"]]}],\"surface\":[{\"type\":\"surface\",\"colorbar\":{\"outlinewidth\":0,\"ticks\":\"\"},\"colorscale\":[[0.0,\"#0d0887\"],[0.1111111111111111,\"#46039f\"],[0.2222222222222222,\"#7201a8\"],[0.3333333333333333,\"#9c179e\"],[0.4444444444444444,\"#bd3786\"],[0.5555555555555556,\"#d8576b\"],[0.6666666666666666,\"#ed7953\"],[0.7777777777777778,\"#fb9f3a\"],[0.8888888888888888,\"#fdca26\"],[1.0,\"#f0f921\"]]}],\"mesh3d\":[{\"type\":\"mesh3d\",\"colorbar\":{\"outlinewidth\":0,\"ticks\":\"\"}}],\"scatter\":[{\"fillpattern\":{\"fillmode\":\"overlay\",\"size\":10,\"solidity\":0.2},\"type\":\"scatter\"}],\"parcoords\":[{\"type\":\"parcoords\",\"line\":{\"colorbar\":{\"outlinewidth\":0,\"ticks\":\"\"}}}],\"scatterpolargl\":[{\"type\":\"scatterpolargl\",\"marker\":{\"colorbar\":{\"outlinewidth\":0,\"ticks\":\"\"}}}],\"bar\":[{\"error_x\":{\"color\":\"#2a3f5f\"},\"error_y\":{\"color\":\"#2a3f5f\"},\"marker\":{\"line\":{\"color\":\"#E5ECF6\",\"width\":0.5},\"pattern\":{\"fillmode\":\"overlay\",\"size\":10,\"solidity\":0.2}},\"type\":\"bar\"}],\"scattergeo\":[{\"type\":\"scattergeo\",\"marker\":{\"colorbar\":{\"outlinewidth\":0,\"ticks\":\"\"}}}],\"scatterpolar\":[{\"type\":\"scatterpolar\",\"marker\":{\"colorbar\":{\"outlinewidth\":0,\"ticks\":\"\"}}}],\"histogram\":[{\"marker\":{\"pattern\":{\"fillmode\":\"overlay\",\"size\":10,\"solidity\":0.2}},\"type\":\"histogram\"}],\"scattergl\":[{\"type\":\"scattergl\",\"marker\":{\"colorbar\":{\"outlinewidth\":0,\"ticks\":\"\"}}}],\"scatter3d\":[{\"type\":\"scatter3d\",\"line\":{\"colorbar\":{\"outlinewidth\":0,\"ticks\":\"\"}},\"marker\":{\"colorbar\":{\"outlinewidth\":0,\"ticks\":\"\"}}}],\"scattermapbox\":[{\"type\":\"scattermapbox\",\"marker\":{\"colorbar\":{\"outlinewidth\":0,\"ticks\":\"\"}}}],\"scatterternary\":[{\"type\":\"scatterternary\",\"marker\":{\"colorbar\":{\"outlinewidth\":0,\"ticks\":\"\"}}}],\"scattercarpet\":[{\"type\":\"scattercarpet\",\"marker\":{\"colorbar\":{\"outlinewidth\":0,\"ticks\":\"\"}}}],\"carpet\":[{\"aaxis\":{\"endlinecolor\":\"#2a3f5f\",\"gridcolor\":\"white\",\"linecolor\":\"white\",\"minorgridcolor\":\"white\",\"startlinecolor\":\"#2a3f5f\"},\"baxis\":{\"endlinecolor\":\"#2a3f5f\",\"gridcolor\":\"white\",\"linecolor\":\"white\",\"minorgridcolor\":\"white\",\"startlinecolor\":\"#2a3f5f\"},\"type\":\"carpet\"}],\"table\":[{\"cells\":{\"fill\":{\"color\":\"#EBF0F8\"},\"line\":{\"color\":\"white\"}},\"header\":{\"fill\":{\"color\":\"#C8D4E3\"},\"line\":{\"color\":\"white\"}},\"type\":\"table\"}],\"barpolar\":[{\"marker\":{\"line\":{\"color\":\"#E5ECF6\",\"width\":0.5},\"pattern\":{\"fillmode\":\"overlay\",\"size\":10,\"solidity\":0.2}},\"type\":\"barpolar\"}],\"pie\":[{\"automargin\":true,\"type\":\"pie\"}]},\"layout\":{\"autotypenumbers\":\"strict\",\"colorway\":[\"#636efa\",\"#EF553B\",\"#00cc96\",\"#ab63fa\",\"#FFA15A\",\"#19d3f3\",\"#FF6692\",\"#B6E880\",\"#FF97FF\",\"#FECB52\"],\"font\":{\"color\":\"#2a3f5f\"},\"hovermode\":\"closest\",\"hoverlabel\":{\"align\":\"left\"},\"paper_bgcolor\":\"white\",\"plot_bgcolor\":\"#E5ECF6\",\"polar\":{\"bgcolor\":\"#E5ECF6\",\"angularaxis\":{\"gridcolor\":\"white\",\"linecolor\":\"white\",\"ticks\":\"\"},\"radialaxis\":{\"gridcolor\":\"white\",\"linecolor\":\"white\",\"ticks\":\"\"}},\"ternary\":{\"bgcolor\":\"#E5ECF6\",\"aaxis\":{\"gridcolor\":\"white\",\"linecolor\":\"white\",\"ticks\":\"\"},\"baxis\":{\"gridcolor\":\"white\",\"linecolor\":\"white\",\"ticks\":\"\"},\"caxis\":{\"gridcolor\":\"white\",\"linecolor\":\"white\",\"ticks\":\"\"}},\"coloraxis\":{\"colorbar\":{\"outlinewidth\":0,\"ticks\":\"\"}},\"colorscale\":{\"sequential\":[[0.0,\"#0d0887\"],[0.1111111111111111,\"#46039f\"],[0.2222222222222222,\"#7201a8\"],[0.3333333333333333,\"#9c179e\"],[0.4444444444444444,\"#bd3786\"],[0.5555555555555556,\"#d8576b\"],[0.6666666666666666,\"#ed7953\"],[0.7777777777777778,\"#fb9f3a\"],[0.8888888888888888,\"#fdca26\"],[1.0,\"#f0f921\"]],\"sequentialminus\":[[0.0,\"#0d0887\"],[0.1111111111111111,\"#46039f\"],[0.2222222222222222,\"#7201a8\"],[0.3333333333333333,\"#9c179e\"],[0.4444444444444444,\"#bd3786\"],[0.5555555555555556,\"#d8576b\"],[0.6666666666666666,\"#ed7953\"],[0.7777777777777778,\"#fb9f3a\"],[0.8888888888888888,\"#fdca26\"],[1.0,\"#f0f921\"]],\"diverging\":[[0,\"#8e0152\"],[0.1,\"#c51b7d\"],[0.2,\"#de77ae\"],[0.3,\"#f1b6da\"],[0.4,\"#fde0ef\"],[0.5,\"#f7f7f7\"],[0.6,\"#e6f5d0\"],[0.7,\"#b8e186\"],[0.8,\"#7fbc41\"],[0.9,\"#4d9221\"],[1,\"#276419\"]]},\"xaxis\":{\"gridcolor\":\"white\",\"linecolor\":\"white\",\"ticks\":\"\",\"title\":{\"standoff\":15},\"zerolinecolor\":\"white\",\"automargin\":true,\"zerolinewidth\":2},\"yaxis\":{\"gridcolor\":\"white\",\"linecolor\":\"white\",\"ticks\":\"\",\"title\":{\"standoff\":15},\"zerolinecolor\":\"white\",\"automargin\":true,\"zerolinewidth\":2},\"scene\":{\"xaxis\":{\"backgroundcolor\":\"#E5ECF6\",\"gridcolor\":\"white\",\"linecolor\":\"white\",\"showbackground\":true,\"ticks\":\"\",\"zerolinecolor\":\"white\",\"gridwidth\":2},\"yaxis\":{\"backgroundcolor\":\"#E5ECF6\",\"gridcolor\":\"white\",\"linecolor\":\"white\",\"showbackground\":true,\"ticks\":\"\",\"zerolinecolor\":\"white\",\"gridwidth\":2},\"zaxis\":{\"backgroundcolor\":\"#E5ECF6\",\"gridcolor\":\"white\",\"linecolor\":\"white\",\"showbackground\":true,\"ticks\":\"\",\"zerolinecolor\":\"white\",\"gridwidth\":2}},\"shapedefaults\":{\"line\":{\"color\":\"#2a3f5f\"}},\"annotationdefaults\":{\"arrowcolor\":\"#2a3f5f\",\"arrowhead\":0,\"arrowwidth\":1},\"geo\":{\"bgcolor\":\"white\",\"landcolor\":\"#E5ECF6\",\"subunitcolor\":\"white\",\"showland\":true,\"showlakes\":true,\"lakecolor\":\"white\"},\"title\":{\"x\":0.05},\"mapbox\":{\"style\":\"light\"}}},\"xaxis\":{\"anchor\":\"y\",\"domain\":[0.0,1.0],\"title\":{\"text\":\"genre\"}},\"yaxis\":{\"anchor\":\"x\",\"domain\":[0.0,1.0],\"title\":{\"text\":\"acousticness\"}},\"legend\":{\"tracegroupgap\":0},\"title\":{\"text\":\"Comparison of acousticness\"},\"boxmode\":\"group\"},                        {\"responsive\": true}                    ).then(function(){\n",
       "                            \n",
       "var gd = document.getElementById('eef16e06-7463-4f57-a67d-b676bc59a974');\n",
       "var x = new MutationObserver(function (mutations, observer) {{\n",
       "        var display = window.getComputedStyle(gd).display;\n",
       "        if (!display || display === 'none') {{\n",
       "            console.log([gd, 'removed!']);\n",
       "            Plotly.purge(gd);\n",
       "            observer.disconnect();\n",
       "        }}\n",
       "}});\n",
       "\n",
       "// Listen for the removal of the full notebook cells\n",
       "var notebookContainer = gd.closest('#notebook-container');\n",
       "if (notebookContainer) {{\n",
       "    x.observe(notebookContainer, {childList: true});\n",
       "}}\n",
       "\n",
       "// Listen for the clearing of the current output cell\n",
       "var outputEl = gd.closest('.output');\n",
       "if (outputEl) {{\n",
       "    x.observe(outputEl, {childList: true});\n",
       "}}\n",
       "\n",
       "                        })                };                });            </script>        </div>"
      ]
     },
     "metadata": {},
     "output_type": "display_data"
    }
   ],
   "source": [
    "px.box(\n",
    "    compare_acoustic, x=\"genre\", y=\"acousticness\", title=\"Comparison of acousticness\"\n",
    ")"
   ]
  },
  {
   "cell_type": "markdown",
   "id": "6c3847ac",
   "metadata": {},
   "source": [
    "**Alternative/Indie stands out as highest in acousticness. As should be expected, Dance/Electronics is the least acoustic. Hip-Hop/Rap in general is not very acoustic genre, with one exception. Pop group has 3 outliers - song with high acousticness score, which makes group mean higher than median**"
   ]
  },
  {
   "cell_type": "markdown",
   "id": "180537e1",
   "metadata": {},
   "source": [
    "Sources used in making this project: <br>\n",
    "- NumPy documentation\n",
    "- Pandas documentation\n",
    "- plotly documentation\n",
    "- sciPy documentation\n",
    "- ChatGPT"
   ]
  }
 ],
 "metadata": {
  "kernelspec": {
   "display_name": "Python 3 (ipykernel)",
   "language": "python",
   "name": "python3"
  },
  "language_info": {
   "codemirror_mode": {
    "name": "ipython",
    "version": 3
   },
   "file_extension": ".py",
   "mimetype": "text/x-python",
   "name": "python",
   "nbconvert_exporter": "python",
   "pygments_lexer": "ipython3",
   "version": "3.11.3"
  }
 },
 "nbformat": 4,
 "nbformat_minor": 5
}
